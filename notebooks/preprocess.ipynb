{
 "cells": [
  {
   "cell_type": "code",
   "execution_count": 1,
   "metadata": {},
   "outputs": [],
   "source": [
    "import sys\n",
    "sys.path.insert(0, \"..\")\n",
    "import config as cfg\n",
    "import gc\n",
    "import os\n",
    "from tqdm.notebook import tqdm\n",
    "from helper import check_path, seed_everything\n",
    "from collections import defaultdict\n",
    "import re\n",
    "\n",
    "import pandas as pd\n",
    "import numpy as np"
   ]
  },
  {
   "cell_type": "code",
   "execution_count": 2,
   "metadata": {},
   "outputs": [],
   "source": [
    "train = pd.read_csv(cfg.ORIG_TRAIN_PATH, usecols=[cfg.TARGET, cfg.ID_COL, cfg.TEXT_COL]).set_index('id')  #  cfg.THEME_COL\n",
    "test = pd.read_csv(cfg.ORIG_TEST_PATH, usecols=[cfg.ID_COL, cfg.TEXT_COL]).set_index('id')"
   ]
  },
  {
   "cell_type": "code",
   "execution_count": 3,
   "metadata": {},
   "outputs": [],
   "source": [
    "def clean_it(s: pd.Series) -> pd.Series:\n",
    "    s = (s\n",
    "    .str.replace(r'(<.*?>)', '', regex=True)\n",
    "    .str.replace(r'(&nbsp)', '', regex=True)\n",
    "    .str.replace('(;\\s*)', ' ', regex=True)\n",
    "    .str.replace(r'(\\s+)', ' ', regex=True)\n",
    "    )\n",
    "    return s"
   ]
  },
  {
   "cell_type": "code",
   "execution_count": 4,
   "metadata": {},
   "outputs": [],
   "source": [
    "train[cfg.TEXT_COL] = clean_it(train[cfg.TEXT_COL])\n",
    "test[cfg.TEXT_COL] = clean_it(test[cfg.TEXT_COL])"
   ]
  },
  {
   "cell_type": "code",
   "execution_count": 5,
   "metadata": {},
   "outputs": [],
   "source": [
    "check_path(cfg.PREPROCESSED_DATA_PATH)\n",
    "train = train.to_pickle(os.path.join(cfg.PREPROCESSED_DATA_PATH, 'train.pkl'))\n",
    "test = test.to_pickle(os.path.join(cfg.PREPROCESSED_DATA_PATH, 'test.pkl'))"
   ]
  }
 ],
 "metadata": {
  "kernelspec": {
   "display_name": "Python 3.9.12 ('tf')",
   "language": "python",
   "name": "python3"
  },
  "language_info": {
   "codemirror_mode": {
    "name": "ipython",
    "version": 3
   },
   "file_extension": ".py",
   "mimetype": "text/x-python",
   "name": "python",
   "nbconvert_exporter": "python",
   "pygments_lexer": "ipython3",
   "version": "3.9.12"
  },
  "orig_nbformat": 4,
  "vscode": {
   "interpreter": {
    "hash": "d5356ef1c2ac2ef25d35a0579f082f1d273c4bada2fe955fa1b70f42402fff98"
   }
  }
 },
 "nbformat": 4,
 "nbformat_minor": 2
}
