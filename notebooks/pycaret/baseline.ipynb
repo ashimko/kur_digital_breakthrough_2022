{
 "cells": [
  {
   "cell_type": "code",
   "execution_count": 1,
   "metadata": {},
   "outputs": [],
   "source": [
    "import sys\n",
    "sys.path.insert(0, \"../..\")\n",
    "import config as cfg\n",
    "import gc\n",
    "import os"
   ]
  },
  {
   "cell_type": "code",
   "execution_count": 2,
   "metadata": {},
   "outputs": [],
   "source": [
    "import pandas as pd\n",
    "import numpy as np"
   ]
  },
  {
   "cell_type": "code",
   "execution_count": 3,
   "metadata": {},
   "outputs": [],
   "source": [
    "import pycaret.nlp as pp\n",
    "from sklearn.model_selection import train_test_split"
   ]
  },
  {
   "cell_type": "code",
   "execution_count": 4,
   "metadata": {},
   "outputs": [],
   "source": [
    "EXPERIMENT_FAMILY_NAME = 'pycaret'\n",
    "EXPERIMENT_NAME = 'baseline'"
   ]
  },
  {
   "cell_type": "code",
   "execution_count": 5,
   "metadata": {},
   "outputs": [],
   "source": []
  },
  {
   "cell_type": "code",
   "execution_count": 7,
   "metadata": {},
   "outputs": [
    {
     "name": "stdout",
     "output_type": "stream",
     "text": [
      "Data for Modeling: (1799, 4)\n",
      "Unseen Data For Predictions: (200, 4)\n"
     ]
    }
   ],
   "source": [
    "data, data_unseen = train_test_split(train, test_size=0.1, random_state=cfg.RANDOM_STATE, shuffle=train[cfg.TARGET])\n",
    "\n",
    "print('Data for Modeling: ' + str(data.shape))\n",
    "print('Unseen Data For Predictions: ' + str(data_unseen.shape))\n"
   ]
  },
  {
   "cell_type": "code",
   "execution_count": 8,
   "metadata": {},
   "outputs": [
    {
     "data": {
      "text/html": [
       "<div>\n",
       "<style scoped>\n",
       "    .dataframe tbody tr th:only-of-type {\n",
       "        vertical-align: middle;\n",
       "    }\n",
       "\n",
       "    .dataframe tbody tr th {\n",
       "        vertical-align: top;\n",
       "    }\n",
       "\n",
       "    .dataframe thead th {\n",
       "        text-align: right;\n",
       "    }\n",
       "</style>\n",
       "<table border=\"1\" class=\"dataframe\">\n",
       "  <thead>\n",
       "    <tr style=\"text-align: right;\">\n",
       "      <th></th>\n",
       "      <th>Текст Сообщения</th>\n",
       "      <th>Тематика</th>\n",
       "      <th>Ответственное лицо</th>\n",
       "      <th>Категория</th>\n",
       "    </tr>\n",
       "    <tr>\n",
       "      <th>id</th>\n",
       "      <th></th>\n",
       "      <th></th>\n",
       "      <th></th>\n",
       "      <th></th>\n",
       "    </tr>\n",
       "  </thead>\n",
       "  <tbody>\n",
       "    <tr>\n",
       "      <th>2246</th>\n",
       "      <td>Помогите начальник Льговского рэс не реагирует...</td>\n",
       "      <td>Нарушения, связанные с содержанием электросети...</td>\n",
       "      <td>Администрация Льговского района</td>\n",
       "      <td>3</td>\n",
       "    </tr>\n",
       "    <tr>\n",
       "      <th>380</th>\n",
       "      <td>&lt;p&gt;По фасаду дома по адресу ул. Урицкого 22 пр...</td>\n",
       "      <td>Аварийные деревья</td>\n",
       "      <td>Администрация города Курска</td>\n",
       "      <td>3</td>\n",
       "    </tr>\n",
       "    <tr>\n",
       "      <th>2240</th>\n",
       "      <td>Агресивные собаки. На радуге там стая из подро...</td>\n",
       "      <td>Безнадзорные животные</td>\n",
       "      <td>Администрация города Курска</td>\n",
       "      <td>1</td>\n",
       "    </tr>\n",
       "    <tr>\n",
       "      <th>596</th>\n",
       "      <td>&lt;p&gt;На пересечении &amp;nbsp;улиц Сосновская и Бере...</td>\n",
       "      <td>Нескошенная сорная растительность в местах общ...</td>\n",
       "      <td>Комитет дорожного хозяйства города Курска</td>\n",
       "      <td>3</td>\n",
       "    </tr>\n",
       "    <tr>\n",
       "      <th>1797</th>\n",
       "      <td>&lt;p style=`text-align:justify;`&gt;&lt;span style=`ba...</td>\n",
       "      <td>Аварийные деревья</td>\n",
       "      <td>Комитет городского хозяйства города Курска</td>\n",
       "      <td>3</td>\n",
       "    </tr>\n",
       "  </tbody>\n",
       "</table>\n",
       "</div>"
      ],
      "text/plain": [
       "                                        Текст Сообщения  \\\n",
       "id                                                        \n",
       "2246  Помогите начальник Льговского рэс не реагирует...   \n",
       "380   <p>По фасаду дома по адресу ул. Урицкого 22 пр...   \n",
       "2240  Агресивные собаки. На радуге там стая из подро...   \n",
       "596   <p>На пересечении &nbsp;улиц Сосновская и Бере...   \n",
       "1797  <p style=`text-align:justify;`><span style=`ba...   \n",
       "\n",
       "                                               Тематика  \\\n",
       "id                                                        \n",
       "2246  Нарушения, связанные с содержанием электросети...   \n",
       "380                                   Аварийные деревья   \n",
       "2240                              Безнадзорные животные   \n",
       "596   Нескошенная сорная растительность в местах общ...   \n",
       "1797                                  Аварийные деревья   \n",
       "\n",
       "                              Ответственное лицо  Категория  \n",
       "id                                                           \n",
       "2246             Администрация Льговского района          3  \n",
       "380                  Администрация города Курска          3  \n",
       "2240                 Администрация города Курска          1  \n",
       "596    Комитет дорожного хозяйства города Курска          3  \n",
       "1797  Комитет городского хозяйства города Курска          3  "
      ]
     },
     "execution_count": 8,
     "metadata": {},
     "output_type": "execute_result"
    }
   ],
   "source": [
    "train.head()"
   ]
  },
  {
   "cell_type": "code",
   "execution_count": 9,
   "metadata": {},
   "outputs": [
    {
     "ename": "OSError",
     "evalue": "[E050] Can't find model 'en_core_web_sm'. It doesn't seem to be a Python package or a valid path to a data directory.",
     "output_type": "error",
     "traceback": [
      "\u001b[0;31m---------------------------------------------------------------------------\u001b[0m",
      "\u001b[0;31mOSError\u001b[0m                                   Traceback (most recent call last)",
      "\u001b[1;32m/Users/alexey.shimko/my_repositories/kur_digital_breakthrough_2022/notebooks/pycaret/baseline.ipynb Cell 9'\u001b[0m in \u001b[0;36m<cell line: 1>\u001b[0;34m()\u001b[0m\n\u001b[0;32m----> <a href='vscode-notebook-cell:/Users/alexey.shimko/my_repositories/kur_digital_breakthrough_2022/notebooks/pycaret/baseline.ipynb#ch0000005?line=0'>1</a>\u001b[0m exp1 \u001b[39m=\u001b[39m pp\u001b[39m.\u001b[39;49msetup(\n\u001b[1;32m      <a href='vscode-notebook-cell:/Users/alexey.shimko/my_repositories/kur_digital_breakthrough_2022/notebooks/pycaret/baseline.ipynb#ch0000005?line=1'>2</a>\u001b[0m     data\u001b[39m=\u001b[39;49mdata, \n\u001b[1;32m      <a href='vscode-notebook-cell:/Users/alexey.shimko/my_repositories/kur_digital_breakthrough_2022/notebooks/pycaret/baseline.ipynb#ch0000005?line=2'>3</a>\u001b[0m     target\u001b[39m=\u001b[39;49mcfg\u001b[39m.\u001b[39;49mTEXT_COL,\n\u001b[1;32m      <a href='vscode-notebook-cell:/Users/alexey.shimko/my_repositories/kur_digital_breakthrough_2022/notebooks/pycaret/baseline.ipynb#ch0000005?line=3'>4</a>\u001b[0m     session_id\u001b[39m=\u001b[39;49mcfg\u001b[39m.\u001b[39;49mRANDOM_STATE)\n",
      "File \u001b[0;32m/opt/miniconda3/envs/pycaret/lib/python3.9/site-packages/pycaret/nlp/__init__.py:260\u001b[0m, in \u001b[0;36msetup\u001b[0;34m(data, target, custom_stopwords, html, session_id, log_experiment, experiment_name, experiment_custom_tags, log_plots, log_data, verbose)\u001b[0m\n\u001b[1;32m    257\u001b[0m \u001b[39mif\u001b[39;00m _check_soft_dependencies(\u001b[39m\"\u001b[39m\u001b[39mspacy\u001b[39m\u001b[39m\"\u001b[39m, extra\u001b[39m=\u001b[39m\u001b[39m\"\u001b[39m\u001b[39mnlp\u001b[39m\u001b[39m\"\u001b[39m, severity\u001b[39m=\u001b[39m\u001b[39m\"\u001b[39m\u001b[39mwarning\u001b[39m\u001b[39m\"\u001b[39m):\n\u001b[1;32m    258\u001b[0m     \u001b[39mimport\u001b[39;00m \u001b[39mspacy\u001b[39;00m\n\u001b[0;32m--> 260\u001b[0m     sp \u001b[39m=\u001b[39m spacy\u001b[39m.\u001b[39;49mload(\u001b[39m\"\u001b[39;49m\u001b[39men_core_web_sm\u001b[39;49m\u001b[39m\"\u001b[39;49m, disable\u001b[39m=\u001b[39;49m[\u001b[39m\"\u001b[39;49m\u001b[39mparser\u001b[39;49m\u001b[39m\"\u001b[39;49m, \u001b[39m\"\u001b[39;49m\u001b[39mner\u001b[39;49m\u001b[39m\"\u001b[39;49m])\n\u001b[1;32m    261\u001b[0m \u001b[39melse\u001b[39;00m:\n\u001b[1;32m    262\u001b[0m     sys\u001b[39m.\u001b[39mexit(\n\u001b[1;32m    263\u001b[0m         \u001b[39m\"\u001b[39m\u001b[39m(Type Error): spacy english model is not yet downloaded. See the documentation of setup to see installation guide.\u001b[39m\u001b[39m\"\u001b[39m\n\u001b[1;32m    264\u001b[0m     )\n",
      "File \u001b[0;32m/opt/miniconda3/envs/pycaret/lib/python3.9/site-packages/spacy/__init__.py:51\u001b[0m, in \u001b[0;36mload\u001b[0;34m(name, vocab, disable, exclude, config)\u001b[0m\n\u001b[1;32m     30\u001b[0m \u001b[39mdef\u001b[39;00m \u001b[39mload\u001b[39m(\n\u001b[1;32m     31\u001b[0m     name: Union[\u001b[39mstr\u001b[39m, Path],\n\u001b[1;32m     32\u001b[0m     \u001b[39m*\u001b[39m,\n\u001b[0;32m   (...)\u001b[0m\n\u001b[1;32m     36\u001b[0m     config: Union[Dict[\u001b[39mstr\u001b[39m, Any], Config] \u001b[39m=\u001b[39m util\u001b[39m.\u001b[39mSimpleFrozenDict(),\n\u001b[1;32m     37\u001b[0m ) \u001b[39m-\u001b[39m\u001b[39m>\u001b[39m Language:\n\u001b[1;32m     38\u001b[0m     \u001b[39m\"\"\"Load a spaCy model from an installed package or a local path.\u001b[39;00m\n\u001b[1;32m     39\u001b[0m \n\u001b[1;32m     40\u001b[0m \u001b[39m    name (str): Package name or model path.\u001b[39;00m\n\u001b[0;32m   (...)\u001b[0m\n\u001b[1;32m     49\u001b[0m \u001b[39m    RETURNS (Language): The loaded nlp object.\u001b[39;00m\n\u001b[1;32m     50\u001b[0m \u001b[39m    \"\"\"\u001b[39;00m\n\u001b[0;32m---> 51\u001b[0m     \u001b[39mreturn\u001b[39;00m util\u001b[39m.\u001b[39;49mload_model(\n\u001b[1;32m     52\u001b[0m         name, vocab\u001b[39m=\u001b[39;49mvocab, disable\u001b[39m=\u001b[39;49mdisable, exclude\u001b[39m=\u001b[39;49mexclude, config\u001b[39m=\u001b[39;49mconfig\n\u001b[1;32m     53\u001b[0m     )\n",
      "File \u001b[0;32m/opt/miniconda3/envs/pycaret/lib/python3.9/site-packages/spacy/util.py:427\u001b[0m, in \u001b[0;36mload_model\u001b[0;34m(name, vocab, disable, exclude, config)\u001b[0m\n\u001b[1;32m    425\u001b[0m \u001b[39mif\u001b[39;00m name \u001b[39min\u001b[39;00m OLD_MODEL_SHORTCUTS:\n\u001b[1;32m    426\u001b[0m     \u001b[39mraise\u001b[39;00m \u001b[39mIOError\u001b[39;00m(Errors\u001b[39m.\u001b[39mE941\u001b[39m.\u001b[39mformat(name\u001b[39m=\u001b[39mname, full\u001b[39m=\u001b[39mOLD_MODEL_SHORTCUTS[name]))  \u001b[39m# type: ignore[index]\u001b[39;00m\n\u001b[0;32m--> 427\u001b[0m \u001b[39mraise\u001b[39;00m \u001b[39mIOError\u001b[39;00m(Errors\u001b[39m.\u001b[39mE050\u001b[39m.\u001b[39mformat(name\u001b[39m=\u001b[39mname))\n",
      "\u001b[0;31mOSError\u001b[0m: [E050] Can't find model 'en_core_web_sm'. It doesn't seem to be a Python package or a valid path to a data directory."
     ]
    }
   ],
   "source": [
    "exp1 = pp.setup(\n",
    "    data=data, \n",
    "    target=cfg.TEXT_COL,\n",
    "    session_id=cfg.RANDOM_STATE) "
   ]
  },
  {
   "cell_type": "code",
   "execution_count": null,
   "metadata": {},
   "outputs": [
    {
     "data": {
      "text/html": [],
      "text/plain": [
       "<IPython.core.display.HTML object>"
      ]
     },
     "metadata": {},
     "output_type": "display_data"
    },
    {
     "data": {
      "text/html": [
       "<style type=\"text/css\">\n",
       "#T_4c4a9 th {\n",
       "  text-align: left;\n",
       "}\n",
       "#T_4c4a9_row0_col0, #T_4c4a9_row1_col0, #T_4c4a9_row1_col1, #T_4c4a9_row1_col3, #T_4c4a9_row1_col4, #T_4c4a9_row1_col5, #T_4c4a9_row1_col6, #T_4c4a9_row1_col7 {\n",
       "  text-align: left;\n",
       "}\n",
       "#T_4c4a9_row0_col1, #T_4c4a9_row0_col2, #T_4c4a9_row0_col3, #T_4c4a9_row0_col4, #T_4c4a9_row0_col5, #T_4c4a9_row0_col6, #T_4c4a9_row0_col7, #T_4c4a9_row1_col2 {\n",
       "  text-align: left;\n",
       "  background-color: yellow;\n",
       "}\n",
       "#T_4c4a9_row0_col8 {\n",
       "  text-align: left;\n",
       "  background-color: lightgrey;\n",
       "}\n",
       "#T_4c4a9_row1_col8 {\n",
       "  text-align: left;\n",
       "  background-color: yellow;\n",
       "  background-color: lightgrey;\n",
       "}\n",
       "</style>\n",
       "<table id=\"T_4c4a9\">\n",
       "  <thead>\n",
       "    <tr>\n",
       "      <th class=\"blank level0\" >&nbsp;</th>\n",
       "      <th id=\"T_4c4a9_level0_col0\" class=\"col_heading level0 col0\" >Model</th>\n",
       "      <th id=\"T_4c4a9_level0_col1\" class=\"col_heading level0 col1\" >Accuracy</th>\n",
       "      <th id=\"T_4c4a9_level0_col2\" class=\"col_heading level0 col2\" >AUC</th>\n",
       "      <th id=\"T_4c4a9_level0_col3\" class=\"col_heading level0 col3\" >Recall</th>\n",
       "      <th id=\"T_4c4a9_level0_col4\" class=\"col_heading level0 col4\" >Prec.</th>\n",
       "      <th id=\"T_4c4a9_level0_col5\" class=\"col_heading level0 col5\" >F1</th>\n",
       "      <th id=\"T_4c4a9_level0_col6\" class=\"col_heading level0 col6\" >Kappa</th>\n",
       "      <th id=\"T_4c4a9_level0_col7\" class=\"col_heading level0 col7\" >MCC</th>\n",
       "      <th id=\"T_4c4a9_level0_col8\" class=\"col_heading level0 col8\" >TT (Sec)</th>\n",
       "    </tr>\n",
       "  </thead>\n",
       "  <tbody>\n",
       "    <tr>\n",
       "      <th id=\"T_4c4a9_level0_row0\" class=\"row_heading level0 row0\" >lightgbm</th>\n",
       "      <td id=\"T_4c4a9_row0_col0\" class=\"data row0 col0\" >Light Gradient Boosting Machine</td>\n",
       "      <td id=\"T_4c4a9_row0_col1\" class=\"data row0 col1\" >0.9397</td>\n",
       "      <td id=\"T_4c4a9_row0_col2\" class=\"data row0 col2\" >0.0000</td>\n",
       "      <td id=\"T_4c4a9_row0_col3\" class=\"data row0 col3\" >0.9397</td>\n",
       "      <td id=\"T_4c4a9_row0_col4\" class=\"data row0 col4\" >0.9440</td>\n",
       "      <td id=\"T_4c4a9_row0_col5\" class=\"data row0 col5\" >0.9388</td>\n",
       "      <td id=\"T_4c4a9_row0_col6\" class=\"data row0 col6\" >0.9132</td>\n",
       "      <td id=\"T_4c4a9_row0_col7\" class=\"data row0 col7\" >0.9146</td>\n",
       "      <td id=\"T_4c4a9_row0_col8\" class=\"data row0 col8\" >0.1000</td>\n",
       "    </tr>\n",
       "    <tr>\n",
       "      <th id=\"T_4c4a9_level0_row1\" class=\"row_heading level0 row1\" >dummy</th>\n",
       "      <td id=\"T_4c4a9_row1_col0\" class=\"data row1 col0\" >Dummy Classifier</td>\n",
       "      <td id=\"T_4c4a9_row1_col1\" class=\"data row1 col1\" >0.4750</td>\n",
       "      <td id=\"T_4c4a9_row1_col2\" class=\"data row1 col2\" >0.0000</td>\n",
       "      <td id=\"T_4c4a9_row1_col3\" class=\"data row1 col3\" >0.4750</td>\n",
       "      <td id=\"T_4c4a9_row1_col4\" class=\"data row1 col4\" >0.2256</td>\n",
       "      <td id=\"T_4c4a9_row1_col5\" class=\"data row1 col5\" >0.3059</td>\n",
       "      <td id=\"T_4c4a9_row1_col6\" class=\"data row1 col6\" >0.0000</td>\n",
       "      <td id=\"T_4c4a9_row1_col7\" class=\"data row1 col7\" >0.0000</td>\n",
       "      <td id=\"T_4c4a9_row1_col8\" class=\"data row1 col8\" >0.0260</td>\n",
       "    </tr>\n",
       "  </tbody>\n",
       "</table>\n"
      ],
      "text/plain": [
       "<pandas.io.formats.style.Styler at 0x7f8262bc1040>"
      ]
     },
     "metadata": {},
     "output_type": "display_data"
    },
    {
     "data": {
      "application/vnd.jupyter.widget-view+json": {
       "model_id": "4dc5210b61214e099e58b462dba95ea1",
       "version_major": 2,
       "version_minor": 0
      },
      "text/plain": [
       "Processing:   0%|          | 0/69 [00:00<?, ?it/s]"
      ]
     },
     "metadata": {},
     "output_type": "display_data"
    }
   ],
   "source": [
    "best = compare_models()"
   ]
  },
  {
   "cell_type": "code",
   "execution_count": null,
   "metadata": {},
   "outputs": [],
   "source": []
  }
 ],
 "metadata": {
  "kernelspec": {
   "display_name": "Python 3.9.12 ('pycaret')",
   "language": "python",
   "name": "python3"
  },
  "language_info": {
   "codemirror_mode": {
    "name": "ipython",
    "version": 3
   },
   "file_extension": ".py",
   "mimetype": "text/x-python",
   "name": "python",
   "nbconvert_exporter": "python",
   "pygments_lexer": "ipython3",
   "version": "3.9.12"
  },
  "orig_nbformat": 4,
  "vscode": {
   "interpreter": {
    "hash": "7edde32f01b66c1cd9d29d6960c6845f2e98722240d23619732559e9eec1e53f"
   }
  }
 },
 "nbformat": 4,
 "nbformat_minor": 2
}
