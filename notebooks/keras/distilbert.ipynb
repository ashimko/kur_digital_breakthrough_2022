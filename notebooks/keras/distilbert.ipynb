{
 "cells": [
  {
   "cell_type": "code",
   "execution_count": 1,
   "metadata": {},
   "outputs": [],
   "source": [
    "import sys\n",
    "sys.path.insert(0, \"../..\")\n",
    "import config as cfg\n",
    "import gc\n",
    "import os\n",
    "from tqdm.notebook import tqdm\n",
    "from helper import check_path, seed_everything\n",
    "from collections import defaultdict"
   ]
  },
  {
   "cell_type": "code",
   "execution_count": 2,
   "metadata": {},
   "outputs": [],
   "source": [
    "import os\n",
    "import shutil\n",
    "\n",
    "import tensorflow as tf\n",
    "import tensorflow_hub as hub\n",
    "import tensorflow_text as text\n",
    "from official.nlp import optimization  # to create AdamW optimizer\n",
    "\n",
    "import matplotlib.pyplot as plt\n",
    "\n",
    "tf.get_logger().setLevel('ERROR')"
   ]
  },
  {
   "cell_type": "code",
   "execution_count": 3,
   "metadata": {},
   "outputs": [],
   "source": [
    "import pandas as pd\n",
    "import numpy as np\n",
    "from sklearn.model_selection import StratifiedKFold\n",
    "from sklearn.metrics import roc_auc_score"
   ]
  },
  {
   "cell_type": "code",
   "execution_count": 4,
   "metadata": {},
   "outputs": [],
   "source": [
    "EXPERIMENT_FAMILY_NAME = 'keras'\n",
    "EXPERIMENT_NAME = 'distilbert'\n",
    "N_RANDOM_SEEDS = 1\n",
    "N_EPOCHS = 100\n",
    "BATCH_SIZE = 32"
   ]
  },
  {
   "cell_type": "code",
   "execution_count": 5,
   "metadata": {},
   "outputs": [],
   "source": [
    "RANDOM_STATE = 77\n",
    "seed_everything(RANDOM_STATE)"
   ]
  },
  {
   "cell_type": "code",
   "execution_count": 6,
   "metadata": {},
   "outputs": [],
   "source": [
    "def filter_rare_categories(df: pd.DataFrame) -> pd.DataFrame:\n",
    "    rare_categories = [12]\n",
    "    return df.loc[~df[cfg.TARGET].isin(rare_categories)]"
   ]
  },
  {
   "cell_type": "code",
   "execution_count": 7,
   "metadata": {},
   "outputs": [],
   "source": [
    "\n",
    "train = pd.read_pickle(os.path.join(cfg.PREPROCESSED_DATA_PATH, 'train.pkl'))\n",
    "test = pd.read_pickle(os.path.join(cfg.PREPROCESSED_DATA_PATH, 'test.pkl'))\n",
    "\n",
    "train = train.rename(columns={cfg.TEXT_COL: 'text'})\n",
    "test = test.rename(columns={cfg.TEXT_COL: 'text'})\n",
    "\n",
    "CLASSES = np.sort(train[cfg.TARGET].unique()).tolist()\n",
    "\n",
    "# train = filter_rare_categories(train)"
   ]
  },
  {
   "cell_type": "code",
   "execution_count": 8,
   "metadata": {},
   "outputs": [],
   "source": [
    "# EMB_NAME = 'smaller_LaBSE_15lang'\n",
    "# train_emb = pd.read_pickle(os.path.join(cfg.DATA_PATH, EMB_NAME, 'train.pkl'))\n",
    "# test_emb = pd.read_pickle(os.path.join(cfg.DATA_PATH, EMB_NAME, 'test.pkl'))\n",
    "\n",
    "# train = train.join(train_emb)\n",
    "# test = test.join(test_emb)\n",
    "\n",
    "# del train_emb, test_emb; gc.collect()"
   ]
  },
  {
   "cell_type": "code",
   "execution_count": 9,
   "metadata": {},
   "outputs": [],
   "source": [
    "X_train, y_train = train.drop(cfg.TARGET, axis=1), train[cfg.TARGET]\n",
    "y_train_onecol = y_train.copy()\n",
    "y_train = pd.get_dummies(y_train)\n",
    "assert y_train.shape[1] == len(CLASSES)"
   ]
  },
  {
   "cell_type": "code",
   "execution_count": 10,
   "metadata": {},
   "outputs": [],
   "source": [
    "pred_proba_oof = pd.DataFrame(data=np.zeros(shape=(len(train), len(CLASSES))), index=train.index, columns=CLASSES)\n",
    "pred_proba_test = pd.DataFrame(data=np.zeros(shape=(len(test), len(CLASSES))), index=test.index, columns=CLASSES)"
   ]
  },
  {
   "cell_type": "code",
   "execution_count": 11,
   "metadata": {},
   "outputs": [],
   "source": [
    "from typing import Optional\n",
    "\n",
    "\n",
    "def df_to_dataset(data: pd.DataFrame, labels: Optional[pd.DataFrame]=None, shuffle: bool=True, batch_size: int=32):\n",
    "  df = data.copy()\n",
    "  df = {key: value.values[:, tf.newaxis] for key, value in data.items()}\n",
    "  \n",
    "  if labels is None:\n",
    "    ds = tf.data.Dataset.from_tensor_slices((dict(df),))\n",
    "  else:\n",
    "    ds = tf.data.Dataset.from_tensor_slices((dict(df), labels))\n",
    "  if shuffle:\n",
    "    ds = ds.shuffle(buffer_size=len(data))\n",
    "  ds = ds.batch(batch_size)\n",
    "  ds = ds.prefetch(batch_size)\n",
    "  return ds\n",
    "\n",
    "\n",
    "def get_keras_input(\n",
    "    data: pd.DataFrame,\n",
    "    labels: Optional[pd.DataFrame] = None,\n",
    "    shuffle=False\n",
    "    ) -> tf.data.Dataset:\n",
    "    return df_to_dataset(\n",
    "        data=data,\n",
    "        labels=labels,\n",
    "        shuffle=shuffle, \n",
    "        batch_size=BATCH_SIZE)\n",
    "        \n"
   ]
  },
  {
   "cell_type": "code",
   "execution_count": 12,
   "metadata": {},
   "outputs": [],
   "source": [
    "def build_classifier_model():\n",
    "    text_input = tf.keras.layers.Input(shape=(), dtype=tf.string, name='text')\n",
    "    preprocessing_layer = hub.KerasLayer(\"https://tfhub.dev/jeongukjae/distilbert_multi_cased_preprocess/2\", name='preprocessing')\n",
    "    encoder_inputs = preprocessing_layer(text_input)\n",
    "    encoder = hub.KerasLayer(\"https://tfhub.dev/jeongukjae/distilbert_multi_cased_L-6_H-768_A-12/1\", trainable=False, name='encoder')\n",
    "    outputs = encoder(encoder_inputs)\n",
    "    net = outputs['pooled_output']\n",
    "    net = tf.keras.layers.Dropout(0.3)(net)\n",
    "    net = tf.keras.layers.Dense(300, activation=None)(net)\n",
    "    net = tf.keras.layers.Dropout(0.2)(net)\n",
    "    net = tf.keras.layers.Dense(len(CLASSES), activation=None, name='classifier')(net)\n",
    "    model = tf.keras.Model(text_input, net)\n",
    "\n",
    "    loss = tf.keras.losses.CategoricalCrossentropy(from_logits=True)\n",
    "    metrics = tf.keras.metrics.AUC(from_logits=True, name='auc')\n",
    "\n",
    "    epochs = N_EPOCHS\n",
    "    n = (len(train) // cfg.N_SPLITS) * (cfg.N_SPLITS-1)\n",
    "    steps_per_epoch = n // BATCH_SIZE\n",
    "    num_train_steps = steps_per_epoch * epochs\n",
    "    num_warmup_steps = int(0.1*num_train_steps)\n",
    "\n",
    "    init_lr = 3e-4\n",
    "    optimizer = optimization.create_optimizer(init_lr=init_lr,\n",
    "                                            num_train_steps=num_train_steps,\n",
    "                                            num_warmup_steps=num_warmup_steps,\n",
    "                                            optimizer_type='adamw')\n",
    "\n",
    "    model.compile(optimizer=optimizer,\n",
    "                         loss=loss,\n",
    "                         metrics=metrics)\n",
    "    return model\n",
    "    "
   ]
  },
  {
   "cell_type": "code",
   "execution_count": 13,
   "metadata": {},
   "outputs": [],
   "source": [
    "leak_test = pd.read_pickle(os.path.join(cfg.DATA_PATH, 'test_leak.pkl'))\n",
    "leak_mask = leak_test.notnull()"
   ]
  },
  {
   "cell_type": "code",
   "execution_count": 14,
   "metadata": {},
   "outputs": [
    {
     "name": "stderr",
     "output_type": "stream",
     "text": [
      "2022-07-22 16:10:48.190777: I tensorflow/stream_executor/cuda/cuda_gpu_executor.cc:975] successful NUMA node read from SysFS had negative value (-1), but there must be at least one NUMA node, so returning NUMA node zero\n",
      "2022-07-22 16:10:48.223354: I tensorflow/stream_executor/cuda/cuda_gpu_executor.cc:975] successful NUMA node read from SysFS had negative value (-1), but there must be at least one NUMA node, so returning NUMA node zero\n",
      "2022-07-22 16:10:48.223562: I tensorflow/stream_executor/cuda/cuda_gpu_executor.cc:975] successful NUMA node read from SysFS had negative value (-1), but there must be at least one NUMA node, so returning NUMA node zero\n",
      "2022-07-22 16:10:48.224281: I tensorflow/core/platform/cpu_feature_guard.cc:193] This TensorFlow binary is optimized with oneAPI Deep Neural Network Library (oneDNN) to use the following CPU instructions in performance-critical operations:  AVX2 FMA\n",
      "To enable them in other operations, rebuild TensorFlow with the appropriate compiler flags.\n",
      "2022-07-22 16:10:48.225017: I tensorflow/stream_executor/cuda/cuda_gpu_executor.cc:975] successful NUMA node read from SysFS had negative value (-1), but there must be at least one NUMA node, so returning NUMA node zero\n",
      "2022-07-22 16:10:48.225236: I tensorflow/stream_executor/cuda/cuda_gpu_executor.cc:975] successful NUMA node read from SysFS had negative value (-1), but there must be at least one NUMA node, so returning NUMA node zero\n",
      "2022-07-22 16:10:48.225367: I tensorflow/stream_executor/cuda/cuda_gpu_executor.cc:975] successful NUMA node read from SysFS had negative value (-1), but there must be at least one NUMA node, so returning NUMA node zero\n",
      "2022-07-22 16:10:48.738973: I tensorflow/stream_executor/cuda/cuda_gpu_executor.cc:975] successful NUMA node read from SysFS had negative value (-1), but there must be at least one NUMA node, so returning NUMA node zero\n",
      "2022-07-22 16:10:48.739217: I tensorflow/stream_executor/cuda/cuda_gpu_executor.cc:975] successful NUMA node read from SysFS had negative value (-1), but there must be at least one NUMA node, so returning NUMA node zero\n",
      "2022-07-22 16:10:48.739391: I tensorflow/stream_executor/cuda/cuda_gpu_executor.cc:975] successful NUMA node read from SysFS had negative value (-1), but there must be at least one NUMA node, so returning NUMA node zero\n",
      "2022-07-22 16:10:48.739556: I tensorflow/core/common_runtime/gpu/gpu_device.cc:1532] Created device /job:localhost/replica:0/task:0/device:GPU:0 with 5379 MB memory:  -> device: 0, name: NVIDIA GeForce GTX 1060 with Max-Q Design, pci bus id: 0000:01:00.0, compute capability: 6.1\n"
     ]
    },
    {
     "data": {
      "application/vnd.jupyter.widget-view+json": {
       "model_id": "c9e97a48427247da867153327a9815bc",
       "version_major": 2,
       "version_minor": 0
      },
      "text/plain": [
       "  0%|          | 0/5 [00:00<?, ?it/s]"
      ]
     },
     "metadata": {},
     "output_type": "display_data"
    },
    {
     "name": "stderr",
     "output_type": "stream",
     "text": [
      "/home/as/miniconda3/envs/tf/lib/python3.9/site-packages/sklearn/model_selection/_split.py:680: UserWarning: The least populated class in y has only 1 members, which is less than n_splits=5.\n",
      "  warnings.warn(\n"
     ]
    },
    {
     "data": {
      "application/vnd.jupyter.widget-view+json": {
       "model_id": "774a435cd00848499d96eec76cd2e978",
       "version_major": 2,
       "version_minor": 0
      },
      "text/plain": [
       "  0%|          | 0/1 [00:00<?, ?it/s]"
      ]
     },
     "metadata": {},
     "output_type": "display_data"
    },
    {
     "name": "stdout",
     "output_type": "stream",
     "text": [
      "Epoch 1/100\n",
      "50/50 [==============================] - 25s 387ms/step - loss: 3.0141 - auc: 0.5423 - val_loss: 2.1890 - val_auc: 0.8503\n",
      "Epoch 2/100\n",
      "50/50 [==============================] - 17s 347ms/step - loss: 1.9132 - auc: 0.8568 - val_loss: 1.6569 - val_auc: 0.9014\n",
      "Epoch 3/100\n",
      "50/50 [==============================] - 18s 366ms/step - loss: 1.7373 - auc: 0.8935 - val_loss: 1.6033 - val_auc: 0.9131\n",
      "Epoch 4/100\n",
      "50/50 [==============================] - 18s 357ms/step - loss: 1.6840 - auc: 0.8991 - val_loss: 1.5445 - val_auc: 0.9170\n",
      "Epoch 5/100\n",
      "50/50 [==============================] - 17s 343ms/step - loss: 1.5906 - auc: 0.9092 - val_loss: 1.5060 - val_auc: 0.9203\n",
      "Epoch 6/100\n",
      "50/50 [==============================] - 19s 376ms/step - loss: 1.5611 - auc: 0.9117 - val_loss: 1.4597 - val_auc: 0.9250\n",
      "Epoch 7/100\n",
      "50/50 [==============================] - 18s 365ms/step - loss: 1.4854 - auc: 0.9175 - val_loss: 1.4183 - val_auc: 0.9281\n",
      "Epoch 8/100\n",
      "50/50 [==============================] - 17s 351ms/step - loss: 1.4268 - auc: 0.9217 - val_loss: 1.3854 - val_auc: 0.9283\n",
      "Epoch 9/100\n",
      "50/50 [==============================] - 17s 352ms/step - loss: 1.4013 - auc: 0.9229 - val_loss: 1.3708 - val_auc: 0.9303\n",
      "Epoch 10/100\n",
      "50/50 [==============================] - 18s 359ms/step - loss: 1.3701 - auc: 0.9266 - val_loss: 1.3148 - val_auc: 0.9323\n",
      "Epoch 11/100\n",
      "50/50 [==============================] - 17s 348ms/step - loss: 1.3395 - auc: 0.9303 - val_loss: 1.3484 - val_auc: 0.9336\n",
      "Epoch 12/100\n",
      "50/50 [==============================] - 18s 360ms/step - loss: 1.2936 - auc: 0.9326 - val_loss: 1.2934 - val_auc: 0.9344\n",
      "Epoch 13/100\n",
      "50/50 [==============================] - 18s 353ms/step - loss: 1.2972 - auc: 0.9345 - val_loss: 1.2784 - val_auc: 0.9348\n",
      "Epoch 14/100\n",
      "50/50 [==============================] - 18s 362ms/step - loss: 1.2610 - auc: 0.9366 - val_loss: 1.2670 - val_auc: 0.9344\n",
      "Epoch 15/100\n",
      "50/50 [==============================] - 18s 352ms/step - loss: 1.2653 - auc: 0.9363 - val_loss: 1.2552 - val_auc: 0.9353\n",
      "Epoch 16/100\n",
      "50/50 [==============================] - 18s 356ms/step - loss: 1.2294 - auc: 0.9392 - val_loss: 1.2404 - val_auc: 0.9367\n",
      "Epoch 17/100\n",
      "50/50 [==============================] - 18s 357ms/step - loss: 1.1940 - auc: 0.9417 - val_loss: 1.2323 - val_auc: 0.9366\n",
      "Epoch 18/100\n",
      "50/50 [==============================] - 17s 349ms/step - loss: 1.2020 - auc: 0.9400 - val_loss: 1.2332 - val_auc: 0.9381\n",
      "Epoch 19/100\n",
      "50/50 [==============================] - 18s 354ms/step - loss: 1.1649 - auc: 0.9440 - val_loss: 1.2265 - val_auc: 0.9347\n",
      "Epoch 20/100\n",
      "50/50 [==============================] - 18s 355ms/step - loss: 1.1637 - auc: 0.9428 - val_loss: 1.2074 - val_auc: 0.9383\n",
      "Epoch 21/100\n",
      "50/50 [==============================] - 18s 357ms/step - loss: 1.1385 - auc: 0.9455 - val_loss: 1.1988 - val_auc: 0.9387\n",
      "Epoch 22/100\n",
      "50/50 [==============================] - 18s 355ms/step - loss: 1.1327 - auc: 0.9455 - val_loss: 1.1881 - val_auc: 0.9391\n",
      "Epoch 23/100\n",
      "50/50 [==============================] - 17s 349ms/step - loss: 1.1030 - auc: 0.9468 - val_loss: 1.1998 - val_auc: 0.9379\n",
      "Epoch 24/100\n",
      "50/50 [==============================] - 18s 353ms/step - loss: 1.1141 - auc: 0.9477 - val_loss: 1.1827 - val_auc: 0.9376\n",
      "Epoch 25/100\n",
      "50/50 [==============================] - 18s 354ms/step - loss: 1.0869 - auc: 0.9490 - val_loss: 1.1803 - val_auc: 0.9379\n",
      "Epoch 26/100\n",
      "50/50 [==============================] - 18s 356ms/step - loss: 1.0901 - auc: 0.9474 - val_loss: 1.1683 - val_auc: 0.9408\n",
      "Epoch 27/100\n",
      "50/50 [==============================] - 17s 349ms/step - loss: 1.0700 - auc: 0.9493 - val_loss: 1.1745 - val_auc: 0.9405\n",
      "Epoch 28/100\n",
      "50/50 [==============================] - 17s 347ms/step - loss: 1.0734 - auc: 0.9500 - val_loss: 1.1818 - val_auc: 0.9406\n",
      "Epoch 29/100\n",
      "50/50 [==============================] - 18s 355ms/step - loss: 1.0625 - auc: 0.9491 - val_loss: 1.1540 - val_auc: 0.9392\n",
      "Epoch 30/100\n",
      "50/50 [==============================] - 17s 349ms/step - loss: 1.0608 - auc: 0.9491 - val_loss: 1.1798 - val_auc: 0.9411\n",
      "Epoch 31/100\n",
      "50/50 [==============================] - 18s 355ms/step - loss: 1.0573 - auc: 0.9502 - val_loss: 1.1469 - val_auc: 0.9403\n",
      "Epoch 32/100\n",
      "50/50 [==============================] - 17s 350ms/step - loss: 1.0520 - auc: 0.9498 - val_loss: 1.1637 - val_auc: 0.9395\n",
      "Epoch 33/100\n",
      "50/50 [==============================] - 17s 349ms/step - loss: 1.0302 - auc: 0.9508 - val_loss: 1.1612 - val_auc: 0.9393\n",
      "Epoch 34/100\n",
      "50/50 [==============================] - 18s 353ms/step - loss: 1.0416 - auc: 0.9512 - val_loss: 1.1438 - val_auc: 0.9397\n",
      "Epoch 35/100\n",
      "50/50 [==============================] - 18s 355ms/step - loss: 1.0316 - auc: 0.9508 - val_loss: 1.1437 - val_auc: 0.9397\n",
      "Epoch 36/100\n",
      "50/50 [==============================] - 17s 349ms/step - loss: 1.0264 - auc: 0.9510 - val_loss: 1.1784 - val_auc: 0.9398\n",
      "Epoch 37/100\n",
      "50/50 [==============================] - 18s 353ms/step - loss: 1.0063 - auc: 0.9515 - val_loss: 1.1331 - val_auc: 0.9402\n",
      "Epoch 38/100\n",
      "50/50 [==============================] - 19s 373ms/step - loss: 1.0317 - auc: 0.9509 - val_loss: 1.1528 - val_auc: 0.9382\n",
      "Epoch 39/100\n",
      "50/50 [==============================] - 19s 373ms/step - loss: 0.9911 - auc: 0.9515 - val_loss: 1.1335 - val_auc: 0.9406\n",
      "Epoch 40/100\n",
      "50/50 [==============================] - 18s 364ms/step - loss: 1.0016 - auc: 0.9521 - val_loss: 1.1388 - val_auc: 0.9408\n"
     ]
    },
    {
     "name": "stderr",
     "output_type": "stream",
     "text": [
      "WARNING:absl:Found untraced functions such as restored_function_body, restored_function_body, restored_function_body, restored_function_body, restored_function_body while saving (showing 5 of 180). These functions will not be directly callable after loading.\n"
     ]
    },
    {
     "name": "stdout",
     "output_type": "stream",
     "text": [
      "13/13 [==============================] - 4s 249ms/step\n",
      "50/50 [==============================] - 12s 247ms/step\n",
      "32/32 [==============================] - 9s 248ms/step\n",
      "val auc 0.7116577420018738\n",
      "leak_test_auc_score 0.7702653744498466\n"
     ]
    },
    {
     "data": {
      "application/vnd.jupyter.widget-view+json": {
       "model_id": "9ce44c833b2040cdb24a567281e910d5",
       "version_major": 2,
       "version_minor": 0
      },
      "text/plain": [
       "  0%|          | 0/1 [00:00<?, ?it/s]"
      ]
     },
     "metadata": {},
     "output_type": "display_data"
    },
    {
     "name": "stdout",
     "output_type": "stream",
     "text": [
      "Epoch 1/100\n",
      "50/50 [==============================] - 24s 393ms/step - loss: 2.7689 - auc: 0.6406 - val_loss: 2.0304 - val_auc: 0.8571\n",
      "Epoch 2/100\n",
      "50/50 [==============================] - 18s 356ms/step - loss: 1.8832 - auc: 0.8640 - val_loss: 1.6529 - val_auc: 0.9027\n",
      "Epoch 3/100\n",
      "50/50 [==============================] - 18s 355ms/step - loss: 1.7352 - auc: 0.8941 - val_loss: 1.6022 - val_auc: 0.9132\n",
      "Epoch 4/100\n",
      "50/50 [==============================] - 18s 356ms/step - loss: 1.6801 - auc: 0.8995 - val_loss: 1.5636 - val_auc: 0.9178\n",
      "Epoch 5/100\n",
      "50/50 [==============================] - 18s 358ms/step - loss: 1.6044 - auc: 0.9057 - val_loss: 1.5089 - val_auc: 0.9197\n",
      "Epoch 6/100\n",
      "50/50 [==============================] - 18s 357ms/step - loss: 1.5675 - auc: 0.9090 - val_loss: 1.4657 - val_auc: 0.9248\n",
      "Epoch 7/100\n",
      "50/50 [==============================] - 18s 355ms/step - loss: 1.5090 - auc: 0.9177 - val_loss: 1.4250 - val_auc: 0.9281\n",
      "Epoch 8/100\n",
      "50/50 [==============================] - 18s 354ms/step - loss: 1.4765 - auc: 0.9190 - val_loss: 1.3805 - val_auc: 0.9297\n",
      "Epoch 9/100\n",
      "50/50 [==============================] - 18s 356ms/step - loss: 1.4195 - auc: 0.9221 - val_loss: 1.3697 - val_auc: 0.9315\n",
      "Epoch 10/100\n",
      "50/50 [==============================] - 18s 355ms/step - loss: 1.3979 - auc: 0.9251 - val_loss: 1.3285 - val_auc: 0.9337\n",
      "Epoch 11/100\n",
      "50/50 [==============================] - 18s 361ms/step - loss: 1.3433 - auc: 0.9301 - val_loss: 1.3217 - val_auc: 0.9335\n",
      "Epoch 12/100\n",
      "50/50 [==============================] - 18s 354ms/step - loss: 1.3243 - auc: 0.9316 - val_loss: 1.2617 - val_auc: 0.9370\n",
      "Epoch 13/100\n",
      "50/50 [==============================] - 18s 355ms/step - loss: 1.2936 - auc: 0.9339 - val_loss: 1.2514 - val_auc: 0.9396\n",
      "Epoch 14/100\n",
      "50/50 [==============================] - 18s 355ms/step - loss: 1.2669 - auc: 0.9361 - val_loss: 1.2391 - val_auc: 0.9399\n",
      "Epoch 15/100\n",
      "50/50 [==============================] - 18s 355ms/step - loss: 1.2559 - auc: 0.9355 - val_loss: 1.2186 - val_auc: 0.9411\n",
      "Epoch 16/100\n",
      "50/50 [==============================] - 17s 349ms/step - loss: 1.2275 - auc: 0.9389 - val_loss: 1.2259 - val_auc: 0.9411\n",
      "Epoch 17/100\n",
      "50/50 [==============================] - 18s 356ms/step - loss: 1.2048 - auc: 0.9400 - val_loss: 1.2017 - val_auc: 0.9421\n",
      "Epoch 18/100\n",
      "50/50 [==============================] - 18s 354ms/step - loss: 1.1869 - auc: 0.9414 - val_loss: 1.1894 - val_auc: 0.9433\n",
      "Epoch 19/100\n",
      "50/50 [==============================] - 17s 348ms/step - loss: 1.1873 - auc: 0.9425 - val_loss: 1.1944 - val_auc: 0.9427\n",
      "Epoch 20/100\n",
      "50/50 [==============================] - 18s 357ms/step - loss: 1.1778 - auc: 0.9424 - val_loss: 1.1889 - val_auc: 0.9442\n",
      "Epoch 21/100\n",
      "50/50 [==============================] - 18s 354ms/step - loss: 1.1602 - auc: 0.9423 - val_loss: 1.1574 - val_auc: 0.9446\n",
      "Epoch 22/100\n",
      "50/50 [==============================] - 17s 351ms/step - loss: 1.1441 - auc: 0.9437 - val_loss: 1.1684 - val_auc: 0.9455\n",
      "Epoch 23/100\n",
      "50/50 [==============================] - 18s 355ms/step - loss: 1.1377 - auc: 0.9449 - val_loss: 1.1407 - val_auc: 0.9449\n",
      "Epoch 24/100\n",
      "50/50 [==============================] - 18s 354ms/step - loss: 1.1158 - auc: 0.9455 - val_loss: 1.1354 - val_auc: 0.9468\n",
      "Epoch 25/100\n",
      "50/50 [==============================] - 18s 356ms/step - loss: 1.1154 - auc: 0.9454 - val_loss: 1.1321 - val_auc: 0.9478\n",
      "Epoch 26/100\n",
      "50/50 [==============================] - 18s 355ms/step - loss: 1.1130 - auc: 0.9460 - val_loss: 1.1196 - val_auc: 0.9477\n",
      "Epoch 27/100\n",
      "50/50 [==============================] - 17s 349ms/step - loss: 1.1056 - auc: 0.9470 - val_loss: 1.1201 - val_auc: 0.9472\n",
      "Epoch 28/100\n",
      "50/50 [==============================] - 18s 356ms/step - loss: 1.0937 - auc: 0.9471 - val_loss: 1.1196 - val_auc: 0.9475\n",
      "Epoch 29/100\n",
      "50/50 [==============================] - 18s 356ms/step - loss: 1.0833 - auc: 0.9481 - val_loss: 1.1105 - val_auc: 0.9478\n",
      "Epoch 30/100\n",
      "50/50 [==============================] - 18s 354ms/step - loss: 1.0604 - auc: 0.9504 - val_loss: 1.1039 - val_auc: 0.9486\n",
      "Epoch 31/100\n",
      "50/50 [==============================] - 17s 349ms/step - loss: 1.0578 - auc: 0.9493 - val_loss: 1.1132 - val_auc: 0.9474\n",
      "Epoch 32/100\n",
      "50/50 [==============================] - 17s 348ms/step - loss: 1.0824 - auc: 0.9472 - val_loss: 1.1069 - val_auc: 0.9484\n",
      "Epoch 33/100\n",
      "50/50 [==============================] - 18s 354ms/step - loss: 1.0897 - auc: 0.9472 - val_loss: 1.0864 - val_auc: 0.9485\n",
      "Epoch 34/100\n",
      "50/50 [==============================] - 18s 355ms/step - loss: 1.0449 - auc: 0.9499 - val_loss: 1.0850 - val_auc: 0.9483\n",
      "Epoch 35/100\n",
      "50/50 [==============================] - 17s 349ms/step - loss: 1.0399 - auc: 0.9508 - val_loss: 1.0937 - val_auc: 0.9469\n",
      "Epoch 36/100\n",
      "50/50 [==============================] - 18s 354ms/step - loss: 1.0460 - auc: 0.9510 - val_loss: 1.0814 - val_auc: 0.9484\n",
      "Epoch 37/100\n",
      "50/50 [==============================] - 17s 349ms/step - loss: 1.0163 - auc: 0.9514 - val_loss: 1.0976 - val_auc: 0.9475\n",
      "Epoch 38/100\n",
      "50/50 [==============================] - 18s 360ms/step - loss: 1.0139 - auc: 0.9511 - val_loss: 1.0785 - val_auc: 0.9481\n",
      "Epoch 39/100\n",
      "20/50 [===========>..................] - ETA: 8s - loss: 0.9933 - auc: 0.9527"
     ]
    },
    {
     "ename": "KeyboardInterrupt",
     "evalue": "",
     "output_type": "error",
     "traceback": [
      "\u001b[0;31m---------------------------------------------------------------------------\u001b[0m",
      "\u001b[0;31mKeyboardInterrupt\u001b[0m                         Traceback (most recent call last)",
      "\u001b[1;32m/home/as/my_repositories/kur_digital_breakthrough_2022/notebooks/keras/distilbert.ipynb Cell 14\u001b[0m in \u001b[0;36m<cell line: 11>\u001b[0;34m()\u001b[0m\n\u001b[1;32m     <a href='vscode-notebook-cell:/home/as/my_repositories/kur_digital_breakthrough_2022/notebooks/keras/distilbert.ipynb#ch0000013?line=26'>27</a>\u001b[0m clf \u001b[39m=\u001b[39m build_classifier_model()\n\u001b[1;32m     <a href='vscode-notebook-cell:/home/as/my_repositories/kur_digital_breakthrough_2022/notebooks/keras/distilbert.ipynb#ch0000013?line=28'>29</a>\u001b[0m early_stopping \u001b[39m=\u001b[39m tf\u001b[39m.\u001b[39mkeras\u001b[39m.\u001b[39mcallbacks\u001b[39m.\u001b[39mEarlyStopping(monitor\u001b[39m=\u001b[39m\u001b[39m'\u001b[39m\u001b[39mval_loss\u001b[39m\u001b[39m'\u001b[39m, patience\u001b[39m=\u001b[39m\u001b[39m3\u001b[39m, min_delta\u001b[39m=\u001b[39m\u001b[39m1e-5\u001b[39m, mode\u001b[39m=\u001b[39m\u001b[39m'\u001b[39m\u001b[39mauto\u001b[39m\u001b[39m'\u001b[39m, restore_best_weights\u001b[39m=\u001b[39m\u001b[39mTrue\u001b[39;00m)\n\u001b[0;32m---> <a href='vscode-notebook-cell:/home/as/my_repositories/kur_digital_breakthrough_2022/notebooks/keras/distilbert.ipynb#ch0000013?line=29'>30</a>\u001b[0m clf\u001b[39m.\u001b[39;49mfit(x\u001b[39m=\u001b[39;49mtrain_pool, validation_data\u001b[39m=\u001b[39;49mval_pool, epochs\u001b[39m=\u001b[39;49mN_EPOCHS, callbacks\u001b[39m=\u001b[39;49m[early_stopping])\n\u001b[1;32m     <a href='vscode-notebook-cell:/home/as/my_repositories/kur_digital_breakthrough_2022/notebooks/keras/distilbert.ipynb#ch0000013?line=31'>32</a>\u001b[0m model_name \u001b[39m=\u001b[39m \u001b[39mf\u001b[39m\u001b[39m'\u001b[39m\u001b[39m{\u001b[39;00mEXPERIMENT_NAME\u001b[39m}\u001b[39;00m\u001b[39m_fold_\u001b[39m\u001b[39m{\u001b[39;00mfold\u001b[39m}\u001b[39;00m\u001b[39m_rs_\u001b[39m\u001b[39m{\u001b[39;00mrandom_seed\u001b[39m}\u001b[39;00m\u001b[39m'\u001b[39m\n\u001b[1;32m     <a href='vscode-notebook-cell:/home/as/my_repositories/kur_digital_breakthrough_2022/notebooks/keras/distilbert.ipynb#ch0000013?line=32'>33</a>\u001b[0m model_path \u001b[39m=\u001b[39m os\u001b[39m.\u001b[39mpath\u001b[39m.\u001b[39mjoin(cfg\u001b[39m.\u001b[39mMODELS_PATH, EXPERIMENT_FAMILY_NAME, EXPERIMENT_NAME)\n",
      "File \u001b[0;32m~/miniconda3/envs/tf/lib/python3.9/site-packages/keras/utils/traceback_utils.py:64\u001b[0m, in \u001b[0;36mfilter_traceback.<locals>.error_handler\u001b[0;34m(*args, **kwargs)\u001b[0m\n\u001b[1;32m     62\u001b[0m filtered_tb \u001b[39m=\u001b[39m \u001b[39mNone\u001b[39;00m\n\u001b[1;32m     63\u001b[0m \u001b[39mtry\u001b[39;00m:\n\u001b[0;32m---> 64\u001b[0m   \u001b[39mreturn\u001b[39;00m fn(\u001b[39m*\u001b[39;49margs, \u001b[39m*\u001b[39;49m\u001b[39m*\u001b[39;49mkwargs)\n\u001b[1;32m     65\u001b[0m \u001b[39mexcept\u001b[39;00m \u001b[39mException\u001b[39;00m \u001b[39mas\u001b[39;00m e:  \u001b[39m# pylint: disable=broad-except\u001b[39;00m\n\u001b[1;32m     66\u001b[0m   filtered_tb \u001b[39m=\u001b[39m _process_traceback_frames(e\u001b[39m.\u001b[39m__traceback__)\n",
      "File \u001b[0;32m~/miniconda3/envs/tf/lib/python3.9/site-packages/keras/engine/training.py:1409\u001b[0m, in \u001b[0;36mModel.fit\u001b[0;34m(self, x, y, batch_size, epochs, verbose, callbacks, validation_split, validation_data, shuffle, class_weight, sample_weight, initial_epoch, steps_per_epoch, validation_steps, validation_batch_size, validation_freq, max_queue_size, workers, use_multiprocessing)\u001b[0m\n\u001b[1;32m   1402\u001b[0m \u001b[39mwith\u001b[39;00m tf\u001b[39m.\u001b[39mprofiler\u001b[39m.\u001b[39mexperimental\u001b[39m.\u001b[39mTrace(\n\u001b[1;32m   1403\u001b[0m     \u001b[39m'\u001b[39m\u001b[39mtrain\u001b[39m\u001b[39m'\u001b[39m,\n\u001b[1;32m   1404\u001b[0m     epoch_num\u001b[39m=\u001b[39mepoch,\n\u001b[1;32m   1405\u001b[0m     step_num\u001b[39m=\u001b[39mstep,\n\u001b[1;32m   1406\u001b[0m     batch_size\u001b[39m=\u001b[39mbatch_size,\n\u001b[1;32m   1407\u001b[0m     _r\u001b[39m=\u001b[39m\u001b[39m1\u001b[39m):\n\u001b[1;32m   1408\u001b[0m   callbacks\u001b[39m.\u001b[39mon_train_batch_begin(step)\n\u001b[0;32m-> 1409\u001b[0m   tmp_logs \u001b[39m=\u001b[39m \u001b[39mself\u001b[39;49m\u001b[39m.\u001b[39;49mtrain_function(iterator)\n\u001b[1;32m   1410\u001b[0m   \u001b[39mif\u001b[39;00m data_handler\u001b[39m.\u001b[39mshould_sync:\n\u001b[1;32m   1411\u001b[0m     context\u001b[39m.\u001b[39masync_wait()\n",
      "File \u001b[0;32m~/miniconda3/envs/tf/lib/python3.9/site-packages/tensorflow/python/util/traceback_utils.py:150\u001b[0m, in \u001b[0;36mfilter_traceback.<locals>.error_handler\u001b[0;34m(*args, **kwargs)\u001b[0m\n\u001b[1;32m    148\u001b[0m filtered_tb \u001b[39m=\u001b[39m \u001b[39mNone\u001b[39;00m\n\u001b[1;32m    149\u001b[0m \u001b[39mtry\u001b[39;00m:\n\u001b[0;32m--> 150\u001b[0m   \u001b[39mreturn\u001b[39;00m fn(\u001b[39m*\u001b[39;49margs, \u001b[39m*\u001b[39;49m\u001b[39m*\u001b[39;49mkwargs)\n\u001b[1;32m    151\u001b[0m \u001b[39mexcept\u001b[39;00m \u001b[39mException\u001b[39;00m \u001b[39mas\u001b[39;00m e:\n\u001b[1;32m    152\u001b[0m   filtered_tb \u001b[39m=\u001b[39m _process_traceback_frames(e\u001b[39m.\u001b[39m__traceback__)\n",
      "File \u001b[0;32m~/miniconda3/envs/tf/lib/python3.9/site-packages/tensorflow/python/eager/def_function.py:915\u001b[0m, in \u001b[0;36mFunction.__call__\u001b[0;34m(self, *args, **kwds)\u001b[0m\n\u001b[1;32m    912\u001b[0m compiler \u001b[39m=\u001b[39m \u001b[39m\"\u001b[39m\u001b[39mxla\u001b[39m\u001b[39m\"\u001b[39m \u001b[39mif\u001b[39;00m \u001b[39mself\u001b[39m\u001b[39m.\u001b[39m_jit_compile \u001b[39melse\u001b[39;00m \u001b[39m\"\u001b[39m\u001b[39mnonXla\u001b[39m\u001b[39m\"\u001b[39m\n\u001b[1;32m    914\u001b[0m \u001b[39mwith\u001b[39;00m OptionalXlaContext(\u001b[39mself\u001b[39m\u001b[39m.\u001b[39m_jit_compile):\n\u001b[0;32m--> 915\u001b[0m   result \u001b[39m=\u001b[39m \u001b[39mself\u001b[39;49m\u001b[39m.\u001b[39;49m_call(\u001b[39m*\u001b[39;49margs, \u001b[39m*\u001b[39;49m\u001b[39m*\u001b[39;49mkwds)\n\u001b[1;32m    917\u001b[0m new_tracing_count \u001b[39m=\u001b[39m \u001b[39mself\u001b[39m\u001b[39m.\u001b[39mexperimental_get_tracing_count()\n\u001b[1;32m    918\u001b[0m without_tracing \u001b[39m=\u001b[39m (tracing_count \u001b[39m==\u001b[39m new_tracing_count)\n",
      "File \u001b[0;32m~/miniconda3/envs/tf/lib/python3.9/site-packages/tensorflow/python/eager/def_function.py:947\u001b[0m, in \u001b[0;36mFunction._call\u001b[0;34m(self, *args, **kwds)\u001b[0m\n\u001b[1;32m    944\u001b[0m   \u001b[39mself\u001b[39m\u001b[39m.\u001b[39m_lock\u001b[39m.\u001b[39mrelease()\n\u001b[1;32m    945\u001b[0m   \u001b[39m# In this case we have created variables on the first call, so we run the\u001b[39;00m\n\u001b[1;32m    946\u001b[0m   \u001b[39m# defunned version which is guaranteed to never create variables.\u001b[39;00m\n\u001b[0;32m--> 947\u001b[0m   \u001b[39mreturn\u001b[39;00m \u001b[39mself\u001b[39;49m\u001b[39m.\u001b[39;49m_stateless_fn(\u001b[39m*\u001b[39;49margs, \u001b[39m*\u001b[39;49m\u001b[39m*\u001b[39;49mkwds)  \u001b[39m# pylint: disable=not-callable\u001b[39;00m\n\u001b[1;32m    948\u001b[0m \u001b[39melif\u001b[39;00m \u001b[39mself\u001b[39m\u001b[39m.\u001b[39m_stateful_fn \u001b[39mis\u001b[39;00m \u001b[39mnot\u001b[39;00m \u001b[39mNone\u001b[39;00m:\n\u001b[1;32m    949\u001b[0m   \u001b[39m# Release the lock early so that multiple threads can perform the call\u001b[39;00m\n\u001b[1;32m    950\u001b[0m   \u001b[39m# in parallel.\u001b[39;00m\n\u001b[1;32m    951\u001b[0m   \u001b[39mself\u001b[39m\u001b[39m.\u001b[39m_lock\u001b[39m.\u001b[39mrelease()\n",
      "File \u001b[0;32m~/miniconda3/envs/tf/lib/python3.9/site-packages/tensorflow/python/eager/function.py:2453\u001b[0m, in \u001b[0;36mFunction.__call__\u001b[0;34m(self, *args, **kwargs)\u001b[0m\n\u001b[1;32m   2450\u001b[0m \u001b[39mwith\u001b[39;00m \u001b[39mself\u001b[39m\u001b[39m.\u001b[39m_lock:\n\u001b[1;32m   2451\u001b[0m   (graph_function,\n\u001b[1;32m   2452\u001b[0m    filtered_flat_args) \u001b[39m=\u001b[39m \u001b[39mself\u001b[39m\u001b[39m.\u001b[39m_maybe_define_function(args, kwargs)\n\u001b[0;32m-> 2453\u001b[0m \u001b[39mreturn\u001b[39;00m graph_function\u001b[39m.\u001b[39;49m_call_flat(\n\u001b[1;32m   2454\u001b[0m     filtered_flat_args, captured_inputs\u001b[39m=\u001b[39;49mgraph_function\u001b[39m.\u001b[39;49mcaptured_inputs)\n",
      "File \u001b[0;32m~/miniconda3/envs/tf/lib/python3.9/site-packages/tensorflow/python/eager/function.py:1860\u001b[0m, in \u001b[0;36mConcreteFunction._call_flat\u001b[0;34m(self, args, captured_inputs, cancellation_manager)\u001b[0m\n\u001b[1;32m   1856\u001b[0m possible_gradient_type \u001b[39m=\u001b[39m gradients_util\u001b[39m.\u001b[39mPossibleTapeGradientTypes(args)\n\u001b[1;32m   1857\u001b[0m \u001b[39mif\u001b[39;00m (possible_gradient_type \u001b[39m==\u001b[39m gradients_util\u001b[39m.\u001b[39mPOSSIBLE_GRADIENT_TYPES_NONE\n\u001b[1;32m   1858\u001b[0m     \u001b[39mand\u001b[39;00m executing_eagerly):\n\u001b[1;32m   1859\u001b[0m   \u001b[39m# No tape is watching; skip to running the function.\u001b[39;00m\n\u001b[0;32m-> 1860\u001b[0m   \u001b[39mreturn\u001b[39;00m \u001b[39mself\u001b[39m\u001b[39m.\u001b[39m_build_call_outputs(\u001b[39mself\u001b[39;49m\u001b[39m.\u001b[39;49m_inference_function\u001b[39m.\u001b[39;49mcall(\n\u001b[1;32m   1861\u001b[0m       ctx, args, cancellation_manager\u001b[39m=\u001b[39;49mcancellation_manager))\n\u001b[1;32m   1862\u001b[0m forward_backward \u001b[39m=\u001b[39m \u001b[39mself\u001b[39m\u001b[39m.\u001b[39m_select_forward_and_backward_functions(\n\u001b[1;32m   1863\u001b[0m     args,\n\u001b[1;32m   1864\u001b[0m     possible_gradient_type,\n\u001b[1;32m   1865\u001b[0m     executing_eagerly)\n\u001b[1;32m   1866\u001b[0m forward_function, args_with_tangents \u001b[39m=\u001b[39m forward_backward\u001b[39m.\u001b[39mforward()\n",
      "File \u001b[0;32m~/miniconda3/envs/tf/lib/python3.9/site-packages/tensorflow/python/eager/function.py:497\u001b[0m, in \u001b[0;36m_EagerDefinedFunction.call\u001b[0;34m(self, ctx, args, cancellation_manager)\u001b[0m\n\u001b[1;32m    495\u001b[0m \u001b[39mwith\u001b[39;00m _InterpolateFunctionError(\u001b[39mself\u001b[39m):\n\u001b[1;32m    496\u001b[0m   \u001b[39mif\u001b[39;00m cancellation_manager \u001b[39mis\u001b[39;00m \u001b[39mNone\u001b[39;00m:\n\u001b[0;32m--> 497\u001b[0m     outputs \u001b[39m=\u001b[39m execute\u001b[39m.\u001b[39;49mexecute(\n\u001b[1;32m    498\u001b[0m         \u001b[39mstr\u001b[39;49m(\u001b[39mself\u001b[39;49m\u001b[39m.\u001b[39;49msignature\u001b[39m.\u001b[39;49mname),\n\u001b[1;32m    499\u001b[0m         num_outputs\u001b[39m=\u001b[39;49m\u001b[39mself\u001b[39;49m\u001b[39m.\u001b[39;49m_num_outputs,\n\u001b[1;32m    500\u001b[0m         inputs\u001b[39m=\u001b[39;49margs,\n\u001b[1;32m    501\u001b[0m         attrs\u001b[39m=\u001b[39;49mattrs,\n\u001b[1;32m    502\u001b[0m         ctx\u001b[39m=\u001b[39;49mctx)\n\u001b[1;32m    503\u001b[0m   \u001b[39melse\u001b[39;00m:\n\u001b[1;32m    504\u001b[0m     outputs \u001b[39m=\u001b[39m execute\u001b[39m.\u001b[39mexecute_with_cancellation(\n\u001b[1;32m    505\u001b[0m         \u001b[39mstr\u001b[39m(\u001b[39mself\u001b[39m\u001b[39m.\u001b[39msignature\u001b[39m.\u001b[39mname),\n\u001b[1;32m    506\u001b[0m         num_outputs\u001b[39m=\u001b[39m\u001b[39mself\u001b[39m\u001b[39m.\u001b[39m_num_outputs,\n\u001b[0;32m   (...)\u001b[0m\n\u001b[1;32m    509\u001b[0m         ctx\u001b[39m=\u001b[39mctx,\n\u001b[1;32m    510\u001b[0m         cancellation_manager\u001b[39m=\u001b[39mcancellation_manager)\n",
      "File \u001b[0;32m~/miniconda3/envs/tf/lib/python3.9/site-packages/tensorflow/python/eager/execute.py:54\u001b[0m, in \u001b[0;36mquick_execute\u001b[0;34m(op_name, num_outputs, inputs, attrs, ctx, name)\u001b[0m\n\u001b[1;32m     52\u001b[0m \u001b[39mtry\u001b[39;00m:\n\u001b[1;32m     53\u001b[0m   ctx\u001b[39m.\u001b[39mensure_initialized()\n\u001b[0;32m---> 54\u001b[0m   tensors \u001b[39m=\u001b[39m pywrap_tfe\u001b[39m.\u001b[39;49mTFE_Py_Execute(ctx\u001b[39m.\u001b[39;49m_handle, device_name, op_name,\n\u001b[1;32m     55\u001b[0m                                       inputs, attrs, num_outputs)\n\u001b[1;32m     56\u001b[0m \u001b[39mexcept\u001b[39;00m core\u001b[39m.\u001b[39m_NotOkStatusException \u001b[39mas\u001b[39;00m e:\n\u001b[1;32m     57\u001b[0m   \u001b[39mif\u001b[39;00m name \u001b[39mis\u001b[39;00m \u001b[39mnot\u001b[39;00m \u001b[39mNone\u001b[39;00m:\n",
      "\u001b[0;31mKeyboardInterrupt\u001b[0m: "
     ]
    }
   ],
   "source": [
    "cv = StratifiedKFold(n_splits=cfg.N_SPLITS, random_state=cfg.RANDOM_STATE, shuffle=True)\n",
    "\n",
    "test_pool = get_keras_input(\n",
    "        data=test,\n",
    "        shuffle=False\n",
    "        )\n",
    "\n",
    "\n",
    "metrics = defaultdict(list)\n",
    "fold = 0\n",
    "for train_idx, val_idx in tqdm(cv.split(X_train, y_train_onecol), total=cfg.N_SPLITS):\n",
    "\n",
    "    train_pool = get_keras_input(\n",
    "        data=X_train.iloc[train_idx], \n",
    "        labels=y_train.iloc[train_idx],\n",
    "        shuffle=True\n",
    "        )\n",
    "\n",
    "    val_pool = get_keras_input(\n",
    "        data=X_train.iloc[val_idx], \n",
    "        labels=y_train.iloc[val_idx],\n",
    "        shuffle=False\n",
    "        )\n",
    "        \n",
    "    for random_seed in tqdm(range(N_RANDOM_SEEDS), total=N_RANDOM_SEEDS):\n",
    "\n",
    "        clf = build_classifier_model()\n",
    "        \n",
    "        early_stopping = tf.keras.callbacks.EarlyStopping(monitor='val_loss', patience=3, min_delta=1e-5, mode='auto', restore_best_weights=True)\n",
    "        clf.fit(x=train_pool, validation_data=val_pool, epochs=N_EPOCHS, callbacks=[early_stopping])\n",
    "        \n",
    "        model_name = f'{EXPERIMENT_NAME}_fold_{fold}_rs_{random_seed}'\n",
    "        model_path = os.path.join(cfg.MODELS_PATH, EXPERIMENT_FAMILY_NAME, EXPERIMENT_NAME)\n",
    "        check_path(model_path)\n",
    "        clf.save(os.path.join(model_path, model_name), include_optimizer=False)\n",
    "        \n",
    "        pred_proba_oof_val = tf.nn.softmax(clf.predict(val_pool)).numpy()\n",
    "        pred_proba_oof_train = tf.nn.softmax(clf.predict(train_pool)).numpy()\n",
    "\n",
    "        pred_proba_oof.iloc[val_idx, :] += pred_proba_oof_val\n",
    "        pred_proba_test.iloc[:, :] += tf.nn.softmax(clf.predict(test_pool)).numpy()\n",
    "\n",
    "        y_val_oof = y_train_onecol.iloc[val_idx]\n",
    "\n",
    "        val_auc = roc_auc_score(y_val_oof, pred_proba_oof_val , multi_class='ovo', labels=CLASSES)\n",
    "        metrics['val_auc'].append(val_auc)\n",
    "        print('val auc', val_auc)\n",
    "\n",
    "        leak_test_auc_score = roc_auc_score(leak_test.loc[leak_mask], pred_proba_test.loc[leak_mask] / (fold + 1), multi_class='ovo', labels=CLASSES)\n",
    "        metrics['leak_test_auc_score'].append(leak_test_auc_score)\n",
    "        print('leak_test_auc_score', leak_test_auc_score)\n",
    "        \n",
    "        del clf; gc.collect()\n",
    "    del train_pool,val_pool; gc.collect() \n",
    "        \n",
    "    fold += 1\n",
    "pred_proba_oof /= N_RANDOM_SEEDS\n",
    "pred_proba_test /= (cfg.N_SPLITS * N_RANDOM_SEEDS)"
   ]
  },
  {
   "cell_type": "code",
   "execution_count": null,
   "metadata": {},
   "outputs": [
    {
     "name": "stdout",
     "output_type": "stream",
     "text": [
      "oof_auc_score 0.8803577779703942\n"
     ]
    }
   ],
   "source": [
    "oof_auc_score = roc_auc_score(y_train, pred_proba_oof , multi_class='ovo', labels=CLASSES)\n",
    "print('oof_auc_score', oof_auc_score)"
   ]
  },
  {
   "cell_type": "code",
   "execution_count": null,
   "metadata": {},
   "outputs": [],
   "source": [
    "# 0.7620819837965503"
   ]
  },
  {
   "cell_type": "code",
   "execution_count": null,
   "metadata": {},
   "outputs": [
    {
     "name": "stdout",
     "output_type": "stream",
     "text": [
      "leak_test_auc_score 0.855811092897954\n"
     ]
    }
   ],
   "source": [
    "leak_test = pd.read_pickle(os.path.join(cfg.DATA_PATH, 'test_leak.pkl'))\n",
    "notnull = leak_test.notnull()\n",
    "leak_test_auc_score = roc_auc_score(leak_test.loc[notnull], pred_proba_test.loc[notnull], multi_class='ovo', labels=CLASSES)\n",
    "print('leak_test_auc_score', leak_test_auc_score)\n"
   ]
  },
  {
   "cell_type": "code",
   "execution_count": null,
   "metadata": {},
   "outputs": [],
   "source": [
    "# 0.8399045223216896"
   ]
  },
  {
   "cell_type": "code",
   "execution_count": null,
   "metadata": {},
   "outputs": [],
   "source": [
    "submission = pd.read_csv(cfg.SAMPLE_SUBMIT_PATH).set_index('id')\n",
    "assert submission.index.equals(pred_proba_test.index)\n",
    "submission[cfg.TARGET] = pred_proba_test.idxmax(1)\n",
    "\n",
    "submission_path = os.path.join(cfg.SUBMISSION_PATH, EXPERIMENT_FAMILY_NAME)\n",
    "check_path(submission_path)\n",
    "submission.to_csv(os.path.join(submission_path, f'{EXPERIMENT_NAME}.csv'))\n",
    "\n",
    "pred_proba_oof_path = os.path.join(cfg.OOF_PRED_PATH, EXPERIMENT_FAMILY_NAME)\n",
    "check_path(pred_proba_oof_path)\n",
    "pred_proba_oof.to_pickle(os.path.join(pred_proba_oof_path, f'{EXPERIMENT_NAME}.pkl'))\n",
    "\n",
    "pred_proba_test_path = os.path.join(cfg.TEST_PRED_PATH, EXPERIMENT_FAMILY_NAME)\n",
    "check_path(pred_proba_test_path)\n",
    "pred_proba_test.to_pickle(os.path.join(pred_proba_test_path, f'{EXPERIMENT_NAME}.pkl'))"
   ]
  }
 ],
 "metadata": {
  "kernelspec": {
   "display_name": "Python 3.9.12 ('tf')",
   "language": "python",
   "name": "python3"
  },
  "language_info": {
   "codemirror_mode": {
    "name": "ipython",
    "version": 3
   },
   "file_extension": ".py",
   "mimetype": "text/x-python",
   "name": "python",
   "nbconvert_exporter": "python",
   "pygments_lexer": "ipython3",
   "version": "3.9.12"
  },
  "orig_nbformat": 4,
  "vscode": {
   "interpreter": {
    "hash": "d5356ef1c2ac2ef25d35a0579f082f1d273c4bada2fe955fa1b70f42402fff98"
   }
  }
 },
 "nbformat": 4,
 "nbformat_minor": 2
}
