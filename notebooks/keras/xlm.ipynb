{
 "cells": [
  {
   "cell_type": "code",
   "execution_count": 1,
   "metadata": {},
   "outputs": [],
   "source": [
    "import sys\n",
    "sys.path.insert(0, \"../..\")\n",
    "import config as cfg\n",
    "import gc\n",
    "import os\n",
    "from tqdm.notebook import tqdm\n",
    "from helper import check_path, seed_everything\n",
    "from collections import defaultdict"
   ]
  },
  {
   "cell_type": "code",
   "execution_count": 2,
   "metadata": {},
   "outputs": [],
   "source": [
    "import os\n",
    "import shutil\n",
    "\n",
    "import tensorflow as tf\n",
    "import tensorflow_hub as hub\n",
    "import tensorflow_text as text\n",
    "from official.nlp import optimization  # to create AdamW optimizer\n",
    "\n",
    "import matplotlib.pyplot as plt\n",
    "\n",
    "tf.get_logger().setLevel('ERROR')"
   ]
  },
  {
   "cell_type": "code",
   "execution_count": 3,
   "metadata": {},
   "outputs": [],
   "source": [
    "import pandas as pd\n",
    "import numpy as np\n",
    "from sklearn.model_selection import StratifiedKFold\n",
    "from sklearn.metrics import roc_auc_score"
   ]
  },
  {
   "cell_type": "code",
   "execution_count": 4,
   "metadata": {},
   "outputs": [],
   "source": [
    "EXPERIMENT_FAMILY_NAME = 'keras'\n",
    "EXPERIMENT_NAME = 'xlm'\n",
    "N_RANDOM_SEEDS = 1\n",
    "N_EPOCHS = 100\n",
    "BATCH_SIZE = 64"
   ]
  },
  {
   "cell_type": "code",
   "execution_count": 5,
   "metadata": {},
   "outputs": [],
   "source": [
    "RANDOM_STATE = 77\n",
    "seed_everything(RANDOM_STATE)"
   ]
  },
  {
   "cell_type": "code",
   "execution_count": 6,
   "metadata": {},
   "outputs": [],
   "source": [
    "def filter_rare_categories(df: pd.DataFrame) -> pd.DataFrame:\n",
    "    rare_categories = [12]\n",
    "    return df.loc[~df[cfg.TARGET].isin(rare_categories)]"
   ]
  },
  {
   "cell_type": "code",
   "execution_count": 7,
   "metadata": {},
   "outputs": [],
   "source": [
    "\n",
    "train = pd.read_pickle(os.path.join(cfg.PREPROCESSED_DATA_PATH, 'train.pkl'))\n",
    "test = pd.read_pickle(os.path.join(cfg.PREPROCESSED_DATA_PATH, 'test.pkl'))\n",
    "\n",
    "train = train.rename(columns={cfg.TEXT_COL: 'text'})\n",
    "test = test.rename(columns={cfg.TEXT_COL: 'text'})\n",
    "\n",
    "CLASSES = np.sort(train[cfg.TARGET].unique()).tolist()\n",
    "\n",
    "# train = filter_rare_categories(train)"
   ]
  },
  {
   "cell_type": "code",
   "execution_count": 8,
   "metadata": {},
   "outputs": [],
   "source": [
    "# EMB_NAME = 'smaller_LaBSE_15lang'\n",
    "# train_emb = pd.read_pickle(os.path.join(cfg.DATA_PATH, EMB_NAME, 'train.pkl'))\n",
    "# test_emb = pd.read_pickle(os.path.join(cfg.DATA_PATH, EMB_NAME, 'test.pkl'))\n",
    "\n",
    "# train = train.join(train_emb)\n",
    "# test = test.join(test_emb)\n",
    "\n",
    "# del train_emb, test_emb; gc.collect()"
   ]
  },
  {
   "cell_type": "code",
   "execution_count": 9,
   "metadata": {},
   "outputs": [],
   "source": [
    "X_train, y_train = train.drop(cfg.TARGET, axis=1), train[cfg.TARGET]\n",
    "y_train_onecol = y_train.copy()\n",
    "\n",
    "# y_train = pd.get_dummies(y_train)\n",
    "\n",
    "N_OUT_CLASSES = len(CLASSES)\n",
    "# assert y_train.shape[1] == N_OUT_CLASSES"
   ]
  },
  {
   "cell_type": "code",
   "execution_count": 10,
   "metadata": {},
   "outputs": [],
   "source": [
    "theme_train = pd.read_csv(cfg.ORIG_TRAIN_PATH, index_col=cfg.ID_COL, usecols=[cfg.ID_COL, cfg.THEME_COL])\n",
    "theme_train = theme_train[cfg.THEME_COL].astype('category').cat.codes\n",
    "N_THEMES = theme_train.nunique()\n",
    "# theme_train = pd.get_dummies(theme_train)\n",
    "# theme_train.columns = [f'theme_{i}' for i in range(theme_train.shape[1])]\n"
   ]
  },
  {
   "cell_type": "code",
   "execution_count": 11,
   "metadata": {},
   "outputs": [],
   "source": [
    "pred_proba_oof = pd.DataFrame(data=np.zeros(shape=(len(train), len(CLASSES))), index=train.index, columns=CLASSES)\n",
    "pred_proba_test = pd.DataFrame(data=np.zeros(shape=(len(test), len(CLASSES))), index=test.index, columns=CLASSES)"
   ]
  },
  {
   "cell_type": "code",
   "execution_count": 12,
   "metadata": {},
   "outputs": [],
   "source": [
    "from typing import Optional\n",
    "\n",
    "\n",
    "def df_to_dataset(data: pd.DataFrame, labels: Optional[pd.DataFrame]=None, shuffle: bool=True, batch_size: int=32, labels2: Optional[pd.DataFrame]=None):\n",
    "  df = data.copy()\n",
    "  df = {key: value.values[:, tf.newaxis] for key, value in data.items()}\n",
    "  \n",
    "  if labels is None:\n",
    "    ds = tf.data.Dataset.from_tensor_slices((dict(df),))\n",
    "  else:\n",
    "    ds = tf.data.Dataset.from_tensor_slices((\n",
    "      dict(df), \n",
    "      {\n",
    "        'category_out': labels, \n",
    "        'theme_out': labels2\n",
    "        }\n",
    "        ))\n",
    "        \n",
    "  if shuffle:\n",
    "    ds = ds.shuffle(buffer_size=len(data))\n",
    "  ds = ds.batch(batch_size)\n",
    "  ds = ds.prefetch(batch_size)\n",
    "  return ds\n",
    "\n",
    "\n",
    "def get_keras_input(\n",
    "    data: pd.DataFrame,\n",
    "    labels: Optional[pd.DataFrame] = None,\n",
    "    labels2: Optional[pd.DataFrame] = None,\n",
    "    shuffle=False\n",
    "    ) -> tf.data.Dataset:\n",
    "    return df_to_dataset(\n",
    "        data=data,\n",
    "        labels=labels,\n",
    "        labels2=labels2,\n",
    "        shuffle=shuffle, \n",
    "        batch_size=BATCH_SIZE)\n",
    "        \n"
   ]
  },
  {
   "cell_type": "code",
   "execution_count": 13,
   "metadata": {},
   "outputs": [],
   "source": [
    "def build_classifier_model():\n",
    "    text_input = tf.keras.layers.Input(shape=(), dtype=tf.string, name='text')\n",
    "    preprocessing_layer = hub.KerasLayer(\"https://tfhub.dev/jeongukjae/xlm_roberta_multi_cased_preprocess/1\", name='preprocessing')\n",
    "    encoder_inputs = preprocessing_layer(text_input)\n",
    "    encoder = hub.KerasLayer(\"https://tfhub.dev/jeongukjae/xlm_roberta_multi_cased_L-12_H-768_A-12/1\", trainable=False, name='encoder')\n",
    "    outputs = encoder(encoder_inputs)\n",
    "\n",
    "    pooled_out = outputs['pooled_output']\n",
    "    seq_out = outputs['sequence_output']\n",
    "    rnn_out = tf.keras.layers.Bidirectional(tf.keras.layers.GRU(128, dropout=0.1, activation='relu'))(seq_out)\n",
    "\n",
    "    pooled_max = tf.keras.layers.GlobalMaxPool1D()(seq_out)\n",
    "    net = tf.keras.layers.Concatenate()([pooled_out, pooled_max, rnn_out])\n",
    "    \n",
    "    net = tf.keras.layers.Dropout(0.3)(net)\n",
    "    net = tf.keras.layers.Dense(512)(net)\n",
    "    net = tf.keras.layers.LeakyReLU()(net)\n",
    "    net = tf.keras.layers.Dropout(0.3)(net)\n",
    "    net = tf.keras.layers.Dense(256)(net)\n",
    "    net = tf.keras.layers.LeakyReLU()(net)\n",
    "    net = tf.keras.layers.Dropout(0.3)(net)\n",
    "    category_out = tf.keras.layers.Dense(N_OUT_CLASSES, activation=None, name='category_out')(net)\n",
    "    theme_out = tf.keras.layers.Dense(N_THEMES, activation=None, name='theme_out')(net)\n",
    "\n",
    "    outputs = {\n",
    "        'category_out': category_out, \n",
    "        'theme_out': theme_out\n",
    "        }\n",
    "    model = tf.keras.Model(\n",
    "        text_input, \n",
    "        outputs=outputs\n",
    "        )\n",
    "\n",
    "    loss = {\n",
    "        'category_out': tf.keras.losses.SparseCategoricalCrossentropy(from_logits=True, name='category_out'),\n",
    "        'theme_out': tf.keras.losses.SparseCategoricalCrossentropy(from_logits=True, name='theme_out')\n",
    "        }\n",
    "    # metrics = tf.keras.metrics.AUC(from_logits=True, name='auc')\n",
    "\n",
    "    epochs = N_EPOCHS\n",
    "    n = (len(train) // cfg.N_SPLITS) * (cfg.N_SPLITS-1)\n",
    "    steps_per_epoch = n // BATCH_SIZE\n",
    "    num_train_steps = steps_per_epoch * epochs\n",
    "    num_warmup_steps = int(0.1*num_train_steps)\n",
    "\n",
    "    init_lr = 3e-4\n",
    "    optimizer = optimization.create_optimizer(\n",
    "        init_lr=init_lr,\n",
    "        num_train_steps=num_train_steps,\n",
    "        num_warmup_steps=num_warmup_steps,\n",
    "        optimizer_type='adamw')\n",
    "\n",
    "    model.compile(\n",
    "        optimizer=optimizer,\n",
    "        loss=loss,\n",
    "        loss_weights={\"category_out\": 2.0, \"theme_out\": 0.35}\n",
    "        #  metrics=metrics\n",
    "        )\n",
    "    return model\n",
    "    "
   ]
  },
  {
   "cell_type": "code",
   "execution_count": 14,
   "metadata": {},
   "outputs": [],
   "source": [
    "leak_test = pd.read_pickle(os.path.join(cfg.DATA_PATH, 'test_leak.pkl'))\n",
    "leak_mask = leak_test.notnull()"
   ]
  },
  {
   "cell_type": "code",
   "execution_count": 15,
   "metadata": {},
   "outputs": [
    {
     "name": "stderr",
     "output_type": "stream",
     "text": [
      "2022-07-23 18:48:40.216233: I tensorflow/stream_executor/cuda/cuda_gpu_executor.cc:975] successful NUMA node read from SysFS had negative value (-1), but there must be at least one NUMA node, so returning NUMA node zero\n",
      "2022-07-23 18:48:40.339896: I tensorflow/stream_executor/cuda/cuda_gpu_executor.cc:975] successful NUMA node read from SysFS had negative value (-1), but there must be at least one NUMA node, so returning NUMA node zero\n",
      "2022-07-23 18:48:40.341467: I tensorflow/stream_executor/cuda/cuda_gpu_executor.cc:975] successful NUMA node read from SysFS had negative value (-1), but there must be at least one NUMA node, so returning NUMA node zero\n",
      "2022-07-23 18:48:40.345406: I tensorflow/core/platform/cpu_feature_guard.cc:193] This TensorFlow binary is optimized with oneAPI Deep Neural Network Library (oneDNN) to use the following CPU instructions in performance-critical operations:  AVX2 FMA\n",
      "To enable them in other operations, rebuild TensorFlow with the appropriate compiler flags.\n",
      "2022-07-23 18:48:40.345984: I tensorflow/stream_executor/cuda/cuda_gpu_executor.cc:975] successful NUMA node read from SysFS had negative value (-1), but there must be at least one NUMA node, so returning NUMA node zero\n",
      "2022-07-23 18:48:40.346461: I tensorflow/stream_executor/cuda/cuda_gpu_executor.cc:975] successful NUMA node read from SysFS had negative value (-1), but there must be at least one NUMA node, so returning NUMA node zero\n",
      "2022-07-23 18:48:40.346822: I tensorflow/stream_executor/cuda/cuda_gpu_executor.cc:975] successful NUMA node read from SysFS had negative value (-1), but there must be at least one NUMA node, so returning NUMA node zero\n",
      "2022-07-23 18:48:41.481563: I tensorflow/stream_executor/cuda/cuda_gpu_executor.cc:975] successful NUMA node read from SysFS had negative value (-1), but there must be at least one NUMA node, so returning NUMA node zero\n",
      "2022-07-23 18:48:41.482041: I tensorflow/stream_executor/cuda/cuda_gpu_executor.cc:975] successful NUMA node read from SysFS had negative value (-1), but there must be at least one NUMA node, so returning NUMA node zero\n",
      "2022-07-23 18:48:41.482564: I tensorflow/stream_executor/cuda/cuda_gpu_executor.cc:975] successful NUMA node read from SysFS had negative value (-1), but there must be at least one NUMA node, so returning NUMA node zero\n",
      "2022-07-23 18:48:41.482795: I tensorflow/core/common_runtime/gpu/gpu_device.cc:1532] Created device /job:localhost/replica:0/task:0/device:GPU:0 with 5379 MB memory:  -> device: 0, name: NVIDIA GeForce GTX 1060 with Max-Q Design, pci bus id: 0000:01:00.0, compute capability: 6.1\n"
     ]
    },
    {
     "data": {
      "application/vnd.jupyter.widget-view+json": {
       "model_id": "5591930930004e518553216537b296fc",
       "version_major": 2,
       "version_minor": 0
      },
      "text/plain": [
       "  0%|          | 0/5 [00:00<?, ?it/s]"
      ]
     },
     "metadata": {},
     "output_type": "display_data"
    },
    {
     "name": "stderr",
     "output_type": "stream",
     "text": [
      "/home/as/miniconda3/envs/tf/lib/python3.9/site-packages/sklearn/model_selection/_split.py:680: UserWarning: The least populated class in y has only 1 members, which is less than n_splits=5.\n",
      "  warnings.warn(\n"
     ]
    },
    {
     "data": {
      "application/vnd.jupyter.widget-view+json": {
       "model_id": "c61e2e4566994badb382be58abe07395",
       "version_major": 2,
       "version_minor": 0
      },
      "text/plain": [
       "  0%|          | 0/1 [00:00<?, ?it/s]"
      ]
     },
     "metadata": {},
     "output_type": "display_data"
    },
    {
     "name": "stderr",
     "output_type": "stream",
     "text": [
      "2022-07-23 18:50:14.134637: W tensorflow/core/framework/cpu_allocator_impl.cc:82] Allocation of 768006144 exceeds 10% of free system memory.\n"
     ]
    },
    {
     "name": "stdout",
     "output_type": "stream",
     "text": [
      "Epoch 1/100\n",
      "25/25 [==============================] - ETA: 0s - loss: 8.2201 - category_out_loss: 3.1512 - theme_out_loss: 5.4793"
     ]
    },
    {
     "name": "stderr",
     "output_type": "stream",
     "text": [
      "2022-07-23 18:51:47.652546: W tensorflow/core/framework/cpu_allocator_impl.cc:82] Allocation of 768006144 exceeds 10% of free system memory.\n",
      "2022-07-23 18:51:54.809183: W tensorflow/core/framework/cpu_allocator_impl.cc:82] Allocation of 768006144 exceeds 10% of free system memory.\n"
     ]
    },
    {
     "name": "stdout",
     "output_type": "stream",
     "text": [
      "25/25 [==============================] - 102s 3s/step - loss: 8.2201 - category_out_loss: 3.1512 - theme_out_loss: 5.4793 - val_loss: 5.7556 - val_category_out_loss: 1.9733 - val_theme_out_loss: 5.1683\n",
      "Epoch 2/100\n",
      "25/25 [==============================] - ETA: 0s - loss: 6.0784 - category_out_loss: 2.0937 - theme_out_loss: 5.4033"
     ]
    },
    {
     "name": "stderr",
     "output_type": "stream",
     "text": [
      "2022-07-23 18:53:08.445715: W tensorflow/core/framework/cpu_allocator_impl.cc:82] Allocation of 768006144 exceeds 10% of free system memory.\n"
     ]
    },
    {
     "name": "stdout",
     "output_type": "stream",
     "text": [
      "25/25 [==============================] - 66s 3s/step - loss: 6.0784 - category_out_loss: 2.0937 - theme_out_loss: 5.4033 - val_loss: 5.1448 - val_category_out_loss: 1.6869 - val_theme_out_loss: 5.0599\n",
      "Epoch 3/100\n",
      "25/25 [==============================] - ETA: 0s - loss: 5.4515 - category_out_loss: 1.8239 - theme_out_loss: 5.1535"
     ]
    },
    {
     "name": "stderr",
     "output_type": "stream",
     "text": [
      "2022-07-23 18:54:18.122156: W tensorflow/core/framework/cpu_allocator_impl.cc:82] Allocation of 768006144 exceeds 10% of free system memory.\n"
     ]
    },
    {
     "name": "stdout",
     "output_type": "stream",
     "text": [
      "25/25 [==============================] - 70s 3s/step - loss: 5.4515 - category_out_loss: 1.8239 - theme_out_loss: 5.1535 - val_loss: 4.9777 - val_category_out_loss: 1.6335 - val_theme_out_loss: 4.8879\n",
      "Epoch 4/100\n",
      "25/25 [==============================] - 64s 3s/step - loss: 5.2587 - category_out_loss: 1.7687 - theme_out_loss: 4.9182 - val_loss: 4.9107 - val_category_out_loss: 1.6256 - val_theme_out_loss: 4.7417\n",
      "Epoch 5/100\n",
      "25/25 [==============================] - 62s 2s/step - loss: 5.1205 - category_out_loss: 1.7301 - theme_out_loss: 4.7438 - val_loss: 4.9027 - val_category_out_loss: 1.6413 - val_theme_out_loss: 4.6286\n",
      "Epoch 6/100\n",
      "25/25 [==============================] - 65s 3s/step - loss: 5.0720 - category_out_loss: 1.7266 - theme_out_loss: 4.6247 - val_loss: 4.7902 - val_category_out_loss: 1.5987 - val_theme_out_loss: 4.5513\n",
      "Epoch 7/100\n",
      "25/25 [==============================] - 65s 3s/step - loss: 4.9580 - category_out_loss: 1.6866 - theme_out_loss: 4.5280 - val_loss: 4.7586 - val_category_out_loss: 1.5965 - val_theme_out_loss: 4.4732\n",
      "Epoch 8/100\n",
      "25/25 [==============================] - 63s 3s/step - loss: 4.8989 - category_out_loss: 1.6730 - theme_out_loss: 4.4366 - val_loss: 4.6554 - val_category_out_loss: 1.5583 - val_theme_out_loss: 4.3970\n",
      "Epoch 9/100\n",
      "25/25 [==============================] - 67s 3s/step - loss: 4.8769 - category_out_loss: 1.6658 - theme_out_loss: 4.4152 - val_loss: 4.6057 - val_category_out_loss: 1.5397 - val_theme_out_loss: 4.3611\n",
      "Epoch 10/100\n",
      "25/25 [==============================] - 65s 3s/step - loss: 4.7162 - category_out_loss: 1.5938 - theme_out_loss: 4.3675 - val_loss: 4.5906 - val_category_out_loss: 1.5288 - val_theme_out_loss: 4.3803\n",
      "Epoch 11/100\n",
      "25/25 [==============================] - 66s 3s/step - loss: 4.6327 - category_out_loss: 1.5603 - theme_out_loss: 4.3204 - val_loss: 4.4254 - val_category_out_loss: 1.4582 - val_theme_out_loss: 4.3113\n",
      "Epoch 12/100\n",
      "25/25 [==============================] - 70s 3s/step - loss: 4.4274 - category_out_loss: 1.4627 - theme_out_loss: 4.2913 - val_loss: 4.1601 - val_category_out_loss: 1.3298 - val_theme_out_loss: 4.2874\n",
      "Epoch 13/100\n",
      "25/25 [==============================] - 63s 3s/step - loss: 4.2138 - category_out_loss: 1.3673 - theme_out_loss: 4.2265 - val_loss: 4.0644 - val_category_out_loss: 1.2851 - val_theme_out_loss: 4.2690\n",
      "Epoch 14/100\n",
      "25/25 [==============================] - 49s 2s/step - loss: 4.0243 - category_out_loss: 1.2757 - theme_out_loss: 4.2086 - val_loss: 4.2884 - val_category_out_loss: 1.3967 - val_theme_out_loss: 4.2717\n",
      "Epoch 15/100\n",
      "25/25 [==============================] - 51s 2s/step - loss: 3.9563 - category_out_loss: 1.2442 - theme_out_loss: 4.1940 - val_loss: 3.8305 - val_category_out_loss: 1.1783 - val_theme_out_loss: 4.2110\n",
      "Epoch 16/100\n",
      "25/25 [==============================] - 53s 2s/step - loss: 3.8520 - category_out_loss: 1.1952 - theme_out_loss: 4.1762 - val_loss: 3.6854 - val_category_out_loss: 1.1134 - val_theme_out_loss: 4.1674\n",
      "Epoch 17/100\n",
      "25/25 [==============================] - 55s 2s/step - loss: 3.7788 - category_out_loss: 1.1636 - theme_out_loss: 4.1473 - val_loss: 3.6268 - val_category_out_loss: 1.0870 - val_theme_out_loss: 4.1507\n",
      "Epoch 18/100\n",
      "25/25 [==============================] - 52s 2s/step - loss: 3.6917 - category_out_loss: 1.1283 - theme_out_loss: 4.1001 - val_loss: 3.6080 - val_category_out_loss: 1.0810 - val_theme_out_loss: 4.1314\n",
      "Epoch 19/100\n",
      "25/25 [==============================] - 57s 2s/step - loss: 3.5505 - category_out_loss: 1.0693 - theme_out_loss: 4.0340 - val_loss: 3.5359 - val_category_out_loss: 1.0534 - val_theme_out_loss: 4.0834\n",
      "Epoch 20/100\n",
      "25/25 [==============================] - 65s 3s/step - loss: 3.3951 - category_out_loss: 0.9992 - theme_out_loss: 3.9904 - val_loss: 3.3550 - val_category_out_loss: 0.9714 - val_theme_out_loss: 4.0350\n",
      "Epoch 21/100\n",
      "25/25 [==============================] - 63s 3s/step - loss: 3.3079 - category_out_loss: 0.9588 - theme_out_loss: 3.9724 - val_loss: 3.3334 - val_category_out_loss: 0.9648 - val_theme_out_loss: 4.0113\n",
      "Epoch 22/100\n",
      "25/25 [==============================] - 63s 3s/step - loss: 3.2620 - category_out_loss: 0.9441 - theme_out_loss: 3.9255 - val_loss: 3.5046 - val_category_out_loss: 1.0562 - val_theme_out_loss: 3.9777\n",
      "Epoch 23/100\n",
      "25/25 [==============================] - 70s 3s/step - loss: 3.3213 - category_out_loss: 0.9844 - theme_out_loss: 3.8643 - val_loss: 3.2723 - val_category_out_loss: 0.9453 - val_theme_out_loss: 3.9479\n",
      "Epoch 24/100\n",
      "25/25 [==============================] - 63s 3s/step - loss: 3.1532 - category_out_loss: 0.9087 - theme_out_loss: 3.8165 - val_loss: 3.3194 - val_category_out_loss: 0.9744 - val_theme_out_loss: 3.9157\n",
      "Epoch 25/100\n",
      "25/25 [==============================] - 68s 3s/step - loss: 3.0491 - category_out_loss: 0.8588 - theme_out_loss: 3.8041 - val_loss: 3.1853 - val_category_out_loss: 0.9148 - val_theme_out_loss: 3.8733\n",
      "Epoch 26/100\n",
      "25/25 [==============================] - 55s 2s/step - loss: 3.0170 - category_out_loss: 0.8457 - theme_out_loss: 3.7875 - val_loss: 3.2694 - val_category_out_loss: 0.9551 - val_theme_out_loss: 3.8831\n",
      "Epoch 27/100\n",
      "25/25 [==============================] - 60s 2s/step - loss: 3.0300 - category_out_loss: 0.8582 - theme_out_loss: 3.7532 - val_loss: 3.1613 - val_category_out_loss: 0.9082 - val_theme_out_loss: 3.8426\n",
      "Epoch 28/100\n",
      "25/25 [==============================] - 54s 2s/step - loss: 2.9723 - category_out_loss: 0.8365 - theme_out_loss: 3.7123 - val_loss: 3.0761 - val_category_out_loss: 0.8737 - val_theme_out_loss: 3.7963\n",
      "Epoch 29/100\n",
      "25/25 [==============================] - 62s 2s/step - loss: 2.8970 - category_out_loss: 0.8049 - theme_out_loss: 3.6778 - val_loss: 3.1807 - val_category_out_loss: 0.9256 - val_theme_out_loss: 3.7985\n",
      "Epoch 30/100\n",
      "25/25 [==============================] - 63s 3s/step - loss: 2.8860 - category_out_loss: 0.8011 - theme_out_loss: 3.6678 - val_loss: 3.0445 - val_category_out_loss: 0.8702 - val_theme_out_loss: 3.7262\n",
      "Epoch 31/100\n",
      "25/25 [==============================] - 60s 2s/step - loss: 2.8410 - category_out_loss: 0.7857 - theme_out_loss: 3.6273 - val_loss: 3.1867 - val_category_out_loss: 0.9354 - val_theme_out_loss: 3.7596\n",
      "Epoch 32/100\n",
      "25/25 [==============================] - 62s 2s/step - loss: 2.8249 - category_out_loss: 0.7805 - theme_out_loss: 3.6109 - val_loss: 3.0570 - val_category_out_loss: 0.8781 - val_theme_out_loss: 3.7168\n",
      "Epoch 33/100\n",
      "25/25 [==============================] - 60s 2s/step - loss: 2.8515 - category_out_loss: 0.8008 - theme_out_loss: 3.5712 - val_loss: 3.2122 - val_category_out_loss: 0.9523 - val_theme_out_loss: 3.7358\n"
     ]
    },
    {
     "name": "stderr",
     "output_type": "stream",
     "text": [
      "WARNING:absl:Found untraced functions such as restored_function_body, restored_function_body, restored_function_body, restored_function_body, restored_function_body while saving (showing 5 of 360). These functions will not be directly callable after loading.\n"
     ]
    },
    {
     "name": "stdout",
     "output_type": "stream",
     "text": [
      "7/7 [==============================] - 9s 907ms/step\n",
      "25/25 [==============================] - 26s 1s/step\n",
      "16/16 [==============================] - 20s 1s/step\n",
      "val auc 0.7471415422350741\n",
      "leak_test_auc_score 0.7574462073452926\n"
     ]
    },
    {
     "data": {
      "application/vnd.jupyter.widget-view+json": {
       "model_id": "39785bde5b404ffcbf23f79f37dab454",
       "version_major": 2,
       "version_minor": 0
      },
      "text/plain": [
       "  0%|          | 0/1 [00:00<?, ?it/s]"
      ]
     },
     "metadata": {},
     "output_type": "display_data"
    },
    {
     "name": "stdout",
     "output_type": "stream",
     "text": [
      "Epoch 1/100\n",
      "25/25 [==============================] - 89s 3s/step - loss: 7.5501 - category_out_loss: 2.8203 - theme_out_loss: 5.4556 - val_loss: 5.7768 - val_category_out_loss: 1.9636 - val_theme_out_loss: 5.2843\n",
      "Epoch 2/100\n",
      "25/25 [==============================] - 56s 2s/step - loss: 5.9084 - category_out_loss: 2.0050 - theme_out_loss: 5.4236 - val_loss: 5.1185 - val_category_out_loss: 1.6645 - val_theme_out_loss: 5.1127\n",
      "Epoch 3/100\n",
      "25/25 [==============================] - 70s 3s/step - loss: 5.4704 - category_out_loss: 1.8276 - theme_out_loss: 5.1863 - val_loss: 4.9971 - val_category_out_loss: 1.6435 - val_theme_out_loss: 4.8860\n",
      "Epoch 4/100\n",
      "25/25 [==============================] - 59s 2s/step - loss: 5.2470 - category_out_loss: 1.7552 - theme_out_loss: 4.9619 - val_loss: 4.9115 - val_category_out_loss: 1.6338 - val_theme_out_loss: 4.6968\n",
      "Epoch 5/100\n",
      "25/25 [==============================] - 56s 2s/step - loss: 5.1879 - category_out_loss: 1.7590 - theme_out_loss: 4.7711 - val_loss: 4.9384 - val_category_out_loss: 1.6700 - val_theme_out_loss: 4.5667\n",
      "Epoch 6/100\n",
      "25/25 [==============================] - 65s 3s/step - loss: 5.1267 - category_out_loss: 1.7452 - theme_out_loss: 4.6753 - val_loss: 4.8101 - val_category_out_loss: 1.6157 - val_theme_out_loss: 4.5107\n",
      "Epoch 7/100\n",
      "25/25 [==============================] - 65s 3s/step - loss: 4.9830 - category_out_loss: 1.6963 - theme_out_loss: 4.5438 - val_loss: 4.7369 - val_category_out_loss: 1.5965 - val_theme_out_loss: 4.4111\n",
      "Epoch 8/100\n",
      "25/25 [==============================] - 60s 2s/step - loss: 4.9020 - category_out_loss: 1.6605 - theme_out_loss: 4.5171 - val_loss: 4.6417 - val_category_out_loss: 1.5655 - val_theme_out_loss: 4.3164\n",
      "Epoch 9/100\n",
      "25/25 [==============================] - 57s 2s/step - loss: 4.8443 - category_out_loss: 1.6453 - theme_out_loss: 4.4389 - val_loss: 4.6565 - val_category_out_loss: 1.5752 - val_theme_out_loss: 4.3034\n",
      "Epoch 10/100\n",
      "25/25 [==============================] - 64s 3s/step - loss: 4.7245 - category_out_loss: 1.5904 - theme_out_loss: 4.4104 - val_loss: 4.5085 - val_category_out_loss: 1.5124 - val_theme_out_loss: 4.2390\n",
      "Epoch 11/100\n",
      "25/25 [==============================] - 65s 3s/step - loss: 4.6349 - category_out_loss: 1.5518 - theme_out_loss: 4.3753 - val_loss: 4.4564 - val_category_out_loss: 1.4908 - val_theme_out_loss: 4.2137\n",
      "Epoch 12/100\n",
      "25/25 [==============================] - 56s 2s/step - loss: 4.4988 - category_out_loss: 1.4925 - theme_out_loss: 4.3251 - val_loss: 4.2678 - val_category_out_loss: 1.4021 - val_theme_out_loss: 4.1819\n",
      "Epoch 13/100\n",
      "25/25 [==============================] - 61s 2s/step - loss: 4.2364 - category_out_loss: 1.3675 - theme_out_loss: 4.2899 - val_loss: 3.9167 - val_category_out_loss: 1.2428 - val_theme_out_loss: 4.0887\n",
      "Epoch 14/100\n",
      "25/25 [==============================] - 60s 2s/step - loss: 3.9710 - category_out_loss: 1.2406 - theme_out_loss: 4.2565 - val_loss: 3.6812 - val_category_out_loss: 1.1291 - val_theme_out_loss: 4.0653\n",
      "Epoch 15/100\n",
      "25/25 [==============================] - 54s 2s/step - loss: 3.8446 - category_out_loss: 1.1889 - theme_out_loss: 4.1910 - val_loss: 3.9333 - val_category_out_loss: 1.2587 - val_theme_out_loss: 4.0452\n",
      "Epoch 16/100\n",
      "25/25 [==============================] - 65s 3s/step - loss: 3.6191 - category_out_loss: 1.0887 - theme_out_loss: 4.1189 - val_loss: 3.3747 - val_category_out_loss: 0.9962 - val_theme_out_loss: 3.9495\n",
      "Epoch 17/100\n",
      "25/25 [==============================] - 55s 2s/step - loss: 3.5246 - category_out_loss: 1.0466 - theme_out_loss: 4.0895 - val_loss: 3.2843 - val_category_out_loss: 0.9587 - val_theme_out_loss: 3.9055\n",
      "Epoch 18/100\n",
      "25/25 [==============================] - 61s 2s/step - loss: 3.4598 - category_out_loss: 1.0216 - theme_out_loss: 4.0472 - val_loss: 3.4644 - val_category_out_loss: 1.0491 - val_theme_out_loss: 3.9034\n",
      "Epoch 19/100\n",
      "25/25 [==============================] - 69s 3s/step - loss: 3.3713 - category_out_loss: 0.9860 - theme_out_loss: 3.9983 - val_loss: 3.2459 - val_category_out_loss: 0.9488 - val_theme_out_loss: 3.8520\n",
      "Epoch 20/100\n",
      "25/25 [==============================] - 57s 2s/step - loss: 3.2798 - category_out_loss: 0.9483 - theme_out_loss: 3.9520 - val_loss: 3.2598 - val_category_out_loss: 0.9647 - val_theme_out_loss: 3.8013\n",
      "Epoch 21/100\n",
      "25/25 [==============================] - 64s 3s/step - loss: 3.2191 - category_out_loss: 0.9289 - theme_out_loss: 3.8895 - val_loss: 3.1270 - val_category_out_loss: 0.9077 - val_theme_out_loss: 3.7477\n",
      "Epoch 22/100\n",
      "25/25 [==============================] - 63s 3s/step - loss: 3.1891 - category_out_loss: 0.9151 - theme_out_loss: 3.8825 - val_loss: 3.0291 - val_category_out_loss: 0.8581 - val_theme_out_loss: 3.7512\n",
      "Epoch 23/100\n",
      "25/25 [==============================] - 60s 2s/step - loss: 3.1065 - category_out_loss: 0.8842 - theme_out_loss: 3.8234 - val_loss: 3.0744 - val_category_out_loss: 0.8793 - val_theme_out_loss: 3.7591\n",
      "Epoch 24/100\n",
      "25/25 [==============================] - 62s 2s/step - loss: 3.0747 - category_out_loss: 0.8726 - theme_out_loss: 3.7988 - val_loss: 3.2010 - val_category_out_loss: 0.9511 - val_theme_out_loss: 3.7109\n",
      "Epoch 25/100\n",
      "25/25 [==============================] - 62s 3s/step - loss: 3.0645 - category_out_loss: 0.8717 - theme_out_loss: 3.7747 - val_loss: 2.9398 - val_category_out_loss: 0.8363 - val_theme_out_loss: 3.6207\n",
      "Epoch 26/100\n",
      "25/25 [==============================] - 59s 2s/step - loss: 3.0204 - category_out_loss: 0.8625 - theme_out_loss: 3.7013 - val_loss: 3.0927 - val_category_out_loss: 0.8999 - val_theme_out_loss: 3.6940\n",
      "Epoch 27/100\n",
      "25/25 [==============================] - 56s 2s/step - loss: 2.9416 - category_out_loss: 0.8226 - theme_out_loss: 3.7042 - val_loss: 3.0079 - val_category_out_loss: 0.8747 - val_theme_out_loss: 3.5960\n",
      "Epoch 28/100\n",
      "25/25 [==============================] - 59s 2s/step - loss: 2.9026 - category_out_loss: 0.8047 - theme_out_loss: 3.6947 - val_loss: 2.9697 - val_category_out_loss: 0.8594 - val_theme_out_loss: 3.5739\n"
     ]
    },
    {
     "name": "stderr",
     "output_type": "stream",
     "text": [
      "WARNING:absl:Found untraced functions such as restored_function_body, restored_function_body, restored_function_body, restored_function_body, restored_function_body while saving (showing 5 of 360). These functions will not be directly callable after loading.\n"
     ]
    },
    {
     "name": "stdout",
     "output_type": "stream",
     "text": [
      "7/7 [==============================] - 8s 834ms/step\n",
      "25/25 [==============================] - 26s 1s/step\n",
      "16/16 [==============================] - 29s 1s/step\n",
      "val auc 0.7866897448981012\n",
      "leak_test_auc_score 0.7643218839555295\n"
     ]
    },
    {
     "data": {
      "application/vnd.jupyter.widget-view+json": {
       "model_id": "a3fc30861a2748efbd2cf781a1e2e423",
       "version_major": 2,
       "version_minor": 0
      },
      "text/plain": [
       "  0%|          | 0/1 [00:00<?, ?it/s]"
      ]
     },
     "metadata": {},
     "output_type": "display_data"
    },
    {
     "name": "stdout",
     "output_type": "stream",
     "text": [
      "Epoch 1/100\n",
      "25/25 [==============================] - 96s 3s/step - loss: 7.9052 - category_out_loss: 3.0113 - theme_out_loss: 5.3792 - val_loss: 5.8442 - val_category_out_loss: 2.0233 - val_theme_out_loss: 5.1357\n",
      "Epoch 2/100\n",
      "25/25 [==============================] - 65s 3s/step - loss: 5.8133 - category_out_loss: 1.9763 - theme_out_loss: 5.3164 - val_loss: 5.1689 - val_category_out_loss: 1.7071 - val_theme_out_loss: 5.0132\n",
      "Epoch 3/100\n",
      "25/25 [==============================] - 78s 3s/step - loss: 5.4207 - category_out_loss: 1.8211 - theme_out_loss: 5.0815 - val_loss: 5.0013 - val_category_out_loss: 1.6569 - val_theme_out_loss: 4.8214\n",
      "Epoch 4/100\n",
      "25/25 [==============================] - 71s 3s/step - loss: 5.2422 - category_out_loss: 1.7639 - theme_out_loss: 4.8985 - val_loss: 4.8996 - val_category_out_loss: 1.6268 - val_theme_out_loss: 4.7029\n",
      "Epoch 5/100\n",
      "25/25 [==============================] - 53s 2s/step - loss: 5.0953 - category_out_loss: 1.7207 - theme_out_loss: 4.7254 - val_loss: 4.8869 - val_category_out_loss: 1.6415 - val_theme_out_loss: 4.5825\n",
      "Epoch 6/100\n",
      "25/25 [==============================] - 61s 2s/step - loss: 5.0566 - category_out_loss: 1.7186 - theme_out_loss: 4.6269 - val_loss: 4.8353 - val_category_out_loss: 1.6307 - val_theme_out_loss: 4.4967\n",
      "Epoch 7/100\n",
      "25/25 [==============================] - 73s 3s/step - loss: 4.9367 - category_out_loss: 1.6733 - theme_out_loss: 4.5434 - val_loss: 4.7321 - val_category_out_loss: 1.5919 - val_theme_out_loss: 4.4239\n",
      "Epoch 8/100\n",
      "25/25 [==============================] - 63s 3s/step - loss: 4.9488 - category_out_loss: 1.6898 - theme_out_loss: 4.4832 - val_loss: 4.8965 - val_category_out_loss: 1.6690 - val_theme_out_loss: 4.4526\n",
      "Epoch 9/100\n",
      "25/25 [==============================] - 67s 3s/step - loss: 4.8022 - category_out_loss: 1.6242 - theme_out_loss: 4.4394 - val_loss: 4.6239 - val_category_out_loss: 1.5559 - val_theme_out_loss: 4.3203\n",
      "Epoch 10/100\n",
      "25/25 [==============================] - 77s 3s/step - loss: 4.7850 - category_out_loss: 1.6247 - theme_out_loss: 4.3873 - val_loss: 4.6027 - val_category_out_loss: 1.5466 - val_theme_out_loss: 4.3126\n",
      "Epoch 11/100\n",
      "25/25 [==============================] - 61s 2s/step - loss: 4.6517 - category_out_loss: 1.5652 - theme_out_loss: 4.3466 - val_loss: 4.3953 - val_category_out_loss: 1.4458 - val_theme_out_loss: 4.2961\n",
      "Epoch 12/100\n",
      "25/25 [==============================] - 62s 2s/step - loss: 4.4953 - category_out_loss: 1.4926 - theme_out_loss: 4.3146 - val_loss: 4.0899 - val_category_out_loss: 1.3067 - val_theme_out_loss: 4.2183\n",
      "Epoch 13/100\n",
      "25/25 [==============================] - 61s 2s/step - loss: 4.2043 - category_out_loss: 1.3577 - theme_out_loss: 4.2539 - val_loss: 4.0583 - val_category_out_loss: 1.2952 - val_theme_out_loss: 4.1940\n",
      "Epoch 14/100\n",
      "25/25 [==============================] - 68s 3s/step - loss: 4.0334 - category_out_loss: 1.2733 - theme_out_loss: 4.2479 - val_loss: 3.6815 - val_category_out_loss: 1.1158 - val_theme_out_loss: 4.1426\n",
      "Epoch 15/100\n",
      "25/25 [==============================] - 59s 2s/step - loss: 3.8781 - category_out_loss: 1.2041 - theme_out_loss: 4.1995 - val_loss: 3.5903 - val_category_out_loss: 1.0746 - val_theme_out_loss: 4.1171\n",
      "Epoch 16/100\n",
      "25/25 [==============================] - 53s 2s/step - loss: 3.7281 - category_out_loss: 1.1390 - theme_out_loss: 4.1432 - val_loss: 3.8054 - val_category_out_loss: 1.1916 - val_theme_out_loss: 4.0637\n",
      "Epoch 17/100\n",
      "25/25 [==============================] - 62s 2s/step - loss: 3.6815 - category_out_loss: 1.1251 - theme_out_loss: 4.0893 - val_loss: 3.8491 - val_category_out_loss: 1.2158 - val_theme_out_loss: 4.0502\n",
      "Epoch 18/100\n",
      "25/25 [==============================] - 65s 3s/step - loss: 3.6693 - category_out_loss: 1.1173 - theme_out_loss: 4.0992 - val_loss: 3.4962 - val_category_out_loss: 1.0403 - val_theme_out_loss: 4.0446\n",
      "Epoch 19/100\n",
      "25/25 [==============================] - 58s 2s/step - loss: 3.5113 - category_out_loss: 1.0490 - theme_out_loss: 4.0377 - val_loss: 3.5684 - val_category_out_loss: 1.0818 - val_theme_out_loss: 4.0140\n",
      "Epoch 20/100\n",
      "25/25 [==============================] - 69s 3s/step - loss: 3.4184 - category_out_loss: 1.0039 - theme_out_loss: 4.0305 - val_loss: 3.3889 - val_category_out_loss: 1.0047 - val_theme_out_loss: 3.9416\n",
      "Epoch 21/100\n",
      "25/25 [==============================] - 65s 3s/step - loss: 3.3104 - category_out_loss: 0.9632 - theme_out_loss: 3.9541 - val_loss: 3.1906 - val_category_out_loss: 0.9175 - val_theme_out_loss: 3.8734\n",
      "Epoch 22/100\n",
      "25/25 [==============================] - 56s 2s/step - loss: 3.2809 - category_out_loss: 0.9511 - theme_out_loss: 3.9392 - val_loss: 3.1649 - val_category_out_loss: 0.9098 - val_theme_out_loss: 3.8441\n",
      "Epoch 23/100\n",
      "25/25 [==============================] - 62s 2s/step - loss: 3.1927 - category_out_loss: 0.9146 - theme_out_loss: 3.8961 - val_loss: 3.4037 - val_category_out_loss: 1.0304 - val_theme_out_loss: 3.8371\n",
      "Epoch 24/100\n",
      "25/25 [==============================] - 64s 3s/step - loss: 3.1610 - category_out_loss: 0.9084 - theme_out_loss: 3.8407 - val_loss: 3.1273 - val_category_out_loss: 0.9011 - val_theme_out_loss: 3.7859\n",
      "Epoch 25/100\n",
      "25/25 [==============================] - 59s 2s/step - loss: 3.1089 - category_out_loss: 0.8857 - theme_out_loss: 3.8213 - val_loss: 3.5256 - val_category_out_loss: 1.1022 - val_theme_out_loss: 3.7747\n",
      "Epoch 26/100\n",
      "25/25 [==============================] - 65s 3s/step - loss: 3.0342 - category_out_loss: 0.8537 - theme_out_loss: 3.7911 - val_loss: 3.0714 - val_category_out_loss: 0.8892 - val_theme_out_loss: 3.6941\n",
      "Epoch 27/100\n",
      "25/25 [==============================] - 55s 2s/step - loss: 2.9886 - category_out_loss: 0.8403 - theme_out_loss: 3.7368 - val_loss: 2.9934 - val_category_out_loss: 0.8530 - val_theme_out_loss: 3.6784\n",
      "Epoch 28/100\n",
      "25/25 [==============================] - 54s 2s/step - loss: 2.9803 - category_out_loss: 0.8416 - theme_out_loss: 3.7059 - val_loss: 3.0026 - val_category_out_loss: 0.8593 - val_theme_out_loss: 3.6686\n",
      "Epoch 29/100\n",
      "25/25 [==============================] - 57s 2s/step - loss: 2.9047 - category_out_loss: 0.8077 - theme_out_loss: 3.6838 - val_loss: 3.1623 - val_category_out_loss: 0.9333 - val_theme_out_loss: 3.7022\n",
      "Epoch 30/100\n",
      "25/25 [==============================] - 59s 2s/step - loss: 2.9203 - category_out_loss: 0.8167 - theme_out_loss: 3.6765 - val_loss: 3.0038 - val_category_out_loss: 0.8643 - val_theme_out_loss: 3.6434\n"
     ]
    },
    {
     "name": "stderr",
     "output_type": "stream",
     "text": [
      "WARNING:absl:Found untraced functions such as restored_function_body, restored_function_body, restored_function_body, restored_function_body, restored_function_body while saving (showing 5 of 360). These functions will not be directly callable after loading.\n"
     ]
    },
    {
     "name": "stdout",
     "output_type": "stream",
     "text": [
      "7/7 [==============================] - 8s 816ms/step\n",
      "25/25 [==============================] - 24s 963ms/step\n",
      "16/16 [==============================] - 20s 1s/step\n",
      "val auc 0.8231502265467202\n",
      "leak_test_auc_score 0.7720168921225025\n"
     ]
    },
    {
     "data": {
      "application/vnd.jupyter.widget-view+json": {
       "model_id": "467db93733ff4a19b1acb87f4ee0f4f9",
       "version_major": 2,
       "version_minor": 0
      },
      "text/plain": [
       "  0%|          | 0/1 [00:00<?, ?it/s]"
      ]
     },
     "metadata": {},
     "output_type": "display_data"
    },
    {
     "name": "stdout",
     "output_type": "stream",
     "text": [
      "Epoch 1/100\n",
      "25/25 [==============================] - 65s 2s/step - loss: 7.4593 - category_out_loss: 2.7788 - theme_out_loss: 5.4338 - val_loss: 5.5134 - val_category_out_loss: 1.8533 - val_theme_out_loss: 5.1622\n",
      "Epoch 2/100\n",
      "25/25 [==============================] - 58s 2s/step - loss: 5.8367 - category_out_loss: 1.9889 - theme_out_loss: 5.3113 - val_loss: 5.0670 - val_category_out_loss: 1.6536 - val_theme_out_loss: 5.0280\n",
      "Epoch 3/100\n",
      "25/25 [==============================] - 64s 3s/step - loss: 5.3639 - category_out_loss: 1.7945 - theme_out_loss: 5.0709 - val_loss: 4.9802 - val_category_out_loss: 1.6403 - val_theme_out_loss: 4.8560\n",
      "Epoch 4/100\n",
      "25/25 [==============================] - 58s 2s/step - loss: 5.2241 - category_out_loss: 1.7569 - theme_out_loss: 4.8864 - val_loss: 4.9296 - val_category_out_loss: 1.6358 - val_theme_out_loss: 4.7373\n",
      "Epoch 5/100\n",
      "25/25 [==============================] - 59s 2s/step - loss: 5.1490 - category_out_loss: 1.7454 - theme_out_loss: 4.7379 - val_loss: 4.8459 - val_category_out_loss: 1.6141 - val_theme_out_loss: 4.6221\n",
      "Epoch 6/100\n",
      "25/25 [==============================] - 57s 2s/step - loss: 5.0255 - category_out_loss: 1.7091 - theme_out_loss: 4.5924 - val_loss: 4.7857 - val_category_out_loss: 1.5957 - val_theme_out_loss: 4.5550\n",
      "Epoch 7/100\n",
      "25/25 [==============================] - 59s 2s/step - loss: 4.9174 - category_out_loss: 1.6684 - theme_out_loss: 4.5160 - val_loss: 4.7227 - val_category_out_loss: 1.5771 - val_theme_out_loss: 4.4816\n",
      "Epoch 8/100\n",
      "25/25 [==============================] - 55s 2s/step - loss: 4.8643 - category_out_loss: 1.6486 - theme_out_loss: 4.4777 - val_loss: 4.7166 - val_category_out_loss: 1.5832 - val_theme_out_loss: 4.4290\n",
      "Epoch 9/100\n",
      "25/25 [==============================] - 62s 2s/step - loss: 4.8070 - category_out_loss: 1.6331 - theme_out_loss: 4.4021 - val_loss: 4.6051 - val_category_out_loss: 1.5268 - val_theme_out_loss: 4.4330\n",
      "Epoch 10/100\n",
      "25/25 [==============================] - 63s 3s/step - loss: 4.7295 - category_out_loss: 1.5956 - theme_out_loss: 4.3953 - val_loss: 4.4579 - val_category_out_loss: 1.4634 - val_theme_out_loss: 4.3748\n",
      "Epoch 11/100\n",
      "25/25 [==============================] - 57s 2s/step - loss: 4.5407 - category_out_loss: 1.5170 - theme_out_loss: 4.3048 - val_loss: 4.8159 - val_category_out_loss: 1.6405 - val_theme_out_loss: 4.3854\n",
      "Epoch 12/100\n",
      "25/25 [==============================] - 54s 2s/step - loss: 4.3795 - category_out_loss: 1.4379 - theme_out_loss: 4.2963 - val_loss: 4.0809 - val_category_out_loss: 1.2934 - val_theme_out_loss: 4.2691\n",
      "Epoch 13/100\n",
      "25/25 [==============================] - 64s 3s/step - loss: 4.1247 - category_out_loss: 1.3222 - theme_out_loss: 4.2295 - val_loss: 4.0342 - val_category_out_loss: 1.2693 - val_theme_out_loss: 4.2728\n",
      "Epoch 14/100\n",
      "25/25 [==============================] - 68s 3s/step - loss: 4.0081 - category_out_loss: 1.2662 - theme_out_loss: 4.2162 - val_loss: 3.8665 - val_category_out_loss: 1.1964 - val_theme_out_loss: 4.2105\n",
      "Epoch 15/100\n",
      "25/25 [==============================] - 63s 3s/step - loss: 3.9061 - category_out_loss: 1.2213 - theme_out_loss: 4.1815 - val_loss: 3.8792 - val_category_out_loss: 1.2071 - val_theme_out_loss: 4.1854\n",
      "Epoch 16/100\n",
      "25/25 [==============================] - 51s 2s/step - loss: 3.7903 - category_out_loss: 1.1701 - theme_out_loss: 4.1434 - val_loss: 3.6750 - val_category_out_loss: 1.1137 - val_theme_out_loss: 4.1360\n",
      "Epoch 17/100\n",
      "25/25 [==============================] - 38s 2s/step - loss: 3.6644 - category_out_loss: 1.1159 - theme_out_loss: 4.0932 - val_loss: 3.6122 - val_category_out_loss: 1.0903 - val_theme_out_loss: 4.0905\n",
      "Epoch 18/100\n",
      "25/25 [==============================] - 52s 2s/step - loss: 3.6410 - category_out_loss: 1.1067 - theme_out_loss: 4.0788 - val_loss: 3.6669 - val_category_out_loss: 1.1178 - val_theme_out_loss: 4.0895\n",
      "Epoch 19/100\n",
      "25/25 [==============================] - 61s 2s/step - loss: 3.4695 - category_out_loss: 1.0320 - theme_out_loss: 4.0159 - val_loss: 3.5203 - val_category_out_loss: 1.0573 - val_theme_out_loss: 4.0161\n",
      "Epoch 20/100\n",
      "25/25 [==============================] - 55s 2s/step - loss: 3.3280 - category_out_loss: 0.9684 - theme_out_loss: 3.9746 - val_loss: 3.4508 - val_category_out_loss: 1.0275 - val_theme_out_loss: 3.9881\n",
      "Epoch 21/100\n",
      "25/25 [==============================] - 55s 2s/step - loss: 3.2756 - category_out_loss: 0.9499 - theme_out_loss: 3.9311 - val_loss: 3.3429 - val_category_out_loss: 0.9782 - val_theme_out_loss: 3.9618\n",
      "Epoch 22/100\n",
      "25/25 [==============================] - 63s 3s/step - loss: 3.1881 - category_out_loss: 0.9157 - theme_out_loss: 3.8762 - val_loss: 3.2932 - val_category_out_loss: 0.9611 - val_theme_out_loss: 3.9173\n",
      "Epoch 23/100\n",
      "25/25 [==============================] - 62s 3s/step - loss: 3.1264 - category_out_loss: 0.8968 - theme_out_loss: 3.8082 - val_loss: 3.3138 - val_category_out_loss: 0.9766 - val_theme_out_loss: 3.8872\n",
      "Epoch 24/100\n",
      "25/25 [==============================] - 57s 2s/step - loss: 3.0946 - category_out_loss: 0.8812 - theme_out_loss: 3.8061 - val_loss: 3.4552 - val_category_out_loss: 1.0544 - val_theme_out_loss: 3.8472\n",
      "Epoch 25/100\n",
      "25/25 [==============================] - 62s 3s/step - loss: 3.0330 - category_out_loss: 0.8614 - theme_out_loss: 3.7435 - val_loss: 3.2683 - val_category_out_loss: 0.9673 - val_theme_out_loss: 3.8105\n"
     ]
    },
    {
     "name": "stderr",
     "output_type": "stream",
     "text": [
      "WARNING:absl:Found untraced functions such as restored_function_body, restored_function_body, restored_function_body, restored_function_body, restored_function_body while saving (showing 5 of 360). These functions will not be directly callable after loading.\n"
     ]
    },
    {
     "name": "stdout",
     "output_type": "stream",
     "text": [
      "7/7 [==============================] - 11s 981ms/step\n",
      "25/25 [==============================] - 27s 1s/step\n",
      "16/16 [==============================] - 22s 1s/step\n",
      "val auc 0.7982280491810535\n",
      "leak_test_auc_score 0.7722214545739885\n"
     ]
    },
    {
     "data": {
      "application/vnd.jupyter.widget-view+json": {
       "model_id": "11e3665e07d84ec1b8c5a0b1c9ecf505",
       "version_major": 2,
       "version_minor": 0
      },
      "text/plain": [
       "  0%|          | 0/1 [00:00<?, ?it/s]"
      ]
     },
     "metadata": {},
     "output_type": "display_data"
    },
    {
     "name": "stdout",
     "output_type": "stream",
     "text": [
      "Epoch 1/100\n",
      "25/25 [==============================] - 103s 3s/step - loss: 7.9282 - category_out_loss: 3.0109 - theme_out_loss: 5.4469 - val_loss: 5.8869 - val_category_out_loss: 2.0368 - val_theme_out_loss: 5.1810\n",
      "Epoch 2/100\n",
      "25/25 [==============================] - 65s 3s/step - loss: 6.0016 - category_out_loss: 2.0555 - theme_out_loss: 5.4017 - val_loss: 5.1025 - val_category_out_loss: 1.6652 - val_theme_out_loss: 5.0632\n",
      "Epoch 3/100\n",
      "25/25 [==============================] - 74s 3s/step - loss: 5.3940 - category_out_loss: 1.7918 - theme_out_loss: 5.1727 - val_loss: 5.0148 - val_category_out_loss: 1.6508 - val_theme_out_loss: 4.8946\n",
      "Epoch 4/100\n",
      "25/25 [==============================] - 82s 3s/step - loss: 5.2604 - category_out_loss: 1.7652 - theme_out_loss: 4.9431 - val_loss: 4.9075 - val_category_out_loss: 1.6252 - val_theme_out_loss: 4.7346\n",
      "Epoch 5/100\n",
      "25/25 [==============================] - 66s 3s/step - loss: 5.1122 - category_out_loss: 1.7142 - theme_out_loss: 4.8107 - val_loss: 4.8825 - val_category_out_loss: 1.6334 - val_theme_out_loss: 4.6164\n",
      "Epoch 6/100\n",
      "25/25 [==============================] - 90s 4s/step - loss: 5.0414 - category_out_loss: 1.7113 - theme_out_loss: 4.6251 - val_loss: 4.7783 - val_category_out_loss: 1.6016 - val_theme_out_loss: 4.5003\n",
      "Epoch 7/100\n",
      "25/25 [==============================] - 82s 3s/step - loss: 4.9021 - category_out_loss: 1.6591 - theme_out_loss: 4.5253 - val_loss: 4.7698 - val_category_out_loss: 1.6121 - val_theme_out_loss: 4.4162\n",
      "Epoch 8/100\n",
      "25/25 [==============================] - 76s 3s/step - loss: 4.9383 - category_out_loss: 1.6844 - theme_out_loss: 4.4844 - val_loss: 4.6553 - val_category_out_loss: 1.5608 - val_theme_out_loss: 4.3819\n",
      "Epoch 9/100\n",
      "25/25 [==============================] - 81s 3s/step - loss: 4.8373 - category_out_loss: 1.6430 - theme_out_loss: 4.4320 - val_loss: 4.6670 - val_category_out_loss: 1.5704 - val_theme_out_loss: 4.3604\n",
      "Epoch 10/100\n",
      "25/25 [==============================] - 104s 4s/step - loss: 4.7399 - category_out_loss: 1.6033 - theme_out_loss: 4.3806 - val_loss: 4.5025 - val_category_out_loss: 1.5023 - val_theme_out_loss: 4.2795\n",
      "Epoch 11/100\n",
      "25/25 [==============================] - 80s 3s/step - loss: 4.5783 - category_out_loss: 1.5241 - theme_out_loss: 4.3715 - val_loss: 4.2977 - val_category_out_loss: 1.3997 - val_theme_out_loss: 4.2810\n",
      "Epoch 12/100\n",
      "25/25 [==============================] - 88s 4s/step - loss: 4.2815 - category_out_loss: 1.3820 - theme_out_loss: 4.3357 - val_loss: 4.0490 - val_category_out_loss: 1.2847 - val_theme_out_loss: 4.2275\n",
      "Epoch 13/100\n",
      "25/25 [==============================] - 83s 3s/step - loss: 4.0897 - category_out_loss: 1.2916 - theme_out_loss: 4.3039 - val_loss: 3.9491 - val_category_out_loss: 1.2314 - val_theme_out_loss: 4.2467\n",
      "Epoch 14/100\n",
      "25/25 [==============================] - 63s 3s/step - loss: 3.9292 - category_out_loss: 1.2209 - theme_out_loss: 4.2498 - val_loss: 3.8229 - val_category_out_loss: 1.1788 - val_theme_out_loss: 4.1867\n",
      "Epoch 15/100\n",
      "25/25 [==============================] - 38s 2s/step - loss: 3.8390 - category_out_loss: 1.1848 - theme_out_loss: 4.1981 - val_loss: 3.7268 - val_category_out_loss: 1.1347 - val_theme_out_loss: 4.1638\n",
      "Epoch 16/100\n",
      "25/25 [==============================] - 48s 2s/step - loss: 3.6312 - category_out_loss: 1.0846 - theme_out_loss: 4.1772 - val_loss: 3.5087 - val_category_out_loss: 1.0378 - val_theme_out_loss: 4.0946\n",
      "Epoch 17/100\n",
      "25/25 [==============================] - 51s 2s/step - loss: 3.4363 - category_out_loss: 1.0023 - theme_out_loss: 4.0907 - val_loss: 3.4362 - val_category_out_loss: 1.0120 - val_theme_out_loss: 4.0350\n",
      "Epoch 18/100\n",
      "25/25 [==============================] - 50s 2s/step - loss: 3.4299 - category_out_loss: 1.0055 - theme_out_loss: 4.0539 - val_loss: 3.2944 - val_category_out_loss: 0.9538 - val_theme_out_loss: 3.9624\n",
      "Epoch 19/100\n",
      "25/25 [==============================] - 46s 2s/step - loss: 3.2854 - category_out_loss: 0.9477 - theme_out_loss: 3.9715 - val_loss: 3.3618 - val_category_out_loss: 0.9992 - val_theme_out_loss: 3.8955\n",
      "Epoch 20/100\n",
      "25/25 [==============================] - 41s 2s/step - loss: 3.2338 - category_out_loss: 0.9333 - theme_out_loss: 3.9064 - val_loss: 3.3174 - val_category_out_loss: 0.9829 - val_theme_out_loss: 3.8615\n",
      "Epoch 21/100\n",
      "25/25 [==============================] - 49s 2s/step - loss: 3.1322 - category_out_loss: 0.8890 - theme_out_loss: 3.8691 - val_loss: 3.5191 - val_category_out_loss: 1.0871 - val_theme_out_loss: 3.8424\n"
     ]
    },
    {
     "name": "stderr",
     "output_type": "stream",
     "text": [
      "WARNING:absl:Found untraced functions such as restored_function_body, restored_function_body, restored_function_body, restored_function_body, restored_function_body while saving (showing 5 of 360). These functions will not be directly callable after loading.\n"
     ]
    },
    {
     "name": "stdout",
     "output_type": "stream",
     "text": [
      "7/7 [==============================] - 9s 806ms/step\n",
      "25/25 [==============================] - 23s 921ms/step\n",
      "16/16 [==============================] - 18s 1s/step\n",
      "val auc 0.7711380823711063\n",
      "leak_test_auc_score 0.7648608340049976\n"
     ]
    }
   ],
   "source": [
    "cv = StratifiedKFold(n_splits=cfg.N_SPLITS, random_state=cfg.RANDOM_STATE, shuffle=True)\n",
    "\n",
    "test_pool = get_keras_input(\n",
    "        data=test,\n",
    "        shuffle=False\n",
    "        )\n",
    "\n",
    "\n",
    "metrics = defaultdict(list)\n",
    "fold = 0\n",
    "for train_idx, val_idx in tqdm(cv.split(X_train, y_train_onecol), total=cfg.N_SPLITS):\n",
    "\n",
    "    train_pool = get_keras_input(\n",
    "        data=X_train.iloc[train_idx], \n",
    "        labels=y_train.iloc[train_idx],\n",
    "        labels2=theme_train.iloc[train_idx],\n",
    "        shuffle=True\n",
    "        )\n",
    "\n",
    "    val_pool = get_keras_input(\n",
    "        data=X_train.iloc[val_idx], \n",
    "        labels=y_train.iloc[val_idx],\n",
    "        labels2=theme_train.iloc[val_idx],\n",
    "        shuffle=False\n",
    "        )\n",
    "        \n",
    "    for random_seed in tqdm(range(N_RANDOM_SEEDS), total=N_RANDOM_SEEDS):\n",
    "\n",
    "        clf = build_classifier_model()\n",
    "        \n",
    "        early_stopping = tf.keras.callbacks.EarlyStopping(monitor='val_category_out_loss', patience=3, min_delta=1e-5, mode='auto', restore_best_weights=True)\n",
    "        clf.fit(x=train_pool, validation_data=val_pool, epochs=N_EPOCHS, callbacks=[early_stopping])\n",
    "        \n",
    "        model_name = f'{EXPERIMENT_NAME}_fold_{fold}_rs_{random_seed}'\n",
    "        model_path = os.path.join(cfg.MODELS_PATH, EXPERIMENT_FAMILY_NAME, EXPERIMENT_NAME)\n",
    "        check_path(model_path)\n",
    "        clf.save(os.path.join(model_path, model_name), include_optimizer=False)\n",
    "        \n",
    "        pred_proba_oof_val = tf.nn.softmax(clf.predict(val_pool)['category_out']).numpy()\n",
    "        pred_proba_oof_train = tf.nn.softmax(clf.predict(train_pool)['category_out']).numpy()\n",
    "        pred_proba_oof.iloc[val_idx, :] += pred_proba_oof_val\n",
    "        pred_proba_test.iloc[:, :] += tf.nn.softmax(clf.predict(test_pool)['category_out']).numpy()\n",
    "\n",
    "        y_val_oof = y_train_onecol.iloc[val_idx]\n",
    "\n",
    "        val_auc = roc_auc_score(y_val_oof, pred_proba_oof_val , multi_class='ovo', labels=CLASSES)\n",
    "        metrics['val_auc'].append(val_auc)\n",
    "        print('val auc', val_auc)\n",
    "\n",
    "        leak_test_auc_score = roc_auc_score(leak_test.loc[leak_mask], pred_proba_test.loc[leak_mask] / (fold + 1), multi_class='ovo', labels=CLASSES)\n",
    "        metrics['leak_test_auc_score'].append(leak_test_auc_score)\n",
    "        print('leak_test_auc_score', leak_test_auc_score)\n",
    "        \n",
    "        del clf; gc.collect()\n",
    "    del train_pool,val_pool; gc.collect() \n",
    "        \n",
    "    fold += 1\n",
    "pred_proba_oof /= N_RANDOM_SEEDS\n",
    "pred_proba_test /= (cfg.N_SPLITS * N_RANDOM_SEEDS)"
   ]
  },
  {
   "cell_type": "code",
   "execution_count": 16,
   "metadata": {},
   "outputs": [
    {
     "name": "stdout",
     "output_type": "stream",
     "text": [
      "oof_auc_score 0.7625193797313398\n",
      "scores [0.7471415422350741, 0.7866897448981012, 0.8231502265467202, 0.7982280491810535, 0.7711380823711063]\n",
      "mean 0.785269529046411 std 0.0255277443722618\n"
     ]
    }
   ],
   "source": [
    "oof_auc_score = roc_auc_score(y_train, pred_proba_oof , multi_class='ovo', labels=CLASSES)\n",
    "print('oof_auc_score', oof_auc_score)\n",
    "print('scores', metrics['val_auc'])\n",
    "print('mean', np.mean(metrics['val_auc']), 'std', np.std(metrics['val_auc']))"
   ]
  },
  {
   "cell_type": "code",
   "execution_count": 17,
   "metadata": {},
   "outputs": [],
   "source": [
    "# 0.8117437772540339"
   ]
  },
  {
   "cell_type": "code",
   "execution_count": 18,
   "metadata": {},
   "outputs": [
    {
     "name": "stdout",
     "output_type": "stream",
     "text": [
      "leak_test_auc_score 0.7648608340049976\n"
     ]
    }
   ],
   "source": [
    "leak_test = pd.read_pickle(os.path.join(cfg.DATA_PATH, 'test_leak.pkl'))\n",
    "notnull = leak_test.notnull()\n",
    "leak_test_auc_score = roc_auc_score(leak_test.loc[notnull], pred_proba_test.loc[notnull], multi_class='ovo', labels=CLASSES)\n",
    "print('leak_test_auc_score', leak_test_auc_score)\n"
   ]
  },
  {
   "cell_type": "code",
   "execution_count": 19,
   "metadata": {},
   "outputs": [],
   "source": [
    "# 0.8627341970044778"
   ]
  },
  {
   "cell_type": "code",
   "execution_count": 20,
   "metadata": {},
   "outputs": [],
   "source": [
    "submission = pd.read_csv(cfg.SAMPLE_SUBMIT_PATH).set_index('id')\n",
    "assert submission.index.equals(pred_proba_test.index)\n",
    "submission[cfg.TARGET] = pred_proba_test.idxmax(1)\n",
    "\n",
    "submission_path = os.path.join(cfg.SUBMISSION_PATH, EXPERIMENT_FAMILY_NAME)\n",
    "check_path(submission_path)\n",
    "submission.to_csv(os.path.join(submission_path, f'{EXPERIMENT_NAME}.csv'))\n",
    "\n",
    "pred_proba_oof_path = os.path.join(cfg.OOF_PRED_PATH, EXPERIMENT_FAMILY_NAME)\n",
    "check_path(pred_proba_oof_path)\n",
    "pred_proba_oof.to_pickle(os.path.join(pred_proba_oof_path, f'{EXPERIMENT_NAME}.pkl'))\n",
    "\n",
    "pred_proba_test_path = os.path.join(cfg.TEST_PRED_PATH, EXPERIMENT_FAMILY_NAME)\n",
    "check_path(pred_proba_test_path)\n",
    "pred_proba_test.to_pickle(os.path.join(pred_proba_test_path, f'{EXPERIMENT_NAME}.pkl'))"
   ]
  }
 ],
 "metadata": {
  "kernelspec": {
   "display_name": "Python 3.9.12 ('tf')",
   "language": "python",
   "name": "python3"
  },
  "language_info": {
   "codemirror_mode": {
    "name": "ipython",
    "version": 3
   },
   "file_extension": ".py",
   "mimetype": "text/x-python",
   "name": "python",
   "nbconvert_exporter": "python",
   "pygments_lexer": "ipython3",
   "version": "3.9.12"
  },
  "orig_nbformat": 4,
  "vscode": {
   "interpreter": {
    "hash": "d5356ef1c2ac2ef25d35a0579f082f1d273c4bada2fe955fa1b70f42402fff98"
   }
  }
 },
 "nbformat": 4,
 "nbformat_minor": 2
}
