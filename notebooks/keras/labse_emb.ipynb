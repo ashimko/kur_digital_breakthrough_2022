{
 "cells": [
  {
   "cell_type": "code",
   "execution_count": 27,
   "metadata": {},
   "outputs": [],
   "source": [
    "import sys\n",
    "sys.path.insert(0, \"../..\")\n",
    "import config as cfg\n",
    "import gc\n",
    "import os\n",
    "from tqdm.notebook import tqdm\n",
    "from helper import check_path, seed_everything\n",
    "from collections import defaultdict"
   ]
  },
  {
   "cell_type": "code",
   "execution_count": 28,
   "metadata": {},
   "outputs": [],
   "source": [
    "import os\n",
    "import shutil\n",
    "\n",
    "import tensorflow as tf\n",
    "import tensorflow_hub as hub\n",
    "import tensorflow_text as text\n",
    "from official.nlp import optimization  # to create AdamW optimizer\n",
    "\n",
    "import matplotlib.pyplot as plt\n",
    "\n",
    "tf.get_logger().setLevel('ERROR')"
   ]
  },
  {
   "cell_type": "code",
   "execution_count": 29,
   "metadata": {},
   "outputs": [],
   "source": [
    "import pandas as pd\n",
    "import numpy as np\n",
    "from sklearn.model_selection import StratifiedKFold\n",
    "from sklearn.metrics import roc_auc_score"
   ]
  },
  {
   "cell_type": "code",
   "execution_count": 30,
   "metadata": {},
   "outputs": [],
   "source": [
    "EXPERIMENT_FAMILY_NAME = 'keras'\n",
    "EXPERIMENT_NAME = 'labse_emb'\n",
    "N_RANDOM_SEEDS = 1\n",
    "N_EPOCHS = 100\n",
    "BATCH_SIZE = 64\n",
    "N_SPLITS = 10"
   ]
  },
  {
   "cell_type": "code",
   "execution_count": 31,
   "metadata": {},
   "outputs": [],
   "source": [
    "RANDOM_STATE = 77\n",
    "seed_everything(RANDOM_STATE)"
   ]
  },
  {
   "cell_type": "code",
   "execution_count": 32,
   "metadata": {},
   "outputs": [],
   "source": [
    "def filter_rare_categories(df: pd.DataFrame) -> pd.DataFrame:\n",
    "    rare_categories = [12]\n",
    "    return df.loc[~df[cfg.TARGET].isin(rare_categories)]"
   ]
  },
  {
   "cell_type": "code",
   "execution_count": 33,
   "metadata": {},
   "outputs": [],
   "source": [
    "\n",
    "train = pd.read_pickle(os.path.join(cfg.PREPROCESSED_DATA_PATH, 'train.pkl'))\n",
    "test = pd.read_pickle(os.path.join(cfg.PREPROCESSED_DATA_PATH, 'test.pkl'))\n",
    "\n",
    "train = train.rename(columns={cfg.TEXT_COL: 'text'})\n",
    "test = test.rename(columns={cfg.TEXT_COL: 'text'})\n",
    "\n",
    "CLASSES = np.sort(train[cfg.TARGET].unique()).tolist()\n",
    "\n",
    "# train = filter_rare_categories(train)"
   ]
  },
  {
   "cell_type": "code",
   "execution_count": 34,
   "metadata": {},
   "outputs": [],
   "source": [
    "# EMB_NAME = 'smaller_LaBSE_15lang'\n",
    "# train_emb = pd.read_pickle(os.path.join(cfg.DATA_PATH, EMB_NAME, 'train.pkl'))\n",
    "# test_emb = pd.read_pickle(os.path.join(cfg.DATA_PATH, EMB_NAME, 'test.pkl'))\n",
    "\n",
    "# train = train.join(train_emb)\n",
    "# test = test.join(test_emb)\n",
    "\n",
    "# del train_emb, test_emb; gc.collect()"
   ]
  },
  {
   "cell_type": "code",
   "execution_count": 35,
   "metadata": {},
   "outputs": [],
   "source": [
    "X_train, y_train = train.drop(cfg.TARGET, axis=1), train[cfg.TARGET]\n",
    "y_train_onecol = y_train.copy()\n",
    "\n",
    "# y_train = pd.get_dummies(y_train)\n",
    "\n",
    "N_OUT_CLASSES = len(CLASSES)\n",
    "# assert y_train.shape[1] == N_OUT_CLASSES"
   ]
  },
  {
   "cell_type": "code",
   "execution_count": 36,
   "metadata": {},
   "outputs": [],
   "source": [
    "theme_train = pd.read_csv(cfg.ORIG_TRAIN_PATH, index_col=cfg.ID_COL, usecols=[cfg.ID_COL, cfg.THEME_COL])\n",
    "theme_train = theme_train[cfg.THEME_COL].astype('category').cat.codes\n",
    "N_THEMES = theme_train.nunique()\n",
    "# theme_train = pd.get_dummies(theme_train)\n",
    "# theme_train.columns = [f'theme_{i}' for i in range(theme_train.shape[1])]\n"
   ]
  },
  {
   "cell_type": "code",
   "execution_count": 37,
   "metadata": {},
   "outputs": [],
   "source": [
    "pred_proba_oof = pd.DataFrame(data=np.zeros(shape=(len(train), len(CLASSES))), index=train.index, columns=CLASSES)\n",
    "pred_proba_test = pd.DataFrame(data=np.zeros(shape=(len(test), len(CLASSES))), index=test.index, columns=CLASSES)"
   ]
  },
  {
   "cell_type": "code",
   "execution_count": 38,
   "metadata": {},
   "outputs": [],
   "source": [
    "from typing import Optional\n",
    "\n",
    "\n",
    "def df_to_dataset(data: pd.DataFrame, labels: Optional[pd.DataFrame]=None, shuffle: bool=True, batch_size: int=32, labels2: Optional[pd.DataFrame]=None):\n",
    "  df = data.copy()\n",
    "  df = {key: value.values[:, tf.newaxis] for key, value in data.items()}\n",
    "  \n",
    "  if labels is None:\n",
    "    ds = tf.data.Dataset.from_tensor_slices((dict(df),))\n",
    "  else:\n",
    "    ds = tf.data.Dataset.from_tensor_slices((\n",
    "      dict(df), \n",
    "      {\n",
    "        'category_out': labels, \n",
    "        'theme_out': labels2\n",
    "        }\n",
    "        ))\n",
    "        \n",
    "  if shuffle:\n",
    "    ds = ds.shuffle(buffer_size=len(data))\n",
    "  ds = ds.batch(batch_size)\n",
    "  ds = ds.prefetch(batch_size)\n",
    "  return ds\n",
    "\n",
    "\n",
    "def get_keras_input(\n",
    "    data: pd.DataFrame,\n",
    "    labels: Optional[pd.DataFrame] = None,\n",
    "    labels2: Optional[pd.DataFrame] = None,\n",
    "    shuffle=False\n",
    "    ) -> tf.data.Dataset:\n",
    "    return df_to_dataset(\n",
    "        data=data,\n",
    "        labels=labels,\n",
    "        labels2=labels2,\n",
    "        shuffle=shuffle, \n",
    "        batch_size=BATCH_SIZE)\n",
    "        \n"
   ]
  },
  {
   "cell_type": "code",
   "execution_count": 39,
   "metadata": {},
   "outputs": [],
   "source": [
    "def build_classifier_model():\n",
    "    text_input = tf.keras.layers.Input(shape=(), dtype=tf.string, name='text')\n",
    "    preprocessing_layer = hub.KerasLayer(\"https://tfhub.dev/jeongukjae/smaller_LaBSE_15lang_preprocess/1\", name='preprocessing')\n",
    "    encoder_inputs = preprocessing_layer(text_input)\n",
    "    encoder = hub.KerasLayer(\"https://tfhub.dev/jeongukjae/smaller_LaBSE_15lang/1\", trainable=False, name='encoder')\n",
    "    outputs = encoder(encoder_inputs)\n",
    "    net = outputs['pooled_output']\n",
    "    net = tf.keras.layers.BatchNormalization()(net)\n",
    "    net = tf.keras.layers.Dropout(0.3)(net)\n",
    "    net = tf.keras.layers.Dense(300, activation=None)(net)\n",
    "    net = tf.keras.layers.LeakyReLU(alpha=0.5)(net)\n",
    "    net = tf.keras.layers.BatchNormalization()(net)\n",
    "    net = tf.keras.layers.Dropout(0.2)(net)\n",
    "    category_out = tf.keras.layers.Dense(N_OUT_CLASSES, activation=None, name='category_out')(net)\n",
    "    theme_out = tf.keras.layers.Dense(N_THEMES, activation=None, name='theme_out')(net)\n",
    "    model = tf.keras.Model(\n",
    "        text_input, \n",
    "        outputs={\n",
    "            'category_out': category_out, \n",
    "            'theme_out': theme_out\n",
    "            })\n",
    "\n",
    "    loss = {\n",
    "        'category_out': tf.keras.losses.SparseCategoricalCrossentropy(from_logits=True, name='category_out'),\n",
    "        'theme_out': tf.keras.losses.SparseCategoricalCrossentropy(from_logits=True, name='theme_out')\n",
    "        }\n",
    "    # metrics = tf.keras.metrics.AUC(from_logits=True, name='auc')\n",
    "\n",
    "    epochs = N_EPOCHS\n",
    "    n = (len(train) // cfg.N_SPLITS) * (cfg.N_SPLITS-1)\n",
    "    steps_per_epoch = n // BATCH_SIZE\n",
    "    num_train_steps = steps_per_epoch * epochs\n",
    "    num_warmup_steps = int(0.1*num_train_steps)\n",
    "\n",
    "    init_lr = 3e-4\n",
    "    optimizer = optimization.create_optimizer(init_lr=init_lr,\n",
    "                                            num_train_steps=num_train_steps,\n",
    "                                            num_warmup_steps=num_warmup_steps,\n",
    "                                            optimizer_type='adamw')\n",
    "\n",
    "    model.compile(optimizer=optimizer,\n",
    "                         loss=loss,\n",
    "                         loss_weights={\"category_out\": 2.0, \"theme_out\": 0.2}\n",
    "                        #  metrics=metrics\n",
    "                         )\n",
    "    return model"
   ]
  },
  {
   "cell_type": "code",
   "execution_count": 40,
   "metadata": {},
   "outputs": [],
   "source": [
    "leak_test = pd.read_pickle(os.path.join(cfg.DATA_PATH, 'test_leak.pkl'))\n",
    "leak_mask = leak_test.notnull()"
   ]
  },
  {
   "cell_type": "code",
   "execution_count": 41,
   "metadata": {},
   "outputs": [
    {
     "data": {
      "application/vnd.jupyter.widget-view+json": {
       "model_id": "399fff0266a04c69bf947030649138e2",
       "version_major": 2,
       "version_minor": 0
      },
      "text/plain": [
       "  0%|          | 0/10 [00:00<?, ?it/s]"
      ]
     },
     "metadata": {},
     "output_type": "display_data"
    },
    {
     "name": "stderr",
     "output_type": "stream",
     "text": [
      "/home/as/miniconda3/envs/tf/lib/python3.9/site-packages/sklearn/model_selection/_split.py:680: UserWarning: The least populated class in y has only 1 members, which is less than n_splits=10.\n",
      "  warnings.warn(\n"
     ]
    },
    {
     "data": {
      "application/vnd.jupyter.widget-view+json": {
       "model_id": "4a0ca20f76e6481d901b9a6ad540a053",
       "version_major": 2,
       "version_minor": 0
      },
      "text/plain": [
       "  0%|          | 0/1 [00:00<?, ?it/s]"
      ]
     },
     "metadata": {},
     "output_type": "display_data"
    },
    {
     "name": "stdout",
     "output_type": "stream",
     "text": [
      "Epoch 1/100\n",
      "29/29 [==============================] - 44s 1s/step - loss: 8.6676 - category_out_loss: 3.7400 - theme_out_loss: 5.9375 - val_loss: 6.4972 - val_category_out_loss: 2.7335 - val_theme_out_loss: 5.1505\n",
      "Epoch 2/100\n",
      "29/29 [==============================] - 34s 1s/step - loss: 7.7149 - category_out_loss: 3.2694 - theme_out_loss: 5.8805 - val_loss: 5.9007 - val_category_out_loss: 2.4377 - val_theme_out_loss: 5.1263\n",
      "Epoch 3/100\n",
      "29/29 [==============================] - 36s 1s/step - loss: 6.2871 - category_out_loss: 2.5718 - theme_out_loss: 5.7179 - val_loss: 5.1400 - val_category_out_loss: 2.0628 - val_theme_out_loss: 5.0725\n",
      "Epoch 4/100\n",
      "29/29 [==============================] - 38s 1s/step - loss: 5.0616 - category_out_loss: 1.9784 - theme_out_loss: 5.5238 - val_loss: 4.4490 - val_category_out_loss: 1.7280 - val_theme_out_loss: 4.9652\n",
      "Epoch 5/100\n",
      "29/29 [==============================] - 42s 1s/step - loss: 4.2275 - category_out_loss: 1.5865 - theme_out_loss: 5.2730 - val_loss: 3.9159 - val_category_out_loss: 1.4807 - val_theme_out_loss: 4.7719\n",
      "Epoch 6/100\n",
      "29/29 [==============================] - 39s 1s/step - loss: 3.7603 - category_out_loss: 1.3983 - theme_out_loss: 4.8182 - val_loss: 3.4904 - val_category_out_loss: 1.2952 - val_theme_out_loss: 4.5003\n",
      "Epoch 7/100\n",
      "29/29 [==============================] - 50s 2s/step - loss: 3.3954 - category_out_loss: 1.2622 - theme_out_loss: 4.3550 - val_loss: 3.2452 - val_category_out_loss: 1.2071 - val_theme_out_loss: 4.1549\n",
      "Epoch 8/100\n",
      "29/29 [==============================] - 39s 1s/step - loss: 3.0380 - category_out_loss: 1.1309 - theme_out_loss: 3.8810 - val_loss: 2.9868 - val_category_out_loss: 1.1090 - val_theme_out_loss: 3.8438\n",
      "Epoch 9/100\n",
      "29/29 [==============================] - 52s 2s/step - loss: 2.7286 - category_out_loss: 1.0105 - theme_out_loss: 3.5377 - val_loss: 2.8340 - val_category_out_loss: 1.0590 - val_theme_out_loss: 3.5806\n",
      "Epoch 10/100\n",
      "29/29 [==============================] - 45s 2s/step - loss: 2.5490 - category_out_loss: 0.9505 - theme_out_loss: 3.2398 - val_loss: 2.6917 - val_category_out_loss: 1.0095 - val_theme_out_loss: 3.3635\n",
      "Epoch 11/100\n",
      "29/29 [==============================] - 50s 2s/step - loss: 2.5323 - category_out_loss: 0.9634 - theme_out_loss: 3.0274 - val_loss: 2.5989 - val_category_out_loss: 0.9802 - val_theme_out_loss: 3.1923\n",
      "Epoch 12/100\n",
      "29/29 [==============================] - 47s 2s/step - loss: 2.3462 - category_out_loss: 0.8899 - theme_out_loss: 2.8324 - val_loss: 2.5156 - val_category_out_loss: 0.9521 - val_theme_out_loss: 3.0565\n",
      "Epoch 13/100\n",
      "29/29 [==============================] - 43s 1s/step - loss: 2.2017 - category_out_loss: 0.8318 - theme_out_loss: 2.6905 - val_loss: 2.4202 - val_category_out_loss: 0.9158 - val_theme_out_loss: 2.9433\n",
      "Epoch 14/100\n",
      "29/29 [==============================] - 51s 2s/step - loss: 2.1798 - category_out_loss: 0.8413 - theme_out_loss: 2.4862 - val_loss: 2.3849 - val_category_out_loss: 0.9067 - val_theme_out_loss: 2.8578\n",
      "Epoch 15/100\n",
      "29/29 [==============================] - 45s 2s/step - loss: 2.0616 - category_out_loss: 0.7901 - theme_out_loss: 2.4068 - val_loss: 2.2841 - val_category_out_loss: 0.8647 - val_theme_out_loss: 2.7735\n",
      "Epoch 16/100\n",
      "29/29 [==============================] - 45s 2s/step - loss: 1.9491 - category_out_loss: 0.7428 - theme_out_loss: 2.3171 - val_loss: 2.2792 - val_category_out_loss: 0.8683 - val_theme_out_loss: 2.7131\n",
      "Epoch 17/100\n",
      "29/29 [==============================] - 53s 2s/step - loss: 1.8590 - category_out_loss: 0.7127 - theme_out_loss: 2.1678 - val_loss: 2.2485 - val_category_out_loss: 0.8582 - val_theme_out_loss: 2.6603\n",
      "Epoch 18/100\n",
      "29/29 [==============================] - 48s 2s/step - loss: 1.8081 - category_out_loss: 0.6925 - theme_out_loss: 2.1158 - val_loss: 2.2098 - val_category_out_loss: 0.8429 - val_theme_out_loss: 2.6202\n",
      "Epoch 19/100\n",
      "29/29 [==============================] - 38s 1s/step - loss: 1.7153 - category_out_loss: 0.6524 - theme_out_loss: 2.0528 - val_loss: 2.2139 - val_category_out_loss: 0.8491 - val_theme_out_loss: 2.5785\n",
      "Epoch 20/100\n",
      "29/29 [==============================] - 58s 2s/step - loss: 1.6414 - category_out_loss: 0.6222 - theme_out_loss: 1.9845 - val_loss: 2.1721 - val_category_out_loss: 0.8318 - val_theme_out_loss: 2.5420\n",
      "Epoch 21/100\n",
      "29/29 [==============================] - 43s 1s/step - loss: 1.5944 - category_out_loss: 0.6096 - theme_out_loss: 1.8758 - val_loss: 2.1260 - val_category_out_loss: 0.8116 - val_theme_out_loss: 2.5143\n",
      "Epoch 22/100\n",
      "29/29 [==============================] - 55s 2s/step - loss: 1.5665 - category_out_loss: 0.6002 - theme_out_loss: 1.8306 - val_loss: 2.1041 - val_category_out_loss: 0.8031 - val_theme_out_loss: 2.4898\n",
      "Epoch 23/100\n",
      "29/29 [==============================] - 52s 2s/step - loss: 1.5008 - category_out_loss: 0.5712 - theme_out_loss: 1.7923 - val_loss: 2.0751 - val_category_out_loss: 0.7908 - val_theme_out_loss: 2.4671\n",
      "Epoch 24/100\n",
      "29/29 [==============================] - 47s 2s/step - loss: 1.4675 - category_out_loss: 0.5594 - theme_out_loss: 1.7438 - val_loss: 2.0932 - val_category_out_loss: 0.8011 - val_theme_out_loss: 2.4550\n",
      "Epoch 25/100\n",
      "29/29 [==============================] - 53s 2s/step - loss: 1.3919 - category_out_loss: 0.5294 - theme_out_loss: 1.6656 - val_loss: 2.0140 - val_category_out_loss: 0.7631 - val_theme_out_loss: 2.4389\n",
      "Epoch 26/100\n",
      "29/29 [==============================] - 55s 2s/step - loss: 1.3879 - category_out_loss: 0.5282 - theme_out_loss: 1.6571 - val_loss: 1.9927 - val_category_out_loss: 0.7540 - val_theme_out_loss: 2.4240\n",
      "Epoch 27/100\n",
      "29/29 [==============================] - 38s 1s/step - loss: 1.3401 - category_out_loss: 0.5073 - theme_out_loss: 1.6277 - val_loss: 1.9958 - val_category_out_loss: 0.7567 - val_theme_out_loss: 2.4116\n",
      "Epoch 28/100\n",
      "29/29 [==============================] - 59s 2s/step - loss: 1.2976 - category_out_loss: 0.4937 - theme_out_loss: 1.5511 - val_loss: 1.9817 - val_category_out_loss: 0.7513 - val_theme_out_loss: 2.3951\n",
      "Epoch 29/100\n",
      "29/29 [==============================] - 52s 2s/step - loss: 1.2924 - category_out_loss: 0.4910 - theme_out_loss: 1.5516 - val_loss: 1.9994 - val_category_out_loss: 0.7616 - val_theme_out_loss: 2.3809\n",
      "Epoch 30/100\n",
      "29/29 [==============================] - 38s 1s/step - loss: 1.2830 - category_out_loss: 0.4889 - theme_out_loss: 1.5261 - val_loss: 1.9785 - val_category_out_loss: 0.7528 - val_theme_out_loss: 2.3645\n",
      "Epoch 31/100\n",
      "29/29 [==============================] - 59s 2s/step - loss: 1.2474 - category_out_loss: 0.4773 - theme_out_loss: 1.4640 - val_loss: 1.9600 - val_category_out_loss: 0.7444 - val_theme_out_loss: 2.3560\n",
      "Epoch 32/100\n",
      "29/29 [==============================] - 49s 2s/step - loss: 1.2116 - category_out_loss: 0.4610 - theme_out_loss: 1.4486 - val_loss: 1.9257 - val_category_out_loss: 0.7287 - val_theme_out_loss: 2.3410\n",
      "Epoch 33/100\n",
      "29/29 [==============================] - 41s 1s/step - loss: 1.2524 - category_out_loss: 0.4843 - theme_out_loss: 1.4191 - val_loss: 1.9139 - val_category_out_loss: 0.7236 - val_theme_out_loss: 2.3331\n",
      "Epoch 34/100\n",
      "29/29 [==============================] - 55s 2s/step - loss: 1.2276 - category_out_loss: 0.4742 - theme_out_loss: 1.3960 - val_loss: 1.9170 - val_category_out_loss: 0.7260 - val_theme_out_loss: 2.3251\n",
      "Epoch 35/100\n",
      "29/29 [==============================] - 55s 2s/step - loss: 1.1542 - category_out_loss: 0.4392 - theme_out_loss: 1.3788 - val_loss: 1.9174 - val_category_out_loss: 0.7262 - val_theme_out_loss: 2.3252\n",
      "Epoch 36/100\n",
      "29/29 [==============================] - 53s 2s/step - loss: 1.1156 - category_out_loss: 0.4236 - theme_out_loss: 1.3418 - val_loss: 1.9264 - val_category_out_loss: 0.7306 - val_theme_out_loss: 2.3262\n"
     ]
    },
    {
     "name": "stderr",
     "output_type": "stream",
     "text": [
      "WARNING:absl:Found untraced functions such as restored_function_body, restored_function_body, restored_function_body, restored_function_body, restored_function_body while saving (showing 5 of 360). These functions will not be directly callable after loading.\n"
     ]
    },
    {
     "name": "stdout",
     "output_type": "stream",
     "text": [
      "4/4 [==============================] - 7s 1s/step\n",
      "29/29 [==============================] - 35s 1s/step\n",
      "16/16 [==============================] - 23s 1s/step\n",
      "val auc 0.8990138153224092\n",
      "leak_test_auc_score 0.8769087338768746\n"
     ]
    },
    {
     "data": {
      "application/vnd.jupyter.widget-view+json": {
       "model_id": "f18dc5ba4e7a400e9386c98088f584cb",
       "version_major": 2,
       "version_minor": 0
      },
      "text/plain": [
       "  0%|          | 0/1 [00:00<?, ?it/s]"
      ]
     },
     "metadata": {},
     "output_type": "display_data"
    },
    {
     "name": "stdout",
     "output_type": "stream",
     "text": [
      "Epoch 1/100\n",
      "29/29 [==============================] - 75s 2s/step - loss: 8.7643 - category_out_loss: 3.7974 - theme_out_loss: 5.8478 - val_loss: 7.0583 - val_category_out_loss: 3.0056 - val_theme_out_loss: 5.2354\n",
      "Epoch 2/100\n",
      "29/29 [==============================] - 52s 2s/step - loss: 7.7349 - category_out_loss: 3.2827 - theme_out_loss: 5.8478 - val_loss: 6.2358 - val_category_out_loss: 2.5975 - val_theme_out_loss: 5.2040\n",
      "Epoch 3/100\n",
      "29/29 [==============================] - 49s 2s/step - loss: 6.2797 - category_out_loss: 2.5694 - theme_out_loss: 5.7040 - val_loss: 5.2393 - val_category_out_loss: 2.1051 - val_theme_out_loss: 5.1458\n",
      "Epoch 4/100\n",
      "29/29 [==============================] - 51s 2s/step - loss: 5.0078 - category_out_loss: 1.9523 - theme_out_loss: 5.5161 - val_loss: 4.4018 - val_category_out_loss: 1.6975 - val_theme_out_loss: 5.0333\n",
      "Epoch 5/100\n",
      "29/29 [==============================] - 57s 2s/step - loss: 4.2362 - category_out_loss: 1.6002 - theme_out_loss: 5.1794 - val_loss: 3.7974 - val_category_out_loss: 1.4159 - val_theme_out_loss: 4.8281\n",
      "Epoch 6/100\n",
      "29/29 [==============================] - 43s 2s/step - loss: 3.7120 - category_out_loss: 1.3793 - theme_out_loss: 4.7674 - val_loss: 3.3603 - val_category_out_loss: 1.2273 - val_theme_out_loss: 4.5282\n",
      "Epoch 7/100\n",
      "29/29 [==============================] - 54s 2s/step - loss: 3.2829 - category_out_loss: 1.2113 - theme_out_loss: 4.3014 - val_loss: 2.9857 - val_category_out_loss: 1.0774 - val_theme_out_loss: 4.1546\n",
      "Epoch 8/100\n",
      "29/29 [==============================] - 46s 2s/step - loss: 2.9672 - category_out_loss: 1.0989 - theme_out_loss: 3.8472 - val_loss: 2.7550 - val_category_out_loss: 0.9955 - val_theme_out_loss: 3.8201\n",
      "Epoch 9/100\n",
      "29/29 [==============================] - 47s 2s/step - loss: 2.7603 - category_out_loss: 1.0304 - theme_out_loss: 3.4972 - val_loss: 2.6061 - val_category_out_loss: 0.9487 - val_theme_out_loss: 3.5433\n",
      "Epoch 10/100\n",
      "29/29 [==============================] - 48s 2s/step - loss: 2.6006 - category_out_loss: 0.9755 - theme_out_loss: 3.2480 - val_loss: 2.5337 - val_category_out_loss: 0.9357 - val_theme_out_loss: 3.3114\n",
      "Epoch 11/100\n",
      "29/29 [==============================] - 50s 2s/step - loss: 2.4275 - category_out_loss: 0.9110 - theme_out_loss: 3.0275 - val_loss: 2.4402 - val_category_out_loss: 0.9086 - val_theme_out_loss: 3.1148\n",
      "Epoch 12/100\n",
      "29/29 [==============================] - 39s 1s/step - loss: 2.2918 - category_out_loss: 0.8627 - theme_out_loss: 2.8321 - val_loss: 2.3433 - val_category_out_loss: 0.8747 - val_theme_out_loss: 2.9693\n",
      "Epoch 13/100\n",
      "29/29 [==============================] - 60s 2s/step - loss: 2.2343 - category_out_loss: 0.8505 - theme_out_loss: 2.6664 - val_loss: 2.2778 - val_category_out_loss: 0.8533 - val_theme_out_loss: 2.8558\n",
      "Epoch 14/100\n",
      "29/29 [==============================] - 40s 1s/step - loss: 2.0987 - category_out_loss: 0.7954 - theme_out_loss: 2.5391 - val_loss: 2.2307 - val_category_out_loss: 0.8400 - val_theme_out_loss: 2.7536\n",
      "Epoch 15/100\n",
      "29/29 [==============================] - 55s 2s/step - loss: 2.0228 - category_out_loss: 0.7718 - theme_out_loss: 2.3961 - val_loss: 2.1706 - val_category_out_loss: 0.8184 - val_theme_out_loss: 2.6693\n",
      "Epoch 16/100\n",
      "29/29 [==============================] - 55s 2s/step - loss: 1.9825 - category_out_loss: 0.7593 - theme_out_loss: 2.3195 - val_loss: 2.1346 - val_category_out_loss: 0.8072 - val_theme_out_loss: 2.6013\n",
      "Epoch 17/100\n",
      "29/29 [==============================] - 40s 1s/step - loss: 1.9223 - category_out_loss: 0.7374 - theme_out_loss: 2.2373 - val_loss: 2.0988 - val_category_out_loss: 0.7949 - val_theme_out_loss: 2.5453\n",
      "Epoch 18/100\n",
      "29/29 [==============================] - 52s 2s/step - loss: 1.8048 - category_out_loss: 0.6909 - theme_out_loss: 2.1153 - val_loss: 2.0703 - val_category_out_loss: 0.7856 - val_theme_out_loss: 2.4950\n",
      "Epoch 19/100\n",
      "29/29 [==============================] - 44s 2s/step - loss: 1.7814 - category_out_loss: 0.6846 - theme_out_loss: 2.0610 - val_loss: 2.0261 - val_category_out_loss: 0.7684 - val_theme_out_loss: 2.4471\n",
      "Epoch 20/100\n",
      "29/29 [==============================] - 41s 1s/step - loss: 1.7038 - category_out_loss: 0.6515 - theme_out_loss: 2.0036 - val_loss: 1.9928 - val_category_out_loss: 0.7543 - val_theme_out_loss: 2.4214\n",
      "Epoch 21/100\n",
      "29/29 [==============================] - 51s 2s/step - loss: 1.6896 - category_out_loss: 0.6545 - theme_out_loss: 1.9026 - val_loss: 2.0019 - val_category_out_loss: 0.7622 - val_theme_out_loss: 2.3880\n",
      "Epoch 22/100\n",
      "29/29 [==============================] - 44s 2s/step - loss: 1.6128 - category_out_loss: 0.6212 - theme_out_loss: 1.8519 - val_loss: 1.9872 - val_category_out_loss: 0.7571 - val_theme_out_loss: 2.3653\n",
      "Epoch 23/100\n",
      "29/29 [==============================] - 47s 2s/step - loss: 1.5271 - category_out_loss: 0.5840 - theme_out_loss: 1.7960 - val_loss: 1.9774 - val_category_out_loss: 0.7548 - val_theme_out_loss: 2.3387\n"
     ]
    },
    {
     "name": "stderr",
     "output_type": "stream",
     "text": [
      "WARNING:absl:Found untraced functions such as restored_function_body, restored_function_body, restored_function_body, restored_function_body, restored_function_body while saving (showing 5 of 360). These functions will not be directly callable after loading.\n"
     ]
    },
    {
     "name": "stdout",
     "output_type": "stream",
     "text": [
      "4/4 [==============================] - 6s 1s/step\n",
      "29/29 [==============================] - 35s 1s/step\n",
      "16/16 [==============================] - 32s 2s/step\n",
      "val auc 0.9070928606363876\n",
      "leak_test_auc_score 0.8621747811724846\n"
     ]
    },
    {
     "data": {
      "application/vnd.jupyter.widget-view+json": {
       "model_id": "a7b3c1867d9f41bbaf1236d27b559fd6",
       "version_major": 2,
       "version_minor": 0
      },
      "text/plain": [
       "  0%|          | 0/1 [00:00<?, ?it/s]"
      ]
     },
     "metadata": {},
     "output_type": "display_data"
    },
    {
     "name": "stdout",
     "output_type": "stream",
     "text": [
      "Epoch 1/100\n",
      "29/29 [==============================] - 57s 1s/step - loss: 8.8361 - category_out_loss: 3.8283 - theme_out_loss: 5.8973 - val_loss: 6.7696 - val_category_out_loss: 2.8733 - val_theme_out_loss: 5.1150\n",
      "Epoch 2/100\n",
      "29/29 [==============================] - 44s 2s/step - loss: 7.8350 - category_out_loss: 3.3368 - theme_out_loss: 5.8070 - val_loss: 6.1141 - val_category_out_loss: 2.5483 - val_theme_out_loss: 5.0875\n",
      "Epoch 3/100\n",
      "29/29 [==============================] - 47s 2s/step - loss: 6.3563 - category_out_loss: 2.6098 - theme_out_loss: 5.6838 - val_loss: 5.1724 - val_category_out_loss: 2.0834 - val_theme_out_loss: 5.0276\n",
      "Epoch 4/100\n",
      "29/29 [==============================] - 49s 2s/step - loss: 5.0413 - category_out_loss: 1.9742 - theme_out_loss: 5.4647 - val_loss: 4.4078 - val_category_out_loss: 1.7126 - val_theme_out_loss: 4.9125\n",
      "Epoch 5/100\n",
      "29/29 [==============================] - 52s 2s/step - loss: 4.2564 - category_out_loss: 1.6168 - theme_out_loss: 5.1139 - val_loss: 3.8642 - val_category_out_loss: 1.4599 - val_theme_out_loss: 4.7219\n",
      "Epoch 6/100\n",
      "29/29 [==============================] - 35s 1s/step - loss: 3.7117 - category_out_loss: 1.3867 - theme_out_loss: 4.6912 - val_loss: 3.4253 - val_category_out_loss: 1.2682 - val_theme_out_loss: 4.4449\n",
      "Epoch 7/100\n",
      "29/29 [==============================] - 49s 2s/step - loss: 3.3584 - category_out_loss: 1.2573 - theme_out_loss: 4.2193 - val_loss: 3.1565 - val_category_out_loss: 1.1661 - val_theme_out_loss: 4.1210\n",
      "Epoch 8/100\n",
      "29/29 [==============================] - 35s 1s/step - loss: 2.9576 - category_out_loss: 1.0967 - theme_out_loss: 3.8207 - val_loss: 2.8783 - val_category_out_loss: 1.0564 - val_theme_out_loss: 3.8274\n",
      "Epoch 9/100\n",
      "29/29 [==============================] - 45s 2s/step - loss: 2.7856 - category_out_loss: 1.0473 - theme_out_loss: 3.4553 - val_loss: 2.7025 - val_category_out_loss: 0.9931 - val_theme_out_loss: 3.5814\n",
      "Epoch 10/100\n",
      "29/29 [==============================] - 44s 2s/step - loss: 2.5595 - category_out_loss: 0.9630 - theme_out_loss: 3.1670 - val_loss: 2.6221 - val_category_out_loss: 0.9728 - val_theme_out_loss: 3.3826\n",
      "Epoch 11/100\n",
      "29/29 [==============================] - 45s 2s/step - loss: 2.3861 - category_out_loss: 0.8954 - theme_out_loss: 2.9762 - val_loss: 2.4780 - val_category_out_loss: 0.9168 - val_theme_out_loss: 3.2220\n",
      "Epoch 12/100\n",
      "29/29 [==============================] - 39s 1s/step - loss: 2.2823 - category_out_loss: 0.8615 - theme_out_loss: 2.7962 - val_loss: 2.4550 - val_category_out_loss: 0.9180 - val_theme_out_loss: 3.0947\n",
      "Epoch 13/100\n",
      "29/29 [==============================] - 51s 2s/step - loss: 2.1341 - category_out_loss: 0.8044 - theme_out_loss: 2.6261 - val_loss: 2.3747 - val_category_out_loss: 0.8885 - val_theme_out_loss: 2.9890\n",
      "Epoch 14/100\n",
      "29/29 [==============================] - 40s 1s/step - loss: 2.1013 - category_out_loss: 0.8002 - theme_out_loss: 2.5044 - val_loss: 2.3335 - val_category_out_loss: 0.8763 - val_theme_out_loss: 2.9041\n",
      "Epoch 15/100\n",
      "29/29 [==============================] - 49s 2s/step - loss: 2.0012 - category_out_loss: 0.7610 - theme_out_loss: 2.3959 - val_loss: 2.2756 - val_category_out_loss: 0.8542 - val_theme_out_loss: 2.8364\n",
      "Epoch 16/100\n",
      "29/29 [==============================] - 45s 2s/step - loss: 1.9385 - category_out_loss: 0.7433 - theme_out_loss: 2.2590 - val_loss: 2.2570 - val_category_out_loss: 0.8511 - val_theme_out_loss: 2.7744\n",
      "Epoch 17/100\n",
      "29/29 [==============================] - 36s 1s/step - loss: 1.8863 - category_out_loss: 0.7229 - theme_out_loss: 2.2023 - val_loss: 2.2182 - val_category_out_loss: 0.8369 - val_theme_out_loss: 2.7221\n",
      "Epoch 18/100\n",
      "29/29 [==============================] - 48s 2s/step - loss: 1.7604 - category_out_loss: 0.6705 - theme_out_loss: 2.0971 - val_loss: 2.1822 - val_category_out_loss: 0.8234 - val_theme_out_loss: 2.6770\n",
      "Epoch 19/100\n",
      "29/29 [==============================] - 41s 1s/step - loss: 1.8159 - category_out_loss: 0.7029 - theme_out_loss: 2.0500 - val_loss: 2.1311 - val_category_out_loss: 0.8020 - val_theme_out_loss: 2.6355\n",
      "Epoch 20/100\n",
      "29/29 [==============================] - 49s 2s/step - loss: 1.6996 - category_out_loss: 0.6534 - theme_out_loss: 1.9640 - val_loss: 2.0785 - val_category_out_loss: 0.7794 - val_theme_out_loss: 2.5985\n",
      "Epoch 21/100\n",
      "29/29 [==============================] - 37s 1s/step - loss: 1.6143 - category_out_loss: 0.6193 - theme_out_loss: 1.8783 - val_loss: 2.0592 - val_category_out_loss: 0.7723 - val_theme_out_loss: 2.5734\n",
      "Epoch 22/100\n",
      "29/29 [==============================] - 45s 2s/step - loss: 1.5826 - category_out_loss: 0.6074 - theme_out_loss: 1.8391 - val_loss: 2.0903 - val_category_out_loss: 0.7896 - val_theme_out_loss: 2.5557\n",
      "Epoch 23/100\n",
      "29/29 [==============================] - 44s 2s/step - loss: 1.5143 - category_out_loss: 0.5773 - theme_out_loss: 1.7982 - val_loss: 2.0207 - val_category_out_loss: 0.7576 - val_theme_out_loss: 2.5270\n",
      "Epoch 24/100\n",
      "29/29 [==============================] - 36s 1s/step - loss: 1.5057 - category_out_loss: 0.5800 - theme_out_loss: 1.7286 - val_loss: 2.0371 - val_category_out_loss: 0.7676 - val_theme_out_loss: 2.5097\n",
      "Epoch 25/100\n",
      "29/29 [==============================] - 46s 2s/step - loss: 1.4698 - category_out_loss: 0.5650 - theme_out_loss: 1.6987 - val_loss: 2.0278 - val_category_out_loss: 0.7648 - val_theme_out_loss: 2.4913\n",
      "Epoch 26/100\n",
      "29/29 [==============================] - 42s 1s/step - loss: 1.3875 - category_out_loss: 0.5307 - theme_out_loss: 1.6307 - val_loss: 1.9652 - val_category_out_loss: 0.7353 - val_theme_out_loss: 2.4727\n",
      "Epoch 27/100\n",
      "29/29 [==============================] - 51s 2s/step - loss: 1.3540 - category_out_loss: 0.5151 - theme_out_loss: 1.6189 - val_loss: 1.9386 - val_category_out_loss: 0.7236 - val_theme_out_loss: 2.4565\n",
      "Epoch 28/100\n",
      "29/29 [==============================] - 40s 1s/step - loss: 1.3220 - category_out_loss: 0.5023 - theme_out_loss: 1.5869 - val_loss: 1.8989 - val_category_out_loss: 0.7052 - val_theme_out_loss: 2.4428\n",
      "Epoch 29/100\n",
      "29/29 [==============================] - 47s 2s/step - loss: 1.2464 - category_out_loss: 0.4685 - theme_out_loss: 1.5465 - val_loss: 1.8846 - val_category_out_loss: 0.6994 - val_theme_out_loss: 2.4287\n",
      "Epoch 30/100\n",
      "29/29 [==============================] - 37s 1s/step - loss: 1.2516 - category_out_loss: 0.4747 - theme_out_loss: 1.5110 - val_loss: 1.8592 - val_category_out_loss: 0.6884 - val_theme_out_loss: 2.4120\n",
      "Epoch 31/100\n",
      "29/29 [==============================] - 52s 2s/step - loss: 1.2043 - category_out_loss: 0.4533 - theme_out_loss: 1.4881 - val_loss: 1.8489 - val_category_out_loss: 0.6840 - val_theme_out_loss: 2.4045\n",
      "Epoch 32/100\n",
      "29/29 [==============================] - 36s 1s/step - loss: 1.2078 - category_out_loss: 0.4599 - theme_out_loss: 1.4398 - val_loss: 1.8747 - val_category_out_loss: 0.6979 - val_theme_out_loss: 2.3944\n",
      "Epoch 33/100\n",
      "29/29 [==============================] - 49s 2s/step - loss: 1.2292 - category_out_loss: 0.4711 - theme_out_loss: 1.4346 - val_loss: 1.8528 - val_category_out_loss: 0.6869 - val_theme_out_loss: 2.3950\n",
      "Epoch 34/100\n",
      "29/29 [==============================] - 42s 1s/step - loss: 1.1661 - category_out_loss: 0.4437 - theme_out_loss: 1.3940 - val_loss: 1.8626 - val_category_out_loss: 0.6924 - val_theme_out_loss: 2.3888\n"
     ]
    },
    {
     "name": "stderr",
     "output_type": "stream",
     "text": [
      "WARNING:absl:Found untraced functions such as restored_function_body, restored_function_body, restored_function_body, restored_function_body, restored_function_body while saving (showing 5 of 360). These functions will not be directly callable after loading.\n"
     ]
    },
    {
     "name": "stdout",
     "output_type": "stream",
     "text": [
      "4/4 [==============================] - 6s 1s/step\n",
      "29/29 [==============================] - 32s 1s/step\n",
      "16/16 [==============================] - 23s 1s/step\n",
      "val auc 0.9495849977155779\n",
      "leak_test_auc_score 0.8636623666563119\n"
     ]
    },
    {
     "data": {
      "application/vnd.jupyter.widget-view+json": {
       "model_id": "a977c44b81a3412398d6bfcbd788867c",
       "version_major": 2,
       "version_minor": 0
      },
      "text/plain": [
       "  0%|          | 0/1 [00:00<?, ?it/s]"
      ]
     },
     "metadata": {},
     "output_type": "display_data"
    },
    {
     "name": "stdout",
     "output_type": "stream",
     "text": [
      "Epoch 1/100\n",
      "29/29 [==============================] - 54s 1s/step - loss: 8.4891 - category_out_loss: 3.6707 - theme_out_loss: 5.7386 - val_loss: 6.4179 - val_category_out_loss: 2.6846 - val_theme_out_loss: 5.2434\n",
      "Epoch 2/100\n",
      "29/29 [==============================] - 55s 2s/step - loss: 7.6043 - category_out_loss: 3.2306 - theme_out_loss: 5.7152 - val_loss: 5.9858 - val_category_out_loss: 2.4737 - val_theme_out_loss: 5.1922\n",
      "Epoch 3/100\n",
      "29/29 [==============================] - 37s 1s/step - loss: 6.1181 - category_out_loss: 2.5010 - theme_out_loss: 5.5805 - val_loss: 5.2362 - val_category_out_loss: 2.1073 - val_theme_out_loss: 5.1078\n",
      "Epoch 4/100\n",
      "29/29 [==============================] - 45s 2s/step - loss: 5.0046 - category_out_loss: 1.9688 - theme_out_loss: 5.3352 - val_loss: 4.5790 - val_category_out_loss: 1.7932 - val_theme_out_loss: 4.9631\n",
      "Epoch 5/100\n",
      "29/29 [==============================] - 36s 1s/step - loss: 4.1930 - category_out_loss: 1.5892 - theme_out_loss: 5.0730 - val_loss: 4.0640 - val_category_out_loss: 1.5589 - val_theme_out_loss: 4.7315\n",
      "Epoch 6/100\n",
      "29/29 [==============================] - 45s 2s/step - loss: 3.6666 - category_out_loss: 1.3672 - theme_out_loss: 4.6609 - val_loss: 3.6563 - val_category_out_loss: 1.3868 - val_theme_out_loss: 4.4132\n",
      "Epoch 7/100\n",
      "29/29 [==============================] - 43s 1s/step - loss: 3.3210 - category_out_loss: 1.2378 - theme_out_loss: 4.2271 - val_loss: 3.3857 - val_category_out_loss: 1.2881 - val_theme_out_loss: 4.0472\n",
      "Epoch 8/100\n",
      "29/29 [==============================] - 37s 1s/step - loss: 2.9779 - category_out_loss: 1.1069 - theme_out_loss: 3.8202 - val_loss: 3.2137 - val_category_out_loss: 1.2349 - val_theme_out_loss: 3.7192\n",
      "Epoch 9/100\n",
      "29/29 [==============================] - 49s 2s/step - loss: 2.7627 - category_out_loss: 1.0298 - theme_out_loss: 3.5152 - val_loss: 3.0730 - val_category_out_loss: 1.1930 - val_theme_out_loss: 3.4349\n",
      "Epoch 10/100\n",
      "29/29 [==============================] - 41s 1s/step - loss: 2.5245 - category_out_loss: 0.9397 - theme_out_loss: 3.2259 - val_loss: 2.9915 - val_category_out_loss: 1.1759 - val_theme_out_loss: 3.1988\n",
      "Epoch 11/100\n",
      "29/29 [==============================] - 46s 2s/step - loss: 2.3345 - category_out_loss: 0.8676 - theme_out_loss: 2.9961 - val_loss: 2.9282 - val_category_out_loss: 1.1639 - val_theme_out_loss: 3.0025\n",
      "Epoch 12/100\n",
      "29/29 [==============================] - 48s 2s/step - loss: 2.1952 - category_out_loss: 0.8126 - theme_out_loss: 2.8499 - val_loss: 2.8014 - val_category_out_loss: 1.1163 - val_theme_out_loss: 2.8441\n",
      "Epoch 13/100\n",
      "29/29 [==============================] - 40s 1s/step - loss: 2.1652 - category_out_loss: 0.8154 - theme_out_loss: 2.6718 - val_loss: 2.6932 - val_category_out_loss: 1.0754 - val_theme_out_loss: 2.7119\n",
      "Epoch 14/100\n",
      "29/29 [==============================] - 50s 2s/step - loss: 2.0236 - category_out_loss: 0.7591 - theme_out_loss: 2.5270 - val_loss: 2.6691 - val_category_out_loss: 1.0736 - val_theme_out_loss: 2.6101\n",
      "Epoch 15/100\n",
      "29/29 [==============================] - 36s 1s/step - loss: 1.9747 - category_out_loss: 0.7453 - theme_out_loss: 2.4207 - val_loss: 2.6624 - val_category_out_loss: 1.0774 - val_theme_out_loss: 2.5375\n",
      "Epoch 16/100\n",
      "29/29 [==============================] - 47s 2s/step - loss: 1.9041 - category_out_loss: 0.7221 - theme_out_loss: 2.2997 - val_loss: 2.5775 - val_category_out_loss: 1.0424 - val_theme_out_loss: 2.4635\n",
      "Epoch 17/100\n",
      "29/29 [==============================] - 40s 1s/step - loss: 1.8325 - category_out_loss: 0.6956 - theme_out_loss: 2.2061 - val_loss: 2.5865 - val_category_out_loss: 1.0522 - val_theme_out_loss: 2.4108\n",
      "Epoch 18/100\n",
      "29/29 [==============================] - 49s 2s/step - loss: 1.7110 - category_out_loss: 0.6415 - theme_out_loss: 2.1396 - val_loss: 2.5292 - val_category_out_loss: 1.0281 - val_theme_out_loss: 2.3649\n",
      "Epoch 19/100\n",
      "29/29 [==============================] - 36s 1s/step - loss: 1.7342 - category_out_loss: 0.6589 - theme_out_loss: 2.0824 - val_loss: 2.5156 - val_category_out_loss: 1.0257 - val_theme_out_loss: 2.3206\n",
      "Epoch 20/100\n",
      "29/29 [==============================] - 48s 2s/step - loss: 1.6293 - category_out_loss: 0.6170 - theme_out_loss: 1.9762 - val_loss: 2.5344 - val_category_out_loss: 1.0385 - val_theme_out_loss: 2.2875\n",
      "Epoch 21/100\n",
      "29/29 [==============================] - 41s 1s/step - loss: 1.5367 - category_out_loss: 0.5751 - theme_out_loss: 1.9319 - val_loss: 2.5078 - val_category_out_loss: 1.0281 - val_theme_out_loss: 2.2581\n",
      "Epoch 22/100\n",
      "29/29 [==============================] - 49s 2s/step - loss: 1.5094 - category_out_loss: 0.5673 - theme_out_loss: 1.8735 - val_loss: 2.4471 - val_category_out_loss: 1.0006 - val_theme_out_loss: 2.2294\n",
      "Epoch 23/100\n",
      "29/29 [==============================] - 45s 2s/step - loss: 1.5062 - category_out_loss: 0.5715 - theme_out_loss: 1.8164 - val_loss: 2.4328 - val_category_out_loss: 0.9960 - val_theme_out_loss: 2.2039\n",
      "Epoch 24/100\n",
      "29/29 [==============================] - 36s 1s/step - loss: 1.4739 - category_out_loss: 0.5602 - theme_out_loss: 1.7670 - val_loss: 2.4077 - val_category_out_loss: 0.9856 - val_theme_out_loss: 2.1825\n",
      "Epoch 25/100\n",
      "29/29 [==============================] - 44s 2s/step - loss: 1.3772 - category_out_loss: 0.5175 - theme_out_loss: 1.7112 - val_loss: 2.3732 - val_category_out_loss: 0.9703 - val_theme_out_loss: 2.1631\n",
      "Epoch 26/100\n",
      "29/29 [==============================] - 36s 1s/step - loss: 1.3529 - category_out_loss: 0.5102 - theme_out_loss: 1.6623 - val_loss: 2.3351 - val_category_out_loss: 0.9531 - val_theme_out_loss: 2.1449\n",
      "Epoch 27/100\n",
      "29/29 [==============================] - 47s 2s/step - loss: 1.3509 - category_out_loss: 0.5125 - theme_out_loss: 1.6291 - val_loss: 2.3158 - val_category_out_loss: 0.9448 - val_theme_out_loss: 2.1311\n",
      "Epoch 28/100\n",
      "29/29 [==============================] - 42s 1s/step - loss: 1.3046 - category_out_loss: 0.4939 - theme_out_loss: 1.5838 - val_loss: 2.2995 - val_category_out_loss: 0.9380 - val_theme_out_loss: 2.1173\n",
      "Epoch 29/100\n",
      "29/29 [==============================] - 47s 2s/step - loss: 1.2609 - category_out_loss: 0.4745 - theme_out_loss: 1.5598 - val_loss: 2.2818 - val_category_out_loss: 0.9298 - val_theme_out_loss: 2.1109\n",
      "Epoch 30/100\n",
      "29/29 [==============================] - 35s 1s/step - loss: 1.2151 - category_out_loss: 0.4581 - theme_out_loss: 1.4951 - val_loss: 2.2800 - val_category_out_loss: 0.9302 - val_theme_out_loss: 2.0977\n",
      "Epoch 31/100\n",
      "29/29 [==============================] - 47s 2s/step - loss: 1.2475 - category_out_loss: 0.4738 - theme_out_loss: 1.4989 - val_loss: 2.2827 - val_category_out_loss: 0.9327 - val_theme_out_loss: 2.0865\n",
      "Epoch 32/100\n",
      "29/29 [==============================] - 36s 1s/step - loss: 1.2015 - category_out_loss: 0.4547 - theme_out_loss: 1.4607 - val_loss: 2.2491 - val_category_out_loss: 0.9172 - val_theme_out_loss: 2.0738\n",
      "Epoch 33/100\n",
      "29/29 [==============================] - 47s 2s/step - loss: 1.1404 - category_out_loss: 0.4283 - theme_out_loss: 1.4188 - val_loss: 2.2469 - val_category_out_loss: 0.9166 - val_theme_out_loss: 2.0684\n",
      "Epoch 34/100\n",
      "29/29 [==============================] - 42s 1s/step - loss: 1.1955 - category_out_loss: 0.4577 - theme_out_loss: 1.4006 - val_loss: 2.2245 - val_category_out_loss: 0.9063 - val_theme_out_loss: 2.0595\n",
      "Epoch 35/100\n",
      "29/29 [==============================] - 50s 2s/step - loss: 1.1217 - category_out_loss: 0.4233 - theme_out_loss: 1.3758 - val_loss: 2.1777 - val_category_out_loss: 0.8838 - val_theme_out_loss: 2.0508\n",
      "Epoch 36/100\n",
      "29/29 [==============================] - 45s 2s/step - loss: 1.0946 - category_out_loss: 0.4121 - theme_out_loss: 1.3519 - val_loss: 2.1664 - val_category_out_loss: 0.8791 - val_theme_out_loss: 2.0412\n",
      "Epoch 37/100\n",
      "29/29 [==============================] - 42s 1s/step - loss: 1.0889 - category_out_loss: 0.4133 - theme_out_loss: 1.3112 - val_loss: 2.1783 - val_category_out_loss: 0.8857 - val_theme_out_loss: 2.0345\n",
      "Epoch 38/100\n",
      "29/29 [==============================] - 48s 2s/step - loss: 1.1141 - category_out_loss: 0.4263 - theme_out_loss: 1.3073 - val_loss: 2.1460 - val_category_out_loss: 0.8694 - val_theme_out_loss: 2.0357\n",
      "Epoch 39/100\n",
      "29/29 [==============================] - 47s 2s/step - loss: 1.0126 - category_out_loss: 0.3770 - theme_out_loss: 1.2925 - val_loss: 2.1686 - val_category_out_loss: 0.8808 - val_theme_out_loss: 2.0346\n",
      "Epoch 40/100\n",
      "29/29 [==============================] - 41s 1s/step - loss: 1.0624 - category_out_loss: 0.4015 - theme_out_loss: 1.2973 - val_loss: 2.1610 - val_category_out_loss: 0.8774 - val_theme_out_loss: 2.0312\n",
      "Epoch 41/100\n",
      "29/29 [==============================] - 47s 2s/step - loss: 1.0300 - category_out_loss: 0.3908 - theme_out_loss: 1.2420 - val_loss: 2.1442 - val_category_out_loss: 0.8697 - val_theme_out_loss: 2.0238\n"
     ]
    },
    {
     "name": "stderr",
     "output_type": "stream",
     "text": [
      "WARNING:absl:Found untraced functions such as restored_function_body, restored_function_body, restored_function_body, restored_function_body, restored_function_body while saving (showing 5 of 360). These functions will not be directly callable after loading.\n"
     ]
    },
    {
     "name": "stdout",
     "output_type": "stream",
     "text": [
      "4/4 [==============================] - 6s 1s/step\n",
      "29/29 [==============================] - 32s 1s/step\n",
      "16/16 [==============================] - 20s 1s/step\n",
      "val auc 0.8900954043476363\n",
      "leak_test_auc_score 0.867125452050154\n"
     ]
    },
    {
     "data": {
      "application/vnd.jupyter.widget-view+json": {
       "model_id": "7878a0a90ae140719ee7bfcea84e5f7f",
       "version_major": 2,
       "version_minor": 0
      },
      "text/plain": [
       "  0%|          | 0/1 [00:00<?, ?it/s]"
      ]
     },
     "metadata": {},
     "output_type": "display_data"
    },
    {
     "name": "stdout",
     "output_type": "stream",
     "text": [
      "Epoch 1/100\n",
      "29/29 [==============================] - 62s 2s/step - loss: 9.1320 - category_out_loss: 3.9674 - theme_out_loss: 5.9859 - val_loss: 6.7766 - val_category_out_loss: 2.8689 - val_theme_out_loss: 5.1940\n",
      "Epoch 2/100\n",
      "29/29 [==============================] - 45s 2s/step - loss: 8.1523 - category_out_loss: 3.4843 - theme_out_loss: 5.9183 - val_loss: 6.0441 - val_category_out_loss: 2.5046 - val_theme_out_loss: 5.1742\n",
      "Epoch 3/100\n",
      "29/29 [==============================] - 45s 2s/step - loss: 6.5332 - category_out_loss: 2.6855 - theme_out_loss: 5.8105 - val_loss: 5.0833 - val_category_out_loss: 2.0294 - val_theme_out_loss: 5.1222\n",
      "Epoch 4/100\n",
      "29/29 [==============================] - 47s 2s/step - loss: 5.1673 - category_out_loss: 2.0230 - theme_out_loss: 5.6068 - val_loss: 4.2330 - val_category_out_loss: 1.6158 - val_theme_out_loss: 5.0076\n",
      "Epoch 5/100\n",
      "29/29 [==============================] - 42s 1s/step - loss: 4.3092 - category_out_loss: 1.6291 - theme_out_loss: 5.2547 - val_loss: 3.7317 - val_category_out_loss: 1.3854 - val_theme_out_loss: 4.8049\n",
      "Epoch 6/100\n",
      "29/29 [==============================] - 49s 2s/step - loss: 3.8290 - category_out_loss: 1.4276 - theme_out_loss: 4.8684 - val_loss: 3.2870 - val_category_out_loss: 1.1923 - val_theme_out_loss: 4.5124\n",
      "Epoch 7/100\n",
      "29/29 [==============================] - 43s 2s/step - loss: 3.4040 - category_out_loss: 1.2675 - theme_out_loss: 4.3447 - val_loss: 3.0102 - val_category_out_loss: 1.0888 - val_theme_out_loss: 4.1632\n",
      "Epoch 8/100\n",
      "29/29 [==============================] - 43s 1s/step - loss: 3.0339 - category_out_loss: 1.1259 - theme_out_loss: 3.9105 - val_loss: 2.7815 - val_category_out_loss: 1.0066 - val_theme_out_loss: 3.8420\n",
      "Epoch 9/100\n",
      "29/29 [==============================] - 49s 2s/step - loss: 2.8813 - category_out_loss: 1.0856 - theme_out_loss: 3.5501 - val_loss: 2.6506 - val_category_out_loss: 0.9671 - val_theme_out_loss: 3.5816\n",
      "Epoch 10/100\n",
      "29/29 [==============================] - 42s 1s/step - loss: 2.6094 - category_out_loss: 0.9799 - theme_out_loss: 3.2480 - val_loss: 2.5507 - val_category_out_loss: 0.9392 - val_theme_out_loss: 3.3617\n",
      "Epoch 11/100\n",
      "29/29 [==============================] - 43s 1s/step - loss: 2.4490 - category_out_loss: 0.9241 - theme_out_loss: 3.0038 - val_loss: 2.4641 - val_category_out_loss: 0.9133 - val_theme_out_loss: 3.1878\n",
      "Epoch 12/100\n",
      "29/29 [==============================] - 50s 2s/step - loss: 2.3278 - category_out_loss: 0.8829 - theme_out_loss: 2.8096 - val_loss: 2.4114 - val_category_out_loss: 0.8992 - val_theme_out_loss: 3.0651\n",
      "Epoch 13/100\n",
      "29/29 [==============================] - 37s 1s/step - loss: 2.1821 - category_out_loss: 0.8268 - theme_out_loss: 2.6426 - val_loss: 2.3057 - val_category_out_loss: 0.8576 - val_theme_out_loss: 2.9527\n",
      "Epoch 14/100\n",
      "29/29 [==============================] - 42s 1s/step - loss: 2.0722 - category_out_loss: 0.7884 - theme_out_loss: 2.4768 - val_loss: 2.2878 - val_category_out_loss: 0.8567 - val_theme_out_loss: 2.8720\n",
      "Epoch 15/100\n",
      "29/29 [==============================] - 36s 1s/step - loss: 2.0018 - category_out_loss: 0.7619 - theme_out_loss: 2.3901 - val_loss: 2.2476 - val_category_out_loss: 0.8434 - val_theme_out_loss: 2.8037\n",
      "Epoch 16/100\n",
      "29/29 [==============================] - 46s 2s/step - loss: 1.9109 - category_out_loss: 0.7299 - theme_out_loss: 2.2553 - val_loss: 2.1951 - val_category_out_loss: 0.8228 - val_theme_out_loss: 2.7481\n",
      "Epoch 17/100\n",
      "29/29 [==============================] - 36s 1s/step - loss: 1.8474 - category_out_loss: 0.7060 - theme_out_loss: 2.1769 - val_loss: 2.1736 - val_category_out_loss: 0.8176 - val_theme_out_loss: 2.6914\n",
      "Epoch 18/100\n",
      "29/29 [==============================] - 51s 2s/step - loss: 1.8328 - category_out_loss: 0.7087 - theme_out_loss: 2.0772 - val_loss: 2.1408 - val_category_out_loss: 0.8045 - val_theme_out_loss: 2.6589\n",
      "Epoch 19/100\n",
      "29/29 [==============================] - 38s 1s/step - loss: 1.7674 - category_out_loss: 0.6806 - theme_out_loss: 2.0304 - val_loss: 2.1358 - val_category_out_loss: 0.8055 - val_theme_out_loss: 2.6238\n",
      "Epoch 20/100\n",
      "29/29 [==============================] - 51s 2s/step - loss: 1.7065 - category_out_loss: 0.6573 - theme_out_loss: 1.9597 - val_loss: 2.1071 - val_category_out_loss: 0.7943 - val_theme_out_loss: 2.5930\n",
      "Epoch 21/100\n",
      "29/29 [==============================] - 44s 2s/step - loss: 1.6887 - category_out_loss: 0.6544 - theme_out_loss: 1.8998 - val_loss: 2.0791 - val_category_out_loss: 0.7832 - val_theme_out_loss: 2.5637\n",
      "Epoch 22/100\n",
      "29/29 [==============================] - 37s 1s/step - loss: 1.6031 - category_out_loss: 0.6165 - theme_out_loss: 1.8503 - val_loss: 2.0728 - val_category_out_loss: 0.7825 - val_theme_out_loss: 2.5395\n",
      "Epoch 23/100\n",
      "29/29 [==============================] - 43s 1s/step - loss: 1.5060 - category_out_loss: 0.5749 - theme_out_loss: 1.7812 - val_loss: 2.0314 - val_category_out_loss: 0.7638 - val_theme_out_loss: 2.5192\n",
      "Epoch 24/100\n",
      "29/29 [==============================] - 46s 2s/step - loss: 1.4925 - category_out_loss: 0.5734 - theme_out_loss: 1.7289 - val_loss: 2.0261 - val_category_out_loss: 0.7624 - val_theme_out_loss: 2.5068\n",
      "Epoch 25/100\n",
      "29/29 [==============================] - 35s 1s/step - loss: 1.4903 - category_out_loss: 0.5775 - theme_out_loss: 1.6763 - val_loss: 2.0229 - val_category_out_loss: 0.7628 - val_theme_out_loss: 2.4861\n",
      "Epoch 26/100\n",
      "29/29 [==============================] - 50s 2s/step - loss: 1.4553 - category_out_loss: 0.5637 - theme_out_loss: 1.6397 - val_loss: 2.0180 - val_category_out_loss: 0.7613 - val_theme_out_loss: 2.4774\n",
      "Epoch 27/100\n",
      "29/29 [==============================] - 41s 1s/step - loss: 1.3927 - category_out_loss: 0.5349 - theme_out_loss: 1.6140 - val_loss: 1.9772 - val_category_out_loss: 0.7424 - val_theme_out_loss: 2.4616\n",
      "Epoch 28/100\n",
      "29/29 [==============================] - 49s 2s/step - loss: 1.2902 - category_out_loss: 0.4902 - theme_out_loss: 1.5493 - val_loss: 1.9616 - val_category_out_loss: 0.7361 - val_theme_out_loss: 2.4473\n",
      "Epoch 29/100\n",
      "29/29 [==============================] - 42s 1s/step - loss: 1.3330 - category_out_loss: 0.5135 - theme_out_loss: 1.5296 - val_loss: 1.9457 - val_category_out_loss: 0.7292 - val_theme_out_loss: 2.4370\n",
      "Epoch 30/100\n",
      "29/29 [==============================] - 43s 1s/step - loss: 1.2467 - category_out_loss: 0.4751 - theme_out_loss: 1.4827 - val_loss: 1.9715 - val_category_out_loss: 0.7423 - val_theme_out_loss: 2.4344\n",
      "Epoch 31/100\n",
      "29/29 [==============================] - 49s 2s/step - loss: 1.2181 - category_out_loss: 0.4634 - theme_out_loss: 1.4560 - val_loss: 1.9623 - val_category_out_loss: 0.7384 - val_theme_out_loss: 2.4282\n",
      "Epoch 32/100\n",
      "29/29 [==============================] - 36s 1s/step - loss: 1.3050 - category_out_loss: 0.5108 - theme_out_loss: 1.4165 - val_loss: 1.9260 - val_category_out_loss: 0.7213 - val_theme_out_loss: 2.4168\n",
      "Epoch 33/100\n",
      "29/29 [==============================] - 47s 2s/step - loss: 1.1926 - category_out_loss: 0.4563 - theme_out_loss: 1.3997 - val_loss: 1.9056 - val_category_out_loss: 0.7111 - val_theme_out_loss: 2.4165\n",
      "Epoch 34/100\n",
      "29/29 [==============================] - 41s 1s/step - loss: 1.1568 - category_out_loss: 0.4412 - theme_out_loss: 1.3715 - val_loss: 1.9200 - val_category_out_loss: 0.7194 - val_theme_out_loss: 2.4057\n",
      "Epoch 35/100\n",
      "29/29 [==============================] - 49s 2s/step - loss: 1.1355 - category_out_loss: 0.4311 - theme_out_loss: 1.3666 - val_loss: 1.9286 - val_category_out_loss: 0.7232 - val_theme_out_loss: 2.4105\n",
      "Epoch 36/100\n",
      "29/29 [==============================] - 45s 2s/step - loss: 1.1519 - category_out_loss: 0.4426 - theme_out_loss: 1.3332 - val_loss: 1.9196 - val_category_out_loss: 0.7192 - val_theme_out_loss: 2.4056\n"
     ]
    },
    {
     "name": "stderr",
     "output_type": "stream",
     "text": [
      "WARNING:absl:Found untraced functions such as restored_function_body, restored_function_body, restored_function_body, restored_function_body, restored_function_body while saving (showing 5 of 360). These functions will not be directly callable after loading.\n"
     ]
    },
    {
     "name": "stdout",
     "output_type": "stream",
     "text": [
      "4/4 [==============================] - 6s 1s/step\n",
      "29/29 [==============================] - 32s 1s/step\n",
      "16/16 [==============================] - 21s 1s/step\n",
      "val auc 0.9166185254803676\n",
      "leak_test_auc_score 0.8720778120576873\n"
     ]
    },
    {
     "data": {
      "application/vnd.jupyter.widget-view+json": {
       "model_id": "0503c2c0fda54ca3b1d2bad0782962c1",
       "version_major": 2,
       "version_minor": 0
      },
      "text/plain": [
       "  0%|          | 0/1 [00:00<?, ?it/s]"
      ]
     },
     "metadata": {},
     "output_type": "display_data"
    },
    {
     "name": "stdout",
     "output_type": "stream",
     "text": [
      "Epoch 1/100\n",
      "29/29 [==============================] - 57s 2s/step - loss: 8.7176 - category_out_loss: 3.7746 - theme_out_loss: 5.8421 - val_loss: 6.8227 - val_category_out_loss: 2.8998 - val_theme_out_loss: 5.1150\n",
      "Epoch 2/100\n",
      "29/29 [==============================] - 49s 2s/step - loss: 7.7993 - category_out_loss: 3.3210 - theme_out_loss: 5.7866 - val_loss: 5.9450 - val_category_out_loss: 2.4635 - val_theme_out_loss: 5.0900\n",
      "Epoch 3/100\n",
      "29/29 [==============================] - 40s 1s/step - loss: 6.2536 - category_out_loss: 2.5571 - theme_out_loss: 5.6971 - val_loss: 4.9016 - val_category_out_loss: 1.9488 - val_theme_out_loss: 5.0200\n",
      "Epoch 4/100\n",
      "29/29 [==============================] - 46s 2s/step - loss: 5.0290 - category_out_loss: 1.9688 - theme_out_loss: 5.4570 - val_loss: 4.1216 - val_category_out_loss: 1.5728 - val_theme_out_loss: 4.8803\n",
      "Epoch 5/100\n",
      "29/29 [==============================] - 37s 1s/step - loss: 4.2480 - category_out_loss: 1.6065 - theme_out_loss: 5.1753 - val_loss: 3.6353 - val_category_out_loss: 1.3531 - val_theme_out_loss: 4.6457\n",
      "Epoch 6/100\n",
      "29/29 [==============================] - 49s 2s/step - loss: 3.8163 - category_out_loss: 1.4334 - theme_out_loss: 4.7471 - val_loss: 3.2692 - val_category_out_loss: 1.2003 - val_theme_out_loss: 4.3430\n",
      "Epoch 7/100\n",
      "29/29 [==============================] - 41s 1s/step - loss: 3.3574 - category_out_loss: 1.2486 - theme_out_loss: 4.3005 - val_loss: 3.0151 - val_category_out_loss: 1.1107 - val_theme_out_loss: 3.9684\n",
      "Epoch 8/100\n",
      "29/29 [==============================] - 49s 2s/step - loss: 2.9809 - category_out_loss: 1.1060 - theme_out_loss: 3.8448 - val_loss: 2.7995 - val_category_out_loss: 1.0354 - val_theme_out_loss: 3.6435\n",
      "Epoch 9/100\n",
      "29/29 [==============================] - 41s 1s/step - loss: 2.7875 - category_out_loss: 1.0421 - theme_out_loss: 3.5160 - val_loss: 2.6851 - val_category_out_loss: 1.0054 - val_theme_out_loss: 3.3712\n",
      "Epoch 10/100\n",
      "29/29 [==============================] - 46s 2s/step - loss: 2.5596 - category_out_loss: 0.9584 - theme_out_loss: 3.2139 - val_loss: 2.5612 - val_category_out_loss: 0.9635 - val_theme_out_loss: 3.1711\n",
      "Epoch 11/100\n",
      "29/29 [==============================] - 43s 2s/step - loss: 2.4458 - category_out_loss: 0.9206 - theme_out_loss: 3.0234 - val_loss: 2.5321 - val_category_out_loss: 0.9652 - val_theme_out_loss: 3.0079\n",
      "Epoch 12/100\n",
      "29/29 [==============================] - 43s 1s/step - loss: 2.3176 - category_out_loss: 0.8725 - theme_out_loss: 2.8627 - val_loss: 2.5246 - val_category_out_loss: 0.9735 - val_theme_out_loss: 2.8881\n",
      "Epoch 13/100\n",
      "29/29 [==============================] - 51s 2s/step - loss: 2.1940 - category_out_loss: 0.8277 - theme_out_loss: 2.6927 - val_loss: 2.4940 - val_category_out_loss: 0.9686 - val_theme_out_loss: 2.7839\n"
     ]
    },
    {
     "name": "stderr",
     "output_type": "stream",
     "text": [
      "WARNING:absl:Found untraced functions such as restored_function_body, restored_function_body, restored_function_body, restored_function_body, restored_function_body while saving (showing 5 of 360). These functions will not be directly callable after loading.\n"
     ]
    },
    {
     "name": "stdout",
     "output_type": "stream",
     "text": [
      "4/4 [==============================] - 6s 1s/step\n",
      "29/29 [==============================] - 33s 1s/step\n",
      "16/16 [==============================] - 19s 1s/step\n",
      "val auc 0.8979467243283034\n",
      "leak_test_auc_score 0.8690133142351155\n"
     ]
    },
    {
     "data": {
      "application/vnd.jupyter.widget-view+json": {
       "model_id": "c29a2b08fb2e49a4bf0be06a98328e1f",
       "version_major": 2,
       "version_minor": 0
      },
      "text/plain": [
       "  0%|          | 0/1 [00:00<?, ?it/s]"
      ]
     },
     "metadata": {},
     "output_type": "display_data"
    },
    {
     "name": "stdout",
     "output_type": "stream",
     "text": [
      "Epoch 1/100\n",
      "29/29 [==============================] - 65s 2s/step - loss: 8.7417 - category_out_loss: 3.7851 - theme_out_loss: 5.8578 - val_loss: 7.0162 - val_category_out_loss: 2.9886 - val_theme_out_loss: 5.1953\n",
      "Epoch 2/100\n",
      "29/29 [==============================] - 44s 2s/step - loss: 7.8139 - category_out_loss: 3.3253 - theme_out_loss: 5.8164 - val_loss: 6.2106 - val_category_out_loss: 2.5894 - val_theme_out_loss: 5.1587\n",
      "Epoch 3/100\n",
      "29/29 [==============================] - 44s 1s/step - loss: 6.2946 - category_out_loss: 2.5806 - theme_out_loss: 5.6664 - val_loss: 5.1962 - val_category_out_loss: 2.0891 - val_theme_out_loss: 5.0904\n",
      "Epoch 4/100\n",
      "29/29 [==============================] - 49s 2s/step - loss: 5.0927 - category_out_loss: 1.9982 - theme_out_loss: 5.4815 - val_loss: 4.3636 - val_category_out_loss: 1.6858 - val_theme_out_loss: 4.9596\n",
      "Epoch 5/100\n",
      "29/29 [==============================] - 44s 2s/step - loss: 4.1922 - category_out_loss: 1.5788 - theme_out_loss: 5.1733 - val_loss: 3.8824 - val_category_out_loss: 1.4674 - val_theme_out_loss: 4.7384\n",
      "Epoch 6/100\n",
      "29/29 [==============================] - 43s 1s/step - loss: 3.7167 - category_out_loss: 1.3849 - theme_out_loss: 4.7344 - val_loss: 3.5225 - val_category_out_loss: 1.3166 - val_theme_out_loss: 4.4466\n",
      "Epoch 7/100\n",
      "29/29 [==============================] - 50s 2s/step - loss: 3.2385 - category_out_loss: 1.1945 - theme_out_loss: 4.2473 - val_loss: 3.3130 - val_category_out_loss: 1.2466 - val_theme_out_loss: 4.0988\n",
      "Epoch 8/100\n",
      "29/29 [==============================] - 39s 1s/step - loss: 2.9202 - category_out_loss: 1.0802 - theme_out_loss: 3.7994 - val_loss: 3.1774 - val_category_out_loss: 1.2087 - val_theme_out_loss: 3.7998\n",
      "Epoch 9/100\n",
      "29/29 [==============================] - 48s 2s/step - loss: 2.6903 - category_out_loss: 0.9989 - theme_out_loss: 3.4626 - val_loss: 3.1169 - val_category_out_loss: 1.2033 - val_theme_out_loss: 3.5516\n",
      "Epoch 10/100\n",
      "29/29 [==============================] - 43s 2s/step - loss: 2.5678 - category_out_loss: 0.9623 - theme_out_loss: 3.2159 - val_loss: 3.0528 - val_category_out_loss: 1.1898 - val_theme_out_loss: 3.3657\n",
      "Epoch 11/100\n",
      "29/29 [==============================] - 43s 1s/step - loss: 2.4170 - category_out_loss: 0.9100 - theme_out_loss: 2.9856 - val_loss: 2.9898 - val_category_out_loss: 1.1729 - val_theme_out_loss: 3.2203\n",
      "Epoch 12/100\n",
      "29/29 [==============================] - 50s 2s/step - loss: 2.2642 - category_out_loss: 0.8524 - theme_out_loss: 2.7966 - val_loss: 2.9826 - val_category_out_loss: 1.1819 - val_theme_out_loss: 3.0938\n",
      "Epoch 13/100\n",
      "29/29 [==============================] - 38s 1s/step - loss: 2.1834 - category_out_loss: 0.8277 - theme_out_loss: 2.6405 - val_loss: 2.9589 - val_category_out_loss: 1.1810 - val_theme_out_loss: 2.9845\n",
      "Epoch 14/100\n",
      "29/29 [==============================] - 47s 2s/step - loss: 2.0427 - category_out_loss: 0.7701 - theme_out_loss: 2.5122 - val_loss: 2.9092 - val_category_out_loss: 1.1650 - val_theme_out_loss: 2.8954\n",
      "Epoch 15/100\n",
      "29/29 [==============================] - 35s 1s/step - loss: 1.9041 - category_out_loss: 0.7128 - theme_out_loss: 2.3922 - val_loss: 2.9220 - val_category_out_loss: 1.1783 - val_theme_out_loss: 2.8270\n",
      "Epoch 16/100\n",
      "29/29 [==============================] - 48s 2s/step - loss: 1.8280 - category_out_loss: 0.6875 - theme_out_loss: 2.2647 - val_loss: 2.9071 - val_category_out_loss: 1.1769 - val_theme_out_loss: 2.7669\n",
      "Epoch 17/100\n",
      "29/29 [==============================] - 41s 1s/step - loss: 1.8338 - category_out_loss: 0.6983 - theme_out_loss: 2.1858 - val_loss: 2.8707 - val_category_out_loss: 1.1644 - val_theme_out_loss: 2.7098\n",
      "Epoch 18/100\n",
      "29/29 [==============================] - 49s 2s/step - loss: 1.7322 - category_out_loss: 0.6563 - theme_out_loss: 2.0980 - val_loss: 2.8724 - val_category_out_loss: 1.1691 - val_theme_out_loss: 2.6709\n",
      "Epoch 19/100\n",
      "29/29 [==============================] - 41s 1s/step - loss: 1.6417 - category_out_loss: 0.6197 - theme_out_loss: 2.0112 - val_loss: 2.8220 - val_category_out_loss: 1.1473 - val_theme_out_loss: 2.6370\n",
      "Epoch 20/100\n",
      "29/29 [==============================] - 35s 1s/step - loss: 1.6079 - category_out_loss: 0.6063 - theme_out_loss: 1.9763 - val_loss: 2.8215 - val_category_out_loss: 1.1500 - val_theme_out_loss: 2.6070\n",
      "Epoch 21/100\n",
      "29/29 [==============================] - 46s 2s/step - loss: 1.5219 - category_out_loss: 0.5726 - theme_out_loss: 1.8833 - val_loss: 2.7896 - val_category_out_loss: 1.1365 - val_theme_out_loss: 2.5834\n",
      "Epoch 22/100\n",
      "29/29 [==============================] - 43s 1s/step - loss: 1.5078 - category_out_loss: 0.5731 - theme_out_loss: 1.8080 - val_loss: 2.7704 - val_category_out_loss: 1.1289 - val_theme_out_loss: 2.5631\n",
      "Epoch 23/100\n",
      "29/29 [==============================] - 49s 2s/step - loss: 1.4804 - category_out_loss: 0.5610 - theme_out_loss: 1.7922 - val_loss: 2.7332 - val_category_out_loss: 1.1133 - val_theme_out_loss: 2.5332\n",
      "Epoch 24/100\n",
      "29/29 [==============================] - 42s 1s/step - loss: 1.4423 - category_out_loss: 0.5496 - theme_out_loss: 1.7157 - val_loss: 2.7206 - val_category_out_loss: 1.1082 - val_theme_out_loss: 2.5215\n",
      "Epoch 25/100\n",
      "29/29 [==============================] - 36s 1s/step - loss: 1.4358 - category_out_loss: 0.5487 - theme_out_loss: 1.6921 - val_loss: 2.6735 - val_category_out_loss: 1.0862 - val_theme_out_loss: 2.5059\n",
      "Epoch 26/100\n",
      "29/29 [==============================] - 48s 2s/step - loss: 1.3877 - category_out_loss: 0.5285 - theme_out_loss: 1.6533 - val_loss: 2.6690 - val_category_out_loss: 1.0851 - val_theme_out_loss: 2.4940\n",
      "Epoch 27/100\n",
      "29/29 [==============================] - 36s 1s/step - loss: 1.3673 - category_out_loss: 0.5224 - theme_out_loss: 1.6122 - val_loss: 2.6694 - val_category_out_loss: 1.0860 - val_theme_out_loss: 2.4865\n",
      "Epoch 28/100\n",
      "29/29 [==============================] - 46s 2s/step - loss: 1.2889 - category_out_loss: 0.4887 - theme_out_loss: 1.5578 - val_loss: 2.6736 - val_category_out_loss: 1.0888 - val_theme_out_loss: 2.4801\n",
      "Epoch 29/100\n",
      "29/29 [==============================] - 43s 1s/step - loss: 1.2757 - category_out_loss: 0.4847 - theme_out_loss: 1.5313 - val_loss: 2.6690 - val_category_out_loss: 1.0875 - val_theme_out_loss: 2.4701\n"
     ]
    },
    {
     "name": "stderr",
     "output_type": "stream",
     "text": [
      "WARNING:absl:Found untraced functions such as restored_function_body, restored_function_body, restored_function_body, restored_function_body, restored_function_body while saving (showing 5 of 360). These functions will not be directly callable after loading.\n"
     ]
    },
    {
     "name": "stdout",
     "output_type": "stream",
     "text": [
      "4/4 [==============================] - 6s 1s/step\n",
      "29/29 [==============================] - 34s 1s/step\n",
      "16/16 [==============================] - 29s 2s/step\n",
      "val auc 0.8224479580214663\n",
      "leak_test_auc_score 0.8687693576350647\n"
     ]
    },
    {
     "data": {
      "application/vnd.jupyter.widget-view+json": {
       "model_id": "0924700e65d04334aaec55b194a1980c",
       "version_major": 2,
       "version_minor": 0
      },
      "text/plain": [
       "  0%|          | 0/1 [00:00<?, ?it/s]"
      ]
     },
     "metadata": {},
     "output_type": "display_data"
    },
    {
     "name": "stdout",
     "output_type": "stream",
     "text": [
      "Epoch 1/100\n",
      "29/29 [==============================] - 54s 1s/step - loss: 8.6709 - category_out_loss: 3.7569 - theme_out_loss: 5.7850 - val_loss: 6.8804 - val_category_out_loss: 2.9234 - val_theme_out_loss: 5.1678\n",
      "Epoch 2/100\n",
      "29/29 [==============================] - 50s 2s/step - loss: 7.6666 - category_out_loss: 3.2591 - theme_out_loss: 5.7421 - val_loss: 5.9806 - val_category_out_loss: 2.4772 - val_theme_out_loss: 5.1313\n",
      "Epoch 3/100\n",
      "29/29 [==============================] - 42s 1s/step - loss: 6.2489 - category_out_loss: 2.5635 - theme_out_loss: 5.6096 - val_loss: 4.9344 - val_category_out_loss: 1.9610 - val_theme_out_loss: 5.0622\n",
      "Epoch 4/100\n",
      "29/29 [==============================] - 45s 2s/step - loss: 5.0640 - category_out_loss: 1.9878 - theme_out_loss: 5.4425 - val_loss: 4.1809 - val_category_out_loss: 1.5970 - val_theme_out_loss: 4.9344\n",
      "Epoch 5/100\n",
      "29/29 [==============================] - 37s 1s/step - loss: 4.1723 - category_out_loss: 1.5769 - theme_out_loss: 5.0919 - val_loss: 3.7376 - val_category_out_loss: 1.3974 - val_theme_out_loss: 4.7144\n",
      "Epoch 6/100\n",
      "29/29 [==============================] - 51s 2s/step - loss: 3.6980 - category_out_loss: 1.3789 - theme_out_loss: 4.7003 - val_loss: 3.4415 - val_category_out_loss: 1.2794 - val_theme_out_loss: 4.4134\n",
      "Epoch 7/100\n",
      "29/29 [==============================] - 37s 1s/step - loss: 3.3431 - category_out_loss: 1.2412 - theme_out_loss: 4.3036 - val_loss: 3.2104 - val_category_out_loss: 1.1990 - val_theme_out_loss: 4.0617\n",
      "Epoch 8/100\n",
      "29/29 [==============================] - 46s 2s/step - loss: 2.9457 - category_out_loss: 1.0932 - theme_out_loss: 3.7962 - val_loss: 3.0503 - val_category_out_loss: 1.1503 - val_theme_out_loss: 3.7488\n",
      "Epoch 9/100\n",
      "29/29 [==============================] - 45s 2s/step - loss: 2.7329 - category_out_loss: 1.0160 - theme_out_loss: 3.5048 - val_loss: 2.9460 - val_category_out_loss: 1.1247 - val_theme_out_loss: 3.4830\n",
      "Epoch 10/100\n",
      "29/29 [==============================] - 36s 1s/step - loss: 2.5231 - category_out_loss: 0.9417 - theme_out_loss: 3.1988 - val_loss: 2.9078 - val_category_out_loss: 1.1262 - val_theme_out_loss: 3.2771\n",
      "Epoch 11/100\n",
      "29/29 [==============================] - 50s 2s/step - loss: 2.3821 - category_out_loss: 0.8907 - theme_out_loss: 3.0034 - val_loss: 2.8741 - val_category_out_loss: 1.1258 - val_theme_out_loss: 3.1126\n",
      "Epoch 12/100\n",
      "29/29 [==============================] - 41s 1s/step - loss: 2.3039 - category_out_loss: 0.8684 - theme_out_loss: 2.8358 - val_loss: 2.8373 - val_category_out_loss: 1.1197 - val_theme_out_loss: 2.9894\n",
      "Epoch 13/100\n",
      "29/29 [==============================] - 48s 2s/step - loss: 2.1743 - category_out_loss: 0.8212 - theme_out_loss: 2.6590 - val_loss: 2.7778 - val_category_out_loss: 1.1007 - val_theme_out_loss: 2.8825\n",
      "Epoch 14/100\n",
      "29/29 [==============================] - 43s 1s/step - loss: 2.0719 - category_out_loss: 0.7832 - theme_out_loss: 2.5280 - val_loss: 2.7905 - val_category_out_loss: 1.1151 - val_theme_out_loss: 2.8015\n",
      "Epoch 15/100\n",
      "29/29 [==============================] - 45s 2s/step - loss: 2.0244 - category_out_loss: 0.7720 - theme_out_loss: 2.4019 - val_loss: 2.7821 - val_category_out_loss: 1.1177 - val_theme_out_loss: 2.7337\n",
      "Epoch 16/100\n",
      "29/29 [==============================] - 47s 2s/step - loss: 1.9029 - category_out_loss: 0.7229 - theme_out_loss: 2.2859 - val_loss: 2.6903 - val_category_out_loss: 1.0776 - val_theme_out_loss: 2.6757\n",
      "Epoch 17/100\n",
      "29/29 [==============================] - 41s 1s/step - loss: 1.8419 - category_out_loss: 0.7032 - theme_out_loss: 2.1777 - val_loss: 2.6658 - val_category_out_loss: 1.0689 - val_theme_out_loss: 2.6394\n",
      "Epoch 18/100\n",
      "29/29 [==============================] - 49s 2s/step - loss: 1.7831 - category_out_loss: 0.6766 - theme_out_loss: 2.1501 - val_loss: 2.6592 - val_category_out_loss: 1.0702 - val_theme_out_loss: 2.5939\n",
      "Epoch 19/100\n",
      "29/29 [==============================] - 46s 2s/step - loss: 1.7208 - category_out_loss: 0.6577 - theme_out_loss: 2.0265 - val_loss: 2.6272 - val_category_out_loss: 1.0577 - val_theme_out_loss: 2.5585\n",
      "Epoch 20/100\n",
      "29/29 [==============================] - 42s 1s/step - loss: 1.7124 - category_out_loss: 0.6578 - theme_out_loss: 1.9839 - val_loss: 2.5851 - val_category_out_loss: 1.0404 - val_theme_out_loss: 2.5219\n",
      "Epoch 21/100\n",
      "29/29 [==============================] - 49s 2s/step - loss: 1.6037 - category_out_loss: 0.6090 - theme_out_loss: 1.9289 - val_loss: 2.5266 - val_category_out_loss: 1.0150 - val_theme_out_loss: 2.4825\n",
      "Epoch 22/100\n",
      "29/29 [==============================] - 36s 1s/step - loss: 1.5887 - category_out_loss: 0.6068 - theme_out_loss: 1.8757 - val_loss: 2.5371 - val_category_out_loss: 1.0217 - val_theme_out_loss: 2.4685\n",
      "Epoch 23/100\n",
      "29/29 [==============================] - 47s 2s/step - loss: 1.5012 - category_out_loss: 0.5692 - theme_out_loss: 1.8141 - val_loss: 2.5201 - val_category_out_loss: 1.0145 - val_theme_out_loss: 2.4551\n",
      "Epoch 24/100\n",
      "29/29 [==============================] - 42s 1s/step - loss: 1.4581 - category_out_loss: 0.5551 - theme_out_loss: 1.7399 - val_loss: 2.4911 - val_category_out_loss: 1.0021 - val_theme_out_loss: 2.4344\n",
      "Epoch 25/100\n",
      "29/29 [==============================] - 48s 2s/step - loss: 1.4334 - category_out_loss: 0.5470 - theme_out_loss: 1.6967 - val_loss: 2.4481 - val_category_out_loss: 0.9818 - val_theme_out_loss: 2.4232\n",
      "Epoch 26/100\n",
      "29/29 [==============================] - 43s 1s/step - loss: 1.3588 - category_out_loss: 0.5149 - theme_out_loss: 1.6451 - val_loss: 2.4427 - val_category_out_loss: 0.9805 - val_theme_out_loss: 2.4087\n",
      "Epoch 27/100\n",
      "29/29 [==============================] - 44s 2s/step - loss: 1.3490 - category_out_loss: 0.5137 - theme_out_loss: 1.6083 - val_loss: 2.3926 - val_category_out_loss: 0.9573 - val_theme_out_loss: 2.3897\n",
      "Epoch 28/100\n",
      "29/29 [==============================] - 48s 2s/step - loss: 1.3722 - category_out_loss: 0.5291 - theme_out_loss: 1.5699 - val_loss: 2.3423 - val_category_out_loss: 0.9332 - val_theme_out_loss: 2.3792\n",
      "Epoch 29/100\n",
      "29/29 [==============================] - 39s 1s/step - loss: 1.2709 - category_out_loss: 0.4783 - theme_out_loss: 1.5712 - val_loss: 2.3595 - val_category_out_loss: 0.9430 - val_theme_out_loss: 2.3674\n",
      "Epoch 30/100\n",
      "29/29 [==============================] - 49s 2s/step - loss: 1.2465 - category_out_loss: 0.4753 - theme_out_loss: 1.4796 - val_loss: 2.3665 - val_category_out_loss: 0.9472 - val_theme_out_loss: 2.3600\n",
      "Epoch 31/100\n",
      "29/29 [==============================] - 46s 2s/step - loss: 1.2258 - category_out_loss: 0.4638 - theme_out_loss: 1.4908 - val_loss: 2.3483 - val_category_out_loss: 0.9391 - val_theme_out_loss: 2.3500\n"
     ]
    },
    {
     "name": "stderr",
     "output_type": "stream",
     "text": [
      "WARNING:absl:Found untraced functions such as restored_function_body, restored_function_body, restored_function_body, restored_function_body, restored_function_body while saving (showing 5 of 360). These functions will not be directly callable after loading.\n"
     ]
    },
    {
     "name": "stdout",
     "output_type": "stream",
     "text": [
      "4/4 [==============================] - 6s 1s/step\n",
      "29/29 [==============================] - 31s 1s/step\n",
      "16/16 [==============================] - 20s 1s/step\n",
      "val auc 0.9192427305537209\n",
      "leak_test_auc_score 0.869575647134414\n"
     ]
    },
    {
     "data": {
      "application/vnd.jupyter.widget-view+json": {
       "model_id": "75925eb297234cb99607969c73c9a074",
       "version_major": 2,
       "version_minor": 0
      },
      "text/plain": [
       "  0%|          | 0/1 [00:00<?, ?it/s]"
      ]
     },
     "metadata": {},
     "output_type": "display_data"
    },
    {
     "name": "stdout",
     "output_type": "stream",
     "text": [
      "Epoch 1/100\n",
      "29/29 [==============================] - 67s 2s/step - loss: 8.8190 - category_out_loss: 3.8271 - theme_out_loss: 5.8238 - val_loss: 6.7007 - val_category_out_loss: 2.8289 - val_theme_out_loss: 5.2150\n",
      "Epoch 2/100\n",
      "29/29 [==============================] - 41s 1s/step - loss: 7.9374 - category_out_loss: 3.3901 - theme_out_loss: 5.7864 - val_loss: 6.0657 - val_category_out_loss: 2.5144 - val_theme_out_loss: 5.1847\n",
      "Epoch 3/100\n",
      "29/29 [==============================] - 48s 2s/step - loss: 6.4184 - category_out_loss: 2.6405 - theme_out_loss: 5.6869 - val_loss: 5.1342 - val_category_out_loss: 2.0546 - val_theme_out_loss: 5.1247\n",
      "Epoch 4/100\n",
      "29/29 [==============================] - 42s 1s/step - loss: 5.0691 - category_out_loss: 1.9889 - theme_out_loss: 5.4561 - val_loss: 4.3267 - val_category_out_loss: 1.6628 - val_theme_out_loss: 5.0060\n",
      "Epoch 5/100\n",
      "29/29 [==============================] - 45s 2s/step - loss: 4.3446 - category_out_loss: 1.6555 - theme_out_loss: 5.1683 - val_loss: 3.7358 - val_category_out_loss: 1.3873 - val_theme_out_loss: 4.8060\n",
      "Epoch 6/100\n",
      "29/29 [==============================] - 49s 2s/step - loss: 3.7849 - category_out_loss: 1.4171 - theme_out_loss: 4.7529 - val_loss: 3.3065 - val_category_out_loss: 1.2009 - val_theme_out_loss: 4.5233\n",
      "Epoch 7/100\n",
      "29/29 [==============================] - 41s 1s/step - loss: 3.3687 - category_out_loss: 1.2547 - theme_out_loss: 4.2968 - val_loss: 3.0423 - val_category_out_loss: 1.1028 - val_theme_out_loss: 4.1839\n",
      "Epoch 8/100\n",
      "29/29 [==============================] - 48s 2s/step - loss: 3.0051 - category_out_loss: 1.1204 - theme_out_loss: 3.8212 - val_loss: 2.8591 - val_category_out_loss: 1.0403 - val_theme_out_loss: 3.8921\n",
      "Epoch 9/100\n",
      "29/29 [==============================] - 46s 2s/step - loss: 2.8614 - category_out_loss: 1.0838 - theme_out_loss: 3.4685 - val_loss: 2.7444 - val_category_out_loss: 1.0067 - val_theme_out_loss: 3.6549\n",
      "Epoch 10/100\n",
      "29/29 [==============================] - 36s 1s/step - loss: 2.5496 - category_out_loss: 0.9560 - theme_out_loss: 3.1882 - val_loss: 2.6596 - val_category_out_loss: 0.9839 - val_theme_out_loss: 3.4591\n",
      "Epoch 11/100\n",
      "29/29 [==============================] - 44s 2s/step - loss: 2.4020 - category_out_loss: 0.9053 - theme_out_loss: 2.9566 - val_loss: 2.6046 - val_category_out_loss: 0.9727 - val_theme_out_loss: 3.2965\n",
      "Epoch 12/100\n",
      "29/29 [==============================] - 44s 2s/step - loss: 2.3327 - category_out_loss: 0.8878 - theme_out_loss: 2.7851 - val_loss: 2.5305 - val_category_out_loss: 0.9492 - val_theme_out_loss: 3.1607\n",
      "Epoch 13/100\n",
      "29/29 [==============================] - 45s 2s/step - loss: 2.2036 - category_out_loss: 0.8397 - theme_out_loss: 2.6212 - val_loss: 2.5229 - val_category_out_loss: 0.9560 - val_theme_out_loss: 3.0545\n",
      "Epoch 14/100\n",
      "29/29 [==============================] - 37s 1s/step - loss: 2.1158 - category_out_loss: 0.8083 - theme_out_loss: 2.4960 - val_loss: 2.4852 - val_category_out_loss: 0.9462 - val_theme_out_loss: 2.9640\n",
      "Epoch 15/100\n",
      "29/29 [==============================] - 44s 2s/step - loss: 2.0511 - category_out_loss: 0.7843 - theme_out_loss: 2.4126 - val_loss: 2.4650 - val_category_out_loss: 0.9433 - val_theme_out_loss: 2.8914\n",
      "Epoch 16/100\n",
      "29/29 [==============================] - 44s 2s/step - loss: 1.9289 - category_out_loss: 0.7331 - theme_out_loss: 2.3137 - val_loss: 2.4268 - val_category_out_loss: 0.9303 - val_theme_out_loss: 2.8310\n",
      "Epoch 17/100\n",
      "29/29 [==============================] - 49s 2s/step - loss: 1.8352 - category_out_loss: 0.6975 - theme_out_loss: 2.2007 - val_loss: 2.4193 - val_category_out_loss: 0.9319 - val_theme_out_loss: 2.7770\n",
      "Epoch 18/100\n",
      "29/29 [==============================] - 43s 1s/step - loss: 1.7417 - category_out_loss: 0.6613 - theme_out_loss: 2.0959 - val_loss: 2.3588 - val_category_out_loss: 0.9069 - val_theme_out_loss: 2.7244\n",
      "Epoch 19/100\n",
      "29/29 [==============================] - 44s 1s/step - loss: 1.7422 - category_out_loss: 0.6708 - theme_out_loss: 2.0028 - val_loss: 2.3359 - val_category_out_loss: 0.8994 - val_theme_out_loss: 2.6862\n",
      "Epoch 20/100\n",
      "29/29 [==============================] - 48s 2s/step - loss: 1.7397 - category_out_loss: 0.6709 - theme_out_loss: 1.9897 - val_loss: 2.2940 - val_category_out_loss: 0.8820 - val_theme_out_loss: 2.6498\n",
      "Epoch 21/100\n",
      "29/29 [==============================] - 37s 1s/step - loss: 1.6162 - category_out_loss: 0.6196 - theme_out_loss: 1.8853 - val_loss: 2.2820 - val_category_out_loss: 0.8782 - val_theme_out_loss: 2.6282\n",
      "Epoch 22/100\n",
      "29/29 [==============================] - 46s 2s/step - loss: 1.5696 - category_out_loss: 0.6016 - theme_out_loss: 1.8317 - val_loss: 2.2709 - val_category_out_loss: 0.8762 - val_theme_out_loss: 2.5926\n",
      "Epoch 23/100\n",
      "29/29 [==============================] - 36s 1s/step - loss: 1.4938 - category_out_loss: 0.5671 - theme_out_loss: 1.7981 - val_loss: 2.3089 - val_category_out_loss: 0.8973 - val_theme_out_loss: 2.5718\n",
      "Epoch 24/100\n",
      "29/29 [==============================] - 47s 2s/step - loss: 1.4189 - category_out_loss: 0.5349 - theme_out_loss: 1.7452 - val_loss: 2.2518 - val_category_out_loss: 0.8707 - val_theme_out_loss: 2.5527\n",
      "Epoch 25/100\n",
      "29/29 [==============================] - 43s 1s/step - loss: 1.4247 - category_out_loss: 0.5409 - theme_out_loss: 1.7148 - val_loss: 2.2276 - val_category_out_loss: 0.8610 - val_theme_out_loss: 2.5279\n",
      "Epoch 26/100\n",
      "29/29 [==============================] - 48s 2s/step - loss: 1.3879 - category_out_loss: 0.5293 - theme_out_loss: 1.6471 - val_loss: 2.1933 - val_category_out_loss: 0.8461 - val_theme_out_loss: 2.5057\n",
      "Epoch 27/100\n",
      "29/29 [==============================] - 37s 1s/step - loss: 1.3404 - category_out_loss: 0.5089 - theme_out_loss: 1.6130 - val_loss: 2.1722 - val_category_out_loss: 0.8377 - val_theme_out_loss: 2.4843\n",
      "Epoch 28/100\n",
      "29/29 [==============================] - 44s 2s/step - loss: 1.2947 - category_out_loss: 0.4891 - theme_out_loss: 1.5825 - val_loss: 2.1626 - val_category_out_loss: 0.8339 - val_theme_out_loss: 2.4738\n",
      "Epoch 29/100\n",
      "29/29 [==============================] - 43s 1s/step - loss: 1.2889 - category_out_loss: 0.4886 - theme_out_loss: 1.5580 - val_loss: 2.1379 - val_category_out_loss: 0.8230 - val_theme_out_loss: 2.4597\n",
      "Epoch 30/100\n",
      "29/29 [==============================] - 50s 2s/step - loss: 1.2566 - category_out_loss: 0.4774 - theme_out_loss: 1.5088 - val_loss: 2.1231 - val_category_out_loss: 0.8173 - val_theme_out_loss: 2.4428\n",
      "Epoch 31/100\n",
      "29/29 [==============================] - 37s 1s/step - loss: 1.2593 - category_out_loss: 0.4806 - theme_out_loss: 1.4905 - val_loss: 2.1154 - val_category_out_loss: 0.8143 - val_theme_out_loss: 2.4336\n",
      "Epoch 32/100\n",
      "29/29 [==============================] - 43s 2s/step - loss: 1.1954 - category_out_loss: 0.4524 - theme_out_loss: 1.4524 - val_loss: 2.0951 - val_category_out_loss: 0.8060 - val_theme_out_loss: 2.4155\n",
      "Epoch 33/100\n",
      "29/29 [==============================] - 37s 1s/step - loss: 1.2134 - category_out_loss: 0.4656 - theme_out_loss: 1.4108 - val_loss: 2.0910 - val_category_out_loss: 0.8047 - val_theme_out_loss: 2.4081\n",
      "Epoch 34/100\n",
      "29/29 [==============================] - 46s 2s/step - loss: 1.1594 - category_out_loss: 0.4409 - theme_out_loss: 1.3878 - val_loss: 2.0728 - val_category_out_loss: 0.7959 - val_theme_out_loss: 2.4044\n",
      "Epoch 35/100\n",
      "29/29 [==============================] - 44s 1s/step - loss: 1.1904 - category_out_loss: 0.4560 - theme_out_loss: 1.3924 - val_loss: 2.0456 - val_category_out_loss: 0.7830 - val_theme_out_loss: 2.3984\n",
      "Epoch 36/100\n",
      "29/29 [==============================] - 47s 2s/step - loss: 1.1397 - category_out_loss: 0.4341 - theme_out_loss: 1.3575 - val_loss: 2.0459 - val_category_out_loss: 0.7838 - val_theme_out_loss: 2.3911\n",
      "Epoch 37/100\n",
      "29/29 [==============================] - 48s 2s/step - loss: 1.1088 - category_out_loss: 0.4238 - theme_out_loss: 1.3060 - val_loss: 2.0203 - val_category_out_loss: 0.7726 - val_theme_out_loss: 2.3758\n",
      "Epoch 38/100\n",
      "29/29 [==============================] - 40s 1s/step - loss: 1.0954 - category_out_loss: 0.4150 - theme_out_loss: 1.3270 - val_loss: 2.0276 - val_category_out_loss: 0.7766 - val_theme_out_loss: 2.3722\n",
      "Epoch 39/100\n",
      "29/29 [==============================] - 45s 2s/step - loss: 1.0438 - category_out_loss: 0.3926 - theme_out_loss: 1.2926 - val_loss: 2.0365 - val_category_out_loss: 0.7818 - val_theme_out_loss: 2.3649\n",
      "Epoch 40/100\n",
      "29/29 [==============================] - 49s 2s/step - loss: 1.0596 - category_out_loss: 0.4030 - theme_out_loss: 1.2679 - val_loss: 2.0180 - val_category_out_loss: 0.7729 - val_theme_out_loss: 2.3610\n"
     ]
    },
    {
     "name": "stderr",
     "output_type": "stream",
     "text": [
      "WARNING:absl:Found untraced functions such as restored_function_body, restored_function_body, restored_function_body, restored_function_body, restored_function_body while saving (showing 5 of 360). These functions will not be directly callable after loading.\n"
     ]
    },
    {
     "name": "stdout",
     "output_type": "stream",
     "text": [
      "4/4 [==============================] - 6s 1s/step\n",
      "29/29 [==============================] - 33s 1s/step\n",
      "16/16 [==============================] - 21s 1s/step\n",
      "val auc 0.8969459093687077\n",
      "leak_test_auc_score 0.8696117924023765\n"
     ]
    },
    {
     "data": {
      "application/vnd.jupyter.widget-view+json": {
       "model_id": "d47eaeb2e3f44b54b29a4939f08d4652",
       "version_major": 2,
       "version_minor": 0
      },
      "text/plain": [
       "  0%|          | 0/1 [00:00<?, ?it/s]"
      ]
     },
     "metadata": {},
     "output_type": "display_data"
    },
    {
     "name": "stdout",
     "output_type": "stream",
     "text": [
      "Epoch 1/100\n",
      "29/29 [==============================] - 61s 2s/step - loss: 8.5567 - category_out_loss: 3.6959 - theme_out_loss: 5.8251 - val_loss: 6.3601 - val_category_out_loss: 2.6716 - val_theme_out_loss: 5.0847\n",
      "Epoch 2/100\n",
      "29/29 [==============================] - 50s 2s/step - loss: 7.6048 - category_out_loss: 3.2217 - theme_out_loss: 5.8065 - val_loss: 5.6256 - val_category_out_loss: 2.3067 - val_theme_out_loss: 5.0613\n",
      "Epoch 3/100\n",
      "29/29 [==============================] - 44s 2s/step - loss: 6.1864 - category_out_loss: 2.5238 - theme_out_loss: 5.6934 - val_loss: 4.8025 - val_category_out_loss: 1.9011 - val_theme_out_loss: 5.0015\n",
      "Epoch 4/100\n",
      "29/29 [==============================] - 45s 2s/step - loss: 4.8692 - category_out_loss: 1.8900 - theme_out_loss: 5.4461 - val_loss: 4.1446 - val_category_out_loss: 1.5845 - val_theme_out_loss: 4.8784\n",
      "Epoch 5/100\n",
      "29/29 [==============================] - 38s 1s/step - loss: 4.2268 - category_out_loss: 1.6005 - theme_out_loss: 5.1295 - val_loss: 3.7514 - val_category_out_loss: 1.4074 - val_theme_out_loss: 4.6833\n",
      "Epoch 6/100\n",
      "29/29 [==============================] - 48s 2s/step - loss: 3.6281 - category_out_loss: 1.3418 - theme_out_loss: 4.7221 - val_loss: 3.4292 - val_category_out_loss: 1.2749 - val_theme_out_loss: 4.3970\n",
      "Epoch 7/100\n",
      "29/29 [==============================] - 37s 1s/step - loss: 3.1240 - category_out_loss: 1.1330 - theme_out_loss: 4.2897 - val_loss: 3.2378 - val_category_out_loss: 1.2136 - val_theme_out_loss: 4.0534\n",
      "Epoch 8/100\n",
      "29/29 [==============================] - 45s 2s/step - loss: 2.9250 - category_out_loss: 1.0772 - theme_out_loss: 3.8530 - val_loss: 3.1224 - val_category_out_loss: 1.1852 - val_theme_out_loss: 3.7597\n",
      "Epoch 9/100\n",
      "29/29 [==============================] - 46s 2s/step - loss: 2.7596 - category_out_loss: 1.0310 - theme_out_loss: 3.4877 - val_loss: 3.0223 - val_category_out_loss: 1.1602 - val_theme_out_loss: 3.5089\n",
      "Epoch 10/100\n",
      "29/29 [==============================] - 42s 1s/step - loss: 2.4943 - category_out_loss: 0.9259 - theme_out_loss: 3.2128 - val_loss: 2.9975 - val_category_out_loss: 1.1672 - val_theme_out_loss: 3.3154\n",
      "Epoch 11/100\n",
      "29/29 [==============================] - 48s 2s/step - loss: 2.4238 - category_out_loss: 0.9123 - theme_out_loss: 2.9955 - val_loss: 2.9216 - val_category_out_loss: 1.1453 - val_theme_out_loss: 3.1554\n",
      "Epoch 12/100\n",
      "29/29 [==============================] - 44s 2s/step - loss: 2.3242 - category_out_loss: 0.8790 - theme_out_loss: 2.8307 - val_loss: 2.8834 - val_category_out_loss: 1.1382 - val_theme_out_loss: 3.0354\n",
      "Epoch 13/100\n",
      "29/29 [==============================] - 42s 1s/step - loss: 2.1785 - category_out_loss: 0.8199 - theme_out_loss: 2.6937 - val_loss: 2.8808 - val_category_out_loss: 1.1470 - val_theme_out_loss: 2.9335\n",
      "Epoch 14/100\n",
      "29/29 [==============================] - 50s 2s/step - loss: 2.0957 - category_out_loss: 0.7980 - theme_out_loss: 2.4990 - val_loss: 2.8181 - val_category_out_loss: 1.1247 - val_theme_out_loss: 2.8433\n",
      "Epoch 15/100\n",
      "29/29 [==============================] - 38s 1s/step - loss: 1.9529 - category_out_loss: 0.7373 - theme_out_loss: 2.3914 - val_loss: 2.7713 - val_category_out_loss: 1.1075 - val_theme_out_loss: 2.7814\n",
      "Epoch 16/100\n",
      "29/29 [==============================] - 48s 2s/step - loss: 1.9167 - category_out_loss: 0.7307 - theme_out_loss: 2.2760 - val_loss: 2.7654 - val_category_out_loss: 1.1104 - val_theme_out_loss: 2.7233\n",
      "Epoch 17/100\n",
      "29/29 [==============================] - 45s 2s/step - loss: 1.7693 - category_out_loss: 0.6680 - theme_out_loss: 2.1667 - val_loss: 2.7386 - val_category_out_loss: 1.1016 - val_theme_out_loss: 2.6773\n",
      "Epoch 18/100\n",
      "29/29 [==============================] - 42s 1s/step - loss: 1.7491 - category_out_loss: 0.6658 - theme_out_loss: 2.0874 - val_loss: 2.7305 - val_category_out_loss: 1.1011 - val_theme_out_loss: 2.6417\n",
      "Epoch 19/100\n",
      "29/29 [==============================] - 47s 2s/step - loss: 1.6616 - category_out_loss: 0.6306 - theme_out_loss: 2.0022 - val_loss: 2.6632 - val_category_out_loss: 1.0712 - val_theme_out_loss: 2.6043\n",
      "Epoch 20/100\n",
      "29/29 [==============================] - 36s 1s/step - loss: 1.6428 - category_out_loss: 0.6257 - theme_out_loss: 1.9570 - val_loss: 2.6658 - val_category_out_loss: 1.0743 - val_theme_out_loss: 2.5865\n",
      "Epoch 21/100\n",
      "29/29 [==============================] - 48s 2s/step - loss: 1.5949 - category_out_loss: 0.6066 - theme_out_loss: 1.9089 - val_loss: 2.6264 - val_category_out_loss: 1.0566 - val_theme_out_loss: 2.5660\n",
      "Epoch 22/100\n",
      "29/29 [==============================] - 41s 1s/step - loss: 1.5211 - category_out_loss: 0.5766 - theme_out_loss: 1.8395 - val_loss: 2.6568 - val_category_out_loss: 1.0735 - val_theme_out_loss: 2.5493\n",
      "Epoch 23/100\n",
      "29/29 [==============================] - 49s 2s/step - loss: 1.5404 - category_out_loss: 0.5933 - theme_out_loss: 1.7692 - val_loss: 2.6337 - val_category_out_loss: 1.0637 - val_theme_out_loss: 2.5309\n",
      "Epoch 24/100\n",
      "29/29 [==============================] - 43s 1s/step - loss: 1.4677 - category_out_loss: 0.5625 - theme_out_loss: 1.7135 - val_loss: 2.6020 - val_category_out_loss: 1.0495 - val_theme_out_loss: 2.5146\n",
      "Epoch 25/100\n",
      "29/29 [==============================] - 44s 2s/step - loss: 1.3978 - category_out_loss: 0.5344 - theme_out_loss: 1.6443 - val_loss: 2.5754 - val_category_out_loss: 1.0377 - val_theme_out_loss: 2.5002\n",
      "Epoch 26/100\n",
      "29/29 [==============================] - 50s 2s/step - loss: 1.4285 - category_out_loss: 0.5489 - theme_out_loss: 1.6534 - val_loss: 2.5700 - val_category_out_loss: 1.0361 - val_theme_out_loss: 2.4890\n",
      "Epoch 27/100\n",
      "29/29 [==============================] - 37s 1s/step - loss: 1.3518 - category_out_loss: 0.5157 - theme_out_loss: 1.6023 - val_loss: 2.5670 - val_category_out_loss: 1.0354 - val_theme_out_loss: 2.4813\n",
      "Epoch 28/100\n",
      "29/29 [==============================] - 47s 2s/step - loss: 1.3072 - category_out_loss: 0.4979 - theme_out_loss: 1.5572 - val_loss: 2.5676 - val_category_out_loss: 1.0366 - val_theme_out_loss: 2.4725\n",
      "Epoch 29/100\n",
      "29/29 [==============================] - 41s 1s/step - loss: 1.2512 - category_out_loss: 0.4734 - theme_out_loss: 1.5218 - val_loss: 2.5347 - val_category_out_loss: 1.0215 - val_theme_out_loss: 2.4589\n",
      "Epoch 30/100\n",
      "29/29 [==============================] - 49s 2s/step - loss: 1.2210 - category_out_loss: 0.4644 - theme_out_loss: 1.4607 - val_loss: 2.5105 - val_category_out_loss: 1.0103 - val_theme_out_loss: 2.4493\n",
      "Epoch 31/100\n",
      "29/29 [==============================] - 37s 1s/step - loss: 1.2214 - category_out_loss: 0.4635 - theme_out_loss: 1.4718 - val_loss: 2.4697 - val_category_out_loss: 0.9911 - val_theme_out_loss: 2.4376\n",
      "Epoch 32/100\n",
      "29/29 [==============================] - 44s 2s/step - loss: 1.1911 - category_out_loss: 0.4523 - theme_out_loss: 1.4329 - val_loss: 2.4706 - val_category_out_loss: 0.9919 - val_theme_out_loss: 2.4344\n",
      "Epoch 33/100\n",
      "29/29 [==============================] - 44s 2s/step - loss: 1.1871 - category_out_loss: 0.4536 - theme_out_loss: 1.3998 - val_loss: 2.4733 - val_category_out_loss: 0.9938 - val_theme_out_loss: 2.4292\n",
      "Epoch 34/100\n",
      "29/29 [==============================] - 46s 2s/step - loss: 1.1540 - category_out_loss: 0.4388 - theme_out_loss: 1.3817 - val_loss: 2.4554 - val_category_out_loss: 0.9852 - val_theme_out_loss: 2.4255\n",
      "Epoch 35/100\n",
      "29/29 [==============================] - 39s 1s/step - loss: 1.1636 - category_out_loss: 0.4454 - theme_out_loss: 1.3646 - val_loss: 2.4604 - val_category_out_loss: 0.9882 - val_theme_out_loss: 2.4198\n",
      "Epoch 36/100\n",
      "29/29 [==============================] - 50s 2s/step - loss: 1.1309 - category_out_loss: 0.4333 - theme_out_loss: 1.3211 - val_loss: 2.4570 - val_category_out_loss: 0.9868 - val_theme_out_loss: 2.4166\n",
      "Epoch 37/100\n",
      "29/29 [==============================] - 41s 1s/step - loss: 1.1040 - category_out_loss: 0.4217 - theme_out_loss: 1.3029 - val_loss: 2.4369 - val_category_out_loss: 0.9773 - val_theme_out_loss: 2.4114\n",
      "Epoch 38/100\n",
      "29/29 [==============================] - 47s 2s/step - loss: 1.0965 - category_out_loss: 0.4187 - theme_out_loss: 1.2954 - val_loss: 2.4006 - val_category_out_loss: 0.9599 - val_theme_out_loss: 2.4042\n",
      "Epoch 39/100\n",
      "29/29 [==============================] - 36s 1s/step - loss: 1.0681 - category_out_loss: 0.4082 - theme_out_loss: 1.2580 - val_loss: 2.4059 - val_category_out_loss: 0.9628 - val_theme_out_loss: 2.4015\n",
      "Epoch 40/100\n",
      "29/29 [==============================] - 46s 2s/step - loss: 1.0461 - category_out_loss: 0.3957 - theme_out_loss: 1.2734 - val_loss: 2.4323 - val_category_out_loss: 0.9759 - val_theme_out_loss: 2.4021\n",
      "Epoch 41/100\n",
      "29/29 [==============================] - 43s 1s/step - loss: 1.0210 - category_out_loss: 0.3895 - theme_out_loss: 1.2096 - val_loss: 2.4076 - val_category_out_loss: 0.9639 - val_theme_out_loss: 2.3984\n"
     ]
    },
    {
     "name": "stderr",
     "output_type": "stream",
     "text": [
      "WARNING:absl:Found untraced functions such as restored_function_body, restored_function_body, restored_function_body, restored_function_body, restored_function_body while saving (showing 5 of 360). These functions will not be directly callable after loading.\n"
     ]
    },
    {
     "name": "stdout",
     "output_type": "stream",
     "text": [
      "4/4 [==============================] - 6s 1s/step\n",
      "29/29 [==============================] - 32s 1s/step\n",
      "16/16 [==============================] - 22s 1s/step\n",
      "val auc 0.83599325225735\n",
      "leak_test_auc_score 0.8694012041464431\n"
     ]
    }
   ],
   "source": [
    "cv = StratifiedKFold(n_splits=N_SPLITS, random_state=cfg.RANDOM_STATE, shuffle=True)\n",
    "\n",
    "test_pool = get_keras_input(\n",
    "        data=test,\n",
    "        shuffle=False\n",
    "        )\n",
    "\n",
    "\n",
    "metrics = defaultdict(list)\n",
    "fold = 0\n",
    "for train_idx, val_idx in tqdm(cv.split(X_train, y_train_onecol), total=N_SPLITS):\n",
    "\n",
    "    train_pool = get_keras_input(\n",
    "        data=X_train.iloc[train_idx], \n",
    "        labels=y_train.iloc[train_idx],\n",
    "        labels2=theme_train.iloc[train_idx],\n",
    "        shuffle=True\n",
    "        )\n",
    "\n",
    "    val_pool = get_keras_input(\n",
    "        data=X_train.iloc[val_idx], \n",
    "        labels=y_train.iloc[val_idx],\n",
    "        labels2=theme_train.iloc[val_idx],\n",
    "        shuffle=False\n",
    "        )\n",
    "    \n",
    "        \n",
    "    for random_seed in tqdm(range(N_RANDOM_SEEDS), total=N_RANDOM_SEEDS):\n",
    "\n",
    "        clf = build_classifier_model()\n",
    "        \n",
    "        early_stopping = tf.keras.callbacks.EarlyStopping(monitor='val_category_out_loss', patience=3, min_delta=1e-5, mode='auto', restore_best_weights=True)\n",
    "        clf.fit(x=train_pool, validation_data=val_pool, epochs=N_EPOCHS, callbacks=[early_stopping])\n",
    "        \n",
    "        model_name = f'{EXPERIMENT_NAME}_fold_{fold}_rs_{random_seed}'\n",
    "        model_path = os.path.join(cfg.MODELS_PATH, EXPERIMENT_FAMILY_NAME, EXPERIMENT_NAME)\n",
    "        check_path(model_path)\n",
    "        clf.save(os.path.join(model_path, model_name), include_optimizer=False)\n",
    "        \n",
    "        pred_proba_oof_val = tf.nn.softmax(clf.predict(val_pool)['category_out']).numpy()\n",
    "        pred_proba_oof_train = tf.nn.softmax(clf.predict(train_pool)['category_out']).numpy()\n",
    "        pred_proba_oof.iloc[val_idx, :] += pred_proba_oof_val\n",
    "        pred_proba_test.iloc[:, :] += tf.nn.softmax(clf.predict(test_pool)['category_out']).numpy()\n",
    "\n",
    "        y_val_oof = y_train_onecol.iloc[val_idx]\n",
    "\n",
    "        val_auc = roc_auc_score(y_val_oof, pred_proba_oof_val , multi_class='ovo', labels=CLASSES)\n",
    "        metrics['val_auc'].append(val_auc)\n",
    "        print('val auc', val_auc)\n",
    "\n",
    "        leak_test_auc_score = roc_auc_score(leak_test.loc[leak_mask], pred_proba_test.loc[leak_mask] / (fold + 1), multi_class='ovo', labels=CLASSES)\n",
    "        metrics['leak_test_auc_score'].append(leak_test_auc_score)\n",
    "        print('leak_test_auc_score', leak_test_auc_score)\n",
    "        \n",
    "        del clf; gc.collect()\n",
    "    del train_pool,val_pool; gc.collect() \n",
    "        \n",
    "    fold += 1\n",
    "pred_proba_oof /= N_RANDOM_SEEDS\n",
    "pred_proba_test /= (N_SPLITS * N_RANDOM_SEEDS)"
   ]
  },
  {
   "cell_type": "code",
   "execution_count": 42,
   "metadata": {},
   "outputs": [],
   "source": [
    "# 0.8651044661502603"
   ]
  },
  {
   "cell_type": "code",
   "execution_count": 43,
   "metadata": {},
   "outputs": [
    {
     "name": "stdout",
     "output_type": "stream",
     "text": [
      "oof_auc_score 0.832839747715579\n",
      "scores [0.8990138153224092, 0.9070928606363876, 0.9495849977155779, 0.8900954043476363, 0.9166185254803676, 0.8979467243283034, 0.8224479580214663, 0.9192427305537209, 0.8969459093687077, 0.83599325225735]\n",
      "mean 0.8934982178031927 std 0.03599514825483201\n"
     ]
    }
   ],
   "source": [
    "oof_auc_score = roc_auc_score(y_train, pred_proba_oof , multi_class='ovo', labels=CLASSES)\n",
    "print('oof_auc_score', oof_auc_score)\n",
    "print('scores', metrics['val_auc'])\n",
    "print('mean', np.mean(metrics['val_auc']), 'std', np.std(metrics['val_auc']))"
   ]
  },
  {
   "cell_type": "code",
   "execution_count": 44,
   "metadata": {},
   "outputs": [],
   "source": [
    "# 0.8263713180555257"
   ]
  },
  {
   "cell_type": "code",
   "execution_count": 45,
   "metadata": {},
   "outputs": [
    {
     "name": "stdout",
     "output_type": "stream",
     "text": [
      "leak_test_auc_score 0.8694012041464431\n"
     ]
    }
   ],
   "source": [
    "leak_test = pd.read_pickle(os.path.join(cfg.DATA_PATH, 'test_leak.pkl'))\n",
    "notnull = leak_test.notnull()\n",
    "leak_test_auc_score = roc_auc_score(leak_test.loc[notnull], pred_proba_test.loc[notnull], multi_class='ovo', labels=CLASSES)\n",
    "print('leak_test_auc_score', leak_test_auc_score)\n"
   ]
  },
  {
   "cell_type": "code",
   "execution_count": 46,
   "metadata": {},
   "outputs": [],
   "source": [
    "# 0.8659094099087034"
   ]
  },
  {
   "cell_type": "code",
   "execution_count": 47,
   "metadata": {},
   "outputs": [],
   "source": [
    "submission = pd.read_csv(cfg.SAMPLE_SUBMIT_PATH).set_index('id')\n",
    "assert submission.index.equals(pred_proba_test.index)\n",
    "submission[cfg.TARGET] = pred_proba_test.idxmax(1)\n",
    "\n",
    "submission_path = os.path.join(cfg.SUBMISSION_PATH, EXPERIMENT_FAMILY_NAME)\n",
    "check_path(submission_path)\n",
    "submission.to_csv(os.path.join(submission_path, f'{EXPERIMENT_NAME}.csv'))\n",
    "\n",
    "pred_proba_oof_path = os.path.join(cfg.OOF_PRED_PATH, EXPERIMENT_FAMILY_NAME)\n",
    "check_path(pred_proba_oof_path)\n",
    "pred_proba_oof.to_pickle(os.path.join(pred_proba_oof_path, f'{EXPERIMENT_NAME}.pkl'))\n",
    "\n",
    "pred_proba_test_path = os.path.join(cfg.TEST_PRED_PATH, EXPERIMENT_FAMILY_NAME)\n",
    "check_path(pred_proba_test_path)\n",
    "pred_proba_test.to_pickle(os.path.join(pred_proba_test_path, f'{EXPERIMENT_NAME}.pkl'))"
   ]
  },
  {
   "cell_type": "code",
   "execution_count": 48,
   "metadata": {},
   "outputs": [],
   "source": [
    "import seaborn as sns\n",
    "from matplotlib import pyplot as plt"
   ]
  },
  {
   "cell_type": "code",
   "execution_count": 49,
   "metadata": {},
   "outputs": [],
   "source": [
    "trn_target_count = y_train.value_counts().rename('train_true')\n",
    "trn_pred_count = pred_proba_oof.idxmax(1).value_counts().rename('train_pred')"
   ]
  },
  {
   "cell_type": "code",
   "execution_count": 50,
   "metadata": {},
   "outputs": [],
   "source": [
    "tst_target_count = leak_test.loc[leak_mask].astype('int').value_counts().rename('test_true')\n",
    "tst_pred_count = submission.loc[leak_mask, cfg.TARGET].value_counts().rename('test_pred')"
   ]
  },
  {
   "cell_type": "code",
   "execution_count": 51,
   "metadata": {},
   "outputs": [
    {
     "data": {
      "text/plain": [
       "<AxesSubplot:>"
      ]
     },
     "execution_count": 51,
     "metadata": {},
     "output_type": "execute_result"
    },
    {
     "data": {
      "image/png": "[encoded data removed]",
      "text/plain": [
       "<Figure size 1080x720 with 1 Axes>"
      ]
     },
     "metadata": {
      "needs_background": "light"
     },
     "output_type": "display_data"
    }
   ],
   "source": [
    "pd.concat([trn_target_count, trn_pred_count], axis=1).plot(kind='barh', figsize=(15,10))"
   ]
  },
  {
   "cell_type": "code",
   "execution_count": 52,
   "metadata": {},
   "outputs": [
    {
     "data": {
      "text/plain": [
       "<AxesSubplot:>"
      ]
     },
     "execution_count": 52,
     "metadata": {},
     "output_type": "execute_result"
    },
    {
     "data": {
      "image/png": "[encoded data removed]",
      "text/plain": [
       "<Figure size 1080x720 with 1 Axes>"
      ]
     },
     "metadata": {
      "needs_background": "light"
     },
     "output_type": "display_data"
    }
   ],
   "source": [
    "pd.concat([tst_target_count, tst_pred_count], axis=1).plot(kind='barh', figsize=(15,10))"
   ]
  }
 ],
 "metadata": {
  "kernelspec": {
   "display_name": "Python 3.9.12 ('tf')",
   "language": "python",
   "name": "python3"
  },
  "language_info": {
   "codemirror_mode": {
    "name": "ipython",
    "version": 3
   },
   "file_extension": ".py",
   "mimetype": "text/x-python",
   "name": "python",
   "nbconvert_exporter": "python",
   "pygments_lexer": "ipython3",
   "version": "3.9.12"
  },
  "orig_nbformat": 4,
  "vscode": {
   "interpreter": {
    "hash": "d5356ef1c2ac2ef25d35a0579f082f1d273c4bada2fe955fa1b70f42402fff98"
   }
  }
 },
 "nbformat": 4,
 "nbformat_minor": 2
}
