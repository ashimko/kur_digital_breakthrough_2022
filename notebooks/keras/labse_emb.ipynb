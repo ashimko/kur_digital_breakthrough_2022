{
 "cells": [
  {
   "cell_type": "code",
   "execution_count": 1,
   "metadata": {},
   "outputs": [],
   "source": [
    "import sys\n",
    "sys.path.insert(0, \"../..\")\n",
    "import config as cfg\n",
    "import gc\n",
    "import os\n",
    "from tqdm.notebook import tqdm\n",
    "from helper import check_path, seed_everything\n",
    "from collections import defaultdict"
   ]
  },
  {
   "cell_type": "code",
   "execution_count": 2,
   "metadata": {},
   "outputs": [],
   "source": [
    "import os\n",
    "import shutil\n",
    "\n",
    "import tensorflow as tf\n",
    "import tensorflow_hub as hub\n",
    "import tensorflow_text as text\n",
    "from official.nlp import optimization  # to create AdamW optimizer\n",
    "\n",
    "import matplotlib.pyplot as plt\n",
    "\n",
    "tf.get_logger().setLevel('ERROR')"
   ]
  },
  {
   "cell_type": "code",
   "execution_count": 3,
   "metadata": {},
   "outputs": [],
   "source": [
    "import pandas as pd\n",
    "import numpy as np\n",
    "from sklearn.model_selection import StratifiedKFold\n",
    "from sklearn.metrics import roc_auc_score"
   ]
  },
  {
   "cell_type": "code",
   "execution_count": 4,
   "metadata": {},
   "outputs": [],
   "source": [
    "EXPERIMENT_FAMILY_NAME = 'keras'\n",
    "EXPERIMENT_NAME = 'labse_emb'\n",
    "N_RANDOM_SEEDS = 1\n",
    "N_EPOCHS = 100\n",
    "BATCH_SIZE = 64\n",
    "N_SPLITS = 4"
   ]
  },
  {
   "cell_type": "code",
   "execution_count": 5,
   "metadata": {},
   "outputs": [],
   "source": [
    "RANDOM_STATE = 77\n",
    "seed_everything(RANDOM_STATE)"
   ]
  },
  {
   "cell_type": "code",
   "execution_count": 6,
   "metadata": {},
   "outputs": [],
   "source": [
    "def filter_rare_categories(df: pd.DataFrame) -> pd.DataFrame:\n",
    "    rare_categories = [12]\n",
    "    return df.loc[~df[cfg.TARGET].isin(rare_categories)]"
   ]
  },
  {
   "cell_type": "code",
   "execution_count": 7,
   "metadata": {},
   "outputs": [],
   "source": [
    "\n",
    "train = pd.read_pickle(os.path.join(cfg.PREPROCESSED_DATA_PATH, 'train.pkl'))\n",
    "test = pd.read_pickle(os.path.join(cfg.PREPROCESSED_DATA_PATH, 'test.pkl'))\n",
    "\n",
    "train = train.rename(columns={cfg.TEXT_COL: 'text'})\n",
    "test = test.rename(columns={cfg.TEXT_COL: 'text'})\n",
    "\n",
    "CLASSES = np.sort(train[cfg.TARGET].unique()).tolist()\n",
    "\n",
    "# train = filter_rare_categories(train)"
   ]
  },
  {
   "cell_type": "code",
   "execution_count": 8,
   "metadata": {},
   "outputs": [],
   "source": [
    "# EMB_NAME = 'smaller_LaBSE_15lang'\n",
    "# train_emb = pd.read_pickle(os.path.join(cfg.DATA_PATH, EMB_NAME, 'train.pkl'))\n",
    "# test_emb = pd.read_pickle(os.path.join(cfg.DATA_PATH, EMB_NAME, 'test.pkl'))\n",
    "\n",
    "# train = train.join(train_emb)\n",
    "# test = test.join(test_emb)\n",
    "\n",
    "# del train_emb, test_emb; gc.collect()"
   ]
  },
  {
   "cell_type": "code",
   "execution_count": 9,
   "metadata": {},
   "outputs": [],
   "source": [
    "X_train, y_train = train.drop(cfg.TARGET, axis=1), train[cfg.TARGET]\n",
    "y_train_onecol = y_train.copy()\n",
    "\n",
    "# y_train = pd.get_dummies(y_train)\n",
    "\n",
    "N_OUT_CLASSES = len(CLASSES)\n",
    "# assert y_train.shape[1] == N_OUT_CLASSES"
   ]
  },
  {
   "cell_type": "code",
   "execution_count": 10,
   "metadata": {},
   "outputs": [],
   "source": [
    "theme_train = pd.read_csv(cfg.ORIG_TRAIN_PATH, index_col=cfg.ID_COL, usecols=[cfg.ID_COL, cfg.THEME_COL])\n",
    "theme_train = theme_train[cfg.THEME_COL].astype('category').cat.codes\n",
    "N_THEMES = theme_train.nunique()\n",
    "# theme_train = pd.get_dummies(theme_train)\n",
    "# theme_train.columns = [f'theme_{i}' for i in range(theme_train.shape[1])]\n"
   ]
  },
  {
   "cell_type": "code",
   "execution_count": 11,
   "metadata": {},
   "outputs": [],
   "source": [
    "pred_proba_oof = pd.DataFrame(data=np.zeros(shape=(len(train), len(CLASSES))), index=train.index, columns=CLASSES)\n",
    "pred_proba_test = pd.DataFrame(data=np.zeros(shape=(len(test), len(CLASSES))), index=test.index, columns=CLASSES)"
   ]
  },
  {
   "cell_type": "code",
   "execution_count": 12,
   "metadata": {},
   "outputs": [],
   "source": [
    "from typing import Optional\n",
    "\n",
    "\n",
    "def df_to_dataset(data: pd.DataFrame, labels: Optional[pd.DataFrame]=None, shuffle: bool=True, batch_size: int=32, labels2: Optional[pd.DataFrame]=None):\n",
    "  df = data.copy()\n",
    "  df = {key: value.values[:, tf.newaxis] for key, value in data.items()}\n",
    "  \n",
    "  if labels is None:\n",
    "    ds = tf.data.Dataset.from_tensor_slices((dict(df),))\n",
    "  else:\n",
    "    ds = tf.data.Dataset.from_tensor_slices((\n",
    "      dict(df), \n",
    "      {\n",
    "        'category_out': labels, \n",
    "        'theme_out': labels2\n",
    "        }\n",
    "        ))\n",
    "        \n",
    "  if shuffle:\n",
    "    ds = ds.shuffle(buffer_size=len(data))\n",
    "  ds = ds.batch(batch_size)\n",
    "  ds = ds.prefetch(batch_size)\n",
    "  return ds\n",
    "\n",
    "\n",
    "def get_keras_input(\n",
    "    data: pd.DataFrame,\n",
    "    labels: Optional[pd.DataFrame] = None,\n",
    "    labels2: Optional[pd.DataFrame] = None,\n",
    "    shuffle=False\n",
    "    ) -> tf.data.Dataset:\n",
    "    return df_to_dataset(\n",
    "        data=data,\n",
    "        labels=labels,\n",
    "        labels2=labels2,\n",
    "        shuffle=shuffle, \n",
    "        batch_size=BATCH_SIZE)\n",
    "        \n"
   ]
  },
  {
   "cell_type": "code",
   "execution_count": 13,
   "metadata": {},
   "outputs": [],
   "source": [
    "def build_classifier_model():\n",
    "    text_input = tf.keras.layers.Input(shape=(), dtype=tf.string, name='text')\n",
    "    preprocessing_layer = hub.KerasLayer(\"https://tfhub.dev/jeongukjae/smaller_LaBSE_15lang_preprocess/1\", name='preprocessing')\n",
    "    encoder_inputs = preprocessing_layer(text_input)\n",
    "    encoder = hub.KerasLayer(\"https://tfhub.dev/jeongukjae/smaller_LaBSE_15lang/1\", trainable=False, name='encoder')\n",
    "    outputs = encoder(encoder_inputs)\n",
    "    net = outputs['pooled_output']\n",
    "    net = tf.keras.layers.BatchNormalization()(net)\n",
    "    net = tf.keras.layers.Dropout(0.3)(net)\n",
    "    net = tf.keras.layers.Dense(300, activation=None)(net)\n",
    "    net = tf.keras.layers.LeakyReLU(alpha=0.5)(net)\n",
    "    net = tf.keras.layers.BatchNormalization()(net)\n",
    "    net = tf.keras.layers.Dropout(0.2)(net)\n",
    "    category_out = tf.keras.layers.Dense(N_OUT_CLASSES, activation=None, name='category_out')(net)\n",
    "    theme_out = tf.keras.layers.Dense(N_THEMES, activation=None, name='theme_out')(net)\n",
    "    model = tf.keras.Model(\n",
    "        text_input, \n",
    "        outputs={\n",
    "            'category_out': category_out, \n",
    "            'theme_out': theme_out\n",
    "            })\n",
    "\n",
    "    loss = {\n",
    "        'category_out': tf.keras.losses.SparseCategoricalCrossentropy(from_logits=True, name='category_out'),\n",
    "        'theme_out': tf.keras.losses.SparseCategoricalCrossentropy(from_logits=True, name='theme_out')\n",
    "        }\n",
    "    # metrics = tf.keras.metrics.AUC(from_logits=True, name='auc')\n",
    "\n",
    "    epochs = N_EPOCHS\n",
    "    n = (len(train) // cfg.N_SPLITS) * (cfg.N_SPLITS-1)\n",
    "    steps_per_epoch = n // BATCH_SIZE\n",
    "    num_train_steps = steps_per_epoch * epochs\n",
    "    num_warmup_steps = int(0.1*num_train_steps)\n",
    "\n",
    "    init_lr = 3e-4\n",
    "    optimizer = optimization.create_optimizer(init_lr=init_lr,\n",
    "                                            num_train_steps=num_train_steps,\n",
    "                                            num_warmup_steps=num_warmup_steps,\n",
    "                                            optimizer_type='adamw')\n",
    "\n",
    "    model.compile(optimizer=optimizer,\n",
    "                         loss=loss,\n",
    "                         loss_weights={\"category_out\": 2.0, \"theme_out\": 0.2}\n",
    "                        #  metrics=metrics\n",
    "                         )\n",
    "    return model"
   ]
  },
  {
   "cell_type": "code",
   "execution_count": 14,
   "metadata": {},
   "outputs": [],
   "source": [
    "leak_test = pd.read_pickle(os.path.join(cfg.DATA_PATH, 'test_leak.pkl'))\n",
    "leak_mask = leak_test.notnull()"
   ]
  },
  {
   "cell_type": "code",
   "execution_count": 15,
   "metadata": {},
   "outputs": [
    {
     "name": "stderr",
     "output_type": "stream",
     "text": [
      "2022-07-24 17:25:59.750755: I tensorflow/stream_executor/cuda/cuda_gpu_executor.cc:975] successful NUMA node read from SysFS had negative value (-1), but there must be at least one NUMA node, so returning NUMA node zero\n",
      "2022-07-24 17:25:59.856770: I tensorflow/stream_executor/cuda/cuda_gpu_executor.cc:975] successful NUMA node read from SysFS had negative value (-1), but there must be at least one NUMA node, so returning NUMA node zero\n",
      "2022-07-24 17:25:59.857177: I tensorflow/stream_executor/cuda/cuda_gpu_executor.cc:975] successful NUMA node read from SysFS had negative value (-1), but there must be at least one NUMA node, so returning NUMA node zero\n",
      "2022-07-24 17:25:59.858390: I tensorflow/core/platform/cpu_feature_guard.cc:193] This TensorFlow binary is optimized with oneAPI Deep Neural Network Library (oneDNN) to use the following CPU instructions in performance-critical operations:  AVX2 FMA\n",
      "To enable them in other operations, rebuild TensorFlow with the appropriate compiler flags.\n",
      "2022-07-24 17:25:59.858918: I tensorflow/stream_executor/cuda/cuda_gpu_executor.cc:975] successful NUMA node read from SysFS had negative value (-1), but there must be at least one NUMA node, so returning NUMA node zero\n",
      "2022-07-24 17:25:59.859382: I tensorflow/stream_executor/cuda/cuda_gpu_executor.cc:975] successful NUMA node read from SysFS had negative value (-1), but there must be at least one NUMA node, so returning NUMA node zero\n",
      "2022-07-24 17:25:59.859721: I tensorflow/stream_executor/cuda/cuda_gpu_executor.cc:975] successful NUMA node read from SysFS had negative value (-1), but there must be at least one NUMA node, so returning NUMA node zero\n",
      "2022-07-24 17:26:00.809574: I tensorflow/stream_executor/cuda/cuda_gpu_executor.cc:975] successful NUMA node read from SysFS had negative value (-1), but there must be at least one NUMA node, so returning NUMA node zero\n",
      "2022-07-24 17:26:00.809886: I tensorflow/stream_executor/cuda/cuda_gpu_executor.cc:975] successful NUMA node read from SysFS had negative value (-1), but there must be at least one NUMA node, so returning NUMA node zero\n",
      "2022-07-24 17:26:00.810091: I tensorflow/stream_executor/cuda/cuda_gpu_executor.cc:975] successful NUMA node read from SysFS had negative value (-1), but there must be at least one NUMA node, so returning NUMA node zero\n",
      "2022-07-24 17:26:00.810258: I tensorflow/core/common_runtime/gpu/gpu_device.cc:1532] Created device /job:localhost/replica:0/task:0/device:GPU:0 with 5379 MB memory:  -> device: 0, name: NVIDIA GeForce GTX 1060 with Max-Q Design, pci bus id: 0000:01:00.0, compute capability: 6.1\n"
     ]
    },
    {
     "data": {
      "application/vnd.jupyter.widget-view+json": {
       "model_id": "15147095dc5b4e84a2c1723553978d9b",
       "version_major": 2,
       "version_minor": 0
      },
      "text/plain": [
       "  0%|          | 0/4 [00:00<?, ?it/s]"
      ]
     },
     "metadata": {},
     "output_type": "display_data"
    },
    {
     "name": "stderr",
     "output_type": "stream",
     "text": [
      "/home/as/miniconda3/envs/tf/lib/python3.9/site-packages/sklearn/model_selection/_split.py:680: UserWarning: The least populated class in y has only 1 members, which is less than n_splits=4.\n",
      "  warnings.warn(\n"
     ]
    },
    {
     "data": {
      "application/vnd.jupyter.widget-view+json": {
       "model_id": "3b684bea399b4ec9945393226907d3a4",
       "version_major": 2,
       "version_minor": 0
      },
      "text/plain": [
       "  0%|          | 0/1 [00:00<?, ?it/s]"
      ]
     },
     "metadata": {},
     "output_type": "display_data"
    },
    {
     "name": "stdout",
     "output_type": "stream",
     "text": [
      "Epoch 1/100\n",
      "24/24 [==============================] - 59s 2s/step - loss: 8.6964 - category_out_loss: 3.7532 - theme_out_loss: 5.9499 - val_loss: 6.5350 - val_category_out_loss: 2.7527 - val_theme_out_loss: 5.1483\n",
      "Epoch 2/100\n",
      "24/24 [==============================] - 44s 2s/step - loss: 8.0849 - category_out_loss: 3.4552 - theme_out_loss: 5.8724 - val_loss: 6.1262 - val_category_out_loss: 2.5496 - val_theme_out_loss: 5.1350\n",
      "Epoch 3/100\n",
      "24/24 [==============================] - 45s 2s/step - loss: 6.8488 - category_out_loss: 2.8438 - theme_out_loss: 5.8057 - val_loss: 5.5006 - val_category_out_loss: 2.2398 - val_theme_out_loss: 5.1052\n",
      "Epoch 4/100\n",
      "24/24 [==============================] - 40s 2s/step - loss: 5.6922 - category_out_loss: 2.2760 - theme_out_loss: 5.7012 - val_loss: 4.8838 - val_category_out_loss: 1.9371 - val_theme_out_loss: 5.0483\n",
      "Epoch 5/100\n",
      "24/24 [==============================] - 53s 2s/step - loss: 4.8320 - category_out_loss: 1.8675 - theme_out_loss: 5.4850 - val_loss: 4.3508 - val_category_out_loss: 1.6810 - val_theme_out_loss: 4.9436\n",
      "Epoch 6/100\n",
      "24/24 [==============================] - 42s 2s/step - loss: 4.0909 - category_out_loss: 1.5302 - theme_out_loss: 5.1524 - val_loss: 3.8748 - val_category_out_loss: 1.4597 - val_theme_out_loss: 4.7770\n",
      "Epoch 7/100\n",
      "24/24 [==============================] - 38s 2s/step - loss: 3.6691 - category_out_loss: 1.3537 - theme_out_loss: 4.8084 - val_loss: 3.5155 - val_category_out_loss: 1.3020 - val_theme_out_loss: 4.5572\n",
      "Epoch 8/100\n",
      "24/24 [==============================] - 55s 2s/step - loss: 3.4174 - category_out_loss: 1.2612 - theme_out_loss: 4.4753 - val_loss: 3.2275 - val_category_out_loss: 1.1855 - val_theme_out_loss: 4.2823\n",
      "Epoch 9/100\n",
      "24/24 [==============================] - 46s 2s/step - loss: 3.0817 - category_out_loss: 1.1407 - theme_out_loss: 4.0011 - val_loss: 2.9932 - val_category_out_loss: 1.0966 - val_theme_out_loss: 4.0003\n",
      "Epoch 10/100\n",
      "24/24 [==============================] - 48s 2s/step - loss: 2.8807 - category_out_loss: 1.0749 - theme_out_loss: 3.6544 - val_loss: 2.8439 - val_category_out_loss: 1.0463 - val_theme_out_loss: 3.7563\n",
      "Epoch 11/100\n",
      "24/24 [==============================] - 37s 2s/step - loss: 2.7822 - category_out_loss: 1.0492 - theme_out_loss: 3.4188 - val_loss: 2.7253 - val_category_out_loss: 1.0082 - val_theme_out_loss: 3.5449\n",
      "Epoch 12/100\n",
      "24/24 [==============================] - 49s 2s/step - loss: 2.5850 - category_out_loss: 0.9777 - theme_out_loss: 3.1482 - val_loss: 2.6283 - val_category_out_loss: 0.9767 - val_theme_out_loss: 3.3740\n",
      "Epoch 13/100\n",
      "24/24 [==============================] - 44s 2s/step - loss: 2.3629 - category_out_loss: 0.8871 - theme_out_loss: 2.9434 - val_loss: 2.5531 - val_category_out_loss: 0.9539 - val_theme_out_loss: 3.2267\n",
      "Epoch 14/100\n",
      "24/24 [==============================] - 37s 2s/step - loss: 2.2753 - category_out_loss: 0.8570 - theme_out_loss: 2.8067 - val_loss: 2.5159 - val_category_out_loss: 0.9480 - val_theme_out_loss: 3.0998\n",
      "Epoch 15/100\n",
      "24/24 [==============================] - 53s 2s/step - loss: 2.1174 - category_out_loss: 0.7976 - theme_out_loss: 2.6114 - val_loss: 2.4456 - val_category_out_loss: 0.9225 - val_theme_out_loss: 3.0027\n",
      "Epoch 16/100\n",
      "24/24 [==============================] - 42s 2s/step - loss: 2.0463 - category_out_loss: 0.7708 - theme_out_loss: 2.5236 - val_loss: 2.4221 - val_category_out_loss: 0.9190 - val_theme_out_loss: 2.9202\n",
      "Epoch 17/100\n",
      "24/24 [==============================] - 37s 2s/step - loss: 1.9787 - category_out_loss: 0.7507 - theme_out_loss: 2.3860 - val_loss: 2.3703 - val_category_out_loss: 0.9003 - val_theme_out_loss: 2.8483\n",
      "Epoch 18/100\n",
      "24/24 [==============================] - 52s 2s/step - loss: 1.9317 - category_out_loss: 0.7380 - theme_out_loss: 2.2783 - val_loss: 2.3273 - val_category_out_loss: 0.8852 - val_theme_out_loss: 2.7850\n",
      "Epoch 19/100\n",
      "24/24 [==============================] - 42s 2s/step - loss: 1.8677 - category_out_loss: 0.7147 - theme_out_loss: 2.1912 - val_loss: 2.3046 - val_category_out_loss: 0.8791 - val_theme_out_loss: 2.7318\n",
      "Epoch 20/100\n",
      "24/24 [==============================] - 48s 2s/step - loss: 1.7744 - category_out_loss: 0.6799 - theme_out_loss: 2.0726 - val_loss: 2.2930 - val_category_out_loss: 0.8778 - val_theme_out_loss: 2.6865\n",
      "Epoch 21/100\n",
      "24/24 [==============================] - 39s 2s/step - loss: 1.7217 - category_out_loss: 0.6544 - theme_out_loss: 2.0643 - val_loss: 2.2736 - val_category_out_loss: 0.8718 - val_theme_out_loss: 2.6502\n",
      "Epoch 22/100\n",
      "24/24 [==============================] - 54s 2s/step - loss: 1.6869 - category_out_loss: 0.6476 - theme_out_loss: 1.9580 - val_loss: 2.2336 - val_category_out_loss: 0.8554 - val_theme_out_loss: 2.6140\n",
      "Epoch 23/100\n",
      "24/24 [==============================] - 41s 2s/step - loss: 1.5475 - category_out_loss: 0.5846 - theme_out_loss: 1.8919 - val_loss: 2.2243 - val_category_out_loss: 0.8539 - val_theme_out_loss: 2.5829\n",
      "Epoch 24/100\n",
      "24/24 [==============================] - 48s 2s/step - loss: 1.5454 - category_out_loss: 0.5906 - theme_out_loss: 1.8213 - val_loss: 2.2460 - val_category_out_loss: 0.8668 - val_theme_out_loss: 2.5615\n",
      "Epoch 25/100\n",
      "24/24 [==============================] - 49s 2s/step - loss: 1.5212 - category_out_loss: 0.5852 - theme_out_loss: 1.7534 - val_loss: 2.2097 - val_category_out_loss: 0.8509 - val_theme_out_loss: 2.5395\n",
      "Epoch 26/100\n",
      "24/24 [==============================] - 43s 2s/step - loss: 1.4998 - category_out_loss: 0.5775 - theme_out_loss: 1.7239 - val_loss: 2.1751 - val_category_out_loss: 0.8357 - val_theme_out_loss: 2.5184\n",
      "Epoch 27/100\n",
      "24/24 [==============================] - 49s 2s/step - loss: 1.4600 - category_out_loss: 0.5634 - theme_out_loss: 1.6661 - val_loss: 2.1500 - val_category_out_loss: 0.8245 - val_theme_out_loss: 2.5050\n",
      "Epoch 28/100\n",
      "24/24 [==============================] - 40s 2s/step - loss: 1.3748 - category_out_loss: 0.5270 - theme_out_loss: 1.6042 - val_loss: 2.1456 - val_category_out_loss: 0.8236 - val_theme_out_loss: 2.4919\n",
      "Epoch 29/100\n",
      "24/24 [==============================] - 53s 2s/step - loss: 1.3592 - category_out_loss: 0.5206 - theme_out_loss: 1.5899 - val_loss: 2.1140 - val_category_out_loss: 0.8093 - val_theme_out_loss: 2.4771\n",
      "Epoch 30/100\n",
      "24/24 [==============================] - 42s 2s/step - loss: 1.3775 - category_out_loss: 0.5330 - theme_out_loss: 1.5578 - val_loss: 2.0953 - val_category_out_loss: 0.8015 - val_theme_out_loss: 2.4612\n",
      "Epoch 31/100\n",
      "24/24 [==============================] - 48s 2s/step - loss: 1.3009 - category_out_loss: 0.5010 - theme_out_loss: 1.4950 - val_loss: 2.0744 - val_category_out_loss: 0.7920 - val_theme_out_loss: 2.4522\n",
      "Epoch 32/100\n",
      "24/24 [==============================] - 47s 2s/step - loss: 1.3167 - category_out_loss: 0.5128 - theme_out_loss: 1.4559 - val_loss: 2.0728 - val_category_out_loss: 0.7919 - val_theme_out_loss: 2.4449\n",
      "Epoch 33/100\n",
      "24/24 [==============================] - 38s 2s/step - loss: 1.2624 - category_out_loss: 0.4870 - theme_out_loss: 1.4424 - val_loss: 2.0681 - val_category_out_loss: 0.7907 - val_theme_out_loss: 2.4336\n",
      "Epoch 34/100\n",
      "24/24 [==============================] - 47s 2s/step - loss: 1.2639 - category_out_loss: 0.4902 - theme_out_loss: 1.4178 - val_loss: 2.0707 - val_category_out_loss: 0.7927 - val_theme_out_loss: 2.4263\n",
      "Epoch 35/100\n",
      "24/24 [==============================] - 45s 2s/step - loss: 1.1770 - category_out_loss: 0.4478 - theme_out_loss: 1.4074 - val_loss: 2.0461 - val_category_out_loss: 0.7812 - val_theme_out_loss: 2.4189\n",
      "Epoch 36/100\n",
      "24/24 [==============================] - 38s 2s/step - loss: 1.1621 - category_out_loss: 0.4437 - theme_out_loss: 1.3736 - val_loss: 2.0211 - val_category_out_loss: 0.7698 - val_theme_out_loss: 2.4081\n",
      "Epoch 37/100\n",
      "24/24 [==============================] - 53s 2s/step - loss: 1.1436 - category_out_loss: 0.4372 - theme_out_loss: 1.3460 - val_loss: 2.0085 - val_category_out_loss: 0.7640 - val_theme_out_loss: 2.4026\n",
      "Epoch 38/100\n",
      "24/24 [==============================] - 44s 2s/step - loss: 1.1486 - category_out_loss: 0.4439 - theme_out_loss: 1.3036 - val_loss: 2.0069 - val_category_out_loss: 0.7639 - val_theme_out_loss: 2.3957\n",
      "Epoch 39/100\n",
      "24/24 [==============================] - 37s 2s/step - loss: 1.1164 - category_out_loss: 0.4326 - theme_out_loss: 1.2562 - val_loss: 2.0025 - val_category_out_loss: 0.7619 - val_theme_out_loss: 2.3930\n",
      "Epoch 40/100\n",
      "24/24 [==============================] - 53s 2s/step - loss: 1.1077 - category_out_loss: 0.4284 - theme_out_loss: 1.2544 - val_loss: 1.9930 - val_category_out_loss: 0.7579 - val_theme_out_loss: 2.3862\n",
      "Epoch 41/100\n",
      "24/24 [==============================] - 38s 2s/step - loss: 1.1240 - category_out_loss: 0.4402 - theme_out_loss: 1.2176 - val_loss: 1.9867 - val_category_out_loss: 0.7551 - val_theme_out_loss: 2.3827\n",
      "Epoch 42/100\n",
      "24/24 [==============================] - 51s 2s/step - loss: 1.0409 - category_out_loss: 0.3988 - theme_out_loss: 1.2169 - val_loss: 1.9815 - val_category_out_loss: 0.7529 - val_theme_out_loss: 2.3788\n",
      "Epoch 43/100\n",
      "24/24 [==============================] - 48s 2s/step - loss: 1.0438 - category_out_loss: 0.4025 - theme_out_loss: 1.1937 - val_loss: 1.9537 - val_category_out_loss: 0.7396 - val_theme_out_loss: 2.3724\n",
      "Epoch 44/100\n",
      "24/24 [==============================] - 50s 2s/step - loss: 1.0010 - category_out_loss: 0.3804 - theme_out_loss: 1.2006 - val_loss: 1.9508 - val_category_out_loss: 0.7383 - val_theme_out_loss: 2.3709\n",
      "Epoch 45/100\n",
      "24/24 [==============================] - 47s 2s/step - loss: 1.0367 - category_out_loss: 0.4041 - theme_out_loss: 1.1419 - val_loss: 1.9521 - val_category_out_loss: 0.7393 - val_theme_out_loss: 2.3678\n",
      "Epoch 46/100\n",
      "24/24 [==============================] - 57s 2s/step - loss: 1.0180 - category_out_loss: 0.3970 - theme_out_loss: 1.1207 - val_loss: 1.9457 - val_category_out_loss: 0.7362 - val_theme_out_loss: 2.3668\n",
      "Epoch 47/100\n",
      "24/24 [==============================] - 48s 2s/step - loss: 1.0468 - category_out_loss: 0.4099 - theme_out_loss: 1.1351 - val_loss: 1.9467 - val_category_out_loss: 0.7370 - val_theme_out_loss: 2.3634\n",
      "Epoch 48/100\n",
      "24/24 [==============================] - 39s 2s/step - loss: 0.9452 - category_out_loss: 0.3620 - theme_out_loss: 1.1062 - val_loss: 1.9343 - val_category_out_loss: 0.7310 - val_theme_out_loss: 2.3614\n",
      "Epoch 49/100\n",
      "24/24 [==============================] - 53s 2s/step - loss: 0.9726 - category_out_loss: 0.3791 - theme_out_loss: 1.0723 - val_loss: 1.9357 - val_category_out_loss: 0.7317 - val_theme_out_loss: 2.3611\n",
      "Epoch 50/100\n",
      "24/24 [==============================] - 49s 2s/step - loss: 0.9265 - category_out_loss: 0.3567 - theme_out_loss: 1.0658 - val_loss: 1.9246 - val_category_out_loss: 0.7265 - val_theme_out_loss: 2.3586\n",
      "Epoch 51/100\n",
      "24/24 [==============================] - 37s 2s/step - loss: 0.9232 - category_out_loss: 0.3565 - theme_out_loss: 1.0510 - val_loss: 1.9262 - val_category_out_loss: 0.7274 - val_theme_out_loss: 2.3569\n",
      "Epoch 52/100\n",
      "24/24 [==============================] - 52s 2s/step - loss: 0.9936 - category_out_loss: 0.3927 - theme_out_loss: 1.0414 - val_loss: 1.9186 - val_category_out_loss: 0.7237 - val_theme_out_loss: 2.3558\n",
      "Epoch 53/100\n",
      "24/24 [==============================] - 42s 2s/step - loss: 0.8505 - category_out_loss: 0.3223 - theme_out_loss: 1.0290 - val_loss: 1.9287 - val_category_out_loss: 0.7287 - val_theme_out_loss: 2.3563\n",
      "Epoch 54/100\n",
      "24/24 [==============================] - 50s 2s/step - loss: 0.9130 - category_out_loss: 0.3536 - theme_out_loss: 1.0291 - val_loss: 1.9213 - val_category_out_loss: 0.7253 - val_theme_out_loss: 2.3538\n",
      "Epoch 55/100\n",
      "24/24 [==============================] - 50s 2s/step - loss: 0.8669 - category_out_loss: 0.3322 - theme_out_loss: 1.0124 - val_loss: 1.9296 - val_category_out_loss: 0.7294 - val_theme_out_loss: 2.3540\n"
     ]
    },
    {
     "name": "stderr",
     "output_type": "stream",
     "text": [
      "WARNING:absl:Found untraced functions such as restored_function_body, restored_function_body, restored_function_body, restored_function_body, restored_function_body while saving (showing 5 of 360). These functions will not be directly callable after loading.\n"
     ]
    },
    {
     "name": "stdout",
     "output_type": "stream",
     "text": [
      "8/8 [==============================] - 11s 1s/step\n",
      "24/24 [==============================] - 27s 1s/step\n",
      "16/16 [==============================] - 22s 1s/step\n",
      "val auc 0.880915849976338\n",
      "leak_test_auc_score 0.8694945290368662\n"
     ]
    },
    {
     "data": {
      "application/vnd.jupyter.widget-view+json": {
       "model_id": "5541e15d650d42b58943fe0dafce4eaa",
       "version_major": 2,
       "version_minor": 0
      },
      "text/plain": [
       "  0%|          | 0/1 [00:00<?, ?it/s]"
      ]
     },
     "metadata": {},
     "output_type": "display_data"
    },
    {
     "name": "stdout",
     "output_type": "stream",
     "text": [
      "Epoch 1/100\n",
      "24/24 [==============================] - 63s 2s/step - loss: 8.8017 - category_out_loss: 3.8135 - theme_out_loss: 5.8733 - val_loss: 7.1679 - val_category_out_loss: 3.0616 - val_theme_out_loss: 5.2237\n",
      "Epoch 2/100\n",
      "24/24 [==============================] - 42s 2s/step - loss: 7.9975 - category_out_loss: 3.4141 - theme_out_loss: 5.8469 - val_loss: 6.5756 - val_category_out_loss: 2.7678 - val_theme_out_loss: 5.1999\n",
      "Epoch 3/100\n",
      "24/24 [==============================] - 52s 2s/step - loss: 6.8166 - category_out_loss: 2.8342 - theme_out_loss: 5.7412 - val_loss: 5.7228 - val_category_out_loss: 2.3454 - val_theme_out_loss: 5.1600\n",
      "Epoch 4/100\n",
      "24/24 [==============================] - 38s 2s/step - loss: 5.5666 - category_out_loss: 2.2215 - theme_out_loss: 5.6175 - val_loss: 4.8663 - val_category_out_loss: 1.9243 - val_theme_out_loss: 5.0887\n",
      "Epoch 5/100\n",
      "24/24 [==============================] - 54s 2s/step - loss: 4.7737 - category_out_loss: 1.8409 - theme_out_loss: 5.4597 - val_loss: 4.2697 - val_category_out_loss: 1.6376 - val_theme_out_loss: 4.9725\n",
      "Epoch 6/100\n",
      "24/24 [==============================] - 38s 2s/step - loss: 4.1198 - category_out_loss: 1.5490 - theme_out_loss: 5.1092 - val_loss: 3.7762 - val_category_out_loss: 1.4084 - val_theme_out_loss: 4.7969\n",
      "Epoch 7/100\n",
      "24/24 [==============================] - 52s 2s/step - loss: 3.7265 - category_out_loss: 1.3845 - theme_out_loss: 4.7875 - val_loss: 3.5082 - val_category_out_loss: 1.2985 - val_theme_out_loss: 4.5556\n",
      "Epoch 8/100\n",
      "24/24 [==============================] - 44s 2s/step - loss: 3.2386 - category_out_loss: 1.1808 - theme_out_loss: 4.3851 - val_loss: 3.2189 - val_category_out_loss: 1.1843 - val_theme_out_loss: 4.2510\n",
      "Epoch 9/100\n",
      "24/24 [==============================] - 50s 2s/step - loss: 3.0436 - category_out_loss: 1.1215 - theme_out_loss: 4.0030 - val_loss: 3.0296 - val_category_out_loss: 1.1188 - val_theme_out_loss: 3.9601\n",
      "Epoch 10/100\n",
      "24/24 [==============================] - 38s 2s/step - loss: 2.8505 - category_out_loss: 1.0610 - theme_out_loss: 3.6430 - val_loss: 2.9001 - val_category_out_loss: 1.0793 - val_theme_out_loss: 3.7072\n",
      "Epoch 11/100\n",
      "24/24 [==============================] - 54s 2s/step - loss: 2.6159 - category_out_loss: 0.9721 - theme_out_loss: 3.3581 - val_loss: 2.7766 - val_category_out_loss: 1.0396 - val_theme_out_loss: 3.4871\n",
      "Epoch 12/100\n",
      "24/24 [==============================] - 38s 2s/step - loss: 2.4234 - category_out_loss: 0.8994 - theme_out_loss: 3.1234 - val_loss: 2.7175 - val_category_out_loss: 1.0281 - val_theme_out_loss: 3.3063\n",
      "Epoch 13/100\n",
      "24/24 [==============================] - 50s 2s/step - loss: 2.2672 - category_out_loss: 0.8426 - theme_out_loss: 2.9096 - val_loss: 2.6642 - val_category_out_loss: 1.0164 - val_theme_out_loss: 3.1568\n",
      "Epoch 14/100\n",
      "24/24 [==============================] - 45s 2s/step - loss: 2.2135 - category_out_loss: 0.8291 - theme_out_loss: 2.7767 - val_loss: 2.5908 - val_category_out_loss: 0.9926 - val_theme_out_loss: 3.0275\n",
      "Epoch 15/100\n",
      "24/24 [==============================] - 48s 2s/step - loss: 2.1544 - category_out_loss: 0.8154 - theme_out_loss: 2.6184 - val_loss: 2.5600 - val_category_out_loss: 0.9869 - val_theme_out_loss: 2.9304\n",
      "Epoch 16/100\n",
      "24/24 [==============================] - 38s 2s/step - loss: 1.9130 - category_out_loss: 0.7054 - theme_out_loss: 2.5112 - val_loss: 2.5247 - val_category_out_loss: 0.9785 - val_theme_out_loss: 2.8383\n",
      "Epoch 17/100\n",
      "24/24 [==============================] - 51s 2s/step - loss: 2.0032 - category_out_loss: 0.7609 - theme_out_loss: 2.4068 - val_loss: 2.5070 - val_category_out_loss: 0.9766 - val_theme_out_loss: 2.7688\n",
      "Epoch 18/100\n",
      "24/24 [==============================] - 47s 2s/step - loss: 1.8251 - category_out_loss: 0.6868 - theme_out_loss: 2.2575 - val_loss: 2.4251 - val_category_out_loss: 0.9423 - val_theme_out_loss: 2.7022\n",
      "Epoch 19/100\n",
      "24/24 [==============================] - 45s 2s/step - loss: 1.7550 - category_out_loss: 0.6617 - theme_out_loss: 2.1577 - val_loss: 2.4018 - val_category_out_loss: 0.9358 - val_theme_out_loss: 2.6508\n",
      "Epoch 20/100\n",
      "24/24 [==============================] - 36s 2s/step - loss: 1.7425 - category_out_loss: 0.6632 - theme_out_loss: 2.0809 - val_loss: 2.4082 - val_category_out_loss: 0.9431 - val_theme_out_loss: 2.6102\n",
      "Epoch 21/100\n",
      "24/24 [==============================] - 53s 2s/step - loss: 1.6528 - category_out_loss: 0.6260 - theme_out_loss: 2.0039 - val_loss: 2.3855 - val_category_out_loss: 0.9356 - val_theme_out_loss: 2.5716\n",
      "Epoch 22/100\n",
      "24/24 [==============================] - 38s 2s/step - loss: 1.6531 - category_out_loss: 0.6282 - theme_out_loss: 1.9838 - val_loss: 2.3682 - val_category_out_loss: 0.9300 - val_theme_out_loss: 2.5411\n",
      "Epoch 23/100\n",
      "24/24 [==============================] - 47s 2s/step - loss: 1.6262 - category_out_loss: 0.6229 - theme_out_loss: 1.9018 - val_loss: 2.3505 - val_category_out_loss: 0.9239 - val_theme_out_loss: 2.5140\n",
      "Epoch 24/100\n",
      "24/24 [==============================] - 39s 2s/step - loss: 1.5736 - category_out_loss: 0.6017 - theme_out_loss: 1.8514 - val_loss: 2.3398 - val_category_out_loss: 0.9208 - val_theme_out_loss: 2.4908\n",
      "Epoch 25/100\n",
      "24/24 [==============================] - 48s 2s/step - loss: 1.4781 - category_out_loss: 0.5591 - theme_out_loss: 1.7993 - val_loss: 2.3005 - val_category_out_loss: 0.9034 - val_theme_out_loss: 2.4688\n",
      "Epoch 26/100\n",
      "24/24 [==============================] - 38s 2s/step - loss: 1.5033 - category_out_loss: 0.5821 - theme_out_loss: 1.6961 - val_loss: 2.2882 - val_category_out_loss: 0.8992 - val_theme_out_loss: 2.4485\n",
      "Epoch 27/100\n",
      "24/24 [==============================] - 46s 2s/step - loss: 1.4208 - category_out_loss: 0.5413 - theme_out_loss: 1.6914 - val_loss: 2.2865 - val_category_out_loss: 0.8999 - val_theme_out_loss: 2.4337\n",
      "Epoch 28/100\n",
      "24/24 [==============================] - 47s 2s/step - loss: 1.3775 - category_out_loss: 0.5260 - theme_out_loss: 1.6274 - val_loss: 2.2423 - val_category_out_loss: 0.8798 - val_theme_out_loss: 2.4139\n",
      "Epoch 29/100\n",
      "24/24 [==============================] - 38s 2s/step - loss: 1.3429 - category_out_loss: 0.5133 - theme_out_loss: 1.5812 - val_loss: 2.2270 - val_category_out_loss: 0.8738 - val_theme_out_loss: 2.3971\n",
      "Epoch 30/100\n",
      "24/24 [==============================] - 53s 2s/step - loss: 1.3620 - category_out_loss: 0.5254 - theme_out_loss: 1.5558 - val_loss: 2.2136 - val_category_out_loss: 0.8682 - val_theme_out_loss: 2.3862\n",
      "Epoch 31/100\n",
      "24/24 [==============================] - 38s 2s/step - loss: 1.2557 - category_out_loss: 0.4746 - theme_out_loss: 1.5324 - val_loss: 2.1956 - val_category_out_loss: 0.8604 - val_theme_out_loss: 2.3739\n",
      "Epoch 32/100\n",
      "24/24 [==============================] - 50s 2s/step - loss: 1.2298 - category_out_loss: 0.4677 - theme_out_loss: 1.4721 - val_loss: 2.1642 - val_category_out_loss: 0.8458 - val_theme_out_loss: 2.3629\n",
      "Epoch 33/100\n",
      "24/24 [==============================] - 44s 2s/step - loss: 1.2387 - category_out_loss: 0.4768 - theme_out_loss: 1.4250 - val_loss: 2.1251 - val_category_out_loss: 0.8274 - val_theme_out_loss: 2.3516\n",
      "Epoch 34/100\n",
      "24/24 [==============================] - 38s 2s/step - loss: 1.2340 - category_out_loss: 0.4768 - theme_out_loss: 1.4016 - val_loss: 2.1234 - val_category_out_loss: 0.8270 - val_theme_out_loss: 2.3470\n",
      "Epoch 35/100\n",
      "24/24 [==============================] - 50s 2s/step - loss: 1.1689 - category_out_loss: 0.4454 - theme_out_loss: 1.3902 - val_loss: 2.1150 - val_category_out_loss: 0.8233 - val_theme_out_loss: 2.3424\n",
      "Epoch 36/100\n",
      "24/24 [==============================] - 46s 2s/step - loss: 1.1357 - category_out_loss: 0.4346 - theme_out_loss: 1.3320 - val_loss: 2.1087 - val_category_out_loss: 0.8207 - val_theme_out_loss: 2.3366\n",
      "Epoch 37/100\n",
      "24/24 [==============================] - 38s 2s/step - loss: 1.1333 - category_out_loss: 0.4301 - theme_out_loss: 1.3653 - val_loss: 2.1144 - val_category_out_loss: 0.8242 - val_theme_out_loss: 2.3297\n",
      "Epoch 38/100\n",
      "24/24 [==============================] - 56s 2s/step - loss: 1.1285 - category_out_loss: 0.4338 - theme_out_loss: 1.3042 - val_loss: 2.1014 - val_category_out_loss: 0.8187 - val_theme_out_loss: 2.3201\n",
      "Epoch 39/100\n",
      "24/24 [==============================] - 48s 2s/step - loss: 1.1700 - category_out_loss: 0.4541 - theme_out_loss: 1.3088 - val_loss: 2.0958 - val_category_out_loss: 0.8164 - val_theme_out_loss: 2.3152\n",
      "Epoch 40/100\n",
      "24/24 [==============================] - 47s 2s/step - loss: 1.0404 - category_out_loss: 0.3946 - theme_out_loss: 1.2566 - val_loss: 2.0601 - val_category_out_loss: 0.7993 - val_theme_out_loss: 2.3075\n",
      "Epoch 41/100\n",
      "24/24 [==============================] - 38s 2s/step - loss: 1.0899 - category_out_loss: 0.4206 - theme_out_loss: 1.2431 - val_loss: 2.0650 - val_category_out_loss: 0.8023 - val_theme_out_loss: 2.3013\n",
      "Epoch 42/100\n",
      "24/24 [==============================] - 54s 2s/step - loss: 1.0364 - category_out_loss: 0.3964 - theme_out_loss: 1.2177 - val_loss: 2.0425 - val_category_out_loss: 0.7914 - val_theme_out_loss: 2.2981\n",
      "Epoch 43/100\n",
      "24/24 [==============================] - 42s 2s/step - loss: 1.0302 - category_out_loss: 0.3974 - theme_out_loss: 1.1767 - val_loss: 2.0253 - val_category_out_loss: 0.7831 - val_theme_out_loss: 2.2957\n",
      "Epoch 44/100\n",
      "24/24 [==============================] - 38s 2s/step - loss: 1.0017 - category_out_loss: 0.3841 - theme_out_loss: 1.1677 - val_loss: 2.0169 - val_category_out_loss: 0.7793 - val_theme_out_loss: 2.2918\n",
      "Epoch 45/100\n",
      "24/24 [==============================] - 49s 2s/step - loss: 1.0015 - category_out_loss: 0.3860 - theme_out_loss: 1.1477 - val_loss: 2.0026 - val_category_out_loss: 0.7727 - val_theme_out_loss: 2.2858\n",
      "Epoch 46/100\n",
      "24/24 [==============================] - 37s 2s/step - loss: 0.9994 - category_out_loss: 0.3873 - theme_out_loss: 1.1242 - val_loss: 2.0194 - val_category_out_loss: 0.7810 - val_theme_out_loss: 2.2866\n",
      "Epoch 47/100\n",
      "24/24 [==============================] - 52s 2s/step - loss: 0.9553 - category_out_loss: 0.3678 - theme_out_loss: 1.0990 - val_loss: 2.0078 - val_category_out_loss: 0.7755 - val_theme_out_loss: 2.2840\n",
      "Epoch 48/100\n",
      "24/24 [==============================] - 40s 2s/step - loss: 0.9292 - category_out_loss: 0.3564 - theme_out_loss: 1.0822 - val_loss: 1.9967 - val_category_out_loss: 0.7706 - val_theme_out_loss: 2.2775\n",
      "Epoch 49/100\n",
      "24/24 [==============================] - 56s 2s/step - loss: 0.9465 - category_out_loss: 0.3632 - theme_out_loss: 1.1006 - val_loss: 1.9929 - val_category_out_loss: 0.7690 - val_theme_out_loss: 2.2747\n",
      "Epoch 50/100\n",
      "24/24 [==============================] - 45s 2s/step - loss: 0.9054 - category_out_loss: 0.3471 - theme_out_loss: 1.0555 - val_loss: 1.9910 - val_category_out_loss: 0.7683 - val_theme_out_loss: 2.2720\n",
      "Epoch 51/100\n",
      "24/24 [==============================] - 37s 2s/step - loss: 0.9166 - category_out_loss: 0.3531 - theme_out_loss: 1.0514 - val_loss: 2.0007 - val_category_out_loss: 0.7731 - val_theme_out_loss: 2.2723\n",
      "Epoch 52/100\n",
      "24/24 [==============================] - 49s 2s/step - loss: 0.9544 - category_out_loss: 0.3712 - theme_out_loss: 1.0603 - val_loss: 1.9919 - val_category_out_loss: 0.7688 - val_theme_out_loss: 2.2720\n",
      "Epoch 53/100\n",
      "24/24 [==============================] - 38s 2s/step - loss: 0.8842 - category_out_loss: 0.3381 - theme_out_loss: 1.0397 - val_loss: 1.9795 - val_category_out_loss: 0.7627 - val_theme_out_loss: 2.2703\n",
      "Epoch 54/100\n",
      "24/24 [==============================] - 47s 2s/step - loss: 0.9123 - category_out_loss: 0.3542 - theme_out_loss: 1.0196 - val_loss: 1.9788 - val_category_out_loss: 0.7625 - val_theme_out_loss: 2.2692\n",
      "Epoch 55/100\n",
      "24/24 [==============================] - 45s 2s/step - loss: 0.8801 - category_out_loss: 0.3404 - theme_out_loss: 0.9961 - val_loss: 1.9831 - val_category_out_loss: 0.7646 - val_theme_out_loss: 2.2691\n",
      "Epoch 56/100\n",
      "24/24 [==============================] - 50s 2s/step - loss: 0.8701 - category_out_loss: 0.3337 - theme_out_loss: 1.0134 - val_loss: 1.9842 - val_category_out_loss: 0.7654 - val_theme_out_loss: 2.2663\n",
      "Epoch 57/100\n",
      "24/24 [==============================] - 47s 2s/step - loss: 0.8962 - category_out_loss: 0.3475 - theme_out_loss: 1.0064 - val_loss: 1.9783 - val_category_out_loss: 0.7623 - val_theme_out_loss: 2.2684\n",
      "Epoch 58/100\n",
      "24/24 [==============================] - 38s 2s/step - loss: 0.8502 - category_out_loss: 0.3264 - theme_out_loss: 0.9874 - val_loss: 1.9656 - val_category_out_loss: 0.7562 - val_theme_out_loss: 2.2655\n",
      "Epoch 59/100\n",
      "24/24 [==============================] - 47s 2s/step - loss: 0.8414 - category_out_loss: 0.3243 - theme_out_loss: 0.9645 - val_loss: 1.9467 - val_category_out_loss: 0.7471 - val_theme_out_loss: 2.2629\n",
      "Epoch 60/100\n",
      "24/24 [==============================] - 37s 2s/step - loss: 0.8631 - category_out_loss: 0.3368 - theme_out_loss: 0.9476 - val_loss: 1.9528 - val_category_out_loss: 0.7501 - val_theme_out_loss: 2.2627\n",
      "Epoch 61/100\n",
      "24/24 [==============================] - 46s 2s/step - loss: 0.8196 - category_out_loss: 0.3142 - theme_out_loss: 0.9565 - val_loss: 1.9628 - val_category_out_loss: 0.7552 - val_theme_out_loss: 2.2623\n",
      "Epoch 62/100\n",
      "24/24 [==============================] - 38s 2s/step - loss: 0.8199 - category_out_loss: 0.3145 - theme_out_loss: 0.9542 - val_loss: 1.9610 - val_category_out_loss: 0.7543 - val_theme_out_loss: 2.2618\n"
     ]
    },
    {
     "name": "stderr",
     "output_type": "stream",
     "text": [
      "WARNING:absl:Found untraced functions such as restored_function_body, restored_function_body, restored_function_body, restored_function_body, restored_function_body while saving (showing 5 of 360). These functions will not be directly callable after loading.\n"
     ]
    },
    {
     "name": "stdout",
     "output_type": "stream",
     "text": [
      "8/8 [==============================] - 11s 1s/step\n",
      "24/24 [==============================] - 30s 1s/step\n",
      "16/16 [==============================] - 30s 2s/step\n",
      "val auc 0.919972274444947\n",
      "leak_test_auc_score 0.876977604076043\n"
     ]
    },
    {
     "data": {
      "application/vnd.jupyter.widget-view+json": {
       "model_id": "f5b12d66f880463da022af3b0e30d8e0",
       "version_major": 2,
       "version_minor": 0
      },
      "text/plain": [
       "  0%|          | 0/1 [00:00<?, ?it/s]"
      ]
     },
     "metadata": {},
     "output_type": "display_data"
    },
    {
     "name": "stdout",
     "output_type": "stream",
     "text": [
      "Epoch 1/100\n",
      "24/24 [==============================] - 57s 2s/step - loss: 8.9351 - category_out_loss: 3.8749 - theme_out_loss: 5.9263 - val_loss: 6.7631 - val_category_out_loss: 2.8668 - val_theme_out_loss: 5.1477\n",
      "Epoch 2/100\n",
      "24/24 [==============================] - 53s 2s/step - loss: 8.2837 - category_out_loss: 3.5590 - theme_out_loss: 5.8290 - val_loss: 6.2911 - val_category_out_loss: 2.6336 - val_theme_out_loss: 5.1201\n",
      "Epoch 3/100\n",
      "24/24 [==============================] - 38s 2s/step - loss: 7.0264 - category_out_loss: 2.9420 - theme_out_loss: 5.7114 - val_loss: 5.5329 - val_category_out_loss: 2.2590 - val_theme_out_loss: 5.0746\n",
      "Epoch 4/100\n",
      "24/24 [==============================] - 48s 2s/step - loss: 5.7330 - category_out_loss: 2.3107 - theme_out_loss: 5.5577 - val_loss: 4.8225 - val_category_out_loss: 1.9115 - val_theme_out_loss: 4.9973\n",
      "Epoch 5/100\n",
      "24/24 [==============================] - 38s 2s/step - loss: 4.8292 - category_out_loss: 1.8785 - theme_out_loss: 5.3611 - val_loss: 4.2044 - val_category_out_loss: 1.6150 - val_theme_out_loss: 4.8722\n",
      "Epoch 6/100\n",
      "24/24 [==============================] - 47s 2s/step - loss: 4.0454 - category_out_loss: 1.5161 - theme_out_loss: 5.0654 - val_loss: 3.8280 - val_category_out_loss: 1.4450 - val_theme_out_loss: 4.6903\n",
      "Epoch 7/100\n",
      "24/24 [==============================] - 38s 2s/step - loss: 3.7128 - category_out_loss: 1.3871 - theme_out_loss: 4.6928 - val_loss: 3.5064 - val_category_out_loss: 1.3078 - val_theme_out_loss: 4.4542\n",
      "Epoch 8/100\n",
      "24/24 [==============================] - 48s 2s/step - loss: 3.3388 - category_out_loss: 1.2371 - theme_out_loss: 4.3236 - val_loss: 3.2879 - val_category_out_loss: 1.2273 - val_theme_out_loss: 4.1669\n",
      "Epoch 9/100\n",
      "24/24 [==============================] - 38s 2s/step - loss: 3.0146 - category_out_loss: 1.1164 - theme_out_loss: 3.9086 - val_loss: 3.1434 - val_category_out_loss: 1.1828 - val_theme_out_loss: 3.8892\n",
      "Epoch 10/100\n",
      "24/24 [==============================] - 53s 2s/step - loss: 2.7516 - category_out_loss: 1.0176 - theme_out_loss: 3.5822 - val_loss: 3.0190 - val_category_out_loss: 1.1444 - val_theme_out_loss: 3.6508\n",
      "Epoch 11/100\n",
      "24/24 [==============================] - 41s 2s/step - loss: 2.5969 - category_out_loss: 0.9636 - theme_out_loss: 3.3482 - val_loss: 2.9569 - val_category_out_loss: 1.1327 - val_theme_out_loss: 3.4578\n",
      "Epoch 12/100\n",
      "24/24 [==============================] - 38s 2s/step - loss: 2.3182 - category_out_loss: 0.8505 - theme_out_loss: 3.0861 - val_loss: 2.9034 - val_category_out_loss: 1.1221 - val_theme_out_loss: 3.2960\n",
      "Epoch 13/100\n",
      "24/24 [==============================] - 50s 2s/step - loss: 2.3225 - category_out_loss: 0.8729 - theme_out_loss: 2.8835 - val_loss: 2.8549 - val_category_out_loss: 1.1105 - val_theme_out_loss: 3.1696\n",
      "Epoch 14/100\n",
      "24/24 [==============================] - 43s 2s/step - loss: 2.1530 - category_out_loss: 0.8001 - theme_out_loss: 2.7636 - val_loss: 2.7929 - val_category_out_loss: 1.0907 - val_theme_out_loss: 3.0573\n",
      "Epoch 15/100\n",
      "24/24 [==============================] - 37s 2s/step - loss: 2.0350 - category_out_loss: 0.7578 - theme_out_loss: 2.5967 - val_loss: 2.7978 - val_category_out_loss: 1.1026 - val_theme_out_loss: 2.9630\n",
      "Epoch 16/100\n",
      "24/24 [==============================] - 48s 2s/step - loss: 1.9750 - category_out_loss: 0.7392 - theme_out_loss: 2.4829 - val_loss: 2.7903 - val_category_out_loss: 1.1068 - val_theme_out_loss: 2.8832\n",
      "Epoch 17/100\n",
      "24/24 [==============================] - 44s 2s/step - loss: 1.8242 - category_out_loss: 0.6747 - theme_out_loss: 2.3741 - val_loss: 2.7555 - val_category_out_loss: 1.0966 - val_theme_out_loss: 2.8112\n"
     ]
    },
    {
     "name": "stderr",
     "output_type": "stream",
     "text": [
      "WARNING:absl:Found untraced functions such as restored_function_body, restored_function_body, restored_function_body, restored_function_body, restored_function_body while saving (showing 5 of 360). These functions will not be directly callable after loading.\n"
     ]
    },
    {
     "name": "stdout",
     "output_type": "stream",
     "text": [
      "8/8 [==============================] - 11s 1s/step\n",
      "24/24 [==============================] - 28s 1s/step\n",
      "16/16 [==============================] - 21s 1s/step\n",
      "val auc 0.8622553144148057\n",
      "leak_test_auc_score 0.8606034690564625\n"
     ]
    },
    {
     "data": {
      "application/vnd.jupyter.widget-view+json": {
       "model_id": "3594be27ae1f4b0cbf0bc693e297c1e6",
       "version_major": 2,
       "version_minor": 0
      },
      "text/plain": [
       "  0%|          | 0/1 [00:00<?, ?it/s]"
      ]
     },
     "metadata": {},
     "output_type": "display_data"
    },
    {
     "name": "stdout",
     "output_type": "stream",
     "text": [
      "Epoch 1/100\n",
      "24/24 [==============================] - 61s 2s/step - loss: 8.5514 - category_out_loss: 3.6993 - theme_out_loss: 5.7638 - val_loss: 6.3390 - val_category_out_loss: 2.6473 - val_theme_out_loss: 5.2216\n",
      "Epoch 2/100\n",
      "24/24 [==============================] - 38s 2s/step - loss: 7.8490 - category_out_loss: 3.3478 - theme_out_loss: 5.7668 - val_loss: 5.9683 - val_category_out_loss: 2.4657 - val_theme_out_loss: 5.1848\n",
      "Epoch 3/100\n",
      "24/24 [==============================] - 55s 2s/step - loss: 6.7534 - category_out_loss: 2.8074 - theme_out_loss: 5.6930 - val_loss: 5.3867 - val_category_out_loss: 2.1800 - val_theme_out_loss: 5.1334\n",
      "Epoch 4/100\n",
      "24/24 [==============================] - 41s 2s/step - loss: 5.6995 - category_out_loss: 2.2964 - theme_out_loss: 5.5338 - val_loss: 4.7609 - val_category_out_loss: 1.8753 - val_theme_out_loss: 5.0519\n",
      "Epoch 5/100\n",
      "24/24 [==============================] - 49s 2s/step - loss: 4.7649 - category_out_loss: 1.8547 - theme_out_loss: 5.2776 - val_loss: 4.2272 - val_category_out_loss: 1.6211 - val_theme_out_loss: 4.9249\n",
      "Epoch 6/100\n",
      "24/24 [==============================] - 49s 2s/step - loss: 4.1328 - category_out_loss: 1.5632 - theme_out_loss: 5.0324 - val_loss: 3.8435 - val_category_out_loss: 1.4477 - val_theme_out_loss: 4.7406\n",
      "Epoch 7/100\n",
      "24/24 [==============================] - 37s 2s/step - loss: 3.6645 - category_out_loss: 1.3639 - theme_out_loss: 4.6834 - val_loss: 3.5584 - val_category_out_loss: 1.3292 - val_theme_out_loss: 4.5000\n",
      "Epoch 8/100\n",
      "24/24 [==============================] - 48s 2s/step - loss: 3.2944 - category_out_loss: 1.2170 - theme_out_loss: 4.3013 - val_loss: 3.3289 - val_category_out_loss: 1.2427 - val_theme_out_loss: 4.2172\n",
      "Epoch 9/100\n",
      "24/24 [==============================] - 39s 2s/step - loss: 2.9897 - category_out_loss: 1.1062 - theme_out_loss: 3.8860 - val_loss: 3.1453 - val_category_out_loss: 1.1779 - val_theme_out_loss: 3.9472\n",
      "Epoch 10/100\n",
      "24/24 [==============================] - 54s 2s/step - loss: 2.7387 - category_out_loss: 1.0118 - theme_out_loss: 3.5753 - val_loss: 3.0175 - val_category_out_loss: 1.1378 - val_theme_out_loss: 3.7092\n",
      "Epoch 11/100\n",
      "24/24 [==============================] - 46s 2s/step - loss: 2.5277 - category_out_loss: 0.9315 - theme_out_loss: 3.3241 - val_loss: 2.9216 - val_category_out_loss: 1.1110 - val_theme_out_loss: 3.4981\n",
      "Epoch 12/100\n",
      "24/24 [==============================] - 36s 2s/step - loss: 2.4258 - category_out_loss: 0.9041 - theme_out_loss: 3.0885 - val_loss: 2.8696 - val_category_out_loss: 1.1015 - val_theme_out_loss: 3.3335\n",
      "Epoch 13/100\n",
      "24/24 [==============================] - 51s 2s/step - loss: 2.2839 - category_out_loss: 0.8527 - theme_out_loss: 2.8925 - val_loss: 2.8227 - val_category_out_loss: 1.0920 - val_theme_out_loss: 3.1932\n",
      "Epoch 14/100\n",
      "24/24 [==============================] - 46s 2s/step - loss: 2.0745 - category_out_loss: 0.7671 - theme_out_loss: 2.7013 - val_loss: 2.7976 - val_category_out_loss: 1.0905 - val_theme_out_loss: 3.0833\n",
      "Epoch 15/100\n",
      "24/24 [==============================] - 44s 2s/step - loss: 2.0743 - category_out_loss: 0.7781 - theme_out_loss: 2.5909 - val_loss: 2.7607 - val_category_out_loss: 1.0820 - val_theme_out_loss: 2.9833\n",
      "Epoch 16/100\n",
      "24/24 [==============================] - 36s 2s/step - loss: 2.0285 - category_out_loss: 0.7708 - theme_out_loss: 2.4339 - val_loss: 2.7185 - val_category_out_loss: 1.0688 - val_theme_out_loss: 2.9043\n",
      "Epoch 17/100\n",
      "24/24 [==============================] - 51s 2s/step - loss: 1.9135 - category_out_loss: 0.7225 - theme_out_loss: 2.3428 - val_loss: 2.7009 - val_category_out_loss: 1.0665 - val_theme_out_loss: 2.8395\n",
      "Epoch 18/100\n",
      "24/24 [==============================] - 35s 1s/step - loss: 1.8077 - category_out_loss: 0.6798 - theme_out_loss: 2.2402 - val_loss: 2.6641 - val_category_out_loss: 1.0532 - val_theme_out_loss: 2.7891\n",
      "Epoch 19/100\n",
      "24/24 [==============================] - 46s 2s/step - loss: 1.6828 - category_out_loss: 0.6282 - theme_out_loss: 2.1321 - val_loss: 2.6420 - val_category_out_loss: 1.0467 - val_theme_out_loss: 2.7432\n",
      "Epoch 20/100\n",
      "24/24 [==============================] - 41s 2s/step - loss: 1.6884 - category_out_loss: 0.6397 - theme_out_loss: 2.0456 - val_loss: 2.6086 - val_category_out_loss: 1.0336 - val_theme_out_loss: 2.7075\n",
      "Epoch 21/100\n",
      "24/24 [==============================] - 48s 2s/step - loss: 1.6183 - category_out_loss: 0.6121 - theme_out_loss: 1.9709 - val_loss: 2.6045 - val_category_out_loss: 1.0348 - val_theme_out_loss: 2.6748\n",
      "Epoch 22/100\n",
      "24/24 [==============================] - 40s 2s/step - loss: 1.5065 - category_out_loss: 0.5629 - theme_out_loss: 1.9029 - val_loss: 2.5854 - val_category_out_loss: 1.0283 - val_theme_out_loss: 2.6443\n",
      "Epoch 23/100\n",
      "24/24 [==============================] - 45s 2s/step - loss: 1.5649 - category_out_loss: 0.5952 - theme_out_loss: 1.8727 - val_loss: 2.5772 - val_category_out_loss: 1.0274 - val_theme_out_loss: 2.6121\n",
      "Epoch 24/100\n",
      "24/24 [==============================] - 45s 2s/step - loss: 1.5204 - category_out_loss: 0.5833 - theme_out_loss: 1.7690 - val_loss: 2.5857 - val_category_out_loss: 1.0333 - val_theme_out_loss: 2.5957\n",
      "Epoch 25/100\n",
      "24/24 [==============================] - 42s 2s/step - loss: 1.4012 - category_out_loss: 0.5246 - theme_out_loss: 1.7606 - val_loss: 2.5440 - val_category_out_loss: 1.0143 - val_theme_out_loss: 2.5773\n",
      "Epoch 26/100\n",
      "24/24 [==============================] - 35s 1s/step - loss: 1.3341 - category_out_loss: 0.4987 - theme_out_loss: 1.6831 - val_loss: 2.5302 - val_category_out_loss: 1.0089 - val_theme_out_loss: 2.5618\n",
      "Epoch 27/100\n",
      "24/24 [==============================] - 45s 2s/step - loss: 1.3079 - category_out_loss: 0.4897 - theme_out_loss: 1.6423 - val_loss: 2.4973 - val_category_out_loss: 0.9950 - val_theme_out_loss: 2.5361\n",
      "Epoch 28/100\n",
      "24/24 [==============================] - 41s 2s/step - loss: 1.3447 - category_out_loss: 0.5155 - theme_out_loss: 1.5691 - val_loss: 2.4758 - val_category_out_loss: 0.9856 - val_theme_out_loss: 2.5232\n",
      "Epoch 29/100\n",
      "24/24 [==============================] - 49s 2s/step - loss: 1.3023 - category_out_loss: 0.4972 - theme_out_loss: 1.5399 - val_loss: 2.4433 - val_category_out_loss: 0.9706 - val_theme_out_loss: 2.5109\n",
      "Epoch 30/100\n",
      "24/24 [==============================] - 38s 2s/step - loss: 1.2817 - category_out_loss: 0.4865 - theme_out_loss: 1.5434 - val_loss: 2.4396 - val_category_out_loss: 0.9698 - val_theme_out_loss: 2.5002\n",
      "Epoch 31/100\n",
      "24/24 [==============================] - 50s 2s/step - loss: 1.2336 - category_out_loss: 0.4707 - theme_out_loss: 1.4615 - val_loss: 2.4404 - val_category_out_loss: 0.9717 - val_theme_out_loss: 2.4854\n",
      "Epoch 32/100\n",
      "24/24 [==============================] - 38s 2s/step - loss: 1.1885 - category_out_loss: 0.4519 - theme_out_loss: 1.4231 - val_loss: 2.4240 - val_category_out_loss: 0.9645 - val_theme_out_loss: 2.4750\n",
      "Epoch 33/100\n",
      "24/24 [==============================] - 45s 2s/step - loss: 1.1614 - category_out_loss: 0.4400 - theme_out_loss: 1.4068 - val_loss: 2.4259 - val_category_out_loss: 0.9663 - val_theme_out_loss: 2.4670\n",
      "Epoch 34/100\n",
      "24/24 [==============================] - 43s 2s/step - loss: 1.2025 - category_out_loss: 0.4611 - theme_out_loss: 1.4011 - val_loss: 2.4198 - val_category_out_loss: 0.9643 - val_theme_out_loss: 2.4559\n",
      "Epoch 35/100\n",
      "24/24 [==============================] - 35s 1s/step - loss: 1.1432 - category_out_loss: 0.4344 - theme_out_loss: 1.3718 - val_loss: 2.3943 - val_category_out_loss: 0.9526 - val_theme_out_loss: 2.4453\n",
      "Epoch 36/100\n",
      "24/24 [==============================] - 39s 2s/step - loss: 1.0837 - category_out_loss: 0.4111 - theme_out_loss: 1.3072 - val_loss: 2.3939 - val_category_out_loss: 0.9528 - val_theme_out_loss: 2.4414\n",
      "Epoch 37/100\n",
      "24/24 [==============================] - 49s 2s/step - loss: 1.0922 - category_out_loss: 0.4184 - theme_out_loss: 1.2772 - val_loss: 2.3678 - val_category_out_loss: 0.9402 - val_theme_out_loss: 2.4367\n",
      "Epoch 38/100\n",
      "24/24 [==============================] - 38s 2s/step - loss: 1.0580 - category_out_loss: 0.4021 - theme_out_loss: 1.2692 - val_loss: 2.3594 - val_category_out_loss: 0.9364 - val_theme_out_loss: 2.4330\n",
      "Epoch 39/100\n",
      "24/24 [==============================] - 46s 2s/step - loss: 1.0509 - category_out_loss: 0.4017 - theme_out_loss: 1.2376 - val_loss: 2.3557 - val_category_out_loss: 0.9355 - val_theme_out_loss: 2.4233\n",
      "Epoch 40/100\n",
      "24/24 [==============================] - 35s 1s/step - loss: 0.9960 - category_out_loss: 0.3771 - theme_out_loss: 1.2086 - val_loss: 2.3382 - val_category_out_loss: 0.9274 - val_theme_out_loss: 2.4167\n",
      "Epoch 41/100\n",
      "24/24 [==============================] - 43s 2s/step - loss: 0.9822 - category_out_loss: 0.3700 - theme_out_loss: 1.2115 - val_loss: 2.3342 - val_category_out_loss: 0.9255 - val_theme_out_loss: 2.4159\n",
      "Epoch 42/100\n",
      "24/24 [==============================] - 44s 2s/step - loss: 0.9897 - category_out_loss: 0.3767 - theme_out_loss: 1.1813 - val_loss: 2.3160 - val_category_out_loss: 0.9169 - val_theme_out_loss: 2.4111\n",
      "Epoch 43/100\n",
      "24/24 [==============================] - 36s 2s/step - loss: 0.9605 - category_out_loss: 0.3635 - theme_out_loss: 1.1671 - val_loss: 2.3124 - val_category_out_loss: 0.9153 - val_theme_out_loss: 2.4084\n",
      "Epoch 44/100\n",
      "24/24 [==============================] - 41s 2s/step - loss: 0.9666 - category_out_loss: 0.3670 - theme_out_loss: 1.1633 - val_loss: 2.2921 - val_category_out_loss: 0.9056 - val_theme_out_loss: 2.4042\n",
      "Epoch 45/100\n",
      "24/24 [==============================] - 47s 2s/step - loss: 0.8719 - category_out_loss: 0.3254 - theme_out_loss: 1.1056 - val_loss: 2.2956 - val_category_out_loss: 0.9073 - val_theme_out_loss: 2.4045\n",
      "Epoch 46/100\n",
      "24/24 [==============================] - 37s 2s/step - loss: 0.9373 - category_out_loss: 0.3586 - theme_out_loss: 1.1004 - val_loss: 2.2750 - val_category_out_loss: 0.8977 - val_theme_out_loss: 2.3986\n",
      "Epoch 47/100\n",
      "24/24 [==============================] - 35s 1s/step - loss: 0.9568 - category_out_loss: 0.3713 - theme_out_loss: 1.0705 - val_loss: 2.2866 - val_category_out_loss: 0.9038 - val_theme_out_loss: 2.3947\n",
      "Epoch 48/100\n",
      "24/24 [==============================] - 35s 1s/step - loss: 0.8948 - category_out_loss: 0.3405 - theme_out_loss: 1.0695 - val_loss: 2.2745 - val_category_out_loss: 0.8980 - val_theme_out_loss: 2.3926\n",
      "Epoch 49/100\n",
      "24/24 [==============================] - 37s 2s/step - loss: 0.9778 - category_out_loss: 0.3837 - theme_out_loss: 1.0526 - val_loss: 2.2687 - val_category_out_loss: 0.8950 - val_theme_out_loss: 2.3934\n",
      "Epoch 50/100\n",
      "24/24 [==============================] - 33s 1s/step - loss: 0.9096 - category_out_loss: 0.3489 - theme_out_loss: 1.0589 - val_loss: 2.2464 - val_category_out_loss: 0.8846 - val_theme_out_loss: 2.3856\n",
      "Epoch 51/100\n",
      "24/24 [==============================] - 38s 2s/step - loss: 0.8608 - category_out_loss: 0.3267 - theme_out_loss: 1.0374 - val_loss: 2.2474 - val_category_out_loss: 0.8853 - val_theme_out_loss: 2.3842\n",
      "Epoch 52/100\n",
      "24/24 [==============================] - 36s 2s/step - loss: 0.8777 - category_out_loss: 0.3360 - theme_out_loss: 1.0280 - val_loss: 2.2507 - val_category_out_loss: 0.8874 - val_theme_out_loss: 2.3800\n",
      "Epoch 53/100\n",
      "24/24 [==============================] - 41s 2s/step - loss: 0.8592 - category_out_loss: 0.3293 - theme_out_loss: 1.0032 - val_loss: 2.2463 - val_category_out_loss: 0.8854 - val_theme_out_loss: 2.3771\n"
     ]
    },
    {
     "name": "stderr",
     "output_type": "stream",
     "text": [
      "WARNING:absl:Found untraced functions such as restored_function_body, restored_function_body, restored_function_body, restored_function_body, restored_function_body while saving (showing 5 of 360). These functions will not be directly callable after loading.\n"
     ]
    },
    {
     "name": "stdout",
     "output_type": "stream",
     "text": [
      "8/8 [==============================] - 8s 1s/step\n",
      "24/24 [==============================] - 23s 1s/step\n",
      "16/16 [==============================] - 22s 1s/step\n",
      "val auc 0.8079158894312428\n",
      "leak_test_auc_score 0.8653477931111206\n"
     ]
    }
   ],
   "source": [
    "cv = StratifiedKFold(n_splits=N_SPLITS, random_state=cfg.RANDOM_STATE, shuffle=True)\n",
    "\n",
    "test_pool = get_keras_input(\n",
    "        data=test,\n",
    "        shuffle=False\n",
    "        )\n",
    "\n",
    "\n",
    "metrics = defaultdict(list)\n",
    "fold = 0\n",
    "for train_idx, val_idx in tqdm(cv.split(X_train, y_train_onecol), total=N_SPLITS):\n",
    "\n",
    "    train_pool = get_keras_input(\n",
    "        data=X_train.iloc[train_idx], \n",
    "        labels=y_train.iloc[train_idx],\n",
    "        labels2=theme_train.iloc[train_idx],\n",
    "        shuffle=True\n",
    "        )\n",
    "\n",
    "    val_pool = get_keras_input(\n",
    "        data=X_train.iloc[val_idx], \n",
    "        labels=y_train.iloc[val_idx],\n",
    "        labels2=theme_train.iloc[val_idx],\n",
    "        shuffle=False\n",
    "        )\n",
    "    \n",
    "        \n",
    "    for random_seed in tqdm(range(N_RANDOM_SEEDS), total=N_RANDOM_SEEDS):\n",
    "\n",
    "        clf = build_classifier_model()\n",
    "        \n",
    "        early_stopping = tf.keras.callbacks.EarlyStopping(monitor='val_category_out_loss', patience=3, min_delta=1e-5, mode='auto', restore_best_weights=True)\n",
    "        clf.fit(x=train_pool, validation_data=val_pool, epochs=N_EPOCHS, callbacks=[early_stopping])\n",
    "        \n",
    "        model_name = f'{EXPERIMENT_NAME}_fold_{fold}_rs_{random_seed}'\n",
    "        model_path = os.path.join(cfg.MODELS_PATH, EXPERIMENT_FAMILY_NAME, EXPERIMENT_NAME)\n",
    "        check_path(model_path)\n",
    "        clf.save(os.path.join(model_path, model_name), include_optimizer=False)\n",
    "        \n",
    "        pred_proba_oof_val = tf.nn.softmax(clf.predict(val_pool)['category_out']).numpy()\n",
    "        pred_proba_oof_train = tf.nn.softmax(clf.predict(train_pool)['category_out']).numpy()\n",
    "        pred_proba_oof.iloc[val_idx, :] += pred_proba_oof_val\n",
    "        pred_proba_test.iloc[:, :] += tf.nn.softmax(clf.predict(test_pool)['category_out']).numpy()\n",
    "\n",
    "        y_val_oof = y_train_onecol.iloc[val_idx]\n",
    "\n",
    "        val_auc = roc_auc_score(y_val_oof, pred_proba_oof_val , multi_class='ovo', labels=CLASSES)\n",
    "        metrics['val_auc'].append(val_auc)\n",
    "        print('val auc', val_auc)\n",
    "\n",
    "        leak_test_auc_score = roc_auc_score(leak_test.loc[leak_mask], pred_proba_test.loc[leak_mask] / (fold + 1), multi_class='ovo', labels=CLASSES)\n",
    "        metrics['leak_test_auc_score'].append(leak_test_auc_score)\n",
    "        print('leak_test_auc_score', leak_test_auc_score)\n",
    "        \n",
    "        del clf; gc.collect()\n",
    "    del train_pool,val_pool; gc.collect() \n",
    "        \n",
    "    fold += 1\n",
    "pred_proba_oof /= N_RANDOM_SEEDS\n",
    "pred_proba_test /= (N_SPLITS * N_RANDOM_SEEDS)"
   ]
  },
  {
   "cell_type": "code",
   "execution_count": 16,
   "metadata": {},
   "outputs": [],
   "source": [
    "# 0.8651044661502603"
   ]
  },
  {
   "cell_type": "code",
   "execution_count": 17,
   "metadata": {},
   "outputs": [
    {
     "name": "stdout",
     "output_type": "stream",
     "text": [
      "oof_auc_score 0.8387108662148852\n",
      "scores [0.880915849976338, 0.919972274444947, 0.8622553144148057, 0.8079158894312428]\n",
      "mean 0.8677648320668334 std 0.04034481698767631\n"
     ]
    }
   ],
   "source": [
    "oof_auc_score = roc_auc_score(y_train, pred_proba_oof , multi_class='ovo', labels=CLASSES)\n",
    "print('oof_auc_score', oof_auc_score)\n",
    "print('scores', metrics['val_auc'])\n",
    "print('mean', np.mean(metrics['val_auc']), 'std', np.std(metrics['val_auc']))"
   ]
  },
  {
   "cell_type": "code",
   "execution_count": 18,
   "metadata": {},
   "outputs": [],
   "source": [
    "# 0.8263713180555257"
   ]
  },
  {
   "cell_type": "code",
   "execution_count": 19,
   "metadata": {},
   "outputs": [
    {
     "name": "stdout",
     "output_type": "stream",
     "text": [
      "leak_test_auc_score 0.8653477931111206\n"
     ]
    }
   ],
   "source": [
    "leak_test = pd.read_pickle(os.path.join(cfg.DATA_PATH, 'test_leak.pkl'))\n",
    "notnull = leak_test.notnull()\n",
    "leak_test_auc_score = roc_auc_score(leak_test.loc[notnull], pred_proba_test.loc[notnull], multi_class='ovo', labels=CLASSES)\n",
    "print('leak_test_auc_score', leak_test_auc_score)\n"
   ]
  },
  {
   "cell_type": "code",
   "execution_count": 20,
   "metadata": {},
   "outputs": [],
   "source": [
    "# 0.8659094099087034"
   ]
  },
  {
   "cell_type": "code",
   "execution_count": 21,
   "metadata": {},
   "outputs": [],
   "source": [
    "submission = pd.read_csv(cfg.SAMPLE_SUBMIT_PATH).set_index('id')\n",
    "assert submission.index.equals(pred_proba_test.index)\n",
    "submission[cfg.TARGET] = pred_proba_test.idxmax(1)\n",
    "\n",
    "submission_path = os.path.join(cfg.SUBMISSION_PATH, EXPERIMENT_FAMILY_NAME)\n",
    "check_path(submission_path)\n",
    "submission.to_csv(os.path.join(submission_path, f'{EXPERIMENT_NAME}.csv'))\n",
    "\n",
    "pred_proba_oof_path = os.path.join(cfg.OOF_PRED_PATH, EXPERIMENT_FAMILY_NAME)\n",
    "check_path(pred_proba_oof_path)\n",
    "pred_proba_oof.to_pickle(os.path.join(pred_proba_oof_path, f'{EXPERIMENT_NAME}.pkl'))\n",
    "\n",
    "pred_proba_test_path = os.path.join(cfg.TEST_PRED_PATH, EXPERIMENT_FAMILY_NAME)\n",
    "check_path(pred_proba_test_path)\n",
    "pred_proba_test.to_pickle(os.path.join(pred_proba_test_path, f'{EXPERIMENT_NAME}.pkl'))"
   ]
  },
  {
   "cell_type": "code",
   "execution_count": 22,
   "metadata": {},
   "outputs": [],
   "source": [
    "import seaborn as sns\n",
    "from matplotlib import pyplot as plt"
   ]
  },
  {
   "cell_type": "code",
   "execution_count": 23,
   "metadata": {},
   "outputs": [],
   "source": [
    "trn_target_count = y_train.value_counts().rename('train_true')\n",
    "trn_pred_count = pred_proba_oof.idxmax(1).value_counts().rename('train_pred')"
   ]
  },
  {
   "cell_type": "code",
   "execution_count": 24,
   "metadata": {},
   "outputs": [],
   "source": [
    "tst_target_count = leak_test.loc[leak_mask].astype('int').value_counts().rename('test_true')\n",
    "tst_pred_count = submission.loc[leak_mask, cfg.TARGET].value_counts().rename('test_pred')"
   ]
  },
  {
   "cell_type": "code",
   "execution_count": 25,
   "metadata": {},
   "outputs": [
    {
     "data": {
      "text/plain": [
       "<AxesSubplot:>"
      ]
     },
     "execution_count": 25,
     "metadata": {},
     "output_type": "execute_result"
    },
    {
     "data": {
      "image/png": "[encoded data removed]",
      "text/plain": [
       "<Figure size 1080x720 with 1 Axes>"
      ]
     },
     "metadata": {
      "needs_background": "light"
     },
     "output_type": "display_data"
    }
   ],
   "source": [
    "pd.concat([trn_target_count, trn_pred_count], axis=1).plot(kind='barh', figsize=(15,10))"
   ]
  },
  {
   "cell_type": "code",
   "execution_count": 26,
   "metadata": {},
   "outputs": [
    {
     "data": {
      "text/plain": [
       "<AxesSubplot:>"
      ]
     },
     "execution_count": 26,
     "metadata": {},
     "output_type": "execute_result"
    },
    {
     "data": {
      "image/png": "[encoded data removed]",
      "text/plain": [
       "<Figure size 1080x720 with 1 Axes>"
      ]
     },
     "metadata": {
      "needs_background": "light"
     },
     "output_type": "display_data"
    }
   ],
   "source": [
    "pd.concat([tst_target_count, tst_pred_count], axis=1).plot(kind='barh', figsize=(15,10))"
   ]
  }
 ],
 "metadata": {
  "kernelspec": {
   "display_name": "Python 3.9.12 ('tf')",
   "language": "python",
   "name": "python3"
  },
  "language_info": {
   "codemirror_mode": {
    "name": "ipython",
    "version": 3
   },
   "file_extension": ".py",
   "mimetype": "text/x-python",
   "name": "python",
   "nbconvert_exporter": "python",
   "pygments_lexer": "ipython3",
   "version": "3.9.12"
  },
  "orig_nbformat": 4,
  "vscode": {
   "interpreter": {
    "hash": "d5356ef1c2ac2ef25d35a0579f082f1d273c4bada2fe955fa1b70f42402fff98"
   }
  }
 },
 "nbformat": 4,
 "nbformat_minor": 2
}
