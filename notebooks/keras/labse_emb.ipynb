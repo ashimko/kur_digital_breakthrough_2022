{
 "cells": [
  {
   "cell_type": "code",
   "execution_count": 36,
   "metadata": {},
   "outputs": [],
   "source": [
    "import sys\n",
    "sys.path.insert(0, \"../..\")\n",
    "import config as cfg\n",
    "import gc\n",
    "import os\n",
    "from tqdm.notebook import tqdm\n",
    "from helper import check_path, seed_everything\n",
    "from collections import defaultdict"
   ]
  },
  {
   "cell_type": "code",
   "execution_count": 37,
   "metadata": {},
   "outputs": [],
   "source": [
    "import os\n",
    "import shutil\n",
    "\n",
    "import tensorflow as tf\n",
    "import tensorflow_hub as hub\n",
    "import tensorflow_text as text\n",
    "from official.nlp import optimization  # to create AdamW optimizer\n",
    "\n",
    "import matplotlib.pyplot as plt\n",
    "\n",
    "tf.get_logger().setLevel('ERROR')"
   ]
  },
  {
   "cell_type": "code",
   "execution_count": 38,
   "metadata": {},
   "outputs": [],
   "source": [
    "import pandas as pd\n",
    "import numpy as np\n",
    "from sklearn.model_selection import StratifiedKFold\n",
    "from sklearn.metrics import roc_auc_score"
   ]
  },
  {
   "cell_type": "code",
   "execution_count": 39,
   "metadata": {},
   "outputs": [],
   "source": [
    "EXPERIMENT_FAMILY_NAME = 'keras'\n",
    "EXPERIMENT_NAME = 'labse_emb'\n",
    "N_RANDOM_SEEDS = 1\n",
    "N_EPOCHS = 100\n",
    "BATCH_SIZE = 64"
   ]
  },
  {
   "cell_type": "code",
   "execution_count": 40,
   "metadata": {},
   "outputs": [],
   "source": [
    "RANDOM_STATE = 77\n",
    "seed_everything(RANDOM_STATE)"
   ]
  },
  {
   "cell_type": "code",
   "execution_count": 41,
   "metadata": {},
   "outputs": [],
   "source": [
    "def filter_rare_categories(df: pd.DataFrame) -> pd.DataFrame:\n",
    "    rare_categories = [12]\n",
    "    return df.loc[~df[cfg.TARGET].isin(rare_categories)]"
   ]
  },
  {
   "cell_type": "code",
   "execution_count": 42,
   "metadata": {},
   "outputs": [],
   "source": [
    "\n",
    "train = pd.read_pickle(os.path.join(cfg.PREPROCESSED_DATA_PATH, 'train.pkl'))\n",
    "test = pd.read_pickle(os.path.join(cfg.PREPROCESSED_DATA_PATH, 'test.pkl'))\n",
    "\n",
    "train = train.rename(columns={cfg.TEXT_COL: 'text'})\n",
    "test = test.rename(columns={cfg.TEXT_COL: 'text'})\n",
    "\n",
    "CLASSES = np.sort(train[cfg.TARGET].unique()).tolist()\n",
    "\n",
    "# train = filter_rare_categories(train)"
   ]
  },
  {
   "cell_type": "code",
   "execution_count": 43,
   "metadata": {},
   "outputs": [],
   "source": [
    "# EMB_NAME = 'smaller_LaBSE_15lang'\n",
    "# train_emb = pd.read_pickle(os.path.join(cfg.DATA_PATH, EMB_NAME, 'train.pkl'))\n",
    "# test_emb = pd.read_pickle(os.path.join(cfg.DATA_PATH, EMB_NAME, 'test.pkl'))\n",
    "\n",
    "# train = train.join(train_emb)\n",
    "# test = test.join(test_emb)\n",
    "\n",
    "# del train_emb, test_emb; gc.collect()"
   ]
  },
  {
   "cell_type": "code",
   "execution_count": 44,
   "metadata": {},
   "outputs": [],
   "source": [
    "X_train, y_train = train.drop(cfg.TARGET, axis=1), train[cfg.TARGET]\n",
    "y_train_onecol = y_train.copy()\n",
    "\n",
    "# y_train = pd.get_dummies(y_train)\n",
    "\n",
    "N_OUT_CLASSES = len(CLASSES)\n",
    "# assert y_train.shape[1] == N_OUT_CLASSES"
   ]
  },
  {
   "cell_type": "code",
   "execution_count": 45,
   "metadata": {},
   "outputs": [],
   "source": [
    "theme_train = pd.read_csv(cfg.ORIG_TRAIN_PATH, index_col=cfg.ID_COL, usecols=[cfg.ID_COL, cfg.THEME_COL])\n",
    "theme_train = theme_train[cfg.THEME_COL].astype('category').cat.codes\n",
    "N_THEMES = theme_train.nunique()\n",
    "# theme_train = pd.get_dummies(theme_train)\n",
    "# theme_train.columns = [f'theme_{i}' for i in range(theme_train.shape[1])]\n"
   ]
  },
  {
   "cell_type": "code",
   "execution_count": 46,
   "metadata": {},
   "outputs": [],
   "source": [
    "pred_proba_oof = pd.DataFrame(data=np.zeros(shape=(len(train), len(CLASSES))), index=train.index, columns=CLASSES)\n",
    "pred_proba_test = pd.DataFrame(data=np.zeros(shape=(len(test), len(CLASSES))), index=test.index, columns=CLASSES)"
   ]
  },
  {
   "cell_type": "code",
   "execution_count": 47,
   "metadata": {},
   "outputs": [],
   "source": [
    "from typing import Optional\n",
    "\n",
    "\n",
    "def df_to_dataset(data: pd.DataFrame, labels: Optional[pd.DataFrame]=None, shuffle: bool=True, batch_size: int=32, labels2: Optional[pd.DataFrame]=None):\n",
    "  df = data.copy()\n",
    "  df = {key: value.values[:, tf.newaxis] for key, value in data.items()}\n",
    "  \n",
    "  if labels is None:\n",
    "    ds = tf.data.Dataset.from_tensor_slices((dict(df),))\n",
    "  else:\n",
    "    ds = tf.data.Dataset.from_tensor_slices((\n",
    "      dict(df), \n",
    "      {\n",
    "        'category_out': labels, \n",
    "        'theme_out': labels2\n",
    "        }\n",
    "        ))\n",
    "        \n",
    "  if shuffle:\n",
    "    ds = ds.shuffle(buffer_size=len(data))\n",
    "  ds = ds.batch(batch_size)\n",
    "  ds = ds.prefetch(batch_size)\n",
    "  return ds\n",
    "\n",
    "\n",
    "def get_keras_input(\n",
    "    data: pd.DataFrame,\n",
    "    labels: Optional[pd.DataFrame] = None,\n",
    "    labels2: Optional[pd.DataFrame] = None,\n",
    "    shuffle=False\n",
    "    ) -> tf.data.Dataset:\n",
    "    return df_to_dataset(\n",
    "        data=data,\n",
    "        labels=labels,\n",
    "        labels2=labels2,\n",
    "        shuffle=shuffle, \n",
    "        batch_size=BATCH_SIZE)\n",
    "        \n"
   ]
  },
  {
   "cell_type": "code",
   "execution_count": 48,
   "metadata": {},
   "outputs": [],
   "source": [
    "def build_classifier_model():\n",
    "    text_input = tf.keras.layers.Input(shape=(), dtype=tf.string, name='text')\n",
    "    preprocessing_layer = hub.KerasLayer(\"https://tfhub.dev/jeongukjae/smaller_LaBSE_15lang_preprocess/1\", name='preprocessing')\n",
    "    encoder_inputs = preprocessing_layer(text_input)\n",
    "    encoder = hub.KerasLayer(\"https://tfhub.dev/jeongukjae/smaller_LaBSE_15lang/1\", trainable=False, name='encoder')\n",
    "    outputs = encoder(encoder_inputs)\n",
    "\n",
    "    pooled_default = outputs['pooled_output']\n",
    "    pooled_max = tf.keras.layers.GlobalMaxPool1D()(outputs['sequence_output'])\n",
    "    net = tf.keras.layers.Concatenate()([pooled_default, pooled_max])\n",
    "    \n",
    "    net = tf.keras.layers.Dropout(0.3)(net)\n",
    "    net = tf.keras.layers.Dense(300, activation=None)(net)\n",
    "    net = tf.keras.layers.Dropout(0.2)(net)\n",
    "    category_out = tf.keras.layers.Dense(N_OUT_CLASSES, activation=None, name='category_out')(net)\n",
    "    theme_out = tf.keras.layers.Dense(N_THEMES, activation=None, name='theme_out')(net)\n",
    "\n",
    "    outputs = {\n",
    "        'category_out': category_out, \n",
    "        'theme_out': theme_out\n",
    "        }\n",
    "    model = tf.keras.Model(\n",
    "        text_input, \n",
    "        outputs=outputs\n",
    "        )\n",
    "\n",
    "    loss = {\n",
    "        'category_out': tf.keras.losses.SparseCategoricalCrossentropy(from_logits=True, name='category_out'),\n",
    "        'theme_out': tf.keras.losses.SparseCategoricalCrossentropy(from_logits=True, name='theme_out')\n",
    "        }\n",
    "    # metrics = tf.keras.metrics.AUC(from_logits=True, name='auc')\n",
    "\n",
    "    epochs = N_EPOCHS\n",
    "    n = (len(train) // cfg.N_SPLITS) * (cfg.N_SPLITS-1)\n",
    "    steps_per_epoch = n // BATCH_SIZE\n",
    "    num_train_steps = steps_per_epoch * epochs\n",
    "    num_warmup_steps = int(0.1*num_train_steps)\n",
    "\n",
    "    init_lr = 3e-4\n",
    "    optimizer = optimization.create_optimizer(\n",
    "        init_lr=init_lr,\n",
    "        num_train_steps=num_train_steps,\n",
    "        num_warmup_steps=num_warmup_steps,\n",
    "        optimizer_type='adamw')\n",
    "\n",
    "    model.compile(\n",
    "        optimizer=optimizer,\n",
    "        loss=loss,\n",
    "        loss_weights={\"category_out\": 1.0, \"theme_out\": 0.7}\n",
    "        #  metrics=metrics\n",
    "        )\n",
    "    return model\n",
    "    "
   ]
  },
  {
   "cell_type": "code",
   "execution_count": 49,
   "metadata": {},
   "outputs": [],
   "source": [
    "leak_test = pd.read_pickle(os.path.join(cfg.DATA_PATH, 'test_leak.pkl'))\n",
    "leak_mask = leak_test.notnull()"
   ]
  },
  {
   "cell_type": "code",
   "execution_count": 50,
   "metadata": {},
   "outputs": [
    {
     "data": {
      "application/vnd.jupyter.widget-view+json": {
       "model_id": "490dee7c4e0c4255b27fd38219415c72",
       "version_major": 2,
       "version_minor": 0
      },
      "text/plain": [
       "  0%|          | 0/5 [00:00<?, ?it/s]"
      ]
     },
     "metadata": {},
     "output_type": "display_data"
    },
    {
     "name": "stderr",
     "output_type": "stream",
     "text": [
      "/home/as/miniconda3/envs/tf/lib/python3.9/site-packages/sklearn/model_selection/_split.py:680: UserWarning: The least populated class in y has only 1 members, which is less than n_splits=5.\n",
      "  warnings.warn(\n"
     ]
    },
    {
     "data": {
      "application/vnd.jupyter.widget-view+json": {
       "model_id": "12128ffe81db491db1f78f225ae81ac4",
       "version_major": 2,
       "version_minor": 0
      },
      "text/plain": [
       "  0%|          | 0/1 [00:00<?, ?it/s]"
      ]
     },
     "metadata": {},
     "output_type": "display_data"
    },
    {
     "name": "stdout",
     "output_type": "stream",
     "text": [
      "Epoch 1/100\n",
      "25/25 [==============================] - 72s 2s/step - loss: 10.1469 - category_out_loss: 5.1577 - theme_out_loss: 7.1275 - val_loss: 6.6294 - val_category_out_loss: 2.4662 - val_theme_out_loss: 5.9474\n",
      "Epoch 2/100\n",
      "25/25 [==============================] - 39s 2s/step - loss: 7.2455 - category_out_loss: 2.7707 - theme_out_loss: 6.3927 - val_loss: 5.1886 - val_category_out_loss: 1.6584 - val_theme_out_loss: 5.0430\n",
      "Epoch 3/100\n",
      "25/25 [==============================] - 40s 2s/step - loss: 5.9471 - category_out_loss: 2.1280 - theme_out_loss: 5.4558 - val_loss: 4.4580 - val_category_out_loss: 1.2801 - val_theme_out_loss: 4.5400\n",
      "Epoch 4/100\n",
      "25/25 [==============================] - 46s 2s/step - loss: 5.2378 - category_out_loss: 1.7417 - theme_out_loss: 4.9945 - val_loss: 4.0300 - val_category_out_loss: 1.0662 - val_theme_out_loss: 4.2340\n",
      "Epoch 5/100\n",
      "25/25 [==============================] - 44s 2s/step - loss: 4.5941 - category_out_loss: 1.3837 - theme_out_loss: 4.5863 - val_loss: 3.7476 - val_category_out_loss: 0.9775 - val_theme_out_loss: 3.9573\n",
      "Epoch 6/100\n",
      "25/25 [==============================] - 39s 2s/step - loss: 4.0908 - category_out_loss: 1.1871 - theme_out_loss: 4.1482 - val_loss: 3.4688 - val_category_out_loss: 0.8985 - val_theme_out_loss: 3.6718\n",
      "Epoch 7/100\n",
      "25/25 [==============================] - 50s 2s/step - loss: 3.7721 - category_out_loss: 1.0905 - theme_out_loss: 3.8308 - val_loss: 3.2645 - val_category_out_loss: 0.8557 - val_theme_out_loss: 3.4411\n",
      "Epoch 8/100\n",
      "25/25 [==============================] - 44s 2s/step - loss: 3.3841 - category_out_loss: 0.9213 - theme_out_loss: 3.5183 - val_loss: 3.0301 - val_category_out_loss: 0.8011 - val_theme_out_loss: 3.1843\n",
      "Epoch 9/100\n",
      "25/25 [==============================] - 37s 2s/step - loss: 3.1285 - category_out_loss: 0.8968 - theme_out_loss: 3.1881 - val_loss: 2.9785 - val_category_out_loss: 0.8253 - val_theme_out_loss: 3.0760\n",
      "Epoch 10/100\n",
      "25/25 [==============================] - 52s 2s/step - loss: 2.8940 - category_out_loss: 0.8510 - theme_out_loss: 2.9186 - val_loss: 2.7824 - val_category_out_loss: 0.7438 - val_theme_out_loss: 2.9123\n",
      "Epoch 11/100\n",
      "25/25 [==============================] - 44s 2s/step - loss: 2.7075 - category_out_loss: 0.8439 - theme_out_loss: 2.6623 - val_loss: 2.8249 - val_category_out_loss: 0.8893 - val_theme_out_loss: 2.7651\n",
      "Epoch 12/100\n",
      "25/25 [==============================] - 37s 1s/step - loss: 2.4422 - category_out_loss: 0.7114 - theme_out_loss: 2.4725 - val_loss: 2.5967 - val_category_out_loss: 0.7026 - val_theme_out_loss: 2.7058\n",
      "Epoch 13/100\n",
      "25/25 [==============================] - 49s 2s/step - loss: 2.2973 - category_out_loss: 0.6885 - theme_out_loss: 2.2984 - val_loss: 2.5229 - val_category_out_loss: 0.6967 - val_theme_out_loss: 2.6088\n",
      "Epoch 14/100\n",
      "25/25 [==============================] - 41s 2s/step - loss: 2.1265 - category_out_loss: 0.6345 - theme_out_loss: 2.1313 - val_loss: 2.5104 - val_category_out_loss: 0.6926 - val_theme_out_loss: 2.5969\n",
      "Epoch 15/100\n",
      "25/25 [==============================] - 47s 2s/step - loss: 2.0535 - category_out_loss: 0.6456 - theme_out_loss: 2.0112 - val_loss: 2.4786 - val_category_out_loss: 0.6897 - val_theme_out_loss: 2.5557\n",
      "Epoch 16/100\n",
      "25/25 [==============================] - 46s 2s/step - loss: 1.9487 - category_out_loss: 0.5984 - theme_out_loss: 1.9289 - val_loss: 2.4645 - val_category_out_loss: 0.7128 - val_theme_out_loss: 2.5024\n",
      "Epoch 17/100\n",
      "25/25 [==============================] - 37s 1s/step - loss: 1.8277 - category_out_loss: 0.5804 - theme_out_loss: 1.7819 - val_loss: 2.4188 - val_category_out_loss: 0.6839 - val_theme_out_loss: 2.4785\n",
      "Epoch 18/100\n",
      "25/25 [==============================] - 44s 2s/step - loss: 1.7421 - category_out_loss: 0.5770 - theme_out_loss: 1.6644 - val_loss: 2.4228 - val_category_out_loss: 0.7039 - val_theme_out_loss: 2.4556\n",
      "Epoch 19/100\n",
      "25/25 [==============================] - 36s 1s/step - loss: 1.6582 - category_out_loss: 0.5535 - theme_out_loss: 1.5782 - val_loss: 2.3902 - val_category_out_loss: 0.7062 - val_theme_out_loss: 2.4057\n",
      "Epoch 20/100\n",
      "25/25 [==============================] - 47s 2s/step - loss: 1.5626 - category_out_loss: 0.5123 - theme_out_loss: 1.5004 - val_loss: 2.3665 - val_category_out_loss: 0.7037 - val_theme_out_loss: 2.3755\n"
     ]
    },
    {
     "name": "stderr",
     "output_type": "stream",
     "text": [
      "WARNING:absl:Found untraced functions such as restored_function_body, restored_function_body, restored_function_body, restored_function_body, restored_function_body while saving (showing 5 of 360). These functions will not be directly callable after loading.\n"
     ]
    },
    {
     "name": "stdout",
     "output_type": "stream",
     "text": [
      "7/7 [==============================] - 10s 1s/step\n",
      "25/25 [==============================] - 28s 1s/step\n",
      "16/16 [==============================] - 20s 1s/step\n",
      "val auc 0.881821955928904\n",
      "leak_test_auc_score 0.8518888836723151\n"
     ]
    },
    {
     "data": {
      "application/vnd.jupyter.widget-view+json": {
       "model_id": "6d466c22119c4bacacc6b6d0c5407f5f",
       "version_major": 2,
       "version_minor": 0
      },
      "text/plain": [
       "  0%|          | 0/1 [00:00<?, ?it/s]"
      ]
     },
     "metadata": {},
     "output_type": "display_data"
    },
    {
     "name": "stdout",
     "output_type": "stream",
     "text": [
      "Epoch 1/100\n",
      "25/25 [==============================] - 57s 2s/step - loss: 8.4189 - category_out_loss: 3.4928 - theme_out_loss: 7.0373 - val_loss: 6.3411 - val_category_out_loss: 2.1668 - val_theme_out_loss: 5.9633\n",
      "Epoch 2/100\n",
      "25/25 [==============================] - 45s 2s/step - loss: 6.8461 - category_out_loss: 2.3948 - theme_out_loss: 6.3589 - val_loss: 5.0671 - val_category_out_loss: 1.5219 - val_theme_out_loss: 5.0647\n",
      "Epoch 3/100\n",
      "25/25 [==============================] - 42s 2s/step - loss: 5.8832 - category_out_loss: 1.9370 - theme_out_loss: 5.6375 - val_loss: 4.3545 - val_category_out_loss: 1.2449 - val_theme_out_loss: 4.4422\n",
      "Epoch 4/100\n",
      "25/25 [==============================] - 36s 1s/step - loss: 5.0711 - category_out_loss: 1.5552 - theme_out_loss: 5.0227 - val_loss: 3.9236 - val_category_out_loss: 1.0665 - val_theme_out_loss: 4.0816\n",
      "Epoch 5/100\n",
      "25/25 [==============================] - 47s 2s/step - loss: 4.5047 - category_out_loss: 1.2790 - theme_out_loss: 4.6082 - val_loss: 3.5076 - val_category_out_loss: 0.9153 - val_theme_out_loss: 3.7033\n",
      "Epoch 6/100\n",
      "25/25 [==============================] - 42s 2s/step - loss: 4.0771 - category_out_loss: 1.1293 - theme_out_loss: 4.2111 - val_loss: 3.2205 - val_category_out_loss: 0.8313 - val_theme_out_loss: 3.4132\n",
      "Epoch 7/100\n",
      "25/25 [==============================] - 44s 2s/step - loss: 3.7180 - category_out_loss: 1.0333 - theme_out_loss: 3.8353 - val_loss: 3.0400 - val_category_out_loss: 0.8120 - val_theme_out_loss: 3.1830\n",
      "Epoch 8/100\n",
      "25/25 [==============================] - 46s 2s/step - loss: 3.3497 - category_out_loss: 0.9021 - theme_out_loss: 3.4965 - val_loss: 2.8283 - val_category_out_loss: 0.7607 - val_theme_out_loss: 2.9538\n",
      "Epoch 9/100\n",
      "25/25 [==============================] - 35s 1s/step - loss: 3.1174 - category_out_loss: 0.8737 - theme_out_loss: 3.2053 - val_loss: 2.8281 - val_category_out_loss: 0.8550 - val_theme_out_loss: 2.8187\n",
      "Epoch 10/100\n",
      "25/25 [==============================] - 40s 2s/step - loss: 2.8937 - category_out_loss: 0.8179 - theme_out_loss: 2.9655 - val_loss: 2.7005 - val_category_out_loss: 0.7971 - val_theme_out_loss: 2.7192\n",
      "Epoch 11/100\n",
      "25/25 [==============================] - 37s 1s/step - loss: 2.5801 - category_out_loss: 0.7324 - theme_out_loss: 2.6396 - val_loss: 2.4880 - val_category_out_loss: 0.7279 - val_theme_out_loss: 2.5145\n",
      "Epoch 12/100\n",
      "25/25 [==============================] - 47s 2s/step - loss: 2.3933 - category_out_loss: 0.6561 - theme_out_loss: 2.4818 - val_loss: 2.3801 - val_category_out_loss: 0.6634 - val_theme_out_loss: 2.4525\n",
      "Epoch 13/100\n",
      "25/25 [==============================] - 47s 2s/step - loss: 2.3076 - category_out_loss: 0.6681 - theme_out_loss: 2.3421 - val_loss: 2.4143 - val_category_out_loss: 0.7223 - val_theme_out_loss: 2.4172\n",
      "Epoch 14/100\n",
      "25/25 [==============================] - 39s 2s/step - loss: 2.1770 - category_out_loss: 0.6335 - theme_out_loss: 2.2050 - val_loss: 2.2928 - val_category_out_loss: 0.6694 - val_theme_out_loss: 2.3191\n",
      "Epoch 15/100\n",
      "25/25 [==============================] - 46s 2s/step - loss: 2.0122 - category_out_loss: 0.5895 - theme_out_loss: 2.0324 - val_loss: 2.3150 - val_category_out_loss: 0.6948 - val_theme_out_loss: 2.3146\n"
     ]
    },
    {
     "name": "stderr",
     "output_type": "stream",
     "text": [
      "WARNING:absl:Found untraced functions such as restored_function_body, restored_function_body, restored_function_body, restored_function_body, restored_function_body while saving (showing 5 of 360). These functions will not be directly callable after loading.\n"
     ]
    },
    {
     "name": "stdout",
     "output_type": "stream",
     "text": [
      "7/7 [==============================] - 10s 1s/step\n",
      "25/25 [==============================] - 29s 1s/step\n",
      "16/16 [==============================] - 27s 1s/step\n",
      "val auc 0.9242831280465961\n",
      "leak_test_auc_score 0.8514392496454181\n"
     ]
    },
    {
     "data": {
      "application/vnd.jupyter.widget-view+json": {
       "model_id": "22f0ed71969643da966582e141791512",
       "version_major": 2,
       "version_minor": 0
      },
      "text/plain": [
       "  0%|          | 0/1 [00:00<?, ?it/s]"
      ]
     },
     "metadata": {},
     "output_type": "display_data"
    },
    {
     "name": "stdout",
     "output_type": "stream",
     "text": [
      "Epoch 1/100\n",
      "25/25 [==============================] - 55s 2s/step - loss: 7.9711 - category_out_loss: 3.5020 - theme_out_loss: 6.3844 - val_loss: 6.1162 - val_category_out_loss: 2.3018 - val_theme_out_loss: 5.4491\n",
      "Epoch 2/100\n",
      "25/25 [==============================] - 48s 2s/step - loss: 6.7803 - category_out_loss: 2.5239 - theme_out_loss: 6.0805 - val_loss: 5.1296 - val_category_out_loss: 1.7190 - val_theme_out_loss: 4.8724\n",
      "Epoch 3/100\n",
      "25/25 [==============================] - 37s 1s/step - loss: 5.7449 - category_out_loss: 2.0151 - theme_out_loss: 5.3283 - val_loss: 4.4378 - val_category_out_loss: 1.3617 - val_theme_out_loss: 4.3944\n",
      "Epoch 4/100\n",
      "25/25 [==============================] - 46s 2s/step - loss: 5.1061 - category_out_loss: 1.6536 - theme_out_loss: 4.9322 - val_loss: 3.9207 - val_category_out_loss: 1.0526 - val_theme_out_loss: 4.0973\n",
      "Epoch 5/100\n",
      "25/25 [==============================] - 37s 1s/step - loss: 4.5120 - category_out_loss: 1.3212 - theme_out_loss: 4.5583 - val_loss: 3.5480 - val_category_out_loss: 0.9122 - val_theme_out_loss: 3.7654\n",
      "Epoch 6/100\n",
      "25/25 [==============================] - 47s 2s/step - loss: 4.0820 - category_out_loss: 1.1584 - theme_out_loss: 4.1766 - val_loss: 3.3536 - val_category_out_loss: 0.8778 - val_theme_out_loss: 3.5370\n",
      "Epoch 7/100\n",
      "25/25 [==============================] - 37s 1s/step - loss: 3.8086 - category_out_loss: 1.1056 - theme_out_loss: 3.8613 - val_loss: 3.1735 - val_category_out_loss: 0.8556 - val_theme_out_loss: 3.3113\n",
      "Epoch 8/100\n",
      "25/25 [==============================] - 44s 2s/step - loss: 3.3842 - category_out_loss: 0.9336 - theme_out_loss: 3.5008 - val_loss: 2.9306 - val_category_out_loss: 0.7405 - val_theme_out_loss: 3.1288\n",
      "Epoch 9/100\n",
      "25/25 [==============================] - 37s 1s/step - loss: 3.0735 - category_out_loss: 0.8612 - theme_out_loss: 3.1604 - val_loss: 2.8443 - val_category_out_loss: 0.7307 - val_theme_out_loss: 3.0194\n",
      "Epoch 10/100\n",
      "25/25 [==============================] - 42s 2s/step - loss: 2.7981 - category_out_loss: 0.7798 - theme_out_loss: 2.8833 - val_loss: 2.7548 - val_category_out_loss: 0.7351 - val_theme_out_loss: 2.8854\n",
      "Epoch 11/100\n",
      "25/25 [==============================] - 43s 2s/step - loss: 2.5807 - category_out_loss: 0.7085 - theme_out_loss: 2.6745 - val_loss: 2.8169 - val_category_out_loss: 0.9079 - val_theme_out_loss: 2.7271\n",
      "Epoch 12/100\n",
      "25/25 [==============================] - 49s 2s/step - loss: 2.3986 - category_out_loss: 0.7209 - theme_out_loss: 2.3967 - val_loss: 2.6220 - val_category_out_loss: 0.7471 - val_theme_out_loss: 2.6784\n"
     ]
    },
    {
     "name": "stderr",
     "output_type": "stream",
     "text": [
      "WARNING:absl:Found untraced functions such as restored_function_body, restored_function_body, restored_function_body, restored_function_body, restored_function_body while saving (showing 5 of 360). These functions will not be directly callable after loading.\n"
     ]
    },
    {
     "name": "stdout",
     "output_type": "stream",
     "text": [
      "7/7 [==============================] - 9s 1s/step\n",
      "25/25 [==============================] - 28s 1s/step\n",
      "16/16 [==============================] - 20s 1s/step\n",
      "val auc 0.8283456456500339\n",
      "leak_test_auc_score 0.8398536885379987\n"
     ]
    },
    {
     "data": {
      "application/vnd.jupyter.widget-view+json": {
       "model_id": "06d555b67b4e4a68bf2d0d5140f69314",
       "version_major": 2,
       "version_minor": 0
      },
      "text/plain": [
       "  0%|          | 0/1 [00:00<?, ?it/s]"
      ]
     },
     "metadata": {},
     "output_type": "display_data"
    },
    {
     "name": "stdout",
     "output_type": "stream",
     "text": [
      "Epoch 1/100\n",
      "25/25 [==============================] - 56s 2s/step - loss: 9.9875 - category_out_loss: 4.9517 - theme_out_loss: 7.1939 - val_loss: 6.3847 - val_category_out_loss: 2.2008 - val_theme_out_loss: 5.9770\n",
      "Epoch 2/100\n",
      "25/25 [==============================] - 47s 2s/step - loss: 7.2283 - category_out_loss: 2.6864 - theme_out_loss: 6.4885 - val_loss: 5.2726 - val_category_out_loss: 1.6665 - val_theme_out_loss: 5.1515\n",
      "Epoch 3/100\n",
      "25/25 [==============================] - 37s 1s/step - loss: 5.8883 - category_out_loss: 2.0092 - theme_out_loss: 5.5416 - val_loss: 4.4870 - val_category_out_loss: 1.3158 - val_theme_out_loss: 4.5303\n",
      "Epoch 4/100\n",
      "25/25 [==============================] - 48s 2s/step - loss: 5.0558 - category_out_loss: 1.5754 - theme_out_loss: 4.9720 - val_loss: 4.0199 - val_category_out_loss: 1.0947 - val_theme_out_loss: 4.1789\n",
      "Epoch 5/100\n",
      "25/25 [==============================] - 41s 2s/step - loss: 4.4945 - category_out_loss: 1.2975 - theme_out_loss: 4.5671 - val_loss: 3.6808 - val_category_out_loss: 0.9636 - val_theme_out_loss: 3.8817\n",
      "Epoch 6/100\n",
      "25/25 [==============================] - 46s 2s/step - loss: 3.9565 - category_out_loss: 1.1093 - theme_out_loss: 4.0676 - val_loss: 3.3989 - val_category_out_loss: 0.8790 - val_theme_out_loss: 3.5998\n",
      "Epoch 7/100\n",
      "25/25 [==============================] - 48s 2s/step - loss: 3.6547 - category_out_loss: 0.9879 - theme_out_loss: 3.8098 - val_loss: 3.2321 - val_category_out_loss: 0.8799 - val_theme_out_loss: 3.3603\n",
      "Epoch 8/100\n",
      "25/25 [==============================] - 41s 2s/step - loss: 3.2708 - category_out_loss: 0.9184 - theme_out_loss: 3.3607 - val_loss: 3.2169 - val_category_out_loss: 0.9562 - val_theme_out_loss: 3.2296\n",
      "Epoch 9/100\n",
      "25/25 [==============================] - 44s 2s/step - loss: 3.0718 - category_out_loss: 0.8705 - theme_out_loss: 3.1447 - val_loss: 3.0631 - val_category_out_loss: 0.9472 - val_theme_out_loss: 3.0227\n"
     ]
    },
    {
     "name": "stderr",
     "output_type": "stream",
     "text": [
      "WARNING:absl:Found untraced functions such as restored_function_body, restored_function_body, restored_function_body, restored_function_body, restored_function_body while saving (showing 5 of 360). These functions will not be directly callable after loading.\n"
     ]
    },
    {
     "name": "stdout",
     "output_type": "stream",
     "text": [
      "7/7 [==============================] - 9s 1s/step\n",
      "25/25 [==============================] - 28s 1s/step\n",
      "16/16 [==============================] - 20s 1s/step\n",
      "val auc 0.7512822392608872\n",
      "leak_test_auc_score 0.8281817237845004\n"
     ]
    },
    {
     "data": {
      "application/vnd.jupyter.widget-view+json": {
       "model_id": "b2104d1bac5344018ea759d3882e381c",
       "version_major": 2,
       "version_minor": 0
      },
      "text/plain": [
       "  0%|          | 0/1 [00:00<?, ?it/s]"
      ]
     },
     "metadata": {},
     "output_type": "display_data"
    },
    {
     "name": "stdout",
     "output_type": "stream",
     "text": [
      "Epoch 1/100\n",
      "25/25 [==============================] - 59s 2s/step - loss: 8.4909 - category_out_loss: 3.5321 - theme_out_loss: 7.0840 - val_loss: 6.3618 - val_category_out_loss: 2.1517 - val_theme_out_loss: 6.0144\n",
      "Epoch 2/100\n",
      "25/25 [==============================] - 50s 2s/step - loss: 7.0187 - category_out_loss: 2.5505 - theme_out_loss: 6.3831 - val_loss: 5.2591 - val_category_out_loss: 1.6669 - val_theme_out_loss: 5.1316\n",
      "Epoch 3/100\n",
      "25/25 [==============================] - 39s 2s/step - loss: 6.0002 - category_out_loss: 2.1493 - theme_out_loss: 5.5012 - val_loss: 4.6144 - val_category_out_loss: 1.3553 - val_theme_out_loss: 4.6559\n",
      "Epoch 4/100\n",
      "25/25 [==============================] - 54s 2s/step - loss: 5.2318 - category_out_loss: 1.6922 - theme_out_loss: 5.0567 - val_loss: 4.1588 - val_category_out_loss: 1.1747 - val_theme_out_loss: 4.2629\n",
      "Epoch 5/100\n",
      "25/25 [==============================] - 40s 2s/step - loss: 4.6347 - category_out_loss: 1.4055 - theme_out_loss: 4.6131 - val_loss: 3.7518 - val_category_out_loss: 0.9944 - val_theme_out_loss: 3.9391\n",
      "Epoch 6/100\n",
      "25/25 [==============================] - 51s 2s/step - loss: 4.1016 - category_out_loss: 1.1799 - theme_out_loss: 4.1739 - val_loss: 3.4981 - val_category_out_loss: 0.9061 - val_theme_out_loss: 3.7029\n",
      "Epoch 7/100\n",
      "25/25 [==============================] - 37s 2s/step - loss: 3.7907 - category_out_loss: 1.0992 - theme_out_loss: 3.8451 - val_loss: 3.2740 - val_category_out_loss: 0.8649 - val_theme_out_loss: 3.4415\n",
      "Epoch 8/100\n",
      "25/25 [==============================] - 44s 2s/step - loss: 3.3609 - category_out_loss: 0.9566 - theme_out_loss: 3.4348 - val_loss: 3.2130 - val_category_out_loss: 0.9111 - val_theme_out_loss: 3.2884\n",
      "Epoch 9/100\n",
      "25/25 [==============================] - 49s 2s/step - loss: 3.1208 - category_out_loss: 0.8826 - theme_out_loss: 3.1975 - val_loss: 3.0935 - val_category_out_loss: 0.9049 - val_theme_out_loss: 3.1265\n",
      "Epoch 10/100\n",
      "25/25 [==============================] - 44s 2s/step - loss: 2.9261 - category_out_loss: 0.8940 - theme_out_loss: 2.9030 - val_loss: 2.8849 - val_category_out_loss: 0.8244 - val_theme_out_loss: 2.9435\n",
      "Epoch 11/100\n",
      "25/25 [==============================] - 41s 2s/step - loss: 2.5804 - category_out_loss: 0.7462 - theme_out_loss: 2.6202 - val_loss: 2.8409 - val_category_out_loss: 0.8352 - val_theme_out_loss: 2.8653\n",
      "Epoch 12/100\n",
      "25/25 [==============================] - 49s 2s/step - loss: 2.4356 - category_out_loss: 0.7113 - theme_out_loss: 2.4633 - val_loss: 2.7773 - val_category_out_loss: 0.7948 - val_theme_out_loss: 2.8321\n",
      "Epoch 13/100\n",
      "25/25 [==============================] - 36s 1s/step - loss: 2.2512 - category_out_loss: 0.6612 - theme_out_loss: 2.2713 - val_loss: 2.7676 - val_category_out_loss: 0.8346 - val_theme_out_loss: 2.7614\n",
      "Epoch 14/100\n",
      "25/25 [==============================] - 49s 2s/step - loss: 2.1355 - category_out_loss: 0.6245 - theme_out_loss: 2.1585 - val_loss: 2.6662 - val_category_out_loss: 0.7886 - val_theme_out_loss: 2.6824\n",
      "Epoch 15/100\n",
      "25/25 [==============================] - 37s 1s/step - loss: 1.9937 - category_out_loss: 0.6071 - theme_out_loss: 1.9810 - val_loss: 2.7067 - val_category_out_loss: 0.8576 - val_theme_out_loss: 2.6416\n",
      "Epoch 16/100\n",
      "25/25 [==============================] - 50s 2s/step - loss: 1.8690 - category_out_loss: 0.5587 - theme_out_loss: 1.8718 - val_loss: 2.5946 - val_category_out_loss: 0.7861 - val_theme_out_loss: 2.5835\n",
      "Epoch 17/100\n",
      "25/25 [==============================] - 42s 2s/step - loss: 1.7737 - category_out_loss: 0.5663 - theme_out_loss: 1.7248 - val_loss: 2.6494 - val_category_out_loss: 0.8376 - val_theme_out_loss: 2.5883\n",
      "Epoch 18/100\n",
      "25/25 [==============================] - 42s 2s/step - loss: 1.6493 - category_out_loss: 0.5112 - theme_out_loss: 1.6258 - val_loss: 2.5423 - val_category_out_loss: 0.7885 - val_theme_out_loss: 2.5055\n",
      "Epoch 19/100\n",
      "25/25 [==============================] - 49s 2s/step - loss: 1.6153 - category_out_loss: 0.5291 - theme_out_loss: 1.5517 - val_loss: 2.5624 - val_category_out_loss: 0.7736 - val_theme_out_loss: 2.5554\n",
      "Epoch 20/100\n",
      "25/25 [==============================] - 42s 2s/step - loss: 1.5900 - category_out_loss: 0.5414 - theme_out_loss: 1.4980 - val_loss: 2.6381 - val_category_out_loss: 0.8947 - val_theme_out_loss: 2.4907\n",
      "Epoch 21/100\n",
      "25/25 [==============================] - 42s 2s/step - loss: 1.4506 - category_out_loss: 0.4869 - theme_out_loss: 1.3767 - val_loss: 2.5462 - val_category_out_loss: 0.8061 - val_theme_out_loss: 2.4858\n",
      "Epoch 22/100\n",
      "25/25 [==============================] - 49s 2s/step - loss: 1.4378 - category_out_loss: 0.5108 - theme_out_loss: 1.3242 - val_loss: 2.5441 - val_category_out_loss: 0.8136 - val_theme_out_loss: 2.4722\n"
     ]
    },
    {
     "name": "stderr",
     "output_type": "stream",
     "text": [
      "WARNING:absl:Found untraced functions such as restored_function_body, restored_function_body, restored_function_body, restored_function_body, restored_function_body while saving (showing 5 of 360). These functions will not be directly callable after loading.\n"
     ]
    },
    {
     "name": "stdout",
     "output_type": "stream",
     "text": [
      "7/7 [==============================] - 9s 1s/step\n",
      "25/25 [==============================] - 28s 1s/step\n",
      "16/16 [==============================] - 20s 1s/step\n",
      "val auc 0.8261490530331285\n",
      "leak_test_auc_score 0.8392555674503177\n"
     ]
    }
   ],
   "source": [
    "cv = StratifiedKFold(n_splits=cfg.N_SPLITS, random_state=cfg.RANDOM_STATE, shuffle=True)\n",
    "\n",
    "test_pool = get_keras_input(\n",
    "        data=test,\n",
    "        shuffle=False\n",
    "        )\n",
    "\n",
    "\n",
    "metrics = defaultdict(list)\n",
    "fold = 0\n",
    "for train_idx, val_idx in tqdm(cv.split(X_train, y_train_onecol), total=cfg.N_SPLITS):\n",
    "\n",
    "    train_pool = get_keras_input(\n",
    "        data=X_train.iloc[train_idx], \n",
    "        labels=y_train.iloc[train_idx],\n",
    "        labels2=theme_train.iloc[train_idx],\n",
    "        shuffle=True\n",
    "        )\n",
    "\n",
    "    val_pool = get_keras_input(\n",
    "        data=X_train.iloc[val_idx], \n",
    "        labels=y_train.iloc[val_idx],\n",
    "        labels2=theme_train.iloc[val_idx],\n",
    "        shuffle=False\n",
    "        )\n",
    "        \n",
    "    for random_seed in tqdm(range(N_RANDOM_SEEDS), total=N_RANDOM_SEEDS):\n",
    "\n",
    "        clf = build_classifier_model()\n",
    "        \n",
    "        early_stopping = tf.keras.callbacks.EarlyStopping(monitor='val_category_out_loss', patience=3, min_delta=1e-5, mode='auto', restore_best_weights=True)\n",
    "        clf.fit(x=train_pool, validation_data=val_pool, epochs=N_EPOCHS, callbacks=[early_stopping])\n",
    "        \n",
    "        model_name = f'{EXPERIMENT_NAME}_fold_{fold}_rs_{random_seed}'\n",
    "        model_path = os.path.join(cfg.MODELS_PATH, EXPERIMENT_FAMILY_NAME, EXPERIMENT_NAME)\n",
    "        check_path(model_path)\n",
    "        clf.save(os.path.join(model_path, model_name), include_optimizer=False)\n",
    "        \n",
    "        pred_proba_oof_val = tf.nn.softmax(clf.predict(val_pool)['category_out']).numpy()\n",
    "        pred_proba_oof_train = tf.nn.softmax(clf.predict(train_pool)['category_out']).numpy()\n",
    "        pred_proba_oof.iloc[val_idx, :] += pred_proba_oof_val\n",
    "        pred_proba_test.iloc[:, :] += tf.nn.softmax(clf.predict(test_pool)['category_out']).numpy()\n",
    "\n",
    "        y_val_oof = y_train_onecol.iloc[val_idx]\n",
    "\n",
    "        val_auc = roc_auc_score(y_val_oof, pred_proba_oof_val , multi_class='ovo', labels=CLASSES)\n",
    "        metrics['val_auc'].append(val_auc)\n",
    "        print('val auc', val_auc)\n",
    "\n",
    "        leak_test_auc_score = roc_auc_score(leak_test.loc[leak_mask], pred_proba_test.loc[leak_mask] / (fold + 1), multi_class='ovo', labels=CLASSES)\n",
    "        metrics['leak_test_auc_score'].append(leak_test_auc_score)\n",
    "        print('leak_test_auc_score', leak_test_auc_score)\n",
    "        \n",
    "        del clf; gc.collect()\n",
    "    del train_pool,val_pool; gc.collect() \n",
    "        \n",
    "    fold += 1\n",
    "pred_proba_oof /= N_RANDOM_SEEDS\n",
    "pred_proba_test /= (cfg.N_SPLITS * N_RANDOM_SEEDS)"
   ]
  },
  {
   "cell_type": "code",
   "execution_count": 51,
   "metadata": {},
   "outputs": [
    {
     "name": "stdout",
     "output_type": "stream",
     "text": [
      "oof_auc_score 0.798093907910142\n",
      "scores [0.881821955928904, 0.9242831280465961, 0.8283456456500339, 0.7512822392608872, 0.8261490530331285]\n",
      "mean 0.8423764043839099 std 0.05834894850777499\n"
     ]
    }
   ],
   "source": [
    "oof_auc_score = roc_auc_score(y_train, pred_proba_oof , multi_class='ovo', labels=CLASSES)\n",
    "print('oof_auc_score', oof_auc_score)\n",
    "print('scores', metrics['val_auc'])\n",
    "print('mean', np.mean(metrics['val_auc']), 'std', np.std(metrics['val_auc']))"
   ]
  },
  {
   "cell_type": "code",
   "execution_count": 52,
   "metadata": {},
   "outputs": [],
   "source": [
    "# 0.798093907910142"
   ]
  },
  {
   "cell_type": "code",
   "execution_count": 53,
   "metadata": {},
   "outputs": [
    {
     "name": "stdout",
     "output_type": "stream",
     "text": [
      "leak_test_auc_score 0.8392555674503177\n"
     ]
    }
   ],
   "source": [
    "leak_test = pd.read_pickle(os.path.join(cfg.DATA_PATH, 'test_leak.pkl'))\n",
    "notnull = leak_test.notnull()\n",
    "leak_test_auc_score = roc_auc_score(leak_test.loc[notnull], pred_proba_test.loc[notnull], multi_class='ovo', labels=CLASSES)\n",
    "print('leak_test_auc_score', leak_test_auc_score)\n"
   ]
  },
  {
   "cell_type": "code",
   "execution_count": 54,
   "metadata": {},
   "outputs": [],
   "source": [
    "# 0.8392555674503177"
   ]
  },
  {
   "cell_type": "code",
   "execution_count": 55,
   "metadata": {},
   "outputs": [],
   "source": [
    "submission = pd.read_csv(cfg.SAMPLE_SUBMIT_PATH).set_index('id')\n",
    "assert submission.index.equals(pred_proba_test.index)\n",
    "submission[cfg.TARGET] = pred_proba_test.idxmax(1)\n",
    "\n",
    "submission_path = os.path.join(cfg.SUBMISSION_PATH, EXPERIMENT_FAMILY_NAME)\n",
    "check_path(submission_path)\n",
    "submission.to_csv(os.path.join(submission_path, f'{EXPERIMENT_NAME}.csv'))\n",
    "\n",
    "pred_proba_oof_path = os.path.join(cfg.OOF_PRED_PATH, EXPERIMENT_FAMILY_NAME)\n",
    "check_path(pred_proba_oof_path)\n",
    "pred_proba_oof.to_pickle(os.path.join(pred_proba_oof_path, f'{EXPERIMENT_NAME}.pkl'))\n",
    "\n",
    "pred_proba_test_path = os.path.join(cfg.TEST_PRED_PATH, EXPERIMENT_FAMILY_NAME)\n",
    "check_path(pred_proba_test_path)\n",
    "pred_proba_test.to_pickle(os.path.join(pred_proba_test_path, f'{EXPERIMENT_NAME}.pkl'))"
   ]
  }
 ],
 "metadata": {
  "kernelspec": {
   "display_name": "Python 3.9.12 ('tf')",
   "language": "python",
   "name": "python3"
  },
  "language_info": {
   "codemirror_mode": {
    "name": "ipython",
    "version": 3
   },
   "file_extension": ".py",
   "mimetype": "text/x-python",
   "name": "python",
   "nbconvert_exporter": "python",
   "pygments_lexer": "ipython3",
   "version": "3.9.12"
  },
  "orig_nbformat": 4,
  "vscode": {
   "interpreter": {
    "hash": "d5356ef1c2ac2ef25d35a0579f082f1d273c4bada2fe955fa1b70f42402fff98"
   }
  }
 },
 "nbformat": 4,
 "nbformat_minor": 2
}
