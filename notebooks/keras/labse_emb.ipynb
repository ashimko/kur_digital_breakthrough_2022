{
 "cells": [
  {
   "cell_type": "code",
   "execution_count": 1,
   "metadata": {},
   "outputs": [],
   "source": [
    "import sys\n",
    "sys.path.insert(0, \"../..\")\n",
    "import config as cfg\n",
    "import gc\n",
    "import os\n",
    "from tqdm.notebook import tqdm\n",
    "from helper import check_path, seed_everything\n",
    "from collections import defaultdict"
   ]
  },
  {
   "cell_type": "code",
   "execution_count": 2,
   "metadata": {},
   "outputs": [],
   "source": [
    "import os\n",
    "import shutil\n",
    "\n",
    "import tensorflow as tf\n",
    "import tensorflow_hub as hub\n",
    "import tensorflow_text as text\n",
    "from official.nlp import optimization  # to create AdamW optimizer\n",
    "\n",
    "import matplotlib.pyplot as plt\n",
    "\n",
    "tf.get_logger().setLevel('ERROR')"
   ]
  },
  {
   "cell_type": "code",
   "execution_count": 3,
   "metadata": {},
   "outputs": [],
   "source": [
    "import pandas as pd\n",
    "import numpy as np\n",
    "from sklearn.model_selection import StratifiedKFold\n",
    "from sklearn.metrics import roc_auc_score"
   ]
  },
  {
   "cell_type": "code",
   "execution_count": 4,
   "metadata": {},
   "outputs": [],
   "source": [
    "EXPERIMENT_FAMILY_NAME = 'keras'\n",
    "EXPERIMENT_NAME = 'labse_emb'\n",
    "N_RANDOM_SEEDS = 1\n",
    "N_EPOCHS = 100\n",
    "BATCH_SIZE = 64"
   ]
  },
  {
   "cell_type": "code",
   "execution_count": 5,
   "metadata": {},
   "outputs": [],
   "source": [
    "RANDOM_STATE = 77\n",
    "seed_everything(RANDOM_STATE)"
   ]
  },
  {
   "cell_type": "code",
   "execution_count": 6,
   "metadata": {},
   "outputs": [],
   "source": [
    "def filter_rare_categories(df: pd.DataFrame) -> pd.DataFrame:\n",
    "    rare_categories = [12]\n",
    "    return df.loc[~df[cfg.TARGET].isin(rare_categories)]"
   ]
  },
  {
   "cell_type": "code",
   "execution_count": 7,
   "metadata": {},
   "outputs": [],
   "source": [
    "\n",
    "train = pd.read_pickle(os.path.join(cfg.PREPROCESSED_DATA_PATH, 'train.pkl'))\n",
    "test = pd.read_pickle(os.path.join(cfg.PREPROCESSED_DATA_PATH, 'test.pkl'))\n",
    "\n",
    "train = train.rename(columns={cfg.TEXT_COL: 'text'})\n",
    "test = test.rename(columns={cfg.TEXT_COL: 'text'})\n",
    "\n",
    "CLASSES = np.sort(train[cfg.TARGET].unique()).tolist()\n",
    "\n",
    "# train = filter_rare_categories(train)"
   ]
  },
  {
   "cell_type": "code",
   "execution_count": 8,
   "metadata": {},
   "outputs": [],
   "source": [
    "# EMB_NAME = 'smaller_LaBSE_15lang'\n",
    "# train_emb = pd.read_pickle(os.path.join(cfg.DATA_PATH, EMB_NAME, 'train.pkl'))\n",
    "# test_emb = pd.read_pickle(os.path.join(cfg.DATA_PATH, EMB_NAME, 'test.pkl'))\n",
    "\n",
    "# train = train.join(train_emb)\n",
    "# test = test.join(test_emb)\n",
    "\n",
    "# del train_emb, test_emb; gc.collect()"
   ]
  },
  {
   "cell_type": "code",
   "execution_count": 9,
   "metadata": {},
   "outputs": [],
   "source": [
    "X_train, y_train = train.drop(cfg.TARGET, axis=1), train[cfg.TARGET]\n",
    "y_train_onecol = y_train.copy()\n",
    "\n",
    "# y_train = pd.get_dummies(y_train)\n",
    "\n",
    "N_OUT_CLASSES = len(CLASSES)\n",
    "# assert y_train.shape[1] == N_OUT_CLASSES"
   ]
  },
  {
   "cell_type": "code",
   "execution_count": 10,
   "metadata": {},
   "outputs": [],
   "source": [
    "theme_train = pd.read_csv(cfg.ORIG_TRAIN_PATH, index_col=cfg.ID_COL, usecols=[cfg.ID_COL, cfg.THEME_COL])\n",
    "theme_train = theme_train[cfg.THEME_COL].astype('category').cat.codes\n",
    "N_THEMES = theme_train.nunique()\n",
    "# theme_train = pd.get_dummies(theme_train)\n",
    "# theme_train.columns = [f'theme_{i}' for i in range(theme_train.shape[1])]\n"
   ]
  },
  {
   "cell_type": "code",
   "execution_count": 11,
   "metadata": {},
   "outputs": [],
   "source": [
    "pred_proba_oof = pd.DataFrame(data=np.zeros(shape=(len(train), len(CLASSES))), index=train.index, columns=CLASSES)\n",
    "pred_proba_test = pd.DataFrame(data=np.zeros(shape=(len(test), len(CLASSES))), index=test.index, columns=CLASSES)"
   ]
  },
  {
   "cell_type": "code",
   "execution_count": 12,
   "metadata": {},
   "outputs": [],
   "source": [
    "from typing import Optional\n",
    "\n",
    "\n",
    "def df_to_dataset(data: pd.DataFrame, labels: Optional[pd.DataFrame]=None, shuffle: bool=True, batch_size: int=32, labels2: Optional[pd.DataFrame]=None):\n",
    "  df = data.copy()\n",
    "  df = {key: value.values[:, tf.newaxis] for key, value in data.items()}\n",
    "  \n",
    "  if labels is None:\n",
    "    ds = tf.data.Dataset.from_tensor_slices((dict(df),))\n",
    "  else:\n",
    "    ds = tf.data.Dataset.from_tensor_slices((\n",
    "      dict(df), \n",
    "      {\n",
    "        'category_out': labels, \n",
    "        'theme_out': labels2\n",
    "        }\n",
    "        ))\n",
    "        \n",
    "  if shuffle:\n",
    "    ds = ds.shuffle(buffer_size=len(data))\n",
    "  ds = ds.batch(batch_size)\n",
    "  ds = ds.prefetch(batch_size)\n",
    "  return ds\n",
    "\n",
    "\n",
    "def get_keras_input(\n",
    "    data: pd.DataFrame,\n",
    "    labels: Optional[pd.DataFrame] = None,\n",
    "    labels2: Optional[pd.DataFrame] = None,\n",
    "    shuffle=False\n",
    "    ) -> tf.data.Dataset:\n",
    "    return df_to_dataset(\n",
    "        data=data,\n",
    "        labels=labels,\n",
    "        labels2=labels2,\n",
    "        shuffle=shuffle, \n",
    "        batch_size=BATCH_SIZE)\n",
    "        \n"
   ]
  },
  {
   "cell_type": "code",
   "execution_count": 13,
   "metadata": {},
   "outputs": [],
   "source": [
    "def build_classifier_model():\n",
    "    text_input = tf.keras.layers.Input(shape=(), dtype=tf.string, name='text')\n",
    "    preprocessing_layer = hub.KerasLayer(\"https://tfhub.dev/jeongukjae/smaller_LaBSE_15lang_preprocess/1\", name='preprocessing')\n",
    "    encoder_inputs = preprocessing_layer(text_input)\n",
    "    encoder = hub.KerasLayer(\"https://tfhub.dev/jeongukjae/smaller_LaBSE_15lang/1\", trainable=False, name='encoder')\n",
    "    outputs = encoder(encoder_inputs)\n",
    "    net = outputs['pooled_output']\n",
    "    net = tf.keras.layers.Dropout(0.3)(net)\n",
    "    net = tf.keras.layers.Dense(300, activation=None)(net)\n",
    "    net = tf.keras.layers.Dropout(0.2)(net)\n",
    "    category_out = tf.keras.layers.Dense(N_OUT_CLASSES, activation=None, name='category_out')(net)\n",
    "    theme_out = tf.keras.layers.Dense(N_THEMES, activation=None, name='theme_out')(net)\n",
    "    model = tf.keras.Model(\n",
    "        text_input, \n",
    "        outputs={\n",
    "            'category_out': category_out, \n",
    "            'theme_out': theme_out\n",
    "            })\n",
    "\n",
    "    loss = {\n",
    "        'category_out': tf.keras.losses.SparseCategoricalCrossentropy(from_logits=True, name='category_out'),\n",
    "        'theme_out': tf.keras.losses.SparseCategoricalCrossentropy(from_logits=True, name='theme_out')\n",
    "        }\n",
    "    # metrics = tf.keras.metrics.AUC(from_logits=True, name='auc')\n",
    "\n",
    "    epochs = N_EPOCHS\n",
    "    n = (len(train) // cfg.N_SPLITS) * (cfg.N_SPLITS-1)\n",
    "    steps_per_epoch = n // BATCH_SIZE\n",
    "    num_train_steps = steps_per_epoch * epochs\n",
    "    num_warmup_steps = int(0.1*num_train_steps)\n",
    "\n",
    "    init_lr = 3e-4\n",
    "    optimizer = optimization.create_optimizer(init_lr=init_lr,\n",
    "                                            num_train_steps=num_train_steps,\n",
    "                                            num_warmup_steps=num_warmup_steps,\n",
    "                                            optimizer_type='adamw')\n",
    "\n",
    "    model.compile(optimizer=optimizer,\n",
    "                         loss=loss,\n",
    "                         loss_weights={\"category_out\": 2.0, \"theme_out\": 0.2}\n",
    "                        #  metrics=metrics\n",
    "                         )\n",
    "    return model"
   ]
  },
  {
   "cell_type": "code",
   "execution_count": 14,
   "metadata": {},
   "outputs": [],
   "source": [
    "leak_test = pd.read_pickle(os.path.join(cfg.DATA_PATH, 'test_leak.pkl'))\n",
    "leak_mask = leak_test.notnull()"
   ]
  },
  {
   "cell_type": "code",
   "execution_count": 15,
   "metadata": {},
   "outputs": [
    {
     "name": "stderr",
     "output_type": "stream",
     "text": [
      "2022-07-24 08:14:08.966427: I tensorflow/stream_executor/cuda/cuda_gpu_executor.cc:975] successful NUMA node read from SysFS had negative value (-1), but there must be at least one NUMA node, so returning NUMA node zero\n",
      "2022-07-24 08:14:09.067893: I tensorflow/stream_executor/cuda/cuda_gpu_executor.cc:975] successful NUMA node read from SysFS had negative value (-1), but there must be at least one NUMA node, so returning NUMA node zero\n",
      "2022-07-24 08:14:09.068369: I tensorflow/stream_executor/cuda/cuda_gpu_executor.cc:975] successful NUMA node read from SysFS had negative value (-1), but there must be at least one NUMA node, so returning NUMA node zero\n",
      "2022-07-24 08:14:09.070746: I tensorflow/core/platform/cpu_feature_guard.cc:193] This TensorFlow binary is optimized with oneAPI Deep Neural Network Library (oneDNN) to use the following CPU instructions in performance-critical operations:  AVX2 FMA\n",
      "To enable them in other operations, rebuild TensorFlow with the appropriate compiler flags.\n",
      "2022-07-24 08:14:09.072105: I tensorflow/stream_executor/cuda/cuda_gpu_executor.cc:975] successful NUMA node read from SysFS had negative value (-1), but there must be at least one NUMA node, so returning NUMA node zero\n",
      "2022-07-24 08:14:09.072619: I tensorflow/stream_executor/cuda/cuda_gpu_executor.cc:975] successful NUMA node read from SysFS had negative value (-1), but there must be at least one NUMA node, so returning NUMA node zero\n",
      "2022-07-24 08:14:09.073020: I tensorflow/stream_executor/cuda/cuda_gpu_executor.cc:975] successful NUMA node read from SysFS had negative value (-1), but there must be at least one NUMA node, so returning NUMA node zero\n",
      "2022-07-24 08:14:10.567367: I tensorflow/stream_executor/cuda/cuda_gpu_executor.cc:975] successful NUMA node read from SysFS had negative value (-1), but there must be at least one NUMA node, so returning NUMA node zero\n",
      "2022-07-24 08:14:10.567833: I tensorflow/stream_executor/cuda/cuda_gpu_executor.cc:975] successful NUMA node read from SysFS had negative value (-1), but there must be at least one NUMA node, so returning NUMA node zero\n",
      "2022-07-24 08:14:10.568398: I tensorflow/stream_executor/cuda/cuda_gpu_executor.cc:975] successful NUMA node read from SysFS had negative value (-1), but there must be at least one NUMA node, so returning NUMA node zero\n",
      "2022-07-24 08:14:10.568693: I tensorflow/core/common_runtime/gpu/gpu_device.cc:1532] Created device /job:localhost/replica:0/task:0/device:GPU:0 with 5379 MB memory:  -> device: 0, name: NVIDIA GeForce GTX 1060 with Max-Q Design, pci bus id: 0000:01:00.0, compute capability: 6.1\n"
     ]
    },
    {
     "data": {
      "application/vnd.jupyter.widget-view+json": {
       "model_id": "baf5d6808da74d0c926f6b2e52f3e0d8",
       "version_major": 2,
       "version_minor": 0
      },
      "text/plain": [
       "  0%|          | 0/3 [00:00<?, ?it/s]"
      ]
     },
     "metadata": {},
     "output_type": "display_data"
    },
    {
     "name": "stderr",
     "output_type": "stream",
     "text": [
      "/home/as/miniconda3/envs/tf/lib/python3.9/site-packages/sklearn/model_selection/_split.py:680: UserWarning: The least populated class in y has only 1 members, which is less than n_splits=3.\n",
      "  warnings.warn(\n"
     ]
    },
    {
     "data": {
      "application/vnd.jupyter.widget-view+json": {
       "model_id": "96ecbc95ba5a4a5091c360232cadb236",
       "version_major": 2,
       "version_minor": 0
      },
      "text/plain": [
       "  0%|          | 0/1 [00:00<?, ?it/s]"
      ]
     },
     "metadata": {},
     "output_type": "display_data"
    },
    {
     "name": "stdout",
     "output_type": "stream",
     "text": [
      "Epoch 1/100\n",
      "21/21 [==============================] - 58s 2s/step - loss: 6.9914 - category_out_loss: 2.9577 - theme_out_loss: 5.3796 - val_loss: 5.9991 - val_category_out_loss: 2.4797 - val_theme_out_loss: 5.1981\n",
      "Epoch 2/100\n",
      "21/21 [==============================] - 37s 2s/step - loss: 5.6314 - category_out_loss: 2.2851 - theme_out_loss: 5.3063 - val_loss: 4.6124 - val_category_out_loss: 1.7918 - val_theme_out_loss: 5.1442\n",
      "Epoch 3/100\n",
      "21/21 [==============================] - 38s 2s/step - loss: 4.4858 - category_out_loss: 1.7205 - theme_out_loss: 5.2242 - val_loss: 3.8866 - val_category_out_loss: 1.4411 - val_theme_out_loss: 5.0220\n",
      "Epoch 4/100\n",
      "21/21 [==============================] - 39s 2s/step - loss: 3.7086 - category_out_loss: 1.3506 - theme_out_loss: 5.0372 - val_loss: 3.3295 - val_category_out_loss: 1.1814 - val_theme_out_loss: 4.8328\n",
      "Epoch 5/100\n",
      "21/21 [==============================] - 49s 2s/step - loss: 3.2782 - category_out_loss: 1.1556 - theme_out_loss: 4.8350 - val_loss: 2.9658 - val_category_out_loss: 1.0216 - val_theme_out_loss: 4.6133\n",
      "Epoch 6/100\n",
      "21/21 [==============================] - 41s 2s/step - loss: 2.9061 - category_out_loss: 0.9976 - theme_out_loss: 4.5544 - val_loss: 2.7073 - val_category_out_loss: 0.9139 - val_theme_out_loss: 4.3974\n",
      "Epoch 7/100\n",
      "21/21 [==============================] - 37s 2s/step - loss: 2.6352 - category_out_loss: 0.8862 - theme_out_loss: 4.3140 - val_loss: 2.5183 - val_category_out_loss: 0.8388 - val_theme_out_loss: 4.2039\n",
      "Epoch 8/100\n",
      "21/21 [==============================] - 52s 3s/step - loss: 2.4268 - category_out_loss: 0.8023 - theme_out_loss: 4.1109 - val_loss: 2.3585 - val_category_out_loss: 0.7765 - val_theme_out_loss: 4.0277\n",
      "Epoch 9/100\n",
      "21/21 [==============================] - 42s 2s/step - loss: 2.2629 - category_out_loss: 0.7456 - theme_out_loss: 3.8582 - val_loss: 2.2756 - val_category_out_loss: 0.7506 - val_theme_out_loss: 3.8721\n",
      "Epoch 10/100\n",
      "21/21 [==============================] - 47s 2s/step - loss: 2.1421 - category_out_loss: 0.7046 - theme_out_loss: 3.6647 - val_loss: 2.1829 - val_category_out_loss: 0.7196 - val_theme_out_loss: 3.7183\n",
      "Epoch 11/100\n",
      "21/21 [==============================] - 51s 3s/step - loss: 1.9471 - category_out_loss: 0.6241 - theme_out_loss: 3.4941 - val_loss: 2.1632 - val_category_out_loss: 0.7221 - val_theme_out_loss: 3.5949\n",
      "Epoch 12/100\n",
      "21/21 [==============================] - 54s 3s/step - loss: 1.9178 - category_out_loss: 0.6235 - theme_out_loss: 3.3536 - val_loss: 2.0937 - val_category_out_loss: 0.6985 - val_theme_out_loss: 3.4836\n",
      "Epoch 13/100\n",
      "21/21 [==============================] - 44s 2s/step - loss: 1.8247 - category_out_loss: 0.5903 - theme_out_loss: 3.2199 - val_loss: 2.0686 - val_category_out_loss: 0.6952 - val_theme_out_loss: 3.3914\n",
      "Epoch 14/100\n",
      "21/21 [==============================] - 50s 2s/step - loss: 1.7254 - category_out_loss: 0.5541 - theme_out_loss: 3.0854 - val_loss: 2.0217 - val_category_out_loss: 0.6810 - val_theme_out_loss: 3.2981\n",
      "Epoch 15/100\n",
      "21/21 [==============================] - 53s 3s/step - loss: 1.6973 - category_out_loss: 0.5546 - theme_out_loss: 2.9400 - val_loss: 1.9866 - val_category_out_loss: 0.6710 - val_theme_out_loss: 3.2228\n",
      "Epoch 16/100\n",
      "21/21 [==============================] - 51s 2s/step - loss: 1.6477 - category_out_loss: 0.5402 - theme_out_loss: 2.8364 - val_loss: 1.9711 - val_category_out_loss: 0.6705 - val_theme_out_loss: 3.1502\n",
      "Epoch 17/100\n",
      "21/21 [==============================] - 38s 2s/step - loss: 1.5999 - category_out_loss: 0.5241 - theme_out_loss: 2.7588 - val_loss: 1.9836 - val_category_out_loss: 0.6834 - val_theme_out_loss: 3.0841\n",
      "Epoch 18/100\n",
      "21/21 [==============================] - 60s 3s/step - loss: 1.5436 - category_out_loss: 0.5075 - theme_out_loss: 2.6434 - val_loss: 1.9273 - val_category_out_loss: 0.6611 - val_theme_out_loss: 3.0256\n",
      "Epoch 19/100\n",
      "21/21 [==============================] - 38s 2s/step - loss: 1.4799 - category_out_loss: 0.4811 - theme_out_loss: 2.5890 - val_loss: 1.9192 - val_category_out_loss: 0.6621 - val_theme_out_loss: 2.9749\n",
      "Epoch 20/100\n",
      "21/21 [==============================] - 55s 3s/step - loss: 1.4821 - category_out_loss: 0.4934 - theme_out_loss: 2.4764 - val_loss: 1.9102 - val_category_out_loss: 0.6623 - val_theme_out_loss: 2.9283\n",
      "Epoch 21/100\n",
      "21/21 [==============================] - 42s 2s/step - loss: 1.4462 - category_out_loss: 0.4798 - theme_out_loss: 2.4328 - val_loss: 1.9125 - val_category_out_loss: 0.6678 - val_theme_out_loss: 2.8849\n"
     ]
    },
    {
     "name": "stderr",
     "output_type": "stream",
     "text": [
      "WARNING:absl:Found untraced functions such as restored_function_body, restored_function_body, restored_function_body, restored_function_body, restored_function_body while saving (showing 5 of 360). These functions will not be directly callable after loading.\n"
     ]
    },
    {
     "name": "stdout",
     "output_type": "stream",
     "text": [
      "11/11 [==============================] - 15s 1s/step\n",
      "21/21 [==============================] - 24s 1s/step\n",
      "16/16 [==============================] - 22s 1s/step\n",
      "val auc 0.8583115811191869\n",
      "leak_test_auc_score 0.8572745077790095\n"
     ]
    },
    {
     "data": {
      "application/vnd.jupyter.widget-view+json": {
       "model_id": "8bca86421a2e47ddb286b4252d306d52",
       "version_major": 2,
       "version_minor": 0
      },
      "text/plain": [
       "  0%|          | 0/1 [00:00<?, ?it/s]"
      ]
     },
     "metadata": {},
     "output_type": "display_data"
    },
    {
     "name": "stdout",
     "output_type": "stream",
     "text": [
      "Epoch 1/100\n",
      "21/21 [==============================] - 71s 2s/step - loss: 7.6576 - category_out_loss: 3.2866 - theme_out_loss: 5.4220 - val_loss: 6.6686 - val_category_out_loss: 2.8061 - val_theme_out_loss: 5.2819\n",
      "Epoch 2/100\n",
      "21/21 [==============================] - 43s 2s/step - loss: 6.0727 - category_out_loss: 2.4989 - theme_out_loss: 5.3746 - val_loss: 4.6983 - val_category_out_loss: 1.8292 - val_theme_out_loss: 5.1994\n",
      "Epoch 3/100\n",
      "21/21 [==============================] - 40s 2s/step - loss: 4.6059 - category_out_loss: 1.7783 - theme_out_loss: 5.2467 - val_loss: 3.8399 - val_category_out_loss: 1.4153 - val_theme_out_loss: 5.0466\n",
      "Epoch 4/100\n",
      "21/21 [==============================] - 55s 3s/step - loss: 3.9189 - category_out_loss: 1.4502 - theme_out_loss: 5.0922 - val_loss: 3.2496 - val_category_out_loss: 1.1411 - val_theme_out_loss: 4.8371\n",
      "Epoch 5/100\n",
      "21/21 [==============================] - 48s 2s/step - loss: 3.2350 - category_out_loss: 1.1348 - theme_out_loss: 4.8268 - val_loss: 2.8814 - val_category_out_loss: 0.9803 - val_theme_out_loss: 4.6040\n",
      "Epoch 6/100\n",
      "21/21 [==============================] - 55s 3s/step - loss: 2.8830 - category_out_loss: 0.9890 - theme_out_loss: 4.5247 - val_loss: 2.6523 - val_category_out_loss: 0.8886 - val_theme_out_loss: 4.3756\n",
      "Epoch 7/100\n",
      "21/21 [==============================] - 34s 2s/step - loss: 2.5984 - category_out_loss: 0.8701 - theme_out_loss: 4.2910 - val_loss: 2.5210 - val_category_out_loss: 0.8443 - val_theme_out_loss: 4.1618\n",
      "Epoch 8/100\n",
      "21/21 [==============================] - 41s 2s/step - loss: 2.3294 - category_out_loss: 0.7580 - theme_out_loss: 4.0674 - val_loss: 2.4346 - val_category_out_loss: 0.8189 - val_theme_out_loss: 3.9838\n",
      "Epoch 9/100\n",
      "21/21 [==============================] - 39s 2s/step - loss: 2.2034 - category_out_loss: 0.7188 - theme_out_loss: 3.8285 - val_loss: 2.3372 - val_category_out_loss: 0.7864 - val_theme_out_loss: 3.8220\n",
      "Epoch 10/100\n",
      "21/21 [==============================] - 36s 2s/step - loss: 2.0803 - category_out_loss: 0.6767 - theme_out_loss: 3.6341 - val_loss: 2.2404 - val_category_out_loss: 0.7535 - val_theme_out_loss: 3.6675\n",
      "Epoch 11/100\n",
      "21/21 [==============================] - 37s 2s/step - loss: 1.9439 - category_out_loss: 0.6232 - theme_out_loss: 3.4873 - val_loss: 2.2064 - val_category_out_loss: 0.7492 - val_theme_out_loss: 3.5397\n",
      "Epoch 12/100\n",
      "21/21 [==============================] - 42s 2s/step - loss: 1.8135 - category_out_loss: 0.5732 - theme_out_loss: 3.3356 - val_loss: 2.1544 - val_category_out_loss: 0.7349 - val_theme_out_loss: 3.4232\n",
      "Epoch 13/100\n",
      "21/21 [==============================] - 34s 2s/step - loss: 1.6929 - category_out_loss: 0.5321 - theme_out_loss: 3.1438 - val_loss: 2.1387 - val_category_out_loss: 0.7375 - val_theme_out_loss: 3.3182\n",
      "Epoch 14/100\n",
      "21/21 [==============================] - 42s 2s/step - loss: 1.6457 - category_out_loss: 0.5222 - theme_out_loss: 3.0068 - val_loss: 2.1106 - val_category_out_loss: 0.7318 - val_theme_out_loss: 3.2354\n",
      "Epoch 15/100\n",
      "21/21 [==============================] - 36s 2s/step - loss: 1.6325 - category_out_loss: 0.5262 - theme_out_loss: 2.9009 - val_loss: 2.1117 - val_category_out_loss: 0.7396 - val_theme_out_loss: 3.1626\n",
      "Epoch 16/100\n",
      "21/21 [==============================] - 44s 2s/step - loss: 1.5401 - category_out_loss: 0.4918 - theme_out_loss: 2.7825 - val_loss: 2.1096 - val_category_out_loss: 0.7453 - val_theme_out_loss: 3.0950\n",
      "Epoch 17/100\n",
      "21/21 [==============================] - 40s 2s/step - loss: 1.4726 - category_out_loss: 0.4694 - theme_out_loss: 2.6688 - val_loss: 2.0689 - val_category_out_loss: 0.7307 - val_theme_out_loss: 3.0374\n",
      "Epoch 18/100\n",
      "21/21 [==============================] - 37s 2s/step - loss: 1.3980 - category_out_loss: 0.4404 - theme_out_loss: 2.5863 - val_loss: 2.0790 - val_category_out_loss: 0.7410 - val_theme_out_loss: 2.9849\n",
      "Epoch 19/100\n",
      "21/21 [==============================] - 42s 2s/step - loss: 1.3961 - category_out_loss: 0.4480 - theme_out_loss: 2.5005 - val_loss: 2.0654 - val_category_out_loss: 0.7396 - val_theme_out_loss: 2.9304\n",
      "Epoch 20/100\n",
      "21/21 [==============================] - 50s 2s/step - loss: 1.3272 - category_out_loss: 0.4232 - theme_out_loss: 2.4041 - val_loss: 2.0651 - val_category_out_loss: 0.7433 - val_theme_out_loss: 2.8925\n"
     ]
    },
    {
     "name": "stderr",
     "output_type": "stream",
     "text": [
      "WARNING:absl:Found untraced functions such as restored_function_body, restored_function_body, restored_function_body, restored_function_body, restored_function_body while saving (showing 5 of 360). These functions will not be directly callable after loading.\n"
     ]
    },
    {
     "name": "stdout",
     "output_type": "stream",
     "text": [
      "11/11 [==============================] - 14s 1s/step\n",
      "21/21 [==============================] - 23s 1s/step\n",
      "16/16 [==============================] - 27s 2s/step\n",
      "val auc 0.8639834201802155\n",
      "leak_test_auc_score 0.8572451504836384\n"
     ]
    },
    {
     "data": {
      "application/vnd.jupyter.widget-view+json": {
       "model_id": "73a68b4c0cd841b8b55eae6b1ed83512",
       "version_major": 2,
       "version_minor": 0
      },
      "text/plain": [
       "  0%|          | 0/1 [00:00<?, ?it/s]"
      ]
     },
     "metadata": {},
     "output_type": "display_data"
    },
    {
     "name": "stdout",
     "output_type": "stream",
     "text": [
      "Epoch 1/100\n",
      "21/21 [==============================] - 51s 2s/step - loss: 7.3019 - category_out_loss: 3.1209 - theme_out_loss: 5.3009 - val_loss: 6.2585 - val_category_out_loss: 2.6084 - val_theme_out_loss: 5.2081\n",
      "Epoch 2/100\n",
      "21/21 [==============================] - 49s 2s/step - loss: 5.7697 - category_out_loss: 2.3567 - theme_out_loss: 5.2812 - val_loss: 4.7975 - val_category_out_loss: 1.8843 - val_theme_out_loss: 5.1449\n",
      "Epoch 3/100\n",
      "21/21 [==============================] - 41s 2s/step - loss: 4.5839 - category_out_loss: 1.7725 - theme_out_loss: 5.1947 - val_loss: 3.9955 - val_category_out_loss: 1.4977 - val_theme_out_loss: 5.0006\n",
      "Epoch 4/100\n",
      "21/21 [==============================] - 37s 2s/step - loss: 3.8583 - category_out_loss: 1.4299 - theme_out_loss: 4.9922 - val_loss: 3.3900 - val_category_out_loss: 1.2153 - val_theme_out_loss: 4.7968\n",
      "Epoch 5/100\n",
      "21/21 [==============================] - 46s 2s/step - loss: 3.2703 - category_out_loss: 1.1616 - theme_out_loss: 4.7358 - val_loss: 2.9670 - val_category_out_loss: 1.0285 - val_theme_out_loss: 4.5501\n",
      "Epoch 6/100\n",
      "21/21 [==============================] - 48s 2s/step - loss: 2.8877 - category_out_loss: 0.9971 - theme_out_loss: 4.4678 - val_loss: 2.6936 - val_category_out_loss: 0.9131 - val_theme_out_loss: 4.3371\n",
      "Epoch 7/100\n",
      "21/21 [==============================] - 47s 2s/step - loss: 2.5882 - category_out_loss: 0.8730 - theme_out_loss: 4.2114 - val_loss: 2.5224 - val_category_out_loss: 0.8464 - val_theme_out_loss: 4.1483\n",
      "Epoch 8/100\n",
      "21/21 [==============================] - 44s 2s/step - loss: 2.3545 - category_out_loss: 0.7776 - theme_out_loss: 3.9966 - val_loss: 2.4011 - val_category_out_loss: 0.8022 - val_theme_out_loss: 3.9841\n",
      "Epoch 9/100\n",
      "21/21 [==============================] - 46s 2s/step - loss: 2.2108 - category_out_loss: 0.7230 - theme_out_loss: 3.8241 - val_loss: 2.3149 - val_category_out_loss: 0.7742 - val_theme_out_loss: 3.8324\n",
      "Epoch 10/100\n",
      "21/21 [==============================] - 49s 2s/step - loss: 2.0408 - category_out_loss: 0.6590 - theme_out_loss: 3.6141 - val_loss: 2.2916 - val_category_out_loss: 0.7770 - val_theme_out_loss: 3.6886\n",
      "Epoch 11/100\n",
      "21/21 [==============================] - 42s 2s/step - loss: 1.9356 - category_out_loss: 0.6235 - theme_out_loss: 3.4429 - val_loss: 2.2001 - val_category_out_loss: 0.7431 - val_theme_out_loss: 3.5697\n",
      "Epoch 12/100\n",
      "21/21 [==============================] - 49s 2s/step - loss: 1.7990 - category_out_loss: 0.5696 - theme_out_loss: 3.2995 - val_loss: 2.1553 - val_category_out_loss: 0.7311 - val_theme_out_loss: 3.4659\n",
      "Epoch 13/100\n",
      "21/21 [==============================] - 43s 2s/step - loss: 1.7507 - category_out_loss: 0.5624 - theme_out_loss: 3.1293 - val_loss: 2.1356 - val_category_out_loss: 0.7312 - val_theme_out_loss: 3.3657\n",
      "Epoch 14/100\n",
      "21/21 [==============================] - 46s 2s/step - loss: 1.6942 - category_out_loss: 0.5428 - theme_out_loss: 3.0432 - val_loss: 2.1176 - val_category_out_loss: 0.7299 - val_theme_out_loss: 3.2890\n",
      "Epoch 15/100\n",
      "21/21 [==============================] - 37s 2s/step - loss: 1.6327 - category_out_loss: 0.5248 - theme_out_loss: 2.9157 - val_loss: 2.0826 - val_category_out_loss: 0.7200 - val_theme_out_loss: 3.2124\n",
      "Epoch 16/100\n",
      "21/21 [==============================] - 53s 3s/step - loss: 1.5929 - category_out_loss: 0.5157 - theme_out_loss: 2.8078 - val_loss: 2.0488 - val_category_out_loss: 0.7099 - val_theme_out_loss: 3.1454\n",
      "Epoch 17/100\n",
      "21/21 [==============================] - 40s 2s/step - loss: 1.5291 - category_out_loss: 0.4953 - theme_out_loss: 2.6922 - val_loss: 2.0354 - val_category_out_loss: 0.7095 - val_theme_out_loss: 3.0815\n",
      "Epoch 18/100\n",
      "21/21 [==============================] - 47s 2s/step - loss: 1.4460 - category_out_loss: 0.4610 - theme_out_loss: 2.6203 - val_loss: 2.0419 - val_category_out_loss: 0.7179 - val_theme_out_loss: 3.0305\n",
      "Epoch 19/100\n",
      "21/21 [==============================] - 48s 2s/step - loss: 1.4247 - category_out_loss: 0.4573 - theme_out_loss: 2.5502 - val_loss: 2.0258 - val_category_out_loss: 0.7151 - val_theme_out_loss: 2.9782\n",
      "Epoch 20/100\n",
      "21/21 [==============================] - 42s 2s/step - loss: 1.3769 - category_out_loss: 0.4415 - theme_out_loss: 2.4695 - val_loss: 2.0455 - val_category_out_loss: 0.7296 - val_theme_out_loss: 2.9313\n"
     ]
    },
    {
     "name": "stderr",
     "output_type": "stream",
     "text": [
      "WARNING:absl:Found untraced functions such as restored_function_body, restored_function_body, restored_function_body, restored_function_body, restored_function_body while saving (showing 5 of 360). These functions will not be directly callable after loading.\n"
     ]
    },
    {
     "name": "stdout",
     "output_type": "stream",
     "text": [
      "11/11 [==============================] - 14s 1s/step\n",
      "21/21 [==============================] - 23s 1s/step\n",
      "16/16 [==============================] - 20s 1s/step\n",
      "val auc 0.8250048449331142\n",
      "leak_test_auc_score 0.8659094099087034\n"
     ]
    }
   ],
   "source": [
    "cv = StratifiedKFold(n_splits=cfg.N_SPLITS, random_state=cfg.RANDOM_STATE, shuffle=True)\n",
    "\n",
    "test_pool = get_keras_input(\n",
    "        data=test,\n",
    "        shuffle=False\n",
    "        )\n",
    "\n",
    "\n",
    "metrics = defaultdict(list)\n",
    "fold = 0\n",
    "for train_idx, val_idx in tqdm(cv.split(X_train, y_train_onecol), total=cfg.N_SPLITS):\n",
    "\n",
    "    train_pool = get_keras_input(\n",
    "        data=X_train.iloc[train_idx], \n",
    "        labels=y_train.iloc[train_idx],\n",
    "        labels2=theme_train.iloc[train_idx],\n",
    "        shuffle=True\n",
    "        )\n",
    "\n",
    "    val_pool = get_keras_input(\n",
    "        data=X_train.iloc[val_idx], \n",
    "        labels=y_train.iloc[val_idx],\n",
    "        labels2=theme_train.iloc[val_idx],\n",
    "        shuffle=False\n",
    "        )\n",
    "        \n",
    "    for random_seed in tqdm(range(N_RANDOM_SEEDS), total=N_RANDOM_SEEDS):\n",
    "\n",
    "        clf = build_classifier_model()\n",
    "        \n",
    "        early_stopping = tf.keras.callbacks.EarlyStopping(monitor='val_category_out_loss', patience=3, min_delta=1e-5, mode='auto', restore_best_weights=True)\n",
    "        clf.fit(x=train_pool, validation_data=val_pool, epochs=N_EPOCHS, callbacks=[early_stopping])\n",
    "        \n",
    "        model_name = f'{EXPERIMENT_NAME}_fold_{fold}_rs_{random_seed}'\n",
    "        model_path = os.path.join(cfg.MODELS_PATH, EXPERIMENT_FAMILY_NAME, EXPERIMENT_NAME)\n",
    "        check_path(model_path)\n",
    "        clf.save(os.path.join(model_path, model_name), include_optimizer=False)\n",
    "        \n",
    "        pred_proba_oof_val = tf.nn.softmax(clf.predict(val_pool)['category_out']).numpy()\n",
    "        pred_proba_oof_train = tf.nn.softmax(clf.predict(train_pool)['category_out']).numpy()\n",
    "        pred_proba_oof.iloc[val_idx, :] += pred_proba_oof_val\n",
    "        pred_proba_test.iloc[:, :] += tf.nn.softmax(clf.predict(test_pool)['category_out']).numpy()\n",
    "\n",
    "        y_val_oof = y_train_onecol.iloc[val_idx]\n",
    "\n",
    "        val_auc = roc_auc_score(y_val_oof, pred_proba_oof_val , multi_class='ovo', labels=CLASSES)\n",
    "        metrics['val_auc'].append(val_auc)\n",
    "        print('val auc', val_auc)\n",
    "\n",
    "        leak_test_auc_score = roc_auc_score(leak_test.loc[leak_mask], pred_proba_test.loc[leak_mask] / (fold + 1), multi_class='ovo', labels=CLASSES)\n",
    "        metrics['leak_test_auc_score'].append(leak_test_auc_score)\n",
    "        print('leak_test_auc_score', leak_test_auc_score)\n",
    "        \n",
    "        del clf; gc.collect()\n",
    "    del train_pool,val_pool; gc.collect() \n",
    "        \n",
    "    fold += 1\n",
    "pred_proba_oof /= N_RANDOM_SEEDS\n",
    "pred_proba_test /= (cfg.N_SPLITS * N_RANDOM_SEEDS)"
   ]
  },
  {
   "cell_type": "code",
   "execution_count": 16,
   "metadata": {},
   "outputs": [
    {
     "name": "stdout",
     "output_type": "stream",
     "text": [
      "oof_auc_score 0.8263713180555257\n",
      "scores [0.8583115811191869, 0.8639834201802155, 0.8250048449331142]\n",
      "mean 0.8490999487441723 std 0.01719443631590944\n"
     ]
    }
   ],
   "source": [
    "oof_auc_score = roc_auc_score(y_train, pred_proba_oof , multi_class='ovo', labels=CLASSES)\n",
    "print('oof_auc_score', oof_auc_score)\n",
    "print('scores', metrics['val_auc'])\n",
    "print('mean', np.mean(metrics['val_auc']), 'std', np.std(metrics['val_auc']))"
   ]
  },
  {
   "cell_type": "code",
   "execution_count": 17,
   "metadata": {},
   "outputs": [],
   "source": [
    "# 0.8263713180555257"
   ]
  },
  {
   "cell_type": "code",
   "execution_count": 18,
   "metadata": {},
   "outputs": [
    {
     "name": "stdout",
     "output_type": "stream",
     "text": [
      "leak_test_auc_score 0.8659094099087034\n"
     ]
    }
   ],
   "source": [
    "leak_test = pd.read_pickle(os.path.join(cfg.DATA_PATH, 'test_leak.pkl'))\n",
    "notnull = leak_test.notnull()\n",
    "leak_test_auc_score = roc_auc_score(leak_test.loc[notnull], pred_proba_test.loc[notnull], multi_class='ovo', labels=CLASSES)\n",
    "print('leak_test_auc_score', leak_test_auc_score)\n"
   ]
  },
  {
   "cell_type": "code",
   "execution_count": 19,
   "metadata": {},
   "outputs": [],
   "source": [
    "# 0.8659094099087034"
   ]
  },
  {
   "cell_type": "code",
   "execution_count": 20,
   "metadata": {},
   "outputs": [],
   "source": [
    "submission = pd.read_csv(cfg.SAMPLE_SUBMIT_PATH).set_index('id')\n",
    "assert submission.index.equals(pred_proba_test.index)\n",
    "submission[cfg.TARGET] = pred_proba_test.idxmax(1)\n",
    "\n",
    "submission_path = os.path.join(cfg.SUBMISSION_PATH, EXPERIMENT_FAMILY_NAME)\n",
    "check_path(submission_path)\n",
    "submission.to_csv(os.path.join(submission_path, f'{EXPERIMENT_NAME}.csv'))\n",
    "\n",
    "pred_proba_oof_path = os.path.join(cfg.OOF_PRED_PATH, EXPERIMENT_FAMILY_NAME)\n",
    "check_path(pred_proba_oof_path)\n",
    "pred_proba_oof.to_pickle(os.path.join(pred_proba_oof_path, f'{EXPERIMENT_NAME}.pkl'))\n",
    "\n",
    "pred_proba_test_path = os.path.join(cfg.TEST_PRED_PATH, EXPERIMENT_FAMILY_NAME)\n",
    "check_path(pred_proba_test_path)\n",
    "pred_proba_test.to_pickle(os.path.join(pred_proba_test_path, f'{EXPERIMENT_NAME}.pkl'))"
   ]
  }
 ],
 "metadata": {
  "kernelspec": {
   "display_name": "Python 3.9.12 ('tf')",
   "language": "python",
   "name": "python3"
  },
  "language_info": {
   "codemirror_mode": {
    "name": "ipython",
    "version": 3
   },
   "file_extension": ".py",
   "mimetype": "text/x-python",
   "name": "python",
   "nbconvert_exporter": "python",
   "pygments_lexer": "ipython3",
   "version": "3.9.12"
  },
  "orig_nbformat": 4,
  "vscode": {
   "interpreter": {
    "hash": "d5356ef1c2ac2ef25d35a0579f082f1d273c4bada2fe955fa1b70f42402fff98"
   }
  }
 },
 "nbformat": 4,
 "nbformat_minor": 2
}
