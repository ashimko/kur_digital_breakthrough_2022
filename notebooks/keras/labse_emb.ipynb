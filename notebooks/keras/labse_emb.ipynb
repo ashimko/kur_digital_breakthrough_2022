{
 "cells": [
  {
   "cell_type": "code",
   "execution_count": 27,
   "metadata": {},
   "outputs": [],
   "source": [
    "import sys\n",
    "sys.path.insert(0, \"../..\")\n",
    "import config as cfg\n",
    "import gc\n",
    "import os\n",
    "from tqdm.notebook import tqdm\n",
    "from helper import check_path, seed_everything\n",
    "from collections import defaultdict"
   ]
  },
  {
   "cell_type": "code",
   "execution_count": 28,
   "metadata": {},
   "outputs": [],
   "source": [
    "import os\n",
    "import shutil\n",
    "\n",
    "import tensorflow as tf\n",
    "import tensorflow_hub as hub\n",
    "import tensorflow_text as text\n",
    "from official.nlp import optimization  # to create AdamW optimizer\n",
    "\n",
    "import matplotlib.pyplot as plt\n",
    "\n",
    "tf.get_logger().setLevel('ERROR')"
   ]
  },
  {
   "cell_type": "code",
   "execution_count": 29,
   "metadata": {},
   "outputs": [],
   "source": [
    "import pandas as pd\n",
    "import numpy as np\n",
    "from sklearn.model_selection import StratifiedKFold\n",
    "from sklearn.metrics import roc_auc_score"
   ]
  },
  {
   "cell_type": "code",
   "execution_count": 30,
   "metadata": {},
   "outputs": [],
   "source": [
    "EXPERIMENT_FAMILY_NAME = 'keras'\n",
    "EXPERIMENT_NAME = 'labse_emb'\n",
    "N_RANDOM_SEEDS = 1\n",
    "N_EPOCHS = 100\n",
    "BATCH_SIZE = 64\n",
    "N_SPLITS = 10"
   ]
  },
  {
   "cell_type": "code",
   "execution_count": 31,
   "metadata": {},
   "outputs": [],
   "source": [
    "RANDOM_STATE = 77\n",
    "seed_everything(RANDOM_STATE)"
   ]
  },
  {
   "cell_type": "code",
   "execution_count": 32,
   "metadata": {},
   "outputs": [],
   "source": [
    "def filter_rare_categories(df: pd.DataFrame) -> pd.DataFrame:\n",
    "    rare_categories = [12]\n",
    "    return df.loc[~df[cfg.TARGET].isin(rare_categories)]"
   ]
  },
  {
   "cell_type": "code",
   "execution_count": 33,
   "metadata": {},
   "outputs": [],
   "source": [
    "\n",
    "train = pd.read_pickle(os.path.join(cfg.PREPROCESSED_DATA_PATH, 'train.pkl'))\n",
    "test = pd.read_pickle(os.path.join(cfg.PREPROCESSED_DATA_PATH, 'test.pkl'))\n",
    "\n",
    "train = train.rename(columns={cfg.TEXT_COL: 'text'})\n",
    "test = test.rename(columns={cfg.TEXT_COL: 'text'})\n",
    "\n",
    "CLASSES = np.sort(train[cfg.TARGET].unique()).tolist()\n",
    "\n",
    "# train = filter_rare_categories(train)"
   ]
  },
  {
   "cell_type": "code",
   "execution_count": 34,
   "metadata": {},
   "outputs": [],
   "source": [
    "# EMB_NAME = 'smaller_LaBSE_15lang'\n",
    "# train_emb = pd.read_pickle(os.path.join(cfg.DATA_PATH, EMB_NAME, 'train.pkl'))\n",
    "# test_emb = pd.read_pickle(os.path.join(cfg.DATA_PATH, EMB_NAME, 'test.pkl'))\n",
    "\n",
    "# train = train.join(train_emb)\n",
    "# test = test.join(test_emb)\n",
    "\n",
    "# del train_emb, test_emb; gc.collect()"
   ]
  },
  {
   "cell_type": "code",
   "execution_count": 35,
   "metadata": {},
   "outputs": [],
   "source": [
    "X_train, y_train = train.drop(cfg.TARGET, axis=1), train[cfg.TARGET]\n",
    "y_train_onecol = y_train.copy()\n",
    "\n",
    "# y_train = pd.get_dummies(y_train)\n",
    "\n",
    "N_OUT_CLASSES = len(CLASSES)\n",
    "# assert y_train.shape[1] == N_OUT_CLASSES"
   ]
  },
  {
   "cell_type": "code",
   "execution_count": 36,
   "metadata": {},
   "outputs": [],
   "source": [
    "theme_train = pd.read_csv(cfg.ORIG_TRAIN_PATH, index_col=cfg.ID_COL, usecols=[cfg.ID_COL, cfg.THEME_COL])\n",
    "theme_train = theme_train[cfg.THEME_COL].astype('category').cat.codes\n",
    "N_THEMES = theme_train.nunique()\n",
    "# theme_train = pd.get_dummies(theme_train)\n",
    "# theme_train.columns = [f'theme_{i}' for i in range(theme_train.shape[1])]\n"
   ]
  },
  {
   "cell_type": "code",
   "execution_count": 37,
   "metadata": {},
   "outputs": [],
   "source": [
    "pred_proba_oof = pd.DataFrame(data=np.zeros(shape=(len(train), len(CLASSES))), index=train.index, columns=CLASSES)\n",
    "pred_proba_test = pd.DataFrame(data=np.zeros(shape=(len(test), len(CLASSES))), index=test.index, columns=CLASSES)"
   ]
  },
  {
   "cell_type": "code",
   "execution_count": 38,
   "metadata": {},
   "outputs": [],
   "source": [
    "from typing import Optional\n",
    "\n",
    "\n",
    "def df_to_dataset(data: pd.DataFrame, labels: Optional[pd.DataFrame]=None, shuffle: bool=True, batch_size: int=32, labels2: Optional[pd.DataFrame]=None):\n",
    "  df = data.copy()\n",
    "  df = {key: value.values[:, tf.newaxis] for key, value in data.items()}\n",
    "  \n",
    "  if labels is None:\n",
    "    ds = tf.data.Dataset.from_tensor_slices((dict(df),))\n",
    "  else:\n",
    "    ds = tf.data.Dataset.from_tensor_slices((\n",
    "      dict(df), \n",
    "      {\n",
    "        'category_out': labels, \n",
    "        'theme_out': labels2\n",
    "        }\n",
    "        ))\n",
    "        \n",
    "  if shuffle:\n",
    "    ds = ds.shuffle(buffer_size=len(data))\n",
    "  ds = ds.batch(batch_size)\n",
    "  ds = ds.prefetch(batch_size)\n",
    "  return ds\n",
    "\n",
    "\n",
    "def get_keras_input(\n",
    "    data: pd.DataFrame,\n",
    "    labels: Optional[pd.DataFrame] = None,\n",
    "    labels2: Optional[pd.DataFrame] = None,\n",
    "    shuffle=False\n",
    "    ) -> tf.data.Dataset:\n",
    "    return df_to_dataset(\n",
    "        data=data,\n",
    "        labels=labels,\n",
    "        labels2=labels2,\n",
    "        shuffle=shuffle, \n",
    "        batch_size=BATCH_SIZE)\n",
    "        \n"
   ]
  },
  {
   "cell_type": "code",
   "execution_count": 39,
   "metadata": {},
   "outputs": [],
   "source": [
    "def build_classifier_model():\n",
    "    text_input = tf.keras.layers.Input(shape=(), dtype=tf.string, name='text')\n",
    "    preprocessing_layer = hub.KerasLayer(\"https://tfhub.dev/jeongukjae/smaller_LaBSE_15lang_preprocess/1\", name='preprocessing')\n",
    "    encoder_inputs = preprocessing_layer(text_input)\n",
    "    encoder = hub.KerasLayer(\"https://tfhub.dev/jeongukjae/smaller_LaBSE_15lang/1\", trainable=False, name='encoder')\n",
    "    outputs = encoder(encoder_inputs)\n",
    "    net = outputs['pooled_output']\n",
    "    net = tf.keras.layers.BatchNormalization()(net)\n",
    "    net = tf.keras.layers.Dropout(0.3)(net)\n",
    "    net = tf.keras.layers.Dense(300, activation=None)(net)\n",
    "    net = tf.keras.layers.LeakyReLU(alpha=0.5)(net)\n",
    "    net = tf.keras.layers.BatchNormalization()(net)\n",
    "    net = tf.keras.layers.Dropout(0.2)(net)\n",
    "    category_out = tf.keras.layers.Dense(N_OUT_CLASSES, activation=None, name='category_out')(net)\n",
    "    theme_out = tf.keras.layers.Dense(N_THEMES, activation=None, name='theme_out')(net)\n",
    "    model = tf.keras.Model(\n",
    "        text_input, \n",
    "        outputs={\n",
    "            'category_out': category_out, \n",
    "            'theme_out': theme_out\n",
    "            })\n",
    "\n",
    "    loss = {\n",
    "        'category_out': tf.keras.losses.SparseCategoricalCrossentropy(from_logits=True, name='category_out'),\n",
    "        'theme_out': tf.keras.losses.SparseCategoricalCrossentropy(from_logits=True, name='theme_out')\n",
    "        }\n",
    "    # metrics = tf.keras.metrics.AUC(from_logits=True, name='auc')\n",
    "\n",
    "    epochs = N_EPOCHS\n",
    "    n = (len(train) // cfg.N_SPLITS) * (cfg.N_SPLITS-1)\n",
    "    steps_per_epoch = n // BATCH_SIZE\n",
    "    num_train_steps = steps_per_epoch * epochs\n",
    "    num_warmup_steps = int(0.1*num_train_steps)\n",
    "\n",
    "    init_lr = 3e-4\n",
    "    optimizer = optimization.create_optimizer(init_lr=init_lr,\n",
    "                                            num_train_steps=num_train_steps,\n",
    "                                            num_warmup_steps=num_warmup_steps,\n",
    "                                            optimizer_type='adamw')\n",
    "\n",
    "    model.compile(optimizer=optimizer,\n",
    "                         loss=loss,\n",
    "                         loss_weights={\"category_out\": 2.0, \"theme_out\": 0.2}\n",
    "                        #  metrics=metrics\n",
    "                         )\n",
    "    return model"
   ]
  },
  {
   "cell_type": "code",
   "execution_count": 40,
   "metadata": {},
   "outputs": [],
   "source": [
    "leak_test = pd.read_pickle(os.path.join(cfg.DATA_PATH, 'test_leak.pkl'))\n",
    "leak_mask = leak_test.notnull()"
   ]
  },
  {
   "cell_type": "code",
   "execution_count": 41,
   "metadata": {},
   "outputs": [
    {
     "data": {
      "application/vnd.jupyter.widget-view+json": {
       "model_id": "399fff0266a04c69bf947030649138e2",
       "version_major": 2,
       "version_minor": 0
      },
      "text/plain": [
       "  0%|          | 0/10 [00:00<?, ?it/s]"
      ]
     },
     "metadata": {},
     "output_type": "display_data"
    },
    {
     "name": "stderr",
     "output_type": "stream",
     "text": [
      "/home/as/miniconda3/envs/tf/lib/python3.9/site-packages/sklearn/model_selection/_split.py:680: UserWarning: The least populated class in y has only 1 members, which is less than n_splits=10.\n",
      "  warnings.warn(\n"
     ]
    },
    {
     "data": {
      "application/vnd.jupyter.widget-view+json": {
       "model_id": "4a0ca20f76e6481d901b9a6ad540a053",
       "version_major": 2,
       "version_minor": 0
      },
      "text/plain": [
       "  0%|          | 0/1 [00:00<?, ?it/s]"
      ]
     },
     "metadata": {},
     "output_type": "display_data"
    },
    {
     "name": "stdout",
     "output_type": "stream",
     "text": [
      "Epoch 1/100\n",
      "29/29 [==============================] - 44s 1s/step - loss: 8.6676 - category_out_loss: 3.7400 - theme_out_loss: 5.9375 - val_loss: 6.4972 - val_category_out_loss: 2.7335 - val_theme_out_loss: 5.1505\n",
      "Epoch 2/100\n",
      "29/29 [==============================] - 34s 1s/step - loss: 7.7149 - category_out_loss: 3.2694 - theme_out_loss: 5.8805 - val_loss: 5.9007 - val_category_out_loss: 2.4377 - val_theme_out_loss: 5.1263\n",
      "Epoch 3/100\n",
      "29/29 [==============================] - 36s 1s/step - loss: 6.2871 - category_out_loss: 2.5718 - theme_out_loss: 5.7179 - val_loss: 5.1400 - val_category_out_loss: 2.0628 - val_theme_out_loss: 5.0725\n",
      "Epoch 4/100\n",
      "29/29 [==============================] - 38s 1s/step - loss: 5.0616 - category_out_loss: 1.9784 - theme_out_loss: 5.5238 - val_loss: 4.4490 - val_category_out_loss: 1.7280 - val_theme_out_loss: 4.9652\n",
      "Epoch 5/100\n",
      " 5/29 [====>.........................] - ETA: 29s - loss: 4.3711 - category_out_loss: 1.6340 - theme_out_loss: 5.5151"
     ]
    }
   ],
   "source": [
    "cv = StratifiedKFold(n_splits=N_SPLITS, random_state=cfg.RANDOM_STATE, shuffle=True)\n",
    "\n",
    "test_pool = get_keras_input(\n",
    "        data=test,\n",
    "        shuffle=False\n",
    "        )\n",
    "\n",
    "\n",
    "metrics = defaultdict(list)\n",
    "fold = 0\n",
    "for train_idx, val_idx in tqdm(cv.split(X_train, y_train_onecol), total=N_SPLITS):\n",
    "\n",
    "    train_pool = get_keras_input(\n",
    "        data=X_train.iloc[train_idx], \n",
    "        labels=y_train.iloc[train_idx],\n",
    "        labels2=theme_train.iloc[train_idx],\n",
    "        shuffle=True\n",
    "        )\n",
    "\n",
    "    val_pool = get_keras_input(\n",
    "        data=X_train.iloc[val_idx], \n",
    "        labels=y_train.iloc[val_idx],\n",
    "        labels2=theme_train.iloc[val_idx],\n",
    "        shuffle=False\n",
    "        )\n",
    "    \n",
    "        \n",
    "    for random_seed in tqdm(range(N_RANDOM_SEEDS), total=N_RANDOM_SEEDS):\n",
    "\n",
    "        clf = build_classifier_model()\n",
    "        \n",
    "        early_stopping = tf.keras.callbacks.EarlyStopping(monitor='val_category_out_loss', patience=3, min_delta=1e-5, mode='auto', restore_best_weights=True)\n",
    "        clf.fit(x=train_pool, validation_data=val_pool, epochs=N_EPOCHS, callbacks=[early_stopping])\n",
    "        \n",
    "        model_name = f'{EXPERIMENT_NAME}_fold_{fold}_rs_{random_seed}'\n",
    "        model_path = os.path.join(cfg.MODELS_PATH, EXPERIMENT_FAMILY_NAME, EXPERIMENT_NAME)\n",
    "        check_path(model_path)\n",
    "        clf.save(os.path.join(model_path, model_name), include_optimizer=False)\n",
    "        \n",
    "        pred_proba_oof_val = tf.nn.softmax(clf.predict(val_pool)['category_out']).numpy()\n",
    "        pred_proba_oof_train = tf.nn.softmax(clf.predict(train_pool)['category_out']).numpy()\n",
    "        pred_proba_oof.iloc[val_idx, :] += pred_proba_oof_val\n",
    "        pred_proba_test.iloc[:, :] += tf.nn.softmax(clf.predict(test_pool)['category_out']).numpy()\n",
    "\n",
    "        y_val_oof = y_train_onecol.iloc[val_idx]\n",
    "\n",
    "        val_auc = roc_auc_score(y_val_oof, pred_proba_oof_val , multi_class='ovo', labels=CLASSES)\n",
    "        metrics['val_auc'].append(val_auc)\n",
    "        print('val auc', val_auc)\n",
    "\n",
    "        leak_test_auc_score = roc_auc_score(leak_test.loc[leak_mask], pred_proba_test.loc[leak_mask] / (fold + 1), multi_class='ovo', labels=CLASSES)\n",
    "        metrics['leak_test_auc_score'].append(leak_test_auc_score)\n",
    "        print('leak_test_auc_score', leak_test_auc_score)\n",
    "        \n",
    "        del clf; gc.collect()\n",
    "    del train_pool,val_pool; gc.collect() \n",
    "        \n",
    "    fold += 1\n",
    "pred_proba_oof /= N_RANDOM_SEEDS\n",
    "pred_proba_test /= (N_SPLITS * N_RANDOM_SEEDS)"
   ]
  },
  {
   "cell_type": "code",
   "execution_count": null,
   "metadata": {},
   "outputs": [],
   "source": [
    "# 0.8651044661502603"
   ]
  },
  {
   "cell_type": "code",
   "execution_count": null,
   "metadata": {},
   "outputs": [
    {
     "name": "stdout",
     "output_type": "stream",
     "text": [
      "oof_auc_score 0.8387108662148852\n",
      "scores [0.880915849976338, 0.919972274444947, 0.8622553144148057, 0.8079158894312428]\n",
      "mean 0.8677648320668334 std 0.04034481698767631\n"
     ]
    }
   ],
   "source": [
    "oof_auc_score = roc_auc_score(y_train, pred_proba_oof , multi_class='ovo', labels=CLASSES)\n",
    "print('oof_auc_score', oof_auc_score)\n",
    "print('scores', metrics['val_auc'])\n",
    "print('mean', np.mean(metrics['val_auc']), 'std', np.std(metrics['val_auc']))"
   ]
  },
  {
   "cell_type": "code",
   "execution_count": null,
   "metadata": {},
   "outputs": [],
   "source": [
    "# 0.8263713180555257"
   ]
  },
  {
   "cell_type": "code",
   "execution_count": null,
   "metadata": {},
   "outputs": [
    {
     "name": "stdout",
     "output_type": "stream",
     "text": [
      "leak_test_auc_score 0.8653477931111206\n"
     ]
    }
   ],
   "source": [
    "leak_test = pd.read_pickle(os.path.join(cfg.DATA_PATH, 'test_leak.pkl'))\n",
    "notnull = leak_test.notnull()\n",
    "leak_test_auc_score = roc_auc_score(leak_test.loc[notnull], pred_proba_test.loc[notnull], multi_class='ovo', labels=CLASSES)\n",
    "print('leak_test_auc_score', leak_test_auc_score)\n"
   ]
  },
  {
   "cell_type": "code",
   "execution_count": null,
   "metadata": {},
   "outputs": [],
   "source": [
    "# 0.8659094099087034"
   ]
  },
  {
   "cell_type": "code",
   "execution_count": null,
   "metadata": {},
   "outputs": [],
   "source": [
    "submission = pd.read_csv(cfg.SAMPLE_SUBMIT_PATH).set_index('id')\n",
    "assert submission.index.equals(pred_proba_test.index)\n",
    "submission[cfg.TARGET] = pred_proba_test.idxmax(1)\n",
    "\n",
    "submission_path = os.path.join(cfg.SUBMISSION_PATH, EXPERIMENT_FAMILY_NAME)\n",
    "check_path(submission_path)\n",
    "submission.to_csv(os.path.join(submission_path, f'{EXPERIMENT_NAME}.csv'))\n",
    "\n",
    "pred_proba_oof_path = os.path.join(cfg.OOF_PRED_PATH, EXPERIMENT_FAMILY_NAME)\n",
    "check_path(pred_proba_oof_path)\n",
    "pred_proba_oof.to_pickle(os.path.join(pred_proba_oof_path, f'{EXPERIMENT_NAME}.pkl'))\n",
    "\n",
    "pred_proba_test_path = os.path.join(cfg.TEST_PRED_PATH, EXPERIMENT_FAMILY_NAME)\n",
    "check_path(pred_proba_test_path)\n",
    "pred_proba_test.to_pickle(os.path.join(pred_proba_test_path, f'{EXPERIMENT_NAME}.pkl'))"
   ]
  },
  {
   "cell_type": "code",
   "execution_count": null,
   "metadata": {},
   "outputs": [],
   "source": [
    "import seaborn as sns\n",
    "from matplotlib import pyplot as plt"
   ]
  },
  {
   "cell_type": "code",
   "execution_count": null,
   "metadata": {},
   "outputs": [],
   "source": [
    "trn_target_count = y_train.value_counts().rename('train_true')\n",
    "trn_pred_count = pred_proba_oof.idxmax(1).value_counts().rename('train_pred')"
   ]
  },
  {
   "cell_type": "code",
   "execution_count": null,
   "metadata": {},
   "outputs": [],
   "source": [
    "tst_target_count = leak_test.loc[leak_mask].astype('int').value_counts().rename('test_true')\n",
    "tst_pred_count = submission.loc[leak_mask, cfg.TARGET].value_counts().rename('test_pred')"
   ]
  },
  {
   "cell_type": "code",
   "execution_count": null,
   "metadata": {},
   "outputs": [
    {
     "data": {
      "text/plain": [
       "<AxesSubplot:>"
      ]
     },
     "execution_count": 25,
     "metadata": {},
     "output_type": "execute_result"
    },
    {
     "data": {
      "image/png": "[encoded data removed]",
      "text/plain": [
       "<Figure size 1080x720 with 1 Axes>"
      ]
     },
     "metadata": {
      "needs_background": "light"
     },
     "output_type": "display_data"
    }
   ],
   "source": [
    "pd.concat([trn_target_count, trn_pred_count], axis=1).plot(kind='barh', figsize=(15,10))"
   ]
  },
  {
   "cell_type": "code",
   "execution_count": null,
   "metadata": {},
   "outputs": [
    {
     "data": {
      "text/plain": [
       "<AxesSubplot:>"
      ]
     },
     "execution_count": 26,
     "metadata": {},
     "output_type": "execute_result"
    },
    {
     "data": {
      "image/png": "[encoded data removed]",
      "text/plain": [
       "<Figure size 1080x720 with 1 Axes>"
      ]
     },
     "metadata": {
      "needs_background": "light"
     },
     "output_type": "display_data"
    }
   ],
   "source": [
    "pd.concat([tst_target_count, tst_pred_count], axis=1).plot(kind='barh', figsize=(15,10))"
   ]
  }
 ],
 "metadata": {
  "kernelspec": {
   "display_name": "Python 3.9.12 ('tf')",
   "language": "python",
   "name": "python3"
  },
  "language_info": {
   "codemirror_mode": {
    "name": "ipython",
    "version": 3
   },
   "file_extension": ".py",
   "mimetype": "text/x-python",
   "name": "python",
   "nbconvert_exporter": "python",
   "pygments_lexer": "ipython3",
   "version": "3.9.12"
  },
  "orig_nbformat": 4,
  "vscode": {
   "interpreter": {
    "hash": "d5356ef1c2ac2ef25d35a0579f082f1d273c4bada2fe955fa1b70f42402fff98"
   }
  }
 },
 "nbformat": 4,
 "nbformat_minor": 2
}
