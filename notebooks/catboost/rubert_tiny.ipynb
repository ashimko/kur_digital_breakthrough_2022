{
 "cells": [
  {
   "cell_type": "code",
   "execution_count": 9,
   "metadata": {},
   "outputs": [],
   "source": [
    "import sys\n",
    "sys.path.insert(0, \"../..\")\n",
    "import config as cfg\n",
    "import gc\n",
    "import os\n",
    "from tqdm.notebook import tqdm\n",
    "from helper import check_path, seed_everything\n",
    "from collections import defaultdict"
   ]
  },
  {
   "cell_type": "code",
   "execution_count": 10,
   "metadata": {},
   "outputs": [],
   "source": [
    "import pandas as pd\n",
    "import numpy as np\n",
    "from sklearn.model_selection import StratifiedKFold\n",
    "from sklearn.metrics import roc_auc_score"
   ]
  },
  {
   "cell_type": "code",
   "execution_count": 11,
   "metadata": {},
   "outputs": [],
   "source": [
    "import catboost as cb\n",
    "import catboost.datasets as cbd\n",
    "import catboost.utils as cbu"
   ]
  },
  {
   "cell_type": "code",
   "execution_count": 12,
   "metadata": {},
   "outputs": [],
   "source": [
    "EXPERIMENT_FAMILY_NAME = 'catboost'\n",
    "EXPERIMENT_NAME = 'rubert_tiny'\n",
    "N_RANDOM_SEEDS = 1"
   ]
  },
  {
   "cell_type": "code",
   "execution_count": 13,
   "metadata": {},
   "outputs": [],
   "source": [
    "RANDOM_STATE = 77\n",
    "seed_everything(RANDOM_STATE)"
   ]
  },
  {
   "cell_type": "code",
   "execution_count": 14,
   "metadata": {},
   "outputs": [],
   "source": [
    "def filter_rare_categories(df: pd.DataFrame) -> pd.DataFrame:\n",
    "    rare_categories = [12]\n",
    "    return df.loc[~df[cfg.TARGET].isin(rare_categories)]"
   ]
  },
  {
   "cell_type": "code",
   "execution_count": 15,
   "metadata": {},
   "outputs": [],
   "source": [
    "train = pd.read_pickle(os.path.join(cfg.PREPROCESSED_DATA_PATH, 'train.pkl')).drop(cfg.TEXT_COL, axis=1)  #  cfg.THEME_COL, cfg.TEXT_COL\n",
    "test = pd.read_pickle(os.path.join(cfg.PREPROCESSED_DATA_PATH, 'test.pkl')).drop(cfg.TEXT_COL, axis=1) # cfg.TEXT_COL\n",
    "\n",
    "CLASSES = np.sort(train[cfg.TARGET].unique()).tolist()\n",
    "\n",
    "train = filter_rare_categories(train)"
   ]
  },
  {
   "cell_type": "code",
   "execution_count": 16,
   "metadata": {},
   "outputs": [
    {
     "data": {
      "text/plain": [
       "1138"
      ]
     },
     "execution_count": 16,
     "metadata": {},
     "output_type": "execute_result"
    }
   ],
   "source": [
    "EMB_NAME = 'rubert_tiny'\n",
    "train_emb = pd.read_pickle(os.path.join(cfg.DATA_PATH, EMB_NAME, 'train.pkl'))\n",
    "test_emb = pd.read_pickle(os.path.join(cfg.DATA_PATH, EMB_NAME, 'test.pkl'))\n",
    "\n",
    "train = train.join(train_emb)\n",
    "test = test.join(test_emb)\n",
    "\n",
    "del train_emb, test_emb; gc.collect()"
   ]
  },
  {
   "cell_type": "code",
   "execution_count": 17,
   "metadata": {},
   "outputs": [],
   "source": [
    "X_train, y_train = train.drop(cfg.TARGET, axis=1), train[cfg.TARGET]"
   ]
  },
  {
   "cell_type": "code",
   "execution_count": 18,
   "metadata": {},
   "outputs": [],
   "source": [
    "pred_proba_oof = pd.DataFrame(data=np.zeros(shape=(len(train), len(CLASSES))), index=train.index, columns=CLASSES)\n",
    "pred_proba_test = pd.DataFrame(data=np.zeros(shape=(len(test), len(CLASSES))), index=test.index, columns=CLASSES)"
   ]
  },
  {
   "cell_type": "code",
   "execution_count": 19,
   "metadata": {},
   "outputs": [],
   "source": [
    "leak_test = pd.read_pickle(os.path.join(cfg.DATA_PATH, 'test_leak.pkl'))\n",
    "leak_mask = leak_test.notnull()"
   ]
  },
  {
   "cell_type": "code",
   "execution_count": 20,
   "metadata": {},
   "outputs": [
    {
     "data": {
      "application/vnd.jupyter.widget-view+json": {
       "model_id": "f991be69aaa044d3a2886b2bed81560f",
       "version_major": 2,
       "version_minor": 0
      },
      "text/plain": [
       "  0%|          | 0/5 [00:00<?, ?it/s]"
      ]
     },
     "metadata": {},
     "output_type": "display_data"
    },
    {
     "name": "stderr",
     "output_type": "stream",
     "text": [
      "/home/as/miniconda3/envs/tf/lib/python3.9/site-packages/sklearn/model_selection/_split.py:680: UserWarning: The least populated class in y has only 3 members, which is less than n_splits=5.\n",
      "  warnings.warn(\n"
     ]
    },
    {
     "data": {
      "application/vnd.jupyter.widget-view+json": {
       "model_id": "95b47dbaa50a4e739a1c28b0d5141b6e",
       "version_major": 2,
       "version_minor": 0
      },
      "text/plain": [
       "  0%|          | 0/1 [00:00<?, ?it/s]"
      ]
     },
     "metadata": {},
     "output_type": "display_data"
    },
    {
     "data": {
      "application/vnd.jupyter.widget-view+json": {
       "model_id": "6b0880972eff48fe9ef594ca2359fcdb",
       "version_major": 2,
       "version_minor": 0
      },
      "text/plain": [
       "MetricVisualizer(layout=Layout(align_self='stretch', height='500px'))"
      ]
     },
     "metadata": {},
     "output_type": "display_data"
    },
    {
     "name": "stderr",
     "output_type": "stream",
     "text": [
      "Found only 16 unique classes in the data, but have defined 17 classes. Probably something is wrong with data.\n"
     ]
    },
    {
     "name": "stdout",
     "output_type": "stream",
     "text": [
      "train auc 0.999806137204034 val auc 0.8314898788009063\n",
      "leak_test_auc_score 0.818720562729309\n"
     ]
    },
    {
     "data": {
      "application/vnd.jupyter.widget-view+json": {
       "model_id": "2d42278ceb6d44c682cbfffec31ef192",
       "version_major": 2,
       "version_minor": 0
      },
      "text/plain": [
       "  0%|          | 0/1 [00:00<?, ?it/s]"
      ]
     },
     "metadata": {},
     "output_type": "display_data"
    },
    {
     "data": {
      "application/vnd.jupyter.widget-view+json": {
       "model_id": "e645e791673b4de99df75faf7eecc9df",
       "version_major": 2,
       "version_minor": 0
      },
      "text/plain": [
       "MetricVisualizer(layout=Layout(align_self='stretch', height='500px'))"
      ]
     },
     "metadata": {},
     "output_type": "display_data"
    },
    {
     "name": "stderr",
     "output_type": "stream",
     "text": [
      "Found only 16 unique classes in the data, but have defined 17 classes. Probably something is wrong with data.\n"
     ]
    },
    {
     "name": "stdout",
     "output_type": "stream",
     "text": [
      "train auc 0.999812623368434 val auc 0.8652101366626546\n",
      "leak_test_auc_score 0.8238690959277185\n"
     ]
    },
    {
     "data": {
      "application/vnd.jupyter.widget-view+json": {
       "model_id": "50eb221cb3be4f58aac7a82d047013ee",
       "version_major": 2,
       "version_minor": 0
      },
      "text/plain": [
       "  0%|          | 0/1 [00:00<?, ?it/s]"
      ]
     },
     "metadata": {},
     "output_type": "display_data"
    },
    {
     "data": {
      "application/vnd.jupyter.widget-view+json": {
       "model_id": "f25a9ae4c7c449bd9619ba2a4784f30b",
       "version_major": 2,
       "version_minor": 0
      },
      "text/plain": [
       "MetricVisualizer(layout=Layout(align_self='stretch', height='500px'))"
      ]
     },
     "metadata": {},
     "output_type": "display_data"
    },
    {
     "name": "stderr",
     "output_type": "stream",
     "text": [
      "Found only 16 unique classes in the data, but have defined 17 classes. Probably something is wrong with data.\n"
     ]
    },
    {
     "name": "stdout",
     "output_type": "stream",
     "text": [
      "train auc 0.9602807088032317 val auc 0.8208934768142482\n",
      "leak_test_auc_score 0.8139969403542967\n"
     ]
    },
    {
     "data": {
      "application/vnd.jupyter.widget-view+json": {
       "model_id": "93d8a222669741a8a5101866571acd0d",
       "version_major": 2,
       "version_minor": 0
      },
      "text/plain": [
       "  0%|          | 0/1 [00:00<?, ?it/s]"
      ]
     },
     "metadata": {},
     "output_type": "display_data"
    },
    {
     "data": {
      "application/vnd.jupyter.widget-view+json": {
       "model_id": "d7206981dcd34469acd20e6cd09da2f0",
       "version_major": 2,
       "version_minor": 0
      },
      "text/plain": [
       "MetricVisualizer(layout=Layout(align_self='stretch', height='500px'))"
      ]
     },
     "metadata": {},
     "output_type": "display_data"
    },
    {
     "name": "stderr",
     "output_type": "stream",
     "text": [
      "Found only 16 unique classes in the data, but have defined 17 classes. Probably something is wrong with data.\n"
     ]
    },
    {
     "name": "stdout",
     "output_type": "stream",
     "text": [
      "train auc 0.9983678318820925 val auc 0.833297413492285\n",
      "leak_test_auc_score 0.8206898115544325\n"
     ]
    },
    {
     "data": {
      "application/vnd.jupyter.widget-view+json": {
       "model_id": "fb28b001176e4c67823970cd150abe23",
       "version_major": 2,
       "version_minor": 0
      },
      "text/plain": [
       "  0%|          | 0/1 [00:00<?, ?it/s]"
      ]
     },
     "metadata": {},
     "output_type": "display_data"
    },
    {
     "data": {
      "application/vnd.jupyter.widget-view+json": {
       "model_id": "9e01be127eaf4caab1b11fed4d9c5e59",
       "version_major": 2,
       "version_minor": 0
      },
      "text/plain": [
       "MetricVisualizer(layout=Layout(align_self='stretch', height='500px'))"
      ]
     },
     "metadata": {},
     "output_type": "display_data"
    },
    {
     "name": "stderr",
     "output_type": "stream",
     "text": [
      "Found only 16 unique classes in the data, but have defined 17 classes. Probably something is wrong with data.\n"
     ]
    },
    {
     "name": "stdout",
     "output_type": "stream",
     "text": [
      "train auc 0.9753118333115185 val auc 0.8185200984320209\n",
      "leak_test_auc_score 0.816451241136373\n"
     ]
    }
   ],
   "source": [
    "cv = StratifiedKFold(n_splits=cfg.N_SPLITS, random_state=cfg.RANDOM_STATE, shuffle=True)\n",
    "\n",
    "test_pool = cb.Pool(\n",
    "        data=test,\n",
    "        # text_features=cfg.TEXT_COLS,\n",
    "        # cat_features=cfg.CAT_COLS\n",
    "        )\n",
    "\n",
    "\n",
    "metrics = defaultdict(list)\n",
    "fold = 0\n",
    "for train_idx, val_idx in tqdm(cv.split(X_train, y_train), total=cfg.N_SPLITS):\n",
    "\n",
    "    train_pool = cb.Pool(\n",
    "        data=X_train.iloc[train_idx], \n",
    "        label=y_train.iloc[train_idx],\n",
    "        # text_features=cfg.TEXT_COLS,\n",
    "        # cat_features=cfg.CAT_COLS\n",
    "        )\n",
    "\n",
    "    val_pool = cb.Pool(\n",
    "        data=X_train.iloc[val_idx], \n",
    "        label=y_train.iloc[val_idx],\n",
    "        # text_features=cfg.TEXT_COLS,\n",
    "        # cat_features=cfg.CAT_COLS\n",
    "        )\n",
    "        \n",
    "    for random_seed in tqdm(range(N_RANDOM_SEEDS), total=N_RANDOM_SEEDS):\n",
    "\n",
    "        clf = cb.CatBoostClassifier(\n",
    "            iterations=1000,\n",
    "            silent=True,\n",
    "            depth=3,\n",
    "            eval_metric='AUC',\n",
    "            classes_count=len(CLASSES),\n",
    "            random_seed=random_seed,\n",
    "            early_stopping_rounds=150,\n",
    "            # task_type=\"GPU\",\n",
    "            # devices='0:1',\n",
    "        )\n",
    "\n",
    "        clf.fit(train_pool, eval_set=val_pool, plot=True)\n",
    "        \n",
    "        model_name = f'{EXPERIMENT_NAME}_fold_{fold}_rs_{random_seed}.cbm'\n",
    "        model_path = os.path.join(cfg.MODELS_PATH, EXPERIMENT_FAMILY_NAME, EXPERIMENT_NAME)\n",
    "        check_path(model_path)\n",
    "        clf.save_model(os.path.join(model_path, model_name))\n",
    "        \n",
    "        pred_proba_oof_val = clf.predict_proba(val_pool)[:, ]\n",
    "        pred_proba_oof_train = clf.predict_proba(train_pool)\n",
    "\n",
    "        pred_proba_oof.iloc[val_idx, :] += pred_proba_oof_val\n",
    "        pred_proba_test.iloc[:, :] += clf.predict_proba(test_pool)\n",
    "\n",
    "        y_train_oof = y_train.iloc[train_idx]\n",
    "        y_val_oof = y_train.iloc[val_idx]\n",
    "\n",
    "        train_auc = roc_auc_score(y_train_oof, pred_proba_oof_train , multi_class='ovo', labels=CLASSES)\n",
    "        val_auc = roc_auc_score(y_val_oof, pred_proba_oof_val , multi_class='ovo', labels=CLASSES)\n",
    "        metrics['train_auc'].append(train_auc)\n",
    "        metrics['val_auc'].append(val_auc)\n",
    "        print('train auc', train_auc, 'val auc', val_auc)\n",
    "\n",
    "        leak_test_auc_score = roc_auc_score(leak_test.loc[leak_mask], pred_proba_test.loc[leak_mask] / (fold + 1), multi_class='ovo', labels=CLASSES)\n",
    "        metrics['leak_test_auc_score'].append(leak_test_auc_score)\n",
    "        print('leak_test_auc_score', leak_test_auc_score)\n",
    "        \n",
    "        del clf; gc.collect()\n",
    "    del train_pool,val_pool; gc.collect() \n",
    "        \n",
    "    fold += 1\n",
    "pred_proba_oof /= N_RANDOM_SEEDS\n",
    "pred_proba_test /= (cfg.N_SPLITS * N_RANDOM_SEEDS)"
   ]
  },
  {
   "cell_type": "code",
   "execution_count": 21,
   "metadata": {},
   "outputs": [
    {
     "name": "stdout",
     "output_type": "stream",
     "text": [
      "oof_auc_score 0.8194935342513266\n"
     ]
    }
   ],
   "source": [
    "oof_auc_score = roc_auc_score(y_train, pred_proba_oof , multi_class='ovo', labels=CLASSES)\n",
    "print('oof_auc_score', oof_auc_score)"
   ]
  },
  {
   "cell_type": "code",
   "execution_count": 22,
   "metadata": {},
   "outputs": [],
   "source": [
    "# 0.7608781986622845"
   ]
  },
  {
   "cell_type": "code",
   "execution_count": 23,
   "metadata": {},
   "outputs": [
    {
     "name": "stdout",
     "output_type": "stream",
     "text": [
      "leak_test_auc_score 0.816451241136373\n"
     ]
    }
   ],
   "source": [
    "leak_test_auc_score = roc_auc_score(leak_test.loc[leak_mask], pred_proba_test.loc[leak_mask], multi_class='ovo', labels=CLASSES)\n",
    "print('leak_test_auc_score', leak_test_auc_score)\n"
   ]
  },
  {
   "cell_type": "code",
   "execution_count": 24,
   "metadata": {},
   "outputs": [],
   "source": [
    "# 0.8399045223216896"
   ]
  },
  {
   "cell_type": "code",
   "execution_count": 25,
   "metadata": {},
   "outputs": [],
   "source": [
    "submission = pd.read_csv(cfg.SAMPLE_SUBMIT_PATH).set_index('id')\n",
    "assert submission.index.equals(pred_proba_test.index)\n",
    "submission[cfg.TARGET] = pred_proba_test.idxmax(1)\n",
    "\n",
    "submission_path = os.path.join(cfg.SUBMISSION_PATH, EXPERIMENT_FAMILY_NAME)\n",
    "check_path(submission_path)\n",
    "submission.to_csv(os.path.join(submission_path, f'{EXPERIMENT_NAME}.csv'))\n",
    "\n",
    "pred_proba_oof_path = os.path.join(cfg.OOF_PRED_PATH, EXPERIMENT_FAMILY_NAME)\n",
    "check_path(pred_proba_oof_path)\n",
    "pred_proba_oof.to_pickle(os.path.join(pred_proba_oof_path, f'{EXPERIMENT_NAME}.pkl'))\n",
    "\n",
    "pred_proba_test_path = os.path.join(cfg.TEST_PRED_PATH, EXPERIMENT_FAMILY_NAME)\n",
    "check_path(pred_proba_test_path)\n",
    "pred_proba_test.to_pickle(os.path.join(pred_proba_test_path, f'{EXPERIMENT_NAME}.pkl'))"
   ]
  }
 ],
 "metadata": {
  "kernelspec": {
   "display_name": "Python 3.9.12 ('tf')",
   "language": "python",
   "name": "python3"
  },
  "language_info": {
   "codemirror_mode": {
    "name": "ipython",
    "version": 3
   },
   "file_extension": ".py",
   "mimetype": "text/x-python",
   "name": "python",
   "nbconvert_exporter": "python",
   "pygments_lexer": "ipython3",
   "version": "3.9.12"
  },
  "orig_nbformat": 4,
  "vscode": {
   "interpreter": {
    "hash": "d5356ef1c2ac2ef25d35a0579f082f1d273c4bada2fe955fa1b70f42402fff98"
   }
  }
 },
 "nbformat": 4,
 "nbformat_minor": 2
}
