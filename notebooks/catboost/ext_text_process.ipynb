{
 "cells": [
  {
   "cell_type": "code",
   "execution_count": 1,
   "metadata": {},
   "outputs": [],
   "source": [
    "import sys\n",
    "sys.path.insert(0, \"../..\")\n",
    "import config as cfg\n",
    "import gc\n",
    "import os\n",
    "from tqdm.notebook import tqdm\n",
    "from helper import check_path, seed_everything\n",
    "from collections import defaultdict"
   ]
  },
  {
   "cell_type": "code",
   "execution_count": 2,
   "metadata": {},
   "outputs": [],
   "source": [
    "import pandas as pd\n",
    "import numpy as np\n",
    "from sklearn.model_selection import StratifiedKFold\n",
    "from sklearn.metrics import roc_auc_score"
   ]
  },
  {
   "cell_type": "code",
   "execution_count": 3,
   "metadata": {},
   "outputs": [],
   "source": [
    "import catboost as cb\n",
    "import catboost.datasets as cbd\n",
    "import catboost.utils as cbu"
   ]
  },
  {
   "cell_type": "code",
   "execution_count": 4,
   "metadata": {},
   "outputs": [],
   "source": [
    "EXPERIMENT_FAMILY_NAME = 'catboost'\n",
    "EXPERIMENT_NAME = 'ext_text_process'\n",
    "N_RANDOM_SEEDS = 1"
   ]
  },
  {
   "cell_type": "code",
   "execution_count": 5,
   "metadata": {},
   "outputs": [],
   "source": [
    "RANDOM_STATE = 77\n",
    "seed_everything(RANDOM_STATE)"
   ]
  },
  {
   "cell_type": "code",
   "execution_count": 6,
   "metadata": {},
   "outputs": [],
   "source": [
    "def filter_rare_categories(df: pd.DataFrame) -> pd.DataFrame:\n",
    "    counts = df[cfg.TARGET].value_counts()\n",
    "    rare_categories = counts.loc[counts < cfg.N_SPLITS + 3].index\n",
    "    return df.loc[~df[cfg.TARGET].isin(rare_categories)]"
   ]
  },
  {
   "cell_type": "code",
   "execution_count": 7,
   "metadata": {},
   "outputs": [],
   "source": [
    "train = pd.read_pickle(os.path.join(cfg.PREPROCESSED_DATA_PATH, 'train.pkl'))\n",
    "test = pd.read_pickle(os.path.join(cfg.PREPROCESSED_DATA_PATH, 'test.pkl'))\n",
    "\n",
    "CLASSES = np.sort(train[cfg.TARGET].unique()).tolist()\n",
    "\n",
    "# train = filter_rare_categories(train)"
   ]
  },
  {
   "cell_type": "code",
   "execution_count": 8,
   "metadata": {},
   "outputs": [
    {
     "data": {
      "text/plain": [
       "0"
      ]
     },
     "execution_count": 8,
     "metadata": {},
     "output_type": "execute_result"
    }
   ],
   "source": [
    "EMB_NAME = 'smaller_LaBSE_15lang'\n",
    "train_emb = pd.read_pickle(os.path.join(cfg.DATA_PATH, EMB_NAME, 'train.pkl'))\n",
    "test_emb = pd.read_pickle(os.path.join(cfg.DATA_PATH, EMB_NAME, 'test.pkl'))\n",
    "\n",
    "train = train.join(train_emb)\n",
    "test = test.join(test_emb)\n",
    "\n",
    "del train_emb, test_emb; gc.collect()"
   ]
  },
  {
   "cell_type": "code",
   "execution_count": 9,
   "metadata": {},
   "outputs": [],
   "source": [
    "X_train, y_train = train.drop(cfg.TARGET, axis=1), train[cfg.TARGET]"
   ]
  },
  {
   "cell_type": "code",
   "execution_count": 10,
   "metadata": {},
   "outputs": [],
   "source": [
    "pred_proba_oof = pd.DataFrame(data=np.zeros(shape=(len(train), len(CLASSES))), index=train.index, columns=CLASSES)\n",
    "pred_proba_test = pd.DataFrame(data=np.zeros(shape=(len(test), len(CLASSES))), index=test.index, columns=CLASSES)"
   ]
  },
  {
   "cell_type": "code",
   "execution_count": 11,
   "metadata": {},
   "outputs": [],
   "source": [
    "text_processing_options = {\n",
    "        \"tokenizers\" : [{\n",
    "            \"tokenizer_id\" : \"Sense\",\n",
    "            \"lowercasing\" : \"true\",\n",
    "            'separator_type': 'BySense'\n",
    "        }],\n",
    "\n",
    "        \"dictionaries\" : [{\n",
    "            \"dictionary_id\" : \"1-GramWord\",\n",
    "            \"token_level_type\": \"Word\",\n",
    "            \"gram_order\" : \"1\"\n",
    "        },{\n",
    "            \"dictionary_id\" : \"2-GramWord\",\n",
    "            \"token_level_type\": \"Word\",\n",
    "            \"gram_order\" : \"2\"\n",
    "        },{\n",
    "            \"dictionary_id\" : \"3-GramWord\",\n",
    "            \"token_level_type\": \"Word\",\n",
    "            \"gram_order\" : \"3\"\n",
    "        },{\n",
    "            \"dictionary_id\" : \"1-GramLetter\",\n",
    "            \"token_level_type\": \"Letter\",\n",
    "            \"gram_order\" : \"1\"\n",
    "        },{\n",
    "            \"dictionary_id\" : \"2-GramLetter\",\n",
    "            \"token_level_type\": \"Letter\",\n",
    "            \"gram_order\" : \"2\"\n",
    "        },{\n",
    "            \"dictionary_id\" : \"3-GramLetter\",\n",
    "            \"token_level_type\": \"Letter\",\n",
    "            \"gram_order\" : \"3\"\n",
    "        },{\n",
    "            \"dictionary_id\" : \"4-GramLetter\",\n",
    "            \"token_level_type\": \"Letter\",\n",
    "            \"gram_order\" : \"4\"\n",
    "        },{\n",
    "            \"dictionary_id\" : \"5-GramLetter\",\n",
    "            \"token_level_type\": \"Letter\",\n",
    "            \"gram_order\" : \"5\"\n",
    "        }],\n",
    "\n",
    "        \"feature_processing\" : {\n",
    "            \"default\" : [{\n",
    "                \"dictionaries_names\" : [\n",
    "                    \"1-GramWord\", \"2-GramWord\", \"3-GramWord\", \n",
    "                    \"1-GramLetter\", \"2-GramLetter\", \"3-GramLetter\", \"4-GramLetter\", \"5-GramLetter\"],\n",
    "                \"feature_calcers\" : [\"BoW\", \"NaiveBayes\", \"BM25\"],\n",
    "                \"tokenizers_names\" : [\"Sense\"]\n",
    "            }]\n",
    "        }\n",
    "    }"
   ]
  },
  {
   "cell_type": "code",
   "execution_count": 12,
   "metadata": {},
   "outputs": [],
   "source": [
    "leak_test = pd.read_pickle(os.path.join(cfg.DATA_PATH, 'test_leak.pkl'))\n",
    "leak_mask = leak_test.notnull()"
   ]
  },
  {
   "cell_type": "code",
   "execution_count": 13,
   "metadata": {},
   "outputs": [
    {
     "data": {
      "application/vnd.jupyter.widget-view+json": {
       "model_id": "ab578a3b98a747e38432a1d842ebb459",
       "version_major": 2,
       "version_minor": 0
      },
      "text/plain": [
       "  0%|          | 0/5 [00:00<?, ?it/s]"
      ]
     },
     "metadata": {},
     "output_type": "display_data"
    },
    {
     "name": "stderr",
     "output_type": "stream",
     "text": [
      "/home/as/miniconda3/envs/tf/lib/python3.9/site-packages/sklearn/model_selection/_split.py:680: UserWarning: The least populated class in y has only 1 members, which is less than n_splits=5.\n",
      "  warnings.warn(\n"
     ]
    },
    {
     "data": {
      "application/vnd.jupyter.widget-view+json": {
       "model_id": "3f18cd0d64d54097b1c910ea10c21a17",
       "version_major": 2,
       "version_minor": 0
      },
      "text/plain": [
       "  0%|          | 0/1 [00:00<?, ?it/s]"
      ]
     },
     "metadata": {},
     "output_type": "display_data"
    },
    {
     "name": "stderr",
     "output_type": "stream",
     "text": [
      "There are invalid params and some of them will be ignored.\n",
      "Parameter {\"train_final_model\":true} is ignored, because it cannot be parsed.\n",
      "Parameter {\"num_features_to_select\":500} is ignored, because it cannot be parsed.\n",
      "Parameter {\"features_for_select\":\"Текст Сообщения,smaller_LaBSE_15lang_0,smaller_LaBSE_15lang_1,smaller_LaBSE_15lang_2,smaller_LaBSE_15lang_3,smaller_LaBSE_15lang_4,smaller_LaBSE_15lang_5,smaller_LaBSE_15lang_6,smaller_LaBSE_15lang_7,smaller_LaBSE_15lang_8,smaller_LaBSE_15lang_9,smaller_LaBSE_15lang_10,smaller_LaBSE_15lang_11,smaller_LaBSE_15lang_12,smaller_LaBSE_15lang_13,smaller_LaBSE_15lang_14,smaller_LaBSE_15lang_15,smaller_LaBSE_15lang_16,smaller_LaBSE_15lang_17,smaller_LaBSE_15lang_18,smaller_LaBSE_15lang_19,smaller_LaBSE_15lang_20,smaller_LaBSE_15lang_21,smaller_LaBSE_15lang_22,smaller_LaBSE_15lang_23,smaller_LaBSE_15lang_24,smaller_LaBSE_15lang_25,smaller_LaBSE_15lang_26,smaller_LaBSE_15lang_27,smaller_LaBSE_15lang_28,smaller_LaBSE_15lang_29,smaller_LaBSE_15lang_30,smaller_LaBSE_15lang_31,smaller_LaBSE_15lang_32,smaller_LaBSE_15lang_33,smaller_LaBSE_15lang_34,smaller_LaBSE_15lang_35,smaller_LaBSE_15lang_36,smaller_LaBSE_15lang_37,smaller_LaBSE_15lang_38,smaller_LaBSE_15lang_39,smaller_LaBSE_15lang_40,smaller_LaBSE_15lang_41,smaller_LaBSE_15lang_42,smaller_LaBSE_15lang_43,smaller_LaBSE_15lang_44,smaller_LaBSE_15lang_45,smaller_LaBSE_15lang_46,smaller_LaBSE_15lang_47,smaller_LaBSE_15lang_48,smaller_LaBSE_15lang_49,smaller_LaBSE_15lang_50,smaller_LaBSE_15lang_51,smaller_LaBSE_15lang_52,smaller_LaBSE_15lang_53,smaller_LaBSE_15lang_54,smaller_LaBSE_15lang_55,smaller_LaBSE_15lang_56,smaller_LaBSE_15lang_57,smaller_LaBSE_15lang_58,smaller_LaBSE_15lang_59,smaller_LaBSE_15lang_60,smaller_LaBSE_15lang_61,smaller_LaBSE_15lang_62,smaller_LaBSE_15lang_63,smaller_LaBSE_15lang_64,smaller_LaBSE_15lang_65,smaller_LaBSE_15lang_66,smaller_LaBSE_15lang_67,smaller_LaBSE_15lang_68,smaller_LaBSE_15lang_69,smaller_LaBSE_15lang_70,smaller_LaBSE_15lang_71,smaller_LaBSE_15lang_72,smaller_LaBSE_15lang_73,smaller_LaBSE_15lang_74,smaller_LaBSE_15lang_75,smaller_LaBSE_15lang_76,smaller_LaBSE_15lang_77,smaller_LaBSE_15lang_78,smaller_LaBSE_15lang_79,smaller_LaBSE_15lang_80,smaller_LaBSE_15lang_81,smaller_LaBSE_15lang_82,smaller_LaBSE_15lang_83,smaller_LaBSE_15lang_84,smaller_LaBSE_15lang_85,smaller_LaBSE_15lang_86,smaller_LaBSE_15lang_87,smaller_LaBSE_15lang_88,smaller_LaBSE_15lang_89,smaller_LaBSE_15lang_90,smaller_LaBSE_15lang_91,smaller_LaBSE_15lang_92,smaller_LaBSE_15lang_93,smaller_LaBSE_15lang_94,smaller_LaBSE_15lang_95,smaller_LaBSE_15lang_96,smaller_LaBSE_15lang_97,smaller_LaBSE_15lang_98,smaller_LaBSE_15lang_99,smaller_LaBSE_15lang_100,smaller_LaBSE_15lang_101,smaller_LaBSE_15lang_102,smaller_LaBSE_15lang_103,smaller_LaBSE_15lang_104,smaller_LaBSE_15lang_105,smaller_LaBSE_15lang_106,smaller_LaBSE_15lang_107,smaller_LaBSE_15lang_108,smaller_LaBSE_15lang_109,smaller_LaBSE_15lang_110,smaller_LaBSE_15lang_111,smaller_LaBSE_15lang_112,smaller_LaBSE_15lang_113,smaller_LaBSE_15lang_114,smaller_LaBSE_15lang_115,smaller_LaBSE_15lang_116,smaller_LaBSE_15lang_117,smaller_LaBSE_15lang_118,smaller_LaBSE_15lang_119,smaller_LaBSE_15lang_120,smaller_LaBSE_15lang_121,smaller_LaBSE_15lang_122,smaller_LaBSE_15lang_123,smaller_LaBSE_15lang_124,smaller_LaBSE_15lang_125,smaller_LaBSE_15lang_126,smaller_LaBSE_15lang_127,smaller_LaBSE_15lang_128,smaller_LaBSE_15lang_129,smaller_LaBSE_15lang_130,smaller_LaBSE_15lang_131,smaller_LaBSE_15lang_132,smaller_LaBSE_15lang_133,smaller_LaBSE_15lang_134,smaller_LaBSE_15lang_135,smaller_LaBSE_15lang_136,smaller_LaBSE_15lang_137,smaller_LaBSE_15lang_138,smaller_LaBSE_15lang_139,smaller_LaBSE_15lang_140,smaller_LaBSE_15lang_141,smaller_LaBSE_15lang_142,smaller_LaBSE_15lang_143,smaller_LaBSE_15lang_144,smaller_LaBSE_15lang_145,smaller_LaBSE_15lang_146,smaller_LaBSE_15lang_147,smaller_LaBSE_15lang_148,smaller_LaBSE_15lang_149,smaller_LaBSE_15lang_150,smaller_LaBSE_15lang_151,smaller_LaBSE_15lang_152,smaller_LaBSE_15lang_153,smaller_LaBSE_15lang_154,smaller_LaBSE_15lang_155,smaller_LaBSE_15lang_156,smaller_LaBSE_15lang_157,smaller_LaBSE_15lang_158,smaller_LaBSE_15lang_159,smaller_LaBSE_15lang_160,smaller_LaBSE_15lang_161,smaller_LaBSE_15lang_162,smaller_LaBSE_15lang_163,smaller_LaBSE_15lang_164,smaller_LaBSE_15lang_165,smaller_LaBSE_15lang_166,smaller_LaBSE_15lang_167,smaller_LaBSE_15lang_168,smaller_LaBSE_15lang_169,smaller_LaBSE_15lang_170,smaller_LaBSE_15lang_171,smaller_LaBSE_15lang_172,smaller_LaBSE_15lang_173,smaller_LaBSE_15lang_174,smaller_LaBSE_15lang_175,smaller_LaBSE_15lang_176,smaller_LaBSE_15lang_177,smaller_LaBSE_15lang_178,smaller_LaBSE_15lang_179,smaller_LaBSE_15lang_180,smaller_LaBSE_15lang_181,smaller_LaBSE_15lang_182,smaller_LaBSE_15lang_183,smaller_LaBSE_15lang_184,smaller_LaBSE_15lang_185,smaller_LaBSE_15lang_186,smaller_LaBSE_15lang_187,smaller_LaBSE_15lang_188,smaller_LaBSE_15lang_189,smaller_LaBSE_15lang_190,smaller_LaBSE_15lang_191,smaller_LaBSE_15lang_192,smaller_LaBSE_15lang_193,smaller_LaBSE_15lang_194,smaller_LaBSE_15lang_195,smaller_LaBSE_15lang_196,smaller_LaBSE_15lang_197,smaller_LaBSE_15lang_198,smaller_LaBSE_15lang_199,smaller_LaBSE_15lang_200,smaller_LaBSE_15lang_201,smaller_LaBSE_15lang_202,smaller_LaBSE_15lang_203,smaller_LaBSE_15lang_204,smaller_LaBSE_15lang_205,smaller_LaBSE_15lang_206,smaller_LaBSE_15lang_207,smaller_LaBSE_15lang_208,smaller_LaBSE_15lang_209,smaller_LaBSE_15lang_210,smaller_LaBSE_15lang_211,smaller_LaBSE_15lang_212,smaller_LaBSE_15lang_213,smaller_LaBSE_15lang_214,smaller_LaBSE_15lang_215,smaller_LaBSE_15lang_216,smaller_LaBSE_15lang_217,smaller_LaBSE_15lang_218,smaller_LaBSE_15lang_219,smaller_LaBSE_15lang_220,smaller_LaBSE_15lang_221,smaller_LaBSE_15lang_222,smaller_LaBSE_15lang_223,smaller_LaBSE_15lang_224,smaller_LaBSE_15lang_225,smaller_LaBSE_15lang_226,smaller_LaBSE_15lang_227,smaller_LaBSE_15lang_228,smaller_LaBSE_15lang_229,smaller_LaBSE_15lang_230,smaller_LaBSE_15lang_231,smaller_LaBSE_15lang_232,smaller_LaBSE_15lang_233,smaller_LaBSE_15lang_234,smaller_LaBSE_15lang_235,smaller_LaBSE_15lang_236,smaller_LaBSE_15lang_237,smaller_LaBSE_15lang_238,smaller_LaBSE_15lang_239,smaller_LaBSE_15lang_240,smaller_LaBSE_15lang_241,smaller_LaBSE_15lang_242,smaller_LaBSE_15lang_243,smaller_LaBSE_15lang_244,smaller_LaBSE_15lang_245,smaller_LaBSE_15lang_246,smaller_LaBSE_15lang_247,smaller_LaBSE_15lang_248,smaller_LaBSE_15lang_249,smaller_LaBSE_15lang_250,smaller_LaBSE_15lang_251,smaller_LaBSE_15lang_252,smaller_LaBSE_15lang_253,smaller_LaBSE_15lang_254,smaller_LaBSE_15lang_255,smaller_LaBSE_15lang_256,smaller_LaBSE_15lang_257,smaller_LaBSE_15lang_258,smaller_LaBSE_15lang_259,smaller_LaBSE_15lang_260,smaller_LaBSE_15lang_261,smaller_LaBSE_15lang_262,smaller_LaBSE_15lang_263,smaller_LaBSE_15lang_264,smaller_LaBSE_15lang_265,smaller_LaBSE_15lang_266,smaller_LaBSE_15lang_267,smaller_LaBSE_15lang_268,smaller_LaBSE_15lang_269,smaller_LaBSE_15lang_270,smaller_LaBSE_15lang_271,smaller_LaBSE_15lang_272,smaller_LaBSE_15lang_273,smaller_LaBSE_15lang_274,smaller_LaBSE_15lang_275,smaller_LaBSE_15lang_276,smaller_LaBSE_15lang_277,smaller_LaBSE_15lang_278,smaller_LaBSE_15lang_279,smaller_LaBSE_15lang_280,smaller_LaBSE_15lang_281,smaller_LaBSE_15lang_282,smaller_LaBSE_15lang_283,smaller_LaBSE_15lang_284,smaller_LaBSE_15lang_285,smaller_LaBSE_15lang_286,smaller_LaBSE_15lang_287,smaller_LaBSE_15lang_288,smaller_LaBSE_15lang_289,smaller_LaBSE_15lang_290,smaller_LaBSE_15lang_291,smaller_LaBSE_15lang_292,smaller_LaBSE_15lang_293,smaller_LaBSE_15lang_294,smaller_LaBSE_15lang_295,smaller_LaBSE_15lang_296,smaller_LaBSE_15lang_297,smaller_LaBSE_15lang_298,smaller_LaBSE_15lang_299,smaller_LaBSE_15lang_300,smaller_LaBSE_15lang_301,smaller_LaBSE_15lang_302,smaller_LaBSE_15lang_303,smaller_LaBSE_15lang_304,smaller_LaBSE_15lang_305,smaller_LaBSE_15lang_306,smaller_LaBSE_15lang_307,smaller_LaBSE_15lang_308,smaller_LaBSE_15lang_309,smaller_LaBSE_15lang_310,smaller_LaBSE_15lang_311,smaller_LaBSE_15lang_312,smaller_LaBSE_15lang_313,smaller_LaBSE_15lang_314,smaller_LaBSE_15lang_315,smaller_LaBSE_15lang_316,smaller_LaBSE_15lang_317,smaller_LaBSE_15lang_318,smaller_LaBSE_15lang_319,smaller_LaBSE_15lang_320,smaller_LaBSE_15lang_321,smaller_LaBSE_15lang_322,smaller_LaBSE_15lang_323,smaller_LaBSE_15lang_324,smaller_LaBSE_15lang_325,smaller_LaBSE_15lang_326,smaller_LaBSE_15lang_327,smaller_LaBSE_15lang_328,smaller_LaBSE_15lang_329,smaller_LaBSE_15lang_330,smaller_LaBSE_15lang_331,smaller_LaBSE_15lang_332,smaller_LaBSE_15lang_333,smaller_LaBSE_15lang_334,smaller_LaBSE_15lang_335,smaller_LaBSE_15lang_336,smaller_LaBSE_15lang_337,smaller_LaBSE_15lang_338,smaller_LaBSE_15lang_339,smaller_LaBSE_15lang_340,smaller_LaBSE_15lang_341,smaller_LaBSE_15lang_342,smaller_LaBSE_15lang_343,smaller_LaBSE_15lang_344,smaller_LaBSE_15lang_345,smaller_LaBSE_15lang_346,smaller_LaBSE_15lang_347,smaller_LaBSE_15lang_348,smaller_LaBSE_15lang_349,smaller_LaBSE_15lang_350,smaller_LaBSE_15lang_351,smaller_LaBSE_15lang_352,smaller_LaBSE_15lang_353,smaller_LaBSE_15lang_354,smaller_LaBSE_15lang_355,smaller_LaBSE_15lang_356,smaller_LaBSE_15lang_357,smaller_LaBSE_15lang_358,smaller_LaBSE_15lang_359,smaller_LaBSE_15lang_360,smaller_LaBSE_15lang_361,smaller_LaBSE_15lang_362,smaller_LaBSE_15lang_363,smaller_LaBSE_15lang_364,smaller_LaBSE_15lang_365,smaller_LaBSE_15lang_366,smaller_LaBSE_15lang_367,smaller_LaBSE_15lang_368,smaller_LaBSE_15lang_369,smaller_LaBSE_15lang_370,smaller_LaBSE_15lang_371,smaller_LaBSE_15lang_372,smaller_LaBSE_15lang_373,smaller_LaBSE_15lang_374,smaller_LaBSE_15lang_375,smaller_LaBSE_15lang_376,smaller_LaBSE_15lang_377,smaller_LaBSE_15lang_378,smaller_LaBSE_15lang_379,smaller_LaBSE_15lang_380,smaller_LaBSE_15lang_381,smaller_LaBSE_15lang_382,smaller_LaBSE_15lang_383,smaller_LaBSE_15lang_384,smaller_LaBSE_15lang_385,smaller_LaBSE_15lang_386,smaller_LaBSE_15lang_387,smaller_LaBSE_15lang_388,smaller_LaBSE_15lang_389,smaller_LaBSE_15lang_390,smaller_LaBSE_15lang_391,smaller_LaBSE_15lang_392,smaller_LaBSE_15lang_393,smaller_LaBSE_15lang_394,smaller_LaBSE_15lang_395,smaller_LaBSE_15lang_396,smaller_LaBSE_15lang_397,smaller_LaBSE_15lang_398,smaller_LaBSE_15lang_399,smaller_LaBSE_15lang_400,smaller_LaBSE_15lang_401,smaller_LaBSE_15lang_402,smaller_LaBSE_15lang_403,smaller_LaBSE_15lang_404,smaller_LaBSE_15lang_405,smaller_LaBSE_15lang_406,smaller_LaBSE_15lang_407,smaller_LaBSE_15lang_408,smaller_LaBSE_15lang_409,smaller_LaBSE_15lang_410,smaller_LaBSE_15lang_411,smaller_LaBSE_15lang_412,smaller_LaBSE_15lang_413,smaller_LaBSE_15lang_414,smaller_LaBSE_15lang_415,smaller_LaBSE_15lang_416,smaller_LaBSE_15lang_417,smaller_LaBSE_15lang_418,smaller_LaBSE_15lang_419,smaller_LaBSE_15lang_420,smaller_LaBSE_15lang_421,smaller_LaBSE_15lang_422,smaller_LaBSE_15lang_423,smaller_LaBSE_15lang_424,smaller_LaBSE_15lang_425,smaller_LaBSE_15lang_426,smaller_LaBSE_15lang_427,smaller_LaBSE_15lang_428,smaller_LaBSE_15lang_429,smaller_LaBSE_15lang_430,smaller_LaBSE_15lang_431,smaller_LaBSE_15lang_432,smaller_LaBSE_15lang_433,smaller_LaBSE_15lang_434,smaller_LaBSE_15lang_435,smaller_LaBSE_15lang_436,smaller_LaBSE_15lang_437,smaller_LaBSE_15lang_438,smaller_LaBSE_15lang_439,smaller_LaBSE_15lang_440,smaller_LaBSE_15lang_441,smaller_LaBSE_15lang_442,smaller_LaBSE_15lang_443,smaller_LaBSE_15lang_444,smaller_LaBSE_15lang_445,smaller_LaBSE_15lang_446,smaller_LaBSE_15lang_447,smaller_LaBSE_15lang_448,smaller_LaBSE_15lang_449,smaller_LaBSE_15lang_450,smaller_LaBSE_15lang_451,smaller_LaBSE_15lang_452,smaller_LaBSE_15lang_453,smaller_LaBSE_15lang_454,smaller_LaBSE_15lang_455,smaller_LaBSE_15lang_456,smaller_LaBSE_15lang_457,smaller_LaBSE_15lang_458,smaller_LaBSE_15lang_459,smaller_LaBSE_15lang_460,smaller_LaBSE_15lang_461,smaller_LaBSE_15lang_462,smaller_LaBSE_15lang_463,smaller_LaBSE_15lang_464,smaller_LaBSE_15lang_465,smaller_LaBSE_15lang_466,smaller_LaBSE_15lang_467,smaller_LaBSE_15lang_468,smaller_LaBSE_15lang_469,smaller_LaBSE_15lang_470,smaller_LaBSE_15lang_471,smaller_LaBSE_15lang_472,smaller_LaBSE_15lang_473,smaller_LaBSE_15lang_474,smaller_LaBSE_15lang_475,smaller_LaBSE_15lang_476,smaller_LaBSE_15lang_477,smaller_LaBSE_15lang_478,smaller_LaBSE_15lang_479,smaller_LaBSE_15lang_480,smaller_LaBSE_15lang_481,smaller_LaBSE_15lang_482,smaller_LaBSE_15lang_483,smaller_LaBSE_15lang_484,smaller_LaBSE_15lang_485,smaller_LaBSE_15lang_486,smaller_LaBSE_15lang_487,smaller_LaBSE_15lang_488,smaller_LaBSE_15lang_489,smaller_LaBSE_15lang_490,smaller_LaBSE_15lang_491,smaller_LaBSE_15lang_492,smaller_LaBSE_15lang_493,smaller_LaBSE_15lang_494,smaller_LaBSE_15lang_495,smaller_LaBSE_15lang_496,smaller_LaBSE_15lang_497,smaller_LaBSE_15lang_498,smaller_LaBSE_15lang_499,smaller_LaBSE_15lang_500,smaller_LaBSE_15lang_501,smaller_LaBSE_15lang_502,smaller_LaBSE_15lang_503,smaller_LaBSE_15lang_504,smaller_LaBSE_15lang_505,smaller_LaBSE_15lang_506,smaller_LaBSE_15lang_507,smaller_LaBSE_15lang_508,smaller_LaBSE_15lang_509,smaller_LaBSE_15lang_510,smaller_LaBSE_15lang_511,smaller_LaBSE_15lang_512,smaller_LaBSE_15lang_513,smaller_LaBSE_15lang_514,smaller_LaBSE_15lang_515,smaller_LaBSE_15lang_516,smaller_LaBSE_15lang_517,smaller_LaBSE_15lang_518,smaller_LaBSE_15lang_519,smaller_LaBSE_15lang_520,smaller_LaBSE_15lang_521,smaller_LaBSE_15lang_522,smaller_LaBSE_15lang_523,smaller_LaBSE_15lang_524,smaller_LaBSE_15lang_525,smaller_LaBSE_15lang_526,smaller_LaBSE_15lang_527,smaller_LaBSE_15lang_528,smaller_LaBSE_15lang_529,smaller_LaBSE_15lang_530,smaller_LaBSE_15lang_531,smaller_LaBSE_15lang_532,smaller_LaBSE_15lang_533,smaller_LaBSE_15lang_534,smaller_LaBSE_15lang_535,smaller_LaBSE_15lang_536,smaller_LaBSE_15lang_537,smaller_LaBSE_15lang_538,smaller_LaBSE_15lang_539,smaller_LaBSE_15lang_540,smaller_LaBSE_15lang_541,smaller_LaBSE_15lang_542,smaller_LaBSE_15lang_543,smaller_LaBSE_15lang_544,smaller_LaBSE_15lang_545,smaller_LaBSE_15lang_546,smaller_LaBSE_15lang_547,smaller_LaBSE_15lang_548,smaller_LaBSE_15lang_549,smaller_LaBSE_15lang_550,smaller_LaBSE_15lang_551,smaller_LaBSE_15lang_552,smaller_LaBSE_15lang_553,smaller_LaBSE_15lang_554,smaller_LaBSE_15lang_555,smaller_LaBSE_15lang_556,smaller_LaBSE_15lang_557,smaller_LaBSE_15lang_558,smaller_LaBSE_15lang_559,smaller_LaBSE_15lang_560,smaller_LaBSE_15lang_561,smaller_LaBSE_15lang_562,smaller_LaBSE_15lang_563,smaller_LaBSE_15lang_564,smaller_LaBSE_15lang_565,smaller_LaBSE_15lang_566,smaller_LaBSE_15lang_567,smaller_LaBSE_15lang_568,smaller_LaBSE_15lang_569,smaller_LaBSE_15lang_570,smaller_LaBSE_15lang_571,smaller_LaBSE_15lang_572,smaller_LaBSE_15lang_573,smaller_LaBSE_15lang_574,smaller_LaBSE_15lang_575,smaller_LaBSE_15lang_576,smaller_LaBSE_15lang_577,smaller_LaBSE_15lang_578,smaller_LaBSE_15lang_579,smaller_LaBSE_15lang_580,smaller_LaBSE_15lang_581,smaller_LaBSE_15lang_582,smaller_LaBSE_15lang_583,smaller_LaBSE_15lang_584,smaller_LaBSE_15lang_585,smaller_LaBSE_15lang_586,smaller_LaBSE_15lang_587,smaller_LaBSE_15lang_588,smaller_LaBSE_15lang_589,smaller_LaBSE_15lang_590,smaller_LaBSE_15lang_591,smaller_LaBSE_15lang_592,smaller_LaBSE_15lang_593,smaller_LaBSE_15lang_594,smaller_LaBSE_15lang_595,smaller_LaBSE_15lang_596,smaller_LaBSE_15lang_597,smaller_LaBSE_15lang_598,smaller_LaBSE_15lang_599,smaller_LaBSE_15lang_600,smaller_LaBSE_15lang_601,smaller_LaBSE_15lang_602,smaller_LaBSE_15lang_603,smaller_LaBSE_15lang_604,smaller_LaBSE_15lang_605,smaller_LaBSE_15lang_606,smaller_LaBSE_15lang_607,smaller_LaBSE_15lang_608,smaller_LaBSE_15lang_609,smaller_LaBSE_15lang_610,smaller_LaBSE_15lang_611,smaller_LaBSE_15lang_612,smaller_LaBSE_15lang_613,smaller_LaBSE_15lang_614,smaller_LaBSE_15lang_615,smaller_LaBSE_15lang_616,smaller_LaBSE_15lang_617,smaller_LaBSE_15lang_618,smaller_LaBSE_15lang_619,smaller_LaBSE_15lang_620,smaller_LaBSE_15lang_621,smaller_LaBSE_15lang_622,smaller_LaBSE_15lang_623,smaller_LaBSE_15lang_624,smaller_LaBSE_15lang_625,smaller_LaBSE_15lang_626,smaller_LaBSE_15lang_627,smaller_LaBSE_15lang_628,smaller_LaBSE_15lang_629,smaller_LaBSE_15lang_630,smaller_LaBSE_15lang_631,smaller_LaBSE_15lang_632,smaller_LaBSE_15lang_633,smaller_LaBSE_15lang_634,smaller_LaBSE_15lang_635,smaller_LaBSE_15lang_636,smaller_LaBSE_15lang_637,smaller_LaBSE_15lang_638,smaller_LaBSE_15lang_639,smaller_LaBSE_15lang_640,smaller_LaBSE_15lang_641,smaller_LaBSE_15lang_642,smaller_LaBSE_15lang_643,smaller_LaBSE_15lang_644,smaller_LaBSE_15lang_645,smaller_LaBSE_15lang_646,smaller_LaBSE_15lang_647,smaller_LaBSE_15lang_648,smaller_LaBSE_15lang_649,smaller_LaBSE_15lang_650,smaller_LaBSE_15lang_651,smaller_LaBSE_15lang_652,smaller_LaBSE_15lang_653,smaller_LaBSE_15lang_654,smaller_LaBSE_15lang_655,smaller_LaBSE_15lang_656,smaller_LaBSE_15lang_657,smaller_LaBSE_15lang_658,smaller_LaBSE_15lang_659,smaller_LaBSE_15lang_660,smaller_LaBSE_15lang_661,smaller_LaBSE_15lang_662,smaller_LaBSE_15lang_663,smaller_LaBSE_15lang_664,smaller_LaBSE_15lang_665,smaller_LaBSE_15lang_666,smaller_LaBSE_15lang_667,smaller_LaBSE_15lang_668,smaller_LaBSE_15lang_669,smaller_LaBSE_15lang_670,smaller_LaBSE_15lang_671,smaller_LaBSE_15lang_672,smaller_LaBSE_15lang_673,smaller_LaBSE_15lang_674,smaller_LaBSE_15lang_675,smaller_LaBSE_15lang_676,smaller_LaBSE_15lang_677,smaller_LaBSE_15lang_678,smaller_LaBSE_15lang_679,smaller_LaBSE_15lang_680,smaller_LaBSE_15lang_681,smaller_LaBSE_15lang_682,smaller_LaBSE_15lang_683,smaller_LaBSE_15lang_684,smaller_LaBSE_15lang_685,smaller_LaBSE_15lang_686,smaller_LaBSE_15lang_687,smaller_LaBSE_15lang_688,smaller_LaBSE_15lang_689,smaller_LaBSE_15lang_690,smaller_LaBSE_15lang_691,smaller_LaBSE_15lang_692,smaller_LaBSE_15lang_693,smaller_LaBSE_15lang_694,smaller_LaBSE_15lang_695,smaller_LaBSE_15lang_696,smaller_LaBSE_15lang_697,smaller_LaBSE_15lang_698,smaller_LaBSE_15lang_699,smaller_LaBSE_15lang_700,smaller_LaBSE_15lang_701,smaller_LaBSE_15lang_702,smaller_LaBSE_15lang_703,smaller_LaBSE_15lang_704,smaller_LaBSE_15lang_705,smaller_LaBSE_15lang_706,smaller_LaBSE_15lang_707,smaller_LaBSE_15lang_708,smaller_LaBSE_15lang_709,smaller_LaBSE_15lang_710,smaller_LaBSE_15lang_711,smaller_LaBSE_15lang_712,smaller_LaBSE_15lang_713,smaller_LaBSE_15lang_714,smaller_LaBSE_15lang_715,smaller_LaBSE_15lang_716,smaller_LaBSE_15lang_717,smaller_LaBSE_15lang_718,smaller_LaBSE_15lang_719,smaller_LaBSE_15lang_720,smaller_LaBSE_15lang_721,smaller_LaBSE_15lang_722,smaller_LaBSE_15lang_723,smaller_LaBSE_15lang_724,smaller_LaBSE_15lang_725,smaller_LaBSE_15lang_726,smaller_LaBSE_15lang_727,smaller_LaBSE_15lang_728,smaller_LaBSE_15lang_729,smaller_LaBSE_15lang_730,smaller_LaBSE_15lang_731,smaller_LaBSE_15lang_732,smaller_LaBSE_15lang_733,smaller_LaBSE_15lang_734,smaller_LaBSE_15lang_735,smaller_LaBSE_15lang_736,smaller_LaBSE_15lang_737,smaller_LaBSE_15lang_738,smaller_LaBSE_15lang_739,smaller_LaBSE_15lang_740,smaller_LaBSE_15lang_741,smaller_LaBSE_15lang_742,smaller_LaBSE_15lang_743,smaller_LaBSE_15lang_744,smaller_LaBSE_15lang_745,smaller_LaBSE_15lang_746,smaller_LaBSE_15lang_747,smaller_LaBSE_15lang_748,smaller_LaBSE_15lang_749,smaller_LaBSE_15lang_750,smaller_LaBSE_15lang_751,smaller_LaBSE_15lang_752,smaller_LaBSE_15lang_753,smaller_LaBSE_15lang_754,smaller_LaBSE_15lang_755,smaller_LaBSE_15lang_756,smaller_LaBSE_15lang_757,smaller_LaBSE_15lang_758,smaller_LaBSE_15lang_759,smaller_LaBSE_15lang_760,smaller_LaBSE_15lang_761,smaller_LaBSE_15lang_762,smaller_LaBSE_15lang_763,smaller_LaBSE_15lang_764,smaller_LaBSE_15lang_765,smaller_LaBSE_15lang_766,smaller_LaBSE_15lang_767\"} is ignored, because it cannot be parsed.\n",
      "Parameter {\"features_selection_steps\":1} is ignored, because it cannot be parsed.\n",
      "Parameter {\"classes_count\":17} is ignored, because it cannot be parsed.\n"
     ]
    },
    {
     "name": "stdout",
     "output_type": "stream",
     "text": [
      "train auc 0.9999998234079165 val auc 0.8417047000047655\n",
      "leak_test_auc_score 0.8268383029189277\n"
     ]
    },
    {
     "data": {
      "application/vnd.jupyter.widget-view+json": {
       "model_id": "999e4a2e26b54d4aa16cda54760f839c",
       "version_major": 2,
       "version_minor": 0
      },
      "text/plain": [
       "  0%|          | 0/1 [00:00<?, ?it/s]"
      ]
     },
     "metadata": {},
     "output_type": "display_data"
    },
    {
     "name": "stderr",
     "output_type": "stream",
     "text": [
      "There are invalid params and some of them will be ignored.\n",
      "Parameter {\"train_final_model\":true} is ignored, because it cannot be parsed.\n",
      "Parameter {\"num_features_to_select\":500} is ignored, because it cannot be parsed.\n",
      "Parameter {\"features_for_select\":\"Текст Сообщения,smaller_LaBSE_15lang_0,smaller_LaBSE_15lang_1,smaller_LaBSE_15lang_2,smaller_LaBSE_15lang_3,smaller_LaBSE_15lang_4,smaller_LaBSE_15lang_5,smaller_LaBSE_15lang_6,smaller_LaBSE_15lang_7,smaller_LaBSE_15lang_8,smaller_LaBSE_15lang_9,smaller_LaBSE_15lang_10,smaller_LaBSE_15lang_11,smaller_LaBSE_15lang_12,smaller_LaBSE_15lang_13,smaller_LaBSE_15lang_14,smaller_LaBSE_15lang_15,smaller_LaBSE_15lang_16,smaller_LaBSE_15lang_17,smaller_LaBSE_15lang_18,smaller_LaBSE_15lang_19,smaller_LaBSE_15lang_20,smaller_LaBSE_15lang_21,smaller_LaBSE_15lang_22,smaller_LaBSE_15lang_23,smaller_LaBSE_15lang_24,smaller_LaBSE_15lang_25,smaller_LaBSE_15lang_26,smaller_LaBSE_15lang_27,smaller_LaBSE_15lang_28,smaller_LaBSE_15lang_29,smaller_LaBSE_15lang_30,smaller_LaBSE_15lang_31,smaller_LaBSE_15lang_32,smaller_LaBSE_15lang_33,smaller_LaBSE_15lang_34,smaller_LaBSE_15lang_35,smaller_LaBSE_15lang_36,smaller_LaBSE_15lang_37,smaller_LaBSE_15lang_38,smaller_LaBSE_15lang_39,smaller_LaBSE_15lang_40,smaller_LaBSE_15lang_41,smaller_LaBSE_15lang_42,smaller_LaBSE_15lang_43,smaller_LaBSE_15lang_44,smaller_LaBSE_15lang_45,smaller_LaBSE_15lang_46,smaller_LaBSE_15lang_47,smaller_LaBSE_15lang_48,smaller_LaBSE_15lang_49,smaller_LaBSE_15lang_50,smaller_LaBSE_15lang_51,smaller_LaBSE_15lang_52,smaller_LaBSE_15lang_53,smaller_LaBSE_15lang_54,smaller_LaBSE_15lang_55,smaller_LaBSE_15lang_56,smaller_LaBSE_15lang_57,smaller_LaBSE_15lang_58,smaller_LaBSE_15lang_59,smaller_LaBSE_15lang_60,smaller_LaBSE_15lang_61,smaller_LaBSE_15lang_62,smaller_LaBSE_15lang_63,smaller_LaBSE_15lang_64,smaller_LaBSE_15lang_65,smaller_LaBSE_15lang_66,smaller_LaBSE_15lang_67,smaller_LaBSE_15lang_68,smaller_LaBSE_15lang_69,smaller_LaBSE_15lang_70,smaller_LaBSE_15lang_71,smaller_LaBSE_15lang_72,smaller_LaBSE_15lang_73,smaller_LaBSE_15lang_74,smaller_LaBSE_15lang_75,smaller_LaBSE_15lang_76,smaller_LaBSE_15lang_77,smaller_LaBSE_15lang_78,smaller_LaBSE_15lang_79,smaller_LaBSE_15lang_80,smaller_LaBSE_15lang_81,smaller_LaBSE_15lang_82,smaller_LaBSE_15lang_83,smaller_LaBSE_15lang_84,smaller_LaBSE_15lang_85,smaller_LaBSE_15lang_86,smaller_LaBSE_15lang_87,smaller_LaBSE_15lang_88,smaller_LaBSE_15lang_89,smaller_LaBSE_15lang_90,smaller_LaBSE_15lang_91,smaller_LaBSE_15lang_92,smaller_LaBSE_15lang_93,smaller_LaBSE_15lang_94,smaller_LaBSE_15lang_95,smaller_LaBSE_15lang_96,smaller_LaBSE_15lang_97,smaller_LaBSE_15lang_98,smaller_LaBSE_15lang_99,smaller_LaBSE_15lang_100,smaller_LaBSE_15lang_101,smaller_LaBSE_15lang_102,smaller_LaBSE_15lang_103,smaller_LaBSE_15lang_104,smaller_LaBSE_15lang_105,smaller_LaBSE_15lang_106,smaller_LaBSE_15lang_107,smaller_LaBSE_15lang_108,smaller_LaBSE_15lang_109,smaller_LaBSE_15lang_110,smaller_LaBSE_15lang_111,smaller_LaBSE_15lang_112,smaller_LaBSE_15lang_113,smaller_LaBSE_15lang_114,smaller_LaBSE_15lang_115,smaller_LaBSE_15lang_116,smaller_LaBSE_15lang_117,smaller_LaBSE_15lang_118,smaller_LaBSE_15lang_119,smaller_LaBSE_15lang_120,smaller_LaBSE_15lang_121,smaller_LaBSE_15lang_122,smaller_LaBSE_15lang_123,smaller_LaBSE_15lang_124,smaller_LaBSE_15lang_125,smaller_LaBSE_15lang_126,smaller_LaBSE_15lang_127,smaller_LaBSE_15lang_128,smaller_LaBSE_15lang_129,smaller_LaBSE_15lang_130,smaller_LaBSE_15lang_131,smaller_LaBSE_15lang_132,smaller_LaBSE_15lang_133,smaller_LaBSE_15lang_134,smaller_LaBSE_15lang_135,smaller_LaBSE_15lang_136,smaller_LaBSE_15lang_137,smaller_LaBSE_15lang_138,smaller_LaBSE_15lang_139,smaller_LaBSE_15lang_140,smaller_LaBSE_15lang_141,smaller_LaBSE_15lang_142,smaller_LaBSE_15lang_143,smaller_LaBSE_15lang_144,smaller_LaBSE_15lang_145,smaller_LaBSE_15lang_146,smaller_LaBSE_15lang_147,smaller_LaBSE_15lang_148,smaller_LaBSE_15lang_149,smaller_LaBSE_15lang_150,smaller_LaBSE_15lang_151,smaller_LaBSE_15lang_152,smaller_LaBSE_15lang_153,smaller_LaBSE_15lang_154,smaller_LaBSE_15lang_155,smaller_LaBSE_15lang_156,smaller_LaBSE_15lang_157,smaller_LaBSE_15lang_158,smaller_LaBSE_15lang_159,smaller_LaBSE_15lang_160,smaller_LaBSE_15lang_161,smaller_LaBSE_15lang_162,smaller_LaBSE_15lang_163,smaller_LaBSE_15lang_164,smaller_LaBSE_15lang_165,smaller_LaBSE_15lang_166,smaller_LaBSE_15lang_167,smaller_LaBSE_15lang_168,smaller_LaBSE_15lang_169,smaller_LaBSE_15lang_170,smaller_LaBSE_15lang_171,smaller_LaBSE_15lang_172,smaller_LaBSE_15lang_173,smaller_LaBSE_15lang_174,smaller_LaBSE_15lang_175,smaller_LaBSE_15lang_176,smaller_LaBSE_15lang_177,smaller_LaBSE_15lang_178,smaller_LaBSE_15lang_179,smaller_LaBSE_15lang_180,smaller_LaBSE_15lang_181,smaller_LaBSE_15lang_182,smaller_LaBSE_15lang_183,smaller_LaBSE_15lang_184,smaller_LaBSE_15lang_185,smaller_LaBSE_15lang_186,smaller_LaBSE_15lang_187,smaller_LaBSE_15lang_188,smaller_LaBSE_15lang_189,smaller_LaBSE_15lang_190,smaller_LaBSE_15lang_191,smaller_LaBSE_15lang_192,smaller_LaBSE_15lang_193,smaller_LaBSE_15lang_194,smaller_LaBSE_15lang_195,smaller_LaBSE_15lang_196,smaller_LaBSE_15lang_197,smaller_LaBSE_15lang_198,smaller_LaBSE_15lang_199,smaller_LaBSE_15lang_200,smaller_LaBSE_15lang_201,smaller_LaBSE_15lang_202,smaller_LaBSE_15lang_203,smaller_LaBSE_15lang_204,smaller_LaBSE_15lang_205,smaller_LaBSE_15lang_206,smaller_LaBSE_15lang_207,smaller_LaBSE_15lang_208,smaller_LaBSE_15lang_209,smaller_LaBSE_15lang_210,smaller_LaBSE_15lang_211,smaller_LaBSE_15lang_212,smaller_LaBSE_15lang_213,smaller_LaBSE_15lang_214,smaller_LaBSE_15lang_215,smaller_LaBSE_15lang_216,smaller_LaBSE_15lang_217,smaller_LaBSE_15lang_218,smaller_LaBSE_15lang_219,smaller_LaBSE_15lang_220,smaller_LaBSE_15lang_221,smaller_LaBSE_15lang_222,smaller_LaBSE_15lang_223,smaller_LaBSE_15lang_224,smaller_LaBSE_15lang_225,smaller_LaBSE_15lang_226,smaller_LaBSE_15lang_227,smaller_LaBSE_15lang_228,smaller_LaBSE_15lang_229,smaller_LaBSE_15lang_230,smaller_LaBSE_15lang_231,smaller_LaBSE_15lang_232,smaller_LaBSE_15lang_233,smaller_LaBSE_15lang_234,smaller_LaBSE_15lang_235,smaller_LaBSE_15lang_236,smaller_LaBSE_15lang_237,smaller_LaBSE_15lang_238,smaller_LaBSE_15lang_239,smaller_LaBSE_15lang_240,smaller_LaBSE_15lang_241,smaller_LaBSE_15lang_242,smaller_LaBSE_15lang_243,smaller_LaBSE_15lang_244,smaller_LaBSE_15lang_245,smaller_LaBSE_15lang_246,smaller_LaBSE_15lang_247,smaller_LaBSE_15lang_248,smaller_LaBSE_15lang_249,smaller_LaBSE_15lang_250,smaller_LaBSE_15lang_251,smaller_LaBSE_15lang_252,smaller_LaBSE_15lang_253,smaller_LaBSE_15lang_254,smaller_LaBSE_15lang_255,smaller_LaBSE_15lang_256,smaller_LaBSE_15lang_257,smaller_LaBSE_15lang_258,smaller_LaBSE_15lang_259,smaller_LaBSE_15lang_260,smaller_LaBSE_15lang_261,smaller_LaBSE_15lang_262,smaller_LaBSE_15lang_263,smaller_LaBSE_15lang_264,smaller_LaBSE_15lang_265,smaller_LaBSE_15lang_266,smaller_LaBSE_15lang_267,smaller_LaBSE_15lang_268,smaller_LaBSE_15lang_269,smaller_LaBSE_15lang_270,smaller_LaBSE_15lang_271,smaller_LaBSE_15lang_272,smaller_LaBSE_15lang_273,smaller_LaBSE_15lang_274,smaller_LaBSE_15lang_275,smaller_LaBSE_15lang_276,smaller_LaBSE_15lang_277,smaller_LaBSE_15lang_278,smaller_LaBSE_15lang_279,smaller_LaBSE_15lang_280,smaller_LaBSE_15lang_281,smaller_LaBSE_15lang_282,smaller_LaBSE_15lang_283,smaller_LaBSE_15lang_284,smaller_LaBSE_15lang_285,smaller_LaBSE_15lang_286,smaller_LaBSE_15lang_287,smaller_LaBSE_15lang_288,smaller_LaBSE_15lang_289,smaller_LaBSE_15lang_290,smaller_LaBSE_15lang_291,smaller_LaBSE_15lang_292,smaller_LaBSE_15lang_293,smaller_LaBSE_15lang_294,smaller_LaBSE_15lang_295,smaller_LaBSE_15lang_296,smaller_LaBSE_15lang_297,smaller_LaBSE_15lang_298,smaller_LaBSE_15lang_299,smaller_LaBSE_15lang_300,smaller_LaBSE_15lang_301,smaller_LaBSE_15lang_302,smaller_LaBSE_15lang_303,smaller_LaBSE_15lang_304,smaller_LaBSE_15lang_305,smaller_LaBSE_15lang_306,smaller_LaBSE_15lang_307,smaller_LaBSE_15lang_308,smaller_LaBSE_15lang_309,smaller_LaBSE_15lang_310,smaller_LaBSE_15lang_311,smaller_LaBSE_15lang_312,smaller_LaBSE_15lang_313,smaller_LaBSE_15lang_314,smaller_LaBSE_15lang_315,smaller_LaBSE_15lang_316,smaller_LaBSE_15lang_317,smaller_LaBSE_15lang_318,smaller_LaBSE_15lang_319,smaller_LaBSE_15lang_320,smaller_LaBSE_15lang_321,smaller_LaBSE_15lang_322,smaller_LaBSE_15lang_323,smaller_LaBSE_15lang_324,smaller_LaBSE_15lang_325,smaller_LaBSE_15lang_326,smaller_LaBSE_15lang_327,smaller_LaBSE_15lang_328,smaller_LaBSE_15lang_329,smaller_LaBSE_15lang_330,smaller_LaBSE_15lang_331,smaller_LaBSE_15lang_332,smaller_LaBSE_15lang_333,smaller_LaBSE_15lang_334,smaller_LaBSE_15lang_335,smaller_LaBSE_15lang_336,smaller_LaBSE_15lang_337,smaller_LaBSE_15lang_338,smaller_LaBSE_15lang_339,smaller_LaBSE_15lang_340,smaller_LaBSE_15lang_341,smaller_LaBSE_15lang_342,smaller_LaBSE_15lang_343,smaller_LaBSE_15lang_344,smaller_LaBSE_15lang_345,smaller_LaBSE_15lang_346,smaller_LaBSE_15lang_347,smaller_LaBSE_15lang_348,smaller_LaBSE_15lang_349,smaller_LaBSE_15lang_350,smaller_LaBSE_15lang_351,smaller_LaBSE_15lang_352,smaller_LaBSE_15lang_353,smaller_LaBSE_15lang_354,smaller_LaBSE_15lang_355,smaller_LaBSE_15lang_356,smaller_LaBSE_15lang_357,smaller_LaBSE_15lang_358,smaller_LaBSE_15lang_359,smaller_LaBSE_15lang_360,smaller_LaBSE_15lang_361,smaller_LaBSE_15lang_362,smaller_LaBSE_15lang_363,smaller_LaBSE_15lang_364,smaller_LaBSE_15lang_365,smaller_LaBSE_15lang_366,smaller_LaBSE_15lang_367,smaller_LaBSE_15lang_368,smaller_LaBSE_15lang_369,smaller_LaBSE_15lang_370,smaller_LaBSE_15lang_371,smaller_LaBSE_15lang_372,smaller_LaBSE_15lang_373,smaller_LaBSE_15lang_374,smaller_LaBSE_15lang_375,smaller_LaBSE_15lang_376,smaller_LaBSE_15lang_377,smaller_LaBSE_15lang_378,smaller_LaBSE_15lang_379,smaller_LaBSE_15lang_380,smaller_LaBSE_15lang_381,smaller_LaBSE_15lang_382,smaller_LaBSE_15lang_383,smaller_LaBSE_15lang_384,smaller_LaBSE_15lang_385,smaller_LaBSE_15lang_386,smaller_LaBSE_15lang_387,smaller_LaBSE_15lang_388,smaller_LaBSE_15lang_389,smaller_LaBSE_15lang_390,smaller_LaBSE_15lang_391,smaller_LaBSE_15lang_392,smaller_LaBSE_15lang_393,smaller_LaBSE_15lang_394,smaller_LaBSE_15lang_395,smaller_LaBSE_15lang_396,smaller_LaBSE_15lang_397,smaller_LaBSE_15lang_398,smaller_LaBSE_15lang_399,smaller_LaBSE_15lang_400,smaller_LaBSE_15lang_401,smaller_LaBSE_15lang_402,smaller_LaBSE_15lang_403,smaller_LaBSE_15lang_404,smaller_LaBSE_15lang_405,smaller_LaBSE_15lang_406,smaller_LaBSE_15lang_407,smaller_LaBSE_15lang_408,smaller_LaBSE_15lang_409,smaller_LaBSE_15lang_410,smaller_LaBSE_15lang_411,smaller_LaBSE_15lang_412,smaller_LaBSE_15lang_413,smaller_LaBSE_15lang_414,smaller_LaBSE_15lang_415,smaller_LaBSE_15lang_416,smaller_LaBSE_15lang_417,smaller_LaBSE_15lang_418,smaller_LaBSE_15lang_419,smaller_LaBSE_15lang_420,smaller_LaBSE_15lang_421,smaller_LaBSE_15lang_422,smaller_LaBSE_15lang_423,smaller_LaBSE_15lang_424,smaller_LaBSE_15lang_425,smaller_LaBSE_15lang_426,smaller_LaBSE_15lang_427,smaller_LaBSE_15lang_428,smaller_LaBSE_15lang_429,smaller_LaBSE_15lang_430,smaller_LaBSE_15lang_431,smaller_LaBSE_15lang_432,smaller_LaBSE_15lang_433,smaller_LaBSE_15lang_434,smaller_LaBSE_15lang_435,smaller_LaBSE_15lang_436,smaller_LaBSE_15lang_437,smaller_LaBSE_15lang_438,smaller_LaBSE_15lang_439,smaller_LaBSE_15lang_440,smaller_LaBSE_15lang_441,smaller_LaBSE_15lang_442,smaller_LaBSE_15lang_443,smaller_LaBSE_15lang_444,smaller_LaBSE_15lang_445,smaller_LaBSE_15lang_446,smaller_LaBSE_15lang_447,smaller_LaBSE_15lang_448,smaller_LaBSE_15lang_449,smaller_LaBSE_15lang_450,smaller_LaBSE_15lang_451,smaller_LaBSE_15lang_452,smaller_LaBSE_15lang_453,smaller_LaBSE_15lang_454,smaller_LaBSE_15lang_455,smaller_LaBSE_15lang_456,smaller_LaBSE_15lang_457,smaller_LaBSE_15lang_458,smaller_LaBSE_15lang_459,smaller_LaBSE_15lang_460,smaller_LaBSE_15lang_461,smaller_LaBSE_15lang_462,smaller_LaBSE_15lang_463,smaller_LaBSE_15lang_464,smaller_LaBSE_15lang_465,smaller_LaBSE_15lang_466,smaller_LaBSE_15lang_467,smaller_LaBSE_15lang_468,smaller_LaBSE_15lang_469,smaller_LaBSE_15lang_470,smaller_LaBSE_15lang_471,smaller_LaBSE_15lang_472,smaller_LaBSE_15lang_473,smaller_LaBSE_15lang_474,smaller_LaBSE_15lang_475,smaller_LaBSE_15lang_476,smaller_LaBSE_15lang_477,smaller_LaBSE_15lang_478,smaller_LaBSE_15lang_479,smaller_LaBSE_15lang_480,smaller_LaBSE_15lang_481,smaller_LaBSE_15lang_482,smaller_LaBSE_15lang_483,smaller_LaBSE_15lang_484,smaller_LaBSE_15lang_485,smaller_LaBSE_15lang_486,smaller_LaBSE_15lang_487,smaller_LaBSE_15lang_488,smaller_LaBSE_15lang_489,smaller_LaBSE_15lang_490,smaller_LaBSE_15lang_491,smaller_LaBSE_15lang_492,smaller_LaBSE_15lang_493,smaller_LaBSE_15lang_494,smaller_LaBSE_15lang_495,smaller_LaBSE_15lang_496,smaller_LaBSE_15lang_497,smaller_LaBSE_15lang_498,smaller_LaBSE_15lang_499,smaller_LaBSE_15lang_500,smaller_LaBSE_15lang_501,smaller_LaBSE_15lang_502,smaller_LaBSE_15lang_503,smaller_LaBSE_15lang_504,smaller_LaBSE_15lang_505,smaller_LaBSE_15lang_506,smaller_LaBSE_15lang_507,smaller_LaBSE_15lang_508,smaller_LaBSE_15lang_509,smaller_LaBSE_15lang_510,smaller_LaBSE_15lang_511,smaller_LaBSE_15lang_512,smaller_LaBSE_15lang_513,smaller_LaBSE_15lang_514,smaller_LaBSE_15lang_515,smaller_LaBSE_15lang_516,smaller_LaBSE_15lang_517,smaller_LaBSE_15lang_518,smaller_LaBSE_15lang_519,smaller_LaBSE_15lang_520,smaller_LaBSE_15lang_521,smaller_LaBSE_15lang_522,smaller_LaBSE_15lang_523,smaller_LaBSE_15lang_524,smaller_LaBSE_15lang_525,smaller_LaBSE_15lang_526,smaller_LaBSE_15lang_527,smaller_LaBSE_15lang_528,smaller_LaBSE_15lang_529,smaller_LaBSE_15lang_530,smaller_LaBSE_15lang_531,smaller_LaBSE_15lang_532,smaller_LaBSE_15lang_533,smaller_LaBSE_15lang_534,smaller_LaBSE_15lang_535,smaller_LaBSE_15lang_536,smaller_LaBSE_15lang_537,smaller_LaBSE_15lang_538,smaller_LaBSE_15lang_539,smaller_LaBSE_15lang_540,smaller_LaBSE_15lang_541,smaller_LaBSE_15lang_542,smaller_LaBSE_15lang_543,smaller_LaBSE_15lang_544,smaller_LaBSE_15lang_545,smaller_LaBSE_15lang_546,smaller_LaBSE_15lang_547,smaller_LaBSE_15lang_548,smaller_LaBSE_15lang_549,smaller_LaBSE_15lang_550,smaller_LaBSE_15lang_551,smaller_LaBSE_15lang_552,smaller_LaBSE_15lang_553,smaller_LaBSE_15lang_554,smaller_LaBSE_15lang_555,smaller_LaBSE_15lang_556,smaller_LaBSE_15lang_557,smaller_LaBSE_15lang_558,smaller_LaBSE_15lang_559,smaller_LaBSE_15lang_560,smaller_LaBSE_15lang_561,smaller_LaBSE_15lang_562,smaller_LaBSE_15lang_563,smaller_LaBSE_15lang_564,smaller_LaBSE_15lang_565,smaller_LaBSE_15lang_566,smaller_LaBSE_15lang_567,smaller_LaBSE_15lang_568,smaller_LaBSE_15lang_569,smaller_LaBSE_15lang_570,smaller_LaBSE_15lang_571,smaller_LaBSE_15lang_572,smaller_LaBSE_15lang_573,smaller_LaBSE_15lang_574,smaller_LaBSE_15lang_575,smaller_LaBSE_15lang_576,smaller_LaBSE_15lang_577,smaller_LaBSE_15lang_578,smaller_LaBSE_15lang_579,smaller_LaBSE_15lang_580,smaller_LaBSE_15lang_581,smaller_LaBSE_15lang_582,smaller_LaBSE_15lang_583,smaller_LaBSE_15lang_584,smaller_LaBSE_15lang_585,smaller_LaBSE_15lang_586,smaller_LaBSE_15lang_587,smaller_LaBSE_15lang_588,smaller_LaBSE_15lang_589,smaller_LaBSE_15lang_590,smaller_LaBSE_15lang_591,smaller_LaBSE_15lang_592,smaller_LaBSE_15lang_593,smaller_LaBSE_15lang_594,smaller_LaBSE_15lang_595,smaller_LaBSE_15lang_596,smaller_LaBSE_15lang_597,smaller_LaBSE_15lang_598,smaller_LaBSE_15lang_599,smaller_LaBSE_15lang_600,smaller_LaBSE_15lang_601,smaller_LaBSE_15lang_602,smaller_LaBSE_15lang_603,smaller_LaBSE_15lang_604,smaller_LaBSE_15lang_605,smaller_LaBSE_15lang_606,smaller_LaBSE_15lang_607,smaller_LaBSE_15lang_608,smaller_LaBSE_15lang_609,smaller_LaBSE_15lang_610,smaller_LaBSE_15lang_611,smaller_LaBSE_15lang_612,smaller_LaBSE_15lang_613,smaller_LaBSE_15lang_614,smaller_LaBSE_15lang_615,smaller_LaBSE_15lang_616,smaller_LaBSE_15lang_617,smaller_LaBSE_15lang_618,smaller_LaBSE_15lang_619,smaller_LaBSE_15lang_620,smaller_LaBSE_15lang_621,smaller_LaBSE_15lang_622,smaller_LaBSE_15lang_623,smaller_LaBSE_15lang_624,smaller_LaBSE_15lang_625,smaller_LaBSE_15lang_626,smaller_LaBSE_15lang_627,smaller_LaBSE_15lang_628,smaller_LaBSE_15lang_629,smaller_LaBSE_15lang_630,smaller_LaBSE_15lang_631,smaller_LaBSE_15lang_632,smaller_LaBSE_15lang_633,smaller_LaBSE_15lang_634,smaller_LaBSE_15lang_635,smaller_LaBSE_15lang_636,smaller_LaBSE_15lang_637,smaller_LaBSE_15lang_638,smaller_LaBSE_15lang_639,smaller_LaBSE_15lang_640,smaller_LaBSE_15lang_641,smaller_LaBSE_15lang_642,smaller_LaBSE_15lang_643,smaller_LaBSE_15lang_644,smaller_LaBSE_15lang_645,smaller_LaBSE_15lang_646,smaller_LaBSE_15lang_647,smaller_LaBSE_15lang_648,smaller_LaBSE_15lang_649,smaller_LaBSE_15lang_650,smaller_LaBSE_15lang_651,smaller_LaBSE_15lang_652,smaller_LaBSE_15lang_653,smaller_LaBSE_15lang_654,smaller_LaBSE_15lang_655,smaller_LaBSE_15lang_656,smaller_LaBSE_15lang_657,smaller_LaBSE_15lang_658,smaller_LaBSE_15lang_659,smaller_LaBSE_15lang_660,smaller_LaBSE_15lang_661,smaller_LaBSE_15lang_662,smaller_LaBSE_15lang_663,smaller_LaBSE_15lang_664,smaller_LaBSE_15lang_665,smaller_LaBSE_15lang_666,smaller_LaBSE_15lang_667,smaller_LaBSE_15lang_668,smaller_LaBSE_15lang_669,smaller_LaBSE_15lang_670,smaller_LaBSE_15lang_671,smaller_LaBSE_15lang_672,smaller_LaBSE_15lang_673,smaller_LaBSE_15lang_674,smaller_LaBSE_15lang_675,smaller_LaBSE_15lang_676,smaller_LaBSE_15lang_677,smaller_LaBSE_15lang_678,smaller_LaBSE_15lang_679,smaller_LaBSE_15lang_680,smaller_LaBSE_15lang_681,smaller_LaBSE_15lang_682,smaller_LaBSE_15lang_683,smaller_LaBSE_15lang_684,smaller_LaBSE_15lang_685,smaller_LaBSE_15lang_686,smaller_LaBSE_15lang_687,smaller_LaBSE_15lang_688,smaller_LaBSE_15lang_689,smaller_LaBSE_15lang_690,smaller_LaBSE_15lang_691,smaller_LaBSE_15lang_692,smaller_LaBSE_15lang_693,smaller_LaBSE_15lang_694,smaller_LaBSE_15lang_695,smaller_LaBSE_15lang_696,smaller_LaBSE_15lang_697,smaller_LaBSE_15lang_698,smaller_LaBSE_15lang_699,smaller_LaBSE_15lang_700,smaller_LaBSE_15lang_701,smaller_LaBSE_15lang_702,smaller_LaBSE_15lang_703,smaller_LaBSE_15lang_704,smaller_LaBSE_15lang_705,smaller_LaBSE_15lang_706,smaller_LaBSE_15lang_707,smaller_LaBSE_15lang_708,smaller_LaBSE_15lang_709,smaller_LaBSE_15lang_710,smaller_LaBSE_15lang_711,smaller_LaBSE_15lang_712,smaller_LaBSE_15lang_713,smaller_LaBSE_15lang_714,smaller_LaBSE_15lang_715,smaller_LaBSE_15lang_716,smaller_LaBSE_15lang_717,smaller_LaBSE_15lang_718,smaller_LaBSE_15lang_719,smaller_LaBSE_15lang_720,smaller_LaBSE_15lang_721,smaller_LaBSE_15lang_722,smaller_LaBSE_15lang_723,smaller_LaBSE_15lang_724,smaller_LaBSE_15lang_725,smaller_LaBSE_15lang_726,smaller_LaBSE_15lang_727,smaller_LaBSE_15lang_728,smaller_LaBSE_15lang_729,smaller_LaBSE_15lang_730,smaller_LaBSE_15lang_731,smaller_LaBSE_15lang_732,smaller_LaBSE_15lang_733,smaller_LaBSE_15lang_734,smaller_LaBSE_15lang_735,smaller_LaBSE_15lang_736,smaller_LaBSE_15lang_737,smaller_LaBSE_15lang_738,smaller_LaBSE_15lang_739,smaller_LaBSE_15lang_740,smaller_LaBSE_15lang_741,smaller_LaBSE_15lang_742,smaller_LaBSE_15lang_743,smaller_LaBSE_15lang_744,smaller_LaBSE_15lang_745,smaller_LaBSE_15lang_746,smaller_LaBSE_15lang_747,smaller_LaBSE_15lang_748,smaller_LaBSE_15lang_749,smaller_LaBSE_15lang_750,smaller_LaBSE_15lang_751,smaller_LaBSE_15lang_752,smaller_LaBSE_15lang_753,smaller_LaBSE_15lang_754,smaller_LaBSE_15lang_755,smaller_LaBSE_15lang_756,smaller_LaBSE_15lang_757,smaller_LaBSE_15lang_758,smaller_LaBSE_15lang_759,smaller_LaBSE_15lang_760,smaller_LaBSE_15lang_761,smaller_LaBSE_15lang_762,smaller_LaBSE_15lang_763,smaller_LaBSE_15lang_764,smaller_LaBSE_15lang_765,smaller_LaBSE_15lang_766,smaller_LaBSE_15lang_767\"} is ignored, because it cannot be parsed.\n",
      "Parameter {\"features_selection_steps\":1} is ignored, because it cannot be parsed.\n",
      "Parameter {\"classes_count\":17} is ignored, because it cannot be parsed.\n"
     ]
    },
    {
     "name": "stdout",
     "output_type": "stream",
     "text": [
      "train auc 0.9999972583706844 val auc 0.9135079909833286\n",
      "leak_test_auc_score 0.8338649320737411\n"
     ]
    },
    {
     "data": {
      "application/vnd.jupyter.widget-view+json": {
       "model_id": "affd22a8e592409a86c308f732498c70",
       "version_major": 2,
       "version_minor": 0
      },
      "text/plain": [
       "  0%|          | 0/1 [00:00<?, ?it/s]"
      ]
     },
     "metadata": {},
     "output_type": "display_data"
    },
    {
     "name": "stderr",
     "output_type": "stream",
     "text": [
      "There are invalid params and some of them will be ignored.\n",
      "Parameter {\"train_final_model\":true} is ignored, because it cannot be parsed.\n",
      "Parameter {\"num_features_to_select\":500} is ignored, because it cannot be parsed.\n",
      "Parameter {\"features_for_select\":\"Текст Сообщения,smaller_LaBSE_15lang_0,smaller_LaBSE_15lang_1,smaller_LaBSE_15lang_2,smaller_LaBSE_15lang_3,smaller_LaBSE_15lang_4,smaller_LaBSE_15lang_5,smaller_LaBSE_15lang_6,smaller_LaBSE_15lang_7,smaller_LaBSE_15lang_8,smaller_LaBSE_15lang_9,smaller_LaBSE_15lang_10,smaller_LaBSE_15lang_11,smaller_LaBSE_15lang_12,smaller_LaBSE_15lang_13,smaller_LaBSE_15lang_14,smaller_LaBSE_15lang_15,smaller_LaBSE_15lang_16,smaller_LaBSE_15lang_17,smaller_LaBSE_15lang_18,smaller_LaBSE_15lang_19,smaller_LaBSE_15lang_20,smaller_LaBSE_15lang_21,smaller_LaBSE_15lang_22,smaller_LaBSE_15lang_23,smaller_LaBSE_15lang_24,smaller_LaBSE_15lang_25,smaller_LaBSE_15lang_26,smaller_LaBSE_15lang_27,smaller_LaBSE_15lang_28,smaller_LaBSE_15lang_29,smaller_LaBSE_15lang_30,smaller_LaBSE_15lang_31,smaller_LaBSE_15lang_32,smaller_LaBSE_15lang_33,smaller_LaBSE_15lang_34,smaller_LaBSE_15lang_35,smaller_LaBSE_15lang_36,smaller_LaBSE_15lang_37,smaller_LaBSE_15lang_38,smaller_LaBSE_15lang_39,smaller_LaBSE_15lang_40,smaller_LaBSE_15lang_41,smaller_LaBSE_15lang_42,smaller_LaBSE_15lang_43,smaller_LaBSE_15lang_44,smaller_LaBSE_15lang_45,smaller_LaBSE_15lang_46,smaller_LaBSE_15lang_47,smaller_LaBSE_15lang_48,smaller_LaBSE_15lang_49,smaller_LaBSE_15lang_50,smaller_LaBSE_15lang_51,smaller_LaBSE_15lang_52,smaller_LaBSE_15lang_53,smaller_LaBSE_15lang_54,smaller_LaBSE_15lang_55,smaller_LaBSE_15lang_56,smaller_LaBSE_15lang_57,smaller_LaBSE_15lang_58,smaller_LaBSE_15lang_59,smaller_LaBSE_15lang_60,smaller_LaBSE_15lang_61,smaller_LaBSE_15lang_62,smaller_LaBSE_15lang_63,smaller_LaBSE_15lang_64,smaller_LaBSE_15lang_65,smaller_LaBSE_15lang_66,smaller_LaBSE_15lang_67,smaller_LaBSE_15lang_68,smaller_LaBSE_15lang_69,smaller_LaBSE_15lang_70,smaller_LaBSE_15lang_71,smaller_LaBSE_15lang_72,smaller_LaBSE_15lang_73,smaller_LaBSE_15lang_74,smaller_LaBSE_15lang_75,smaller_LaBSE_15lang_76,smaller_LaBSE_15lang_77,smaller_LaBSE_15lang_78,smaller_LaBSE_15lang_79,smaller_LaBSE_15lang_80,smaller_LaBSE_15lang_81,smaller_LaBSE_15lang_82,smaller_LaBSE_15lang_83,smaller_LaBSE_15lang_84,smaller_LaBSE_15lang_85,smaller_LaBSE_15lang_86,smaller_LaBSE_15lang_87,smaller_LaBSE_15lang_88,smaller_LaBSE_15lang_89,smaller_LaBSE_15lang_90,smaller_LaBSE_15lang_91,smaller_LaBSE_15lang_92,smaller_LaBSE_15lang_93,smaller_LaBSE_15lang_94,smaller_LaBSE_15lang_95,smaller_LaBSE_15lang_96,smaller_LaBSE_15lang_97,smaller_LaBSE_15lang_98,smaller_LaBSE_15lang_99,smaller_LaBSE_15lang_100,smaller_LaBSE_15lang_101,smaller_LaBSE_15lang_102,smaller_LaBSE_15lang_103,smaller_LaBSE_15lang_104,smaller_LaBSE_15lang_105,smaller_LaBSE_15lang_106,smaller_LaBSE_15lang_107,smaller_LaBSE_15lang_108,smaller_LaBSE_15lang_109,smaller_LaBSE_15lang_110,smaller_LaBSE_15lang_111,smaller_LaBSE_15lang_112,smaller_LaBSE_15lang_113,smaller_LaBSE_15lang_114,smaller_LaBSE_15lang_115,smaller_LaBSE_15lang_116,smaller_LaBSE_15lang_117,smaller_LaBSE_15lang_118,smaller_LaBSE_15lang_119,smaller_LaBSE_15lang_120,smaller_LaBSE_15lang_121,smaller_LaBSE_15lang_122,smaller_LaBSE_15lang_123,smaller_LaBSE_15lang_124,smaller_LaBSE_15lang_125,smaller_LaBSE_15lang_126,smaller_LaBSE_15lang_127,smaller_LaBSE_15lang_128,smaller_LaBSE_15lang_129,smaller_LaBSE_15lang_130,smaller_LaBSE_15lang_131,smaller_LaBSE_15lang_132,smaller_LaBSE_15lang_133,smaller_LaBSE_15lang_134,smaller_LaBSE_15lang_135,smaller_LaBSE_15lang_136,smaller_LaBSE_15lang_137,smaller_LaBSE_15lang_138,smaller_LaBSE_15lang_139,smaller_LaBSE_15lang_140,smaller_LaBSE_15lang_141,smaller_LaBSE_15lang_142,smaller_LaBSE_15lang_143,smaller_LaBSE_15lang_144,smaller_LaBSE_15lang_145,smaller_LaBSE_15lang_146,smaller_LaBSE_15lang_147,smaller_LaBSE_15lang_148,smaller_LaBSE_15lang_149,smaller_LaBSE_15lang_150,smaller_LaBSE_15lang_151,smaller_LaBSE_15lang_152,smaller_LaBSE_15lang_153,smaller_LaBSE_15lang_154,smaller_LaBSE_15lang_155,smaller_LaBSE_15lang_156,smaller_LaBSE_15lang_157,smaller_LaBSE_15lang_158,smaller_LaBSE_15lang_159,smaller_LaBSE_15lang_160,smaller_LaBSE_15lang_161,smaller_LaBSE_15lang_162,smaller_LaBSE_15lang_163,smaller_LaBSE_15lang_164,smaller_LaBSE_15lang_165,smaller_LaBSE_15lang_166,smaller_LaBSE_15lang_167,smaller_LaBSE_15lang_168,smaller_LaBSE_15lang_169,smaller_LaBSE_15lang_170,smaller_LaBSE_15lang_171,smaller_LaBSE_15lang_172,smaller_LaBSE_15lang_173,smaller_LaBSE_15lang_174,smaller_LaBSE_15lang_175,smaller_LaBSE_15lang_176,smaller_LaBSE_15lang_177,smaller_LaBSE_15lang_178,smaller_LaBSE_15lang_179,smaller_LaBSE_15lang_180,smaller_LaBSE_15lang_181,smaller_LaBSE_15lang_182,smaller_LaBSE_15lang_183,smaller_LaBSE_15lang_184,smaller_LaBSE_15lang_185,smaller_LaBSE_15lang_186,smaller_LaBSE_15lang_187,smaller_LaBSE_15lang_188,smaller_LaBSE_15lang_189,smaller_LaBSE_15lang_190,smaller_LaBSE_15lang_191,smaller_LaBSE_15lang_192,smaller_LaBSE_15lang_193,smaller_LaBSE_15lang_194,smaller_LaBSE_15lang_195,smaller_LaBSE_15lang_196,smaller_LaBSE_15lang_197,smaller_LaBSE_15lang_198,smaller_LaBSE_15lang_199,smaller_LaBSE_15lang_200,smaller_LaBSE_15lang_201,smaller_LaBSE_15lang_202,smaller_LaBSE_15lang_203,smaller_LaBSE_15lang_204,smaller_LaBSE_15lang_205,smaller_LaBSE_15lang_206,smaller_LaBSE_15lang_207,smaller_LaBSE_15lang_208,smaller_LaBSE_15lang_209,smaller_LaBSE_15lang_210,smaller_LaBSE_15lang_211,smaller_LaBSE_15lang_212,smaller_LaBSE_15lang_213,smaller_LaBSE_15lang_214,smaller_LaBSE_15lang_215,smaller_LaBSE_15lang_216,smaller_LaBSE_15lang_217,smaller_LaBSE_15lang_218,smaller_LaBSE_15lang_219,smaller_LaBSE_15lang_220,smaller_LaBSE_15lang_221,smaller_LaBSE_15lang_222,smaller_LaBSE_15lang_223,smaller_LaBSE_15lang_224,smaller_LaBSE_15lang_225,smaller_LaBSE_15lang_226,smaller_LaBSE_15lang_227,smaller_LaBSE_15lang_228,smaller_LaBSE_15lang_229,smaller_LaBSE_15lang_230,smaller_LaBSE_15lang_231,smaller_LaBSE_15lang_232,smaller_LaBSE_15lang_233,smaller_LaBSE_15lang_234,smaller_LaBSE_15lang_235,smaller_LaBSE_15lang_236,smaller_LaBSE_15lang_237,smaller_LaBSE_15lang_238,smaller_LaBSE_15lang_239,smaller_LaBSE_15lang_240,smaller_LaBSE_15lang_241,smaller_LaBSE_15lang_242,smaller_LaBSE_15lang_243,smaller_LaBSE_15lang_244,smaller_LaBSE_15lang_245,smaller_LaBSE_15lang_246,smaller_LaBSE_15lang_247,smaller_LaBSE_15lang_248,smaller_LaBSE_15lang_249,smaller_LaBSE_15lang_250,smaller_LaBSE_15lang_251,smaller_LaBSE_15lang_252,smaller_LaBSE_15lang_253,smaller_LaBSE_15lang_254,smaller_LaBSE_15lang_255,smaller_LaBSE_15lang_256,smaller_LaBSE_15lang_257,smaller_LaBSE_15lang_258,smaller_LaBSE_15lang_259,smaller_LaBSE_15lang_260,smaller_LaBSE_15lang_261,smaller_LaBSE_15lang_262,smaller_LaBSE_15lang_263,smaller_LaBSE_15lang_264,smaller_LaBSE_15lang_265,smaller_LaBSE_15lang_266,smaller_LaBSE_15lang_267,smaller_LaBSE_15lang_268,smaller_LaBSE_15lang_269,smaller_LaBSE_15lang_270,smaller_LaBSE_15lang_271,smaller_LaBSE_15lang_272,smaller_LaBSE_15lang_273,smaller_LaBSE_15lang_274,smaller_LaBSE_15lang_275,smaller_LaBSE_15lang_276,smaller_LaBSE_15lang_277,smaller_LaBSE_15lang_278,smaller_LaBSE_15lang_279,smaller_LaBSE_15lang_280,smaller_LaBSE_15lang_281,smaller_LaBSE_15lang_282,smaller_LaBSE_15lang_283,smaller_LaBSE_15lang_284,smaller_LaBSE_15lang_285,smaller_LaBSE_15lang_286,smaller_LaBSE_15lang_287,smaller_LaBSE_15lang_288,smaller_LaBSE_15lang_289,smaller_LaBSE_15lang_290,smaller_LaBSE_15lang_291,smaller_LaBSE_15lang_292,smaller_LaBSE_15lang_293,smaller_LaBSE_15lang_294,smaller_LaBSE_15lang_295,smaller_LaBSE_15lang_296,smaller_LaBSE_15lang_297,smaller_LaBSE_15lang_298,smaller_LaBSE_15lang_299,smaller_LaBSE_15lang_300,smaller_LaBSE_15lang_301,smaller_LaBSE_15lang_302,smaller_LaBSE_15lang_303,smaller_LaBSE_15lang_304,smaller_LaBSE_15lang_305,smaller_LaBSE_15lang_306,smaller_LaBSE_15lang_307,smaller_LaBSE_15lang_308,smaller_LaBSE_15lang_309,smaller_LaBSE_15lang_310,smaller_LaBSE_15lang_311,smaller_LaBSE_15lang_312,smaller_LaBSE_15lang_313,smaller_LaBSE_15lang_314,smaller_LaBSE_15lang_315,smaller_LaBSE_15lang_316,smaller_LaBSE_15lang_317,smaller_LaBSE_15lang_318,smaller_LaBSE_15lang_319,smaller_LaBSE_15lang_320,smaller_LaBSE_15lang_321,smaller_LaBSE_15lang_322,smaller_LaBSE_15lang_323,smaller_LaBSE_15lang_324,smaller_LaBSE_15lang_325,smaller_LaBSE_15lang_326,smaller_LaBSE_15lang_327,smaller_LaBSE_15lang_328,smaller_LaBSE_15lang_329,smaller_LaBSE_15lang_330,smaller_LaBSE_15lang_331,smaller_LaBSE_15lang_332,smaller_LaBSE_15lang_333,smaller_LaBSE_15lang_334,smaller_LaBSE_15lang_335,smaller_LaBSE_15lang_336,smaller_LaBSE_15lang_337,smaller_LaBSE_15lang_338,smaller_LaBSE_15lang_339,smaller_LaBSE_15lang_340,smaller_LaBSE_15lang_341,smaller_LaBSE_15lang_342,smaller_LaBSE_15lang_343,smaller_LaBSE_15lang_344,smaller_LaBSE_15lang_345,smaller_LaBSE_15lang_346,smaller_LaBSE_15lang_347,smaller_LaBSE_15lang_348,smaller_LaBSE_15lang_349,smaller_LaBSE_15lang_350,smaller_LaBSE_15lang_351,smaller_LaBSE_15lang_352,smaller_LaBSE_15lang_353,smaller_LaBSE_15lang_354,smaller_LaBSE_15lang_355,smaller_LaBSE_15lang_356,smaller_LaBSE_15lang_357,smaller_LaBSE_15lang_358,smaller_LaBSE_15lang_359,smaller_LaBSE_15lang_360,smaller_LaBSE_15lang_361,smaller_LaBSE_15lang_362,smaller_LaBSE_15lang_363,smaller_LaBSE_15lang_364,smaller_LaBSE_15lang_365,smaller_LaBSE_15lang_366,smaller_LaBSE_15lang_367,smaller_LaBSE_15lang_368,smaller_LaBSE_15lang_369,smaller_LaBSE_15lang_370,smaller_LaBSE_15lang_371,smaller_LaBSE_15lang_372,smaller_LaBSE_15lang_373,smaller_LaBSE_15lang_374,smaller_LaBSE_15lang_375,smaller_LaBSE_15lang_376,smaller_LaBSE_15lang_377,smaller_LaBSE_15lang_378,smaller_LaBSE_15lang_379,smaller_LaBSE_15lang_380,smaller_LaBSE_15lang_381,smaller_LaBSE_15lang_382,smaller_LaBSE_15lang_383,smaller_LaBSE_15lang_384,smaller_LaBSE_15lang_385,smaller_LaBSE_15lang_386,smaller_LaBSE_15lang_387,smaller_LaBSE_15lang_388,smaller_LaBSE_15lang_389,smaller_LaBSE_15lang_390,smaller_LaBSE_15lang_391,smaller_LaBSE_15lang_392,smaller_LaBSE_15lang_393,smaller_LaBSE_15lang_394,smaller_LaBSE_15lang_395,smaller_LaBSE_15lang_396,smaller_LaBSE_15lang_397,smaller_LaBSE_15lang_398,smaller_LaBSE_15lang_399,smaller_LaBSE_15lang_400,smaller_LaBSE_15lang_401,smaller_LaBSE_15lang_402,smaller_LaBSE_15lang_403,smaller_LaBSE_15lang_404,smaller_LaBSE_15lang_405,smaller_LaBSE_15lang_406,smaller_LaBSE_15lang_407,smaller_LaBSE_15lang_408,smaller_LaBSE_15lang_409,smaller_LaBSE_15lang_410,smaller_LaBSE_15lang_411,smaller_LaBSE_15lang_412,smaller_LaBSE_15lang_413,smaller_LaBSE_15lang_414,smaller_LaBSE_15lang_415,smaller_LaBSE_15lang_416,smaller_LaBSE_15lang_417,smaller_LaBSE_15lang_418,smaller_LaBSE_15lang_419,smaller_LaBSE_15lang_420,smaller_LaBSE_15lang_421,smaller_LaBSE_15lang_422,smaller_LaBSE_15lang_423,smaller_LaBSE_15lang_424,smaller_LaBSE_15lang_425,smaller_LaBSE_15lang_426,smaller_LaBSE_15lang_427,smaller_LaBSE_15lang_428,smaller_LaBSE_15lang_429,smaller_LaBSE_15lang_430,smaller_LaBSE_15lang_431,smaller_LaBSE_15lang_432,smaller_LaBSE_15lang_433,smaller_LaBSE_15lang_434,smaller_LaBSE_15lang_435,smaller_LaBSE_15lang_436,smaller_LaBSE_15lang_437,smaller_LaBSE_15lang_438,smaller_LaBSE_15lang_439,smaller_LaBSE_15lang_440,smaller_LaBSE_15lang_441,smaller_LaBSE_15lang_442,smaller_LaBSE_15lang_443,smaller_LaBSE_15lang_444,smaller_LaBSE_15lang_445,smaller_LaBSE_15lang_446,smaller_LaBSE_15lang_447,smaller_LaBSE_15lang_448,smaller_LaBSE_15lang_449,smaller_LaBSE_15lang_450,smaller_LaBSE_15lang_451,smaller_LaBSE_15lang_452,smaller_LaBSE_15lang_453,smaller_LaBSE_15lang_454,smaller_LaBSE_15lang_455,smaller_LaBSE_15lang_456,smaller_LaBSE_15lang_457,smaller_LaBSE_15lang_458,smaller_LaBSE_15lang_459,smaller_LaBSE_15lang_460,smaller_LaBSE_15lang_461,smaller_LaBSE_15lang_462,smaller_LaBSE_15lang_463,smaller_LaBSE_15lang_464,smaller_LaBSE_15lang_465,smaller_LaBSE_15lang_466,smaller_LaBSE_15lang_467,smaller_LaBSE_15lang_468,smaller_LaBSE_15lang_469,smaller_LaBSE_15lang_470,smaller_LaBSE_15lang_471,smaller_LaBSE_15lang_472,smaller_LaBSE_15lang_473,smaller_LaBSE_15lang_474,smaller_LaBSE_15lang_475,smaller_LaBSE_15lang_476,smaller_LaBSE_15lang_477,smaller_LaBSE_15lang_478,smaller_LaBSE_15lang_479,smaller_LaBSE_15lang_480,smaller_LaBSE_15lang_481,smaller_LaBSE_15lang_482,smaller_LaBSE_15lang_483,smaller_LaBSE_15lang_484,smaller_LaBSE_15lang_485,smaller_LaBSE_15lang_486,smaller_LaBSE_15lang_487,smaller_LaBSE_15lang_488,smaller_LaBSE_15lang_489,smaller_LaBSE_15lang_490,smaller_LaBSE_15lang_491,smaller_LaBSE_15lang_492,smaller_LaBSE_15lang_493,smaller_LaBSE_15lang_494,smaller_LaBSE_15lang_495,smaller_LaBSE_15lang_496,smaller_LaBSE_15lang_497,smaller_LaBSE_15lang_498,smaller_LaBSE_15lang_499,smaller_LaBSE_15lang_500,smaller_LaBSE_15lang_501,smaller_LaBSE_15lang_502,smaller_LaBSE_15lang_503,smaller_LaBSE_15lang_504,smaller_LaBSE_15lang_505,smaller_LaBSE_15lang_506,smaller_LaBSE_15lang_507,smaller_LaBSE_15lang_508,smaller_LaBSE_15lang_509,smaller_LaBSE_15lang_510,smaller_LaBSE_15lang_511,smaller_LaBSE_15lang_512,smaller_LaBSE_15lang_513,smaller_LaBSE_15lang_514,smaller_LaBSE_15lang_515,smaller_LaBSE_15lang_516,smaller_LaBSE_15lang_517,smaller_LaBSE_15lang_518,smaller_LaBSE_15lang_519,smaller_LaBSE_15lang_520,smaller_LaBSE_15lang_521,smaller_LaBSE_15lang_522,smaller_LaBSE_15lang_523,smaller_LaBSE_15lang_524,smaller_LaBSE_15lang_525,smaller_LaBSE_15lang_526,smaller_LaBSE_15lang_527,smaller_LaBSE_15lang_528,smaller_LaBSE_15lang_529,smaller_LaBSE_15lang_530,smaller_LaBSE_15lang_531,smaller_LaBSE_15lang_532,smaller_LaBSE_15lang_533,smaller_LaBSE_15lang_534,smaller_LaBSE_15lang_535,smaller_LaBSE_15lang_536,smaller_LaBSE_15lang_537,smaller_LaBSE_15lang_538,smaller_LaBSE_15lang_539,smaller_LaBSE_15lang_540,smaller_LaBSE_15lang_541,smaller_LaBSE_15lang_542,smaller_LaBSE_15lang_543,smaller_LaBSE_15lang_544,smaller_LaBSE_15lang_545,smaller_LaBSE_15lang_546,smaller_LaBSE_15lang_547,smaller_LaBSE_15lang_548,smaller_LaBSE_15lang_549,smaller_LaBSE_15lang_550,smaller_LaBSE_15lang_551,smaller_LaBSE_15lang_552,smaller_LaBSE_15lang_553,smaller_LaBSE_15lang_554,smaller_LaBSE_15lang_555,smaller_LaBSE_15lang_556,smaller_LaBSE_15lang_557,smaller_LaBSE_15lang_558,smaller_LaBSE_15lang_559,smaller_LaBSE_15lang_560,smaller_LaBSE_15lang_561,smaller_LaBSE_15lang_562,smaller_LaBSE_15lang_563,smaller_LaBSE_15lang_564,smaller_LaBSE_15lang_565,smaller_LaBSE_15lang_566,smaller_LaBSE_15lang_567,smaller_LaBSE_15lang_568,smaller_LaBSE_15lang_569,smaller_LaBSE_15lang_570,smaller_LaBSE_15lang_571,smaller_LaBSE_15lang_572,smaller_LaBSE_15lang_573,smaller_LaBSE_15lang_574,smaller_LaBSE_15lang_575,smaller_LaBSE_15lang_576,smaller_LaBSE_15lang_577,smaller_LaBSE_15lang_578,smaller_LaBSE_15lang_579,smaller_LaBSE_15lang_580,smaller_LaBSE_15lang_581,smaller_LaBSE_15lang_582,smaller_LaBSE_15lang_583,smaller_LaBSE_15lang_584,smaller_LaBSE_15lang_585,smaller_LaBSE_15lang_586,smaller_LaBSE_15lang_587,smaller_LaBSE_15lang_588,smaller_LaBSE_15lang_589,smaller_LaBSE_15lang_590,smaller_LaBSE_15lang_591,smaller_LaBSE_15lang_592,smaller_LaBSE_15lang_593,smaller_LaBSE_15lang_594,smaller_LaBSE_15lang_595,smaller_LaBSE_15lang_596,smaller_LaBSE_15lang_597,smaller_LaBSE_15lang_598,smaller_LaBSE_15lang_599,smaller_LaBSE_15lang_600,smaller_LaBSE_15lang_601,smaller_LaBSE_15lang_602,smaller_LaBSE_15lang_603,smaller_LaBSE_15lang_604,smaller_LaBSE_15lang_605,smaller_LaBSE_15lang_606,smaller_LaBSE_15lang_607,smaller_LaBSE_15lang_608,smaller_LaBSE_15lang_609,smaller_LaBSE_15lang_610,smaller_LaBSE_15lang_611,smaller_LaBSE_15lang_612,smaller_LaBSE_15lang_613,smaller_LaBSE_15lang_614,smaller_LaBSE_15lang_615,smaller_LaBSE_15lang_616,smaller_LaBSE_15lang_617,smaller_LaBSE_15lang_618,smaller_LaBSE_15lang_619,smaller_LaBSE_15lang_620,smaller_LaBSE_15lang_621,smaller_LaBSE_15lang_622,smaller_LaBSE_15lang_623,smaller_LaBSE_15lang_624,smaller_LaBSE_15lang_625,smaller_LaBSE_15lang_626,smaller_LaBSE_15lang_627,smaller_LaBSE_15lang_628,smaller_LaBSE_15lang_629,smaller_LaBSE_15lang_630,smaller_LaBSE_15lang_631,smaller_LaBSE_15lang_632,smaller_LaBSE_15lang_633,smaller_LaBSE_15lang_634,smaller_LaBSE_15lang_635,smaller_LaBSE_15lang_636,smaller_LaBSE_15lang_637,smaller_LaBSE_15lang_638,smaller_LaBSE_15lang_639,smaller_LaBSE_15lang_640,smaller_LaBSE_15lang_641,smaller_LaBSE_15lang_642,smaller_LaBSE_15lang_643,smaller_LaBSE_15lang_644,smaller_LaBSE_15lang_645,smaller_LaBSE_15lang_646,smaller_LaBSE_15lang_647,smaller_LaBSE_15lang_648,smaller_LaBSE_15lang_649,smaller_LaBSE_15lang_650,smaller_LaBSE_15lang_651,smaller_LaBSE_15lang_652,smaller_LaBSE_15lang_653,smaller_LaBSE_15lang_654,smaller_LaBSE_15lang_655,smaller_LaBSE_15lang_656,smaller_LaBSE_15lang_657,smaller_LaBSE_15lang_658,smaller_LaBSE_15lang_659,smaller_LaBSE_15lang_660,smaller_LaBSE_15lang_661,smaller_LaBSE_15lang_662,smaller_LaBSE_15lang_663,smaller_LaBSE_15lang_664,smaller_LaBSE_15lang_665,smaller_LaBSE_15lang_666,smaller_LaBSE_15lang_667,smaller_LaBSE_15lang_668,smaller_LaBSE_15lang_669,smaller_LaBSE_15lang_670,smaller_LaBSE_15lang_671,smaller_LaBSE_15lang_672,smaller_LaBSE_15lang_673,smaller_LaBSE_15lang_674,smaller_LaBSE_15lang_675,smaller_LaBSE_15lang_676,smaller_LaBSE_15lang_677,smaller_LaBSE_15lang_678,smaller_LaBSE_15lang_679,smaller_LaBSE_15lang_680,smaller_LaBSE_15lang_681,smaller_LaBSE_15lang_682,smaller_LaBSE_15lang_683,smaller_LaBSE_15lang_684,smaller_LaBSE_15lang_685,smaller_LaBSE_15lang_686,smaller_LaBSE_15lang_687,smaller_LaBSE_15lang_688,smaller_LaBSE_15lang_689,smaller_LaBSE_15lang_690,smaller_LaBSE_15lang_691,smaller_LaBSE_15lang_692,smaller_LaBSE_15lang_693,smaller_LaBSE_15lang_694,smaller_LaBSE_15lang_695,smaller_LaBSE_15lang_696,smaller_LaBSE_15lang_697,smaller_LaBSE_15lang_698,smaller_LaBSE_15lang_699,smaller_LaBSE_15lang_700,smaller_LaBSE_15lang_701,smaller_LaBSE_15lang_702,smaller_LaBSE_15lang_703,smaller_LaBSE_15lang_704,smaller_LaBSE_15lang_705,smaller_LaBSE_15lang_706,smaller_LaBSE_15lang_707,smaller_LaBSE_15lang_708,smaller_LaBSE_15lang_709,smaller_LaBSE_15lang_710,smaller_LaBSE_15lang_711,smaller_LaBSE_15lang_712,smaller_LaBSE_15lang_713,smaller_LaBSE_15lang_714,smaller_LaBSE_15lang_715,smaller_LaBSE_15lang_716,smaller_LaBSE_15lang_717,smaller_LaBSE_15lang_718,smaller_LaBSE_15lang_719,smaller_LaBSE_15lang_720,smaller_LaBSE_15lang_721,smaller_LaBSE_15lang_722,smaller_LaBSE_15lang_723,smaller_LaBSE_15lang_724,smaller_LaBSE_15lang_725,smaller_LaBSE_15lang_726,smaller_LaBSE_15lang_727,smaller_LaBSE_15lang_728,smaller_LaBSE_15lang_729,smaller_LaBSE_15lang_730,smaller_LaBSE_15lang_731,smaller_LaBSE_15lang_732,smaller_LaBSE_15lang_733,smaller_LaBSE_15lang_734,smaller_LaBSE_15lang_735,smaller_LaBSE_15lang_736,smaller_LaBSE_15lang_737,smaller_LaBSE_15lang_738,smaller_LaBSE_15lang_739,smaller_LaBSE_15lang_740,smaller_LaBSE_15lang_741,smaller_LaBSE_15lang_742,smaller_LaBSE_15lang_743,smaller_LaBSE_15lang_744,smaller_LaBSE_15lang_745,smaller_LaBSE_15lang_746,smaller_LaBSE_15lang_747,smaller_LaBSE_15lang_748,smaller_LaBSE_15lang_749,smaller_LaBSE_15lang_750,smaller_LaBSE_15lang_751,smaller_LaBSE_15lang_752,smaller_LaBSE_15lang_753,smaller_LaBSE_15lang_754,smaller_LaBSE_15lang_755,smaller_LaBSE_15lang_756,smaller_LaBSE_15lang_757,smaller_LaBSE_15lang_758,smaller_LaBSE_15lang_759,smaller_LaBSE_15lang_760,smaller_LaBSE_15lang_761,smaller_LaBSE_15lang_762,smaller_LaBSE_15lang_763,smaller_LaBSE_15lang_764,smaller_LaBSE_15lang_765,smaller_LaBSE_15lang_766,smaller_LaBSE_15lang_767\"} is ignored, because it cannot be parsed.\n",
      "Parameter {\"features_selection_steps\":1} is ignored, because it cannot be parsed.\n",
      "Parameter {\"classes_count\":17} is ignored, because it cannot be parsed.\n"
     ]
    },
    {
     "name": "stdout",
     "output_type": "stream",
     "text": [
      "train auc 0.9975638198522243 val auc 0.8362607223161956\n",
      "leak_test_auc_score 0.8274280228413495\n"
     ]
    },
    {
     "data": {
      "application/vnd.jupyter.widget-view+json": {
       "model_id": "cc0e0fc13bd0437f83156a092fb306a5",
       "version_major": 2,
       "version_minor": 0
      },
      "text/plain": [
       "  0%|          | 0/1 [00:00<?, ?it/s]"
      ]
     },
     "metadata": {},
     "output_type": "display_data"
    },
    {
     "name": "stderr",
     "output_type": "stream",
     "text": [
      "There are invalid params and some of them will be ignored.\n",
      "Parameter {\"train_final_model\":true} is ignored, because it cannot be parsed.\n",
      "Parameter {\"num_features_to_select\":500} is ignored, because it cannot be parsed.\n",
      "Parameter {\"features_for_select\":\"Текст Сообщения,smaller_LaBSE_15lang_0,smaller_LaBSE_15lang_1,smaller_LaBSE_15lang_2,smaller_LaBSE_15lang_3,smaller_LaBSE_15lang_4,smaller_LaBSE_15lang_5,smaller_LaBSE_15lang_6,smaller_LaBSE_15lang_7,smaller_LaBSE_15lang_8,smaller_LaBSE_15lang_9,smaller_LaBSE_15lang_10,smaller_LaBSE_15lang_11,smaller_LaBSE_15lang_12,smaller_LaBSE_15lang_13,smaller_LaBSE_15lang_14,smaller_LaBSE_15lang_15,smaller_LaBSE_15lang_16,smaller_LaBSE_15lang_17,smaller_LaBSE_15lang_18,smaller_LaBSE_15lang_19,smaller_LaBSE_15lang_20,smaller_LaBSE_15lang_21,smaller_LaBSE_15lang_22,smaller_LaBSE_15lang_23,smaller_LaBSE_15lang_24,smaller_LaBSE_15lang_25,smaller_LaBSE_15lang_26,smaller_LaBSE_15lang_27,smaller_LaBSE_15lang_28,smaller_LaBSE_15lang_29,smaller_LaBSE_15lang_30,smaller_LaBSE_15lang_31,smaller_LaBSE_15lang_32,smaller_LaBSE_15lang_33,smaller_LaBSE_15lang_34,smaller_LaBSE_15lang_35,smaller_LaBSE_15lang_36,smaller_LaBSE_15lang_37,smaller_LaBSE_15lang_38,smaller_LaBSE_15lang_39,smaller_LaBSE_15lang_40,smaller_LaBSE_15lang_41,smaller_LaBSE_15lang_42,smaller_LaBSE_15lang_43,smaller_LaBSE_15lang_44,smaller_LaBSE_15lang_45,smaller_LaBSE_15lang_46,smaller_LaBSE_15lang_47,smaller_LaBSE_15lang_48,smaller_LaBSE_15lang_49,smaller_LaBSE_15lang_50,smaller_LaBSE_15lang_51,smaller_LaBSE_15lang_52,smaller_LaBSE_15lang_53,smaller_LaBSE_15lang_54,smaller_LaBSE_15lang_55,smaller_LaBSE_15lang_56,smaller_LaBSE_15lang_57,smaller_LaBSE_15lang_58,smaller_LaBSE_15lang_59,smaller_LaBSE_15lang_60,smaller_LaBSE_15lang_61,smaller_LaBSE_15lang_62,smaller_LaBSE_15lang_63,smaller_LaBSE_15lang_64,smaller_LaBSE_15lang_65,smaller_LaBSE_15lang_66,smaller_LaBSE_15lang_67,smaller_LaBSE_15lang_68,smaller_LaBSE_15lang_69,smaller_LaBSE_15lang_70,smaller_LaBSE_15lang_71,smaller_LaBSE_15lang_72,smaller_LaBSE_15lang_73,smaller_LaBSE_15lang_74,smaller_LaBSE_15lang_75,smaller_LaBSE_15lang_76,smaller_LaBSE_15lang_77,smaller_LaBSE_15lang_78,smaller_LaBSE_15lang_79,smaller_LaBSE_15lang_80,smaller_LaBSE_15lang_81,smaller_LaBSE_15lang_82,smaller_LaBSE_15lang_83,smaller_LaBSE_15lang_84,smaller_LaBSE_15lang_85,smaller_LaBSE_15lang_86,smaller_LaBSE_15lang_87,smaller_LaBSE_15lang_88,smaller_LaBSE_15lang_89,smaller_LaBSE_15lang_90,smaller_LaBSE_15lang_91,smaller_LaBSE_15lang_92,smaller_LaBSE_15lang_93,smaller_LaBSE_15lang_94,smaller_LaBSE_15lang_95,smaller_LaBSE_15lang_96,smaller_LaBSE_15lang_97,smaller_LaBSE_15lang_98,smaller_LaBSE_15lang_99,smaller_LaBSE_15lang_100,smaller_LaBSE_15lang_101,smaller_LaBSE_15lang_102,smaller_LaBSE_15lang_103,smaller_LaBSE_15lang_104,smaller_LaBSE_15lang_105,smaller_LaBSE_15lang_106,smaller_LaBSE_15lang_107,smaller_LaBSE_15lang_108,smaller_LaBSE_15lang_109,smaller_LaBSE_15lang_110,smaller_LaBSE_15lang_111,smaller_LaBSE_15lang_112,smaller_LaBSE_15lang_113,smaller_LaBSE_15lang_114,smaller_LaBSE_15lang_115,smaller_LaBSE_15lang_116,smaller_LaBSE_15lang_117,smaller_LaBSE_15lang_118,smaller_LaBSE_15lang_119,smaller_LaBSE_15lang_120,smaller_LaBSE_15lang_121,smaller_LaBSE_15lang_122,smaller_LaBSE_15lang_123,smaller_LaBSE_15lang_124,smaller_LaBSE_15lang_125,smaller_LaBSE_15lang_126,smaller_LaBSE_15lang_127,smaller_LaBSE_15lang_128,smaller_LaBSE_15lang_129,smaller_LaBSE_15lang_130,smaller_LaBSE_15lang_131,smaller_LaBSE_15lang_132,smaller_LaBSE_15lang_133,smaller_LaBSE_15lang_134,smaller_LaBSE_15lang_135,smaller_LaBSE_15lang_136,smaller_LaBSE_15lang_137,smaller_LaBSE_15lang_138,smaller_LaBSE_15lang_139,smaller_LaBSE_15lang_140,smaller_LaBSE_15lang_141,smaller_LaBSE_15lang_142,smaller_LaBSE_15lang_143,smaller_LaBSE_15lang_144,smaller_LaBSE_15lang_145,smaller_LaBSE_15lang_146,smaller_LaBSE_15lang_147,smaller_LaBSE_15lang_148,smaller_LaBSE_15lang_149,smaller_LaBSE_15lang_150,smaller_LaBSE_15lang_151,smaller_LaBSE_15lang_152,smaller_LaBSE_15lang_153,smaller_LaBSE_15lang_154,smaller_LaBSE_15lang_155,smaller_LaBSE_15lang_156,smaller_LaBSE_15lang_157,smaller_LaBSE_15lang_158,smaller_LaBSE_15lang_159,smaller_LaBSE_15lang_160,smaller_LaBSE_15lang_161,smaller_LaBSE_15lang_162,smaller_LaBSE_15lang_163,smaller_LaBSE_15lang_164,smaller_LaBSE_15lang_165,smaller_LaBSE_15lang_166,smaller_LaBSE_15lang_167,smaller_LaBSE_15lang_168,smaller_LaBSE_15lang_169,smaller_LaBSE_15lang_170,smaller_LaBSE_15lang_171,smaller_LaBSE_15lang_172,smaller_LaBSE_15lang_173,smaller_LaBSE_15lang_174,smaller_LaBSE_15lang_175,smaller_LaBSE_15lang_176,smaller_LaBSE_15lang_177,smaller_LaBSE_15lang_178,smaller_LaBSE_15lang_179,smaller_LaBSE_15lang_180,smaller_LaBSE_15lang_181,smaller_LaBSE_15lang_182,smaller_LaBSE_15lang_183,smaller_LaBSE_15lang_184,smaller_LaBSE_15lang_185,smaller_LaBSE_15lang_186,smaller_LaBSE_15lang_187,smaller_LaBSE_15lang_188,smaller_LaBSE_15lang_189,smaller_LaBSE_15lang_190,smaller_LaBSE_15lang_191,smaller_LaBSE_15lang_192,smaller_LaBSE_15lang_193,smaller_LaBSE_15lang_194,smaller_LaBSE_15lang_195,smaller_LaBSE_15lang_196,smaller_LaBSE_15lang_197,smaller_LaBSE_15lang_198,smaller_LaBSE_15lang_199,smaller_LaBSE_15lang_200,smaller_LaBSE_15lang_201,smaller_LaBSE_15lang_202,smaller_LaBSE_15lang_203,smaller_LaBSE_15lang_204,smaller_LaBSE_15lang_205,smaller_LaBSE_15lang_206,smaller_LaBSE_15lang_207,smaller_LaBSE_15lang_208,smaller_LaBSE_15lang_209,smaller_LaBSE_15lang_210,smaller_LaBSE_15lang_211,smaller_LaBSE_15lang_212,smaller_LaBSE_15lang_213,smaller_LaBSE_15lang_214,smaller_LaBSE_15lang_215,smaller_LaBSE_15lang_216,smaller_LaBSE_15lang_217,smaller_LaBSE_15lang_218,smaller_LaBSE_15lang_219,smaller_LaBSE_15lang_220,smaller_LaBSE_15lang_221,smaller_LaBSE_15lang_222,smaller_LaBSE_15lang_223,smaller_LaBSE_15lang_224,smaller_LaBSE_15lang_225,smaller_LaBSE_15lang_226,smaller_LaBSE_15lang_227,smaller_LaBSE_15lang_228,smaller_LaBSE_15lang_229,smaller_LaBSE_15lang_230,smaller_LaBSE_15lang_231,smaller_LaBSE_15lang_232,smaller_LaBSE_15lang_233,smaller_LaBSE_15lang_234,smaller_LaBSE_15lang_235,smaller_LaBSE_15lang_236,smaller_LaBSE_15lang_237,smaller_LaBSE_15lang_238,smaller_LaBSE_15lang_239,smaller_LaBSE_15lang_240,smaller_LaBSE_15lang_241,smaller_LaBSE_15lang_242,smaller_LaBSE_15lang_243,smaller_LaBSE_15lang_244,smaller_LaBSE_15lang_245,smaller_LaBSE_15lang_246,smaller_LaBSE_15lang_247,smaller_LaBSE_15lang_248,smaller_LaBSE_15lang_249,smaller_LaBSE_15lang_250,smaller_LaBSE_15lang_251,smaller_LaBSE_15lang_252,smaller_LaBSE_15lang_253,smaller_LaBSE_15lang_254,smaller_LaBSE_15lang_255,smaller_LaBSE_15lang_256,smaller_LaBSE_15lang_257,smaller_LaBSE_15lang_258,smaller_LaBSE_15lang_259,smaller_LaBSE_15lang_260,smaller_LaBSE_15lang_261,smaller_LaBSE_15lang_262,smaller_LaBSE_15lang_263,smaller_LaBSE_15lang_264,smaller_LaBSE_15lang_265,smaller_LaBSE_15lang_266,smaller_LaBSE_15lang_267,smaller_LaBSE_15lang_268,smaller_LaBSE_15lang_269,smaller_LaBSE_15lang_270,smaller_LaBSE_15lang_271,smaller_LaBSE_15lang_272,smaller_LaBSE_15lang_273,smaller_LaBSE_15lang_274,smaller_LaBSE_15lang_275,smaller_LaBSE_15lang_276,smaller_LaBSE_15lang_277,smaller_LaBSE_15lang_278,smaller_LaBSE_15lang_279,smaller_LaBSE_15lang_280,smaller_LaBSE_15lang_281,smaller_LaBSE_15lang_282,smaller_LaBSE_15lang_283,smaller_LaBSE_15lang_284,smaller_LaBSE_15lang_285,smaller_LaBSE_15lang_286,smaller_LaBSE_15lang_287,smaller_LaBSE_15lang_288,smaller_LaBSE_15lang_289,smaller_LaBSE_15lang_290,smaller_LaBSE_15lang_291,smaller_LaBSE_15lang_292,smaller_LaBSE_15lang_293,smaller_LaBSE_15lang_294,smaller_LaBSE_15lang_295,smaller_LaBSE_15lang_296,smaller_LaBSE_15lang_297,smaller_LaBSE_15lang_298,smaller_LaBSE_15lang_299,smaller_LaBSE_15lang_300,smaller_LaBSE_15lang_301,smaller_LaBSE_15lang_302,smaller_LaBSE_15lang_303,smaller_LaBSE_15lang_304,smaller_LaBSE_15lang_305,smaller_LaBSE_15lang_306,smaller_LaBSE_15lang_307,smaller_LaBSE_15lang_308,smaller_LaBSE_15lang_309,smaller_LaBSE_15lang_310,smaller_LaBSE_15lang_311,smaller_LaBSE_15lang_312,smaller_LaBSE_15lang_313,smaller_LaBSE_15lang_314,smaller_LaBSE_15lang_315,smaller_LaBSE_15lang_316,smaller_LaBSE_15lang_317,smaller_LaBSE_15lang_318,smaller_LaBSE_15lang_319,smaller_LaBSE_15lang_320,smaller_LaBSE_15lang_321,smaller_LaBSE_15lang_322,smaller_LaBSE_15lang_323,smaller_LaBSE_15lang_324,smaller_LaBSE_15lang_325,smaller_LaBSE_15lang_326,smaller_LaBSE_15lang_327,smaller_LaBSE_15lang_328,smaller_LaBSE_15lang_329,smaller_LaBSE_15lang_330,smaller_LaBSE_15lang_331,smaller_LaBSE_15lang_332,smaller_LaBSE_15lang_333,smaller_LaBSE_15lang_334,smaller_LaBSE_15lang_335,smaller_LaBSE_15lang_336,smaller_LaBSE_15lang_337,smaller_LaBSE_15lang_338,smaller_LaBSE_15lang_339,smaller_LaBSE_15lang_340,smaller_LaBSE_15lang_341,smaller_LaBSE_15lang_342,smaller_LaBSE_15lang_343,smaller_LaBSE_15lang_344,smaller_LaBSE_15lang_345,smaller_LaBSE_15lang_346,smaller_LaBSE_15lang_347,smaller_LaBSE_15lang_348,smaller_LaBSE_15lang_349,smaller_LaBSE_15lang_350,smaller_LaBSE_15lang_351,smaller_LaBSE_15lang_352,smaller_LaBSE_15lang_353,smaller_LaBSE_15lang_354,smaller_LaBSE_15lang_355,smaller_LaBSE_15lang_356,smaller_LaBSE_15lang_357,smaller_LaBSE_15lang_358,smaller_LaBSE_15lang_359,smaller_LaBSE_15lang_360,smaller_LaBSE_15lang_361,smaller_LaBSE_15lang_362,smaller_LaBSE_15lang_363,smaller_LaBSE_15lang_364,smaller_LaBSE_15lang_365,smaller_LaBSE_15lang_366,smaller_LaBSE_15lang_367,smaller_LaBSE_15lang_368,smaller_LaBSE_15lang_369,smaller_LaBSE_15lang_370,smaller_LaBSE_15lang_371,smaller_LaBSE_15lang_372,smaller_LaBSE_15lang_373,smaller_LaBSE_15lang_374,smaller_LaBSE_15lang_375,smaller_LaBSE_15lang_376,smaller_LaBSE_15lang_377,smaller_LaBSE_15lang_378,smaller_LaBSE_15lang_379,smaller_LaBSE_15lang_380,smaller_LaBSE_15lang_381,smaller_LaBSE_15lang_382,smaller_LaBSE_15lang_383,smaller_LaBSE_15lang_384,smaller_LaBSE_15lang_385,smaller_LaBSE_15lang_386,smaller_LaBSE_15lang_387,smaller_LaBSE_15lang_388,smaller_LaBSE_15lang_389,smaller_LaBSE_15lang_390,smaller_LaBSE_15lang_391,smaller_LaBSE_15lang_392,smaller_LaBSE_15lang_393,smaller_LaBSE_15lang_394,smaller_LaBSE_15lang_395,smaller_LaBSE_15lang_396,smaller_LaBSE_15lang_397,smaller_LaBSE_15lang_398,smaller_LaBSE_15lang_399,smaller_LaBSE_15lang_400,smaller_LaBSE_15lang_401,smaller_LaBSE_15lang_402,smaller_LaBSE_15lang_403,smaller_LaBSE_15lang_404,smaller_LaBSE_15lang_405,smaller_LaBSE_15lang_406,smaller_LaBSE_15lang_407,smaller_LaBSE_15lang_408,smaller_LaBSE_15lang_409,smaller_LaBSE_15lang_410,smaller_LaBSE_15lang_411,smaller_LaBSE_15lang_412,smaller_LaBSE_15lang_413,smaller_LaBSE_15lang_414,smaller_LaBSE_15lang_415,smaller_LaBSE_15lang_416,smaller_LaBSE_15lang_417,smaller_LaBSE_15lang_418,smaller_LaBSE_15lang_419,smaller_LaBSE_15lang_420,smaller_LaBSE_15lang_421,smaller_LaBSE_15lang_422,smaller_LaBSE_15lang_423,smaller_LaBSE_15lang_424,smaller_LaBSE_15lang_425,smaller_LaBSE_15lang_426,smaller_LaBSE_15lang_427,smaller_LaBSE_15lang_428,smaller_LaBSE_15lang_429,smaller_LaBSE_15lang_430,smaller_LaBSE_15lang_431,smaller_LaBSE_15lang_432,smaller_LaBSE_15lang_433,smaller_LaBSE_15lang_434,smaller_LaBSE_15lang_435,smaller_LaBSE_15lang_436,smaller_LaBSE_15lang_437,smaller_LaBSE_15lang_438,smaller_LaBSE_15lang_439,smaller_LaBSE_15lang_440,smaller_LaBSE_15lang_441,smaller_LaBSE_15lang_442,smaller_LaBSE_15lang_443,smaller_LaBSE_15lang_444,smaller_LaBSE_15lang_445,smaller_LaBSE_15lang_446,smaller_LaBSE_15lang_447,smaller_LaBSE_15lang_448,smaller_LaBSE_15lang_449,smaller_LaBSE_15lang_450,smaller_LaBSE_15lang_451,smaller_LaBSE_15lang_452,smaller_LaBSE_15lang_453,smaller_LaBSE_15lang_454,smaller_LaBSE_15lang_455,smaller_LaBSE_15lang_456,smaller_LaBSE_15lang_457,smaller_LaBSE_15lang_458,smaller_LaBSE_15lang_459,smaller_LaBSE_15lang_460,smaller_LaBSE_15lang_461,smaller_LaBSE_15lang_462,smaller_LaBSE_15lang_463,smaller_LaBSE_15lang_464,smaller_LaBSE_15lang_465,smaller_LaBSE_15lang_466,smaller_LaBSE_15lang_467,smaller_LaBSE_15lang_468,smaller_LaBSE_15lang_469,smaller_LaBSE_15lang_470,smaller_LaBSE_15lang_471,smaller_LaBSE_15lang_472,smaller_LaBSE_15lang_473,smaller_LaBSE_15lang_474,smaller_LaBSE_15lang_475,smaller_LaBSE_15lang_476,smaller_LaBSE_15lang_477,smaller_LaBSE_15lang_478,smaller_LaBSE_15lang_479,smaller_LaBSE_15lang_480,smaller_LaBSE_15lang_481,smaller_LaBSE_15lang_482,smaller_LaBSE_15lang_483,smaller_LaBSE_15lang_484,smaller_LaBSE_15lang_485,smaller_LaBSE_15lang_486,smaller_LaBSE_15lang_487,smaller_LaBSE_15lang_488,smaller_LaBSE_15lang_489,smaller_LaBSE_15lang_490,smaller_LaBSE_15lang_491,smaller_LaBSE_15lang_492,smaller_LaBSE_15lang_493,smaller_LaBSE_15lang_494,smaller_LaBSE_15lang_495,smaller_LaBSE_15lang_496,smaller_LaBSE_15lang_497,smaller_LaBSE_15lang_498,smaller_LaBSE_15lang_499,smaller_LaBSE_15lang_500,smaller_LaBSE_15lang_501,smaller_LaBSE_15lang_502,smaller_LaBSE_15lang_503,smaller_LaBSE_15lang_504,smaller_LaBSE_15lang_505,smaller_LaBSE_15lang_506,smaller_LaBSE_15lang_507,smaller_LaBSE_15lang_508,smaller_LaBSE_15lang_509,smaller_LaBSE_15lang_510,smaller_LaBSE_15lang_511,smaller_LaBSE_15lang_512,smaller_LaBSE_15lang_513,smaller_LaBSE_15lang_514,smaller_LaBSE_15lang_515,smaller_LaBSE_15lang_516,smaller_LaBSE_15lang_517,smaller_LaBSE_15lang_518,smaller_LaBSE_15lang_519,smaller_LaBSE_15lang_520,smaller_LaBSE_15lang_521,smaller_LaBSE_15lang_522,smaller_LaBSE_15lang_523,smaller_LaBSE_15lang_524,smaller_LaBSE_15lang_525,smaller_LaBSE_15lang_526,smaller_LaBSE_15lang_527,smaller_LaBSE_15lang_528,smaller_LaBSE_15lang_529,smaller_LaBSE_15lang_530,smaller_LaBSE_15lang_531,smaller_LaBSE_15lang_532,smaller_LaBSE_15lang_533,smaller_LaBSE_15lang_534,smaller_LaBSE_15lang_535,smaller_LaBSE_15lang_536,smaller_LaBSE_15lang_537,smaller_LaBSE_15lang_538,smaller_LaBSE_15lang_539,smaller_LaBSE_15lang_540,smaller_LaBSE_15lang_541,smaller_LaBSE_15lang_542,smaller_LaBSE_15lang_543,smaller_LaBSE_15lang_544,smaller_LaBSE_15lang_545,smaller_LaBSE_15lang_546,smaller_LaBSE_15lang_547,smaller_LaBSE_15lang_548,smaller_LaBSE_15lang_549,smaller_LaBSE_15lang_550,smaller_LaBSE_15lang_551,smaller_LaBSE_15lang_552,smaller_LaBSE_15lang_553,smaller_LaBSE_15lang_554,smaller_LaBSE_15lang_555,smaller_LaBSE_15lang_556,smaller_LaBSE_15lang_557,smaller_LaBSE_15lang_558,smaller_LaBSE_15lang_559,smaller_LaBSE_15lang_560,smaller_LaBSE_15lang_561,smaller_LaBSE_15lang_562,smaller_LaBSE_15lang_563,smaller_LaBSE_15lang_564,smaller_LaBSE_15lang_565,smaller_LaBSE_15lang_566,smaller_LaBSE_15lang_567,smaller_LaBSE_15lang_568,smaller_LaBSE_15lang_569,smaller_LaBSE_15lang_570,smaller_LaBSE_15lang_571,smaller_LaBSE_15lang_572,smaller_LaBSE_15lang_573,smaller_LaBSE_15lang_574,smaller_LaBSE_15lang_575,smaller_LaBSE_15lang_576,smaller_LaBSE_15lang_577,smaller_LaBSE_15lang_578,smaller_LaBSE_15lang_579,smaller_LaBSE_15lang_580,smaller_LaBSE_15lang_581,smaller_LaBSE_15lang_582,smaller_LaBSE_15lang_583,smaller_LaBSE_15lang_584,smaller_LaBSE_15lang_585,smaller_LaBSE_15lang_586,smaller_LaBSE_15lang_587,smaller_LaBSE_15lang_588,smaller_LaBSE_15lang_589,smaller_LaBSE_15lang_590,smaller_LaBSE_15lang_591,smaller_LaBSE_15lang_592,smaller_LaBSE_15lang_593,smaller_LaBSE_15lang_594,smaller_LaBSE_15lang_595,smaller_LaBSE_15lang_596,smaller_LaBSE_15lang_597,smaller_LaBSE_15lang_598,smaller_LaBSE_15lang_599,smaller_LaBSE_15lang_600,smaller_LaBSE_15lang_601,smaller_LaBSE_15lang_602,smaller_LaBSE_15lang_603,smaller_LaBSE_15lang_604,smaller_LaBSE_15lang_605,smaller_LaBSE_15lang_606,smaller_LaBSE_15lang_607,smaller_LaBSE_15lang_608,smaller_LaBSE_15lang_609,smaller_LaBSE_15lang_610,smaller_LaBSE_15lang_611,smaller_LaBSE_15lang_612,smaller_LaBSE_15lang_613,smaller_LaBSE_15lang_614,smaller_LaBSE_15lang_615,smaller_LaBSE_15lang_616,smaller_LaBSE_15lang_617,smaller_LaBSE_15lang_618,smaller_LaBSE_15lang_619,smaller_LaBSE_15lang_620,smaller_LaBSE_15lang_621,smaller_LaBSE_15lang_622,smaller_LaBSE_15lang_623,smaller_LaBSE_15lang_624,smaller_LaBSE_15lang_625,smaller_LaBSE_15lang_626,smaller_LaBSE_15lang_627,smaller_LaBSE_15lang_628,smaller_LaBSE_15lang_629,smaller_LaBSE_15lang_630,smaller_LaBSE_15lang_631,smaller_LaBSE_15lang_632,smaller_LaBSE_15lang_633,smaller_LaBSE_15lang_634,smaller_LaBSE_15lang_635,smaller_LaBSE_15lang_636,smaller_LaBSE_15lang_637,smaller_LaBSE_15lang_638,smaller_LaBSE_15lang_639,smaller_LaBSE_15lang_640,smaller_LaBSE_15lang_641,smaller_LaBSE_15lang_642,smaller_LaBSE_15lang_643,smaller_LaBSE_15lang_644,smaller_LaBSE_15lang_645,smaller_LaBSE_15lang_646,smaller_LaBSE_15lang_647,smaller_LaBSE_15lang_648,smaller_LaBSE_15lang_649,smaller_LaBSE_15lang_650,smaller_LaBSE_15lang_651,smaller_LaBSE_15lang_652,smaller_LaBSE_15lang_653,smaller_LaBSE_15lang_654,smaller_LaBSE_15lang_655,smaller_LaBSE_15lang_656,smaller_LaBSE_15lang_657,smaller_LaBSE_15lang_658,smaller_LaBSE_15lang_659,smaller_LaBSE_15lang_660,smaller_LaBSE_15lang_661,smaller_LaBSE_15lang_662,smaller_LaBSE_15lang_663,smaller_LaBSE_15lang_664,smaller_LaBSE_15lang_665,smaller_LaBSE_15lang_666,smaller_LaBSE_15lang_667,smaller_LaBSE_15lang_668,smaller_LaBSE_15lang_669,smaller_LaBSE_15lang_670,smaller_LaBSE_15lang_671,smaller_LaBSE_15lang_672,smaller_LaBSE_15lang_673,smaller_LaBSE_15lang_674,smaller_LaBSE_15lang_675,smaller_LaBSE_15lang_676,smaller_LaBSE_15lang_677,smaller_LaBSE_15lang_678,smaller_LaBSE_15lang_679,smaller_LaBSE_15lang_680,smaller_LaBSE_15lang_681,smaller_LaBSE_15lang_682,smaller_LaBSE_15lang_683,smaller_LaBSE_15lang_684,smaller_LaBSE_15lang_685,smaller_LaBSE_15lang_686,smaller_LaBSE_15lang_687,smaller_LaBSE_15lang_688,smaller_LaBSE_15lang_689,smaller_LaBSE_15lang_690,smaller_LaBSE_15lang_691,smaller_LaBSE_15lang_692,smaller_LaBSE_15lang_693,smaller_LaBSE_15lang_694,smaller_LaBSE_15lang_695,smaller_LaBSE_15lang_696,smaller_LaBSE_15lang_697,smaller_LaBSE_15lang_698,smaller_LaBSE_15lang_699,smaller_LaBSE_15lang_700,smaller_LaBSE_15lang_701,smaller_LaBSE_15lang_702,smaller_LaBSE_15lang_703,smaller_LaBSE_15lang_704,smaller_LaBSE_15lang_705,smaller_LaBSE_15lang_706,smaller_LaBSE_15lang_707,smaller_LaBSE_15lang_708,smaller_LaBSE_15lang_709,smaller_LaBSE_15lang_710,smaller_LaBSE_15lang_711,smaller_LaBSE_15lang_712,smaller_LaBSE_15lang_713,smaller_LaBSE_15lang_714,smaller_LaBSE_15lang_715,smaller_LaBSE_15lang_716,smaller_LaBSE_15lang_717,smaller_LaBSE_15lang_718,smaller_LaBSE_15lang_719,smaller_LaBSE_15lang_720,smaller_LaBSE_15lang_721,smaller_LaBSE_15lang_722,smaller_LaBSE_15lang_723,smaller_LaBSE_15lang_724,smaller_LaBSE_15lang_725,smaller_LaBSE_15lang_726,smaller_LaBSE_15lang_727,smaller_LaBSE_15lang_728,smaller_LaBSE_15lang_729,smaller_LaBSE_15lang_730,smaller_LaBSE_15lang_731,smaller_LaBSE_15lang_732,smaller_LaBSE_15lang_733,smaller_LaBSE_15lang_734,smaller_LaBSE_15lang_735,smaller_LaBSE_15lang_736,smaller_LaBSE_15lang_737,smaller_LaBSE_15lang_738,smaller_LaBSE_15lang_739,smaller_LaBSE_15lang_740,smaller_LaBSE_15lang_741,smaller_LaBSE_15lang_742,smaller_LaBSE_15lang_743,smaller_LaBSE_15lang_744,smaller_LaBSE_15lang_745,smaller_LaBSE_15lang_746,smaller_LaBSE_15lang_747,smaller_LaBSE_15lang_748,smaller_LaBSE_15lang_749,smaller_LaBSE_15lang_750,smaller_LaBSE_15lang_751,smaller_LaBSE_15lang_752,smaller_LaBSE_15lang_753,smaller_LaBSE_15lang_754,smaller_LaBSE_15lang_755,smaller_LaBSE_15lang_756,smaller_LaBSE_15lang_757,smaller_LaBSE_15lang_758,smaller_LaBSE_15lang_759,smaller_LaBSE_15lang_760,smaller_LaBSE_15lang_761,smaller_LaBSE_15lang_762,smaller_LaBSE_15lang_763,smaller_LaBSE_15lang_764,smaller_LaBSE_15lang_765,smaller_LaBSE_15lang_766,smaller_LaBSE_15lang_767\"} is ignored, because it cannot be parsed.\n",
      "Parameter {\"features_selection_steps\":1} is ignored, because it cannot be parsed.\n",
      "Parameter {\"classes_count\":17} is ignored, because it cannot be parsed.\n"
     ]
    },
    {
     "name": "stdout",
     "output_type": "stream",
     "text": [
      "train auc 0.9996004319969446 val auc 0.802778276627054\n",
      "leak_test_auc_score 0.8282549465979531\n"
     ]
    },
    {
     "data": {
      "application/vnd.jupyter.widget-view+json": {
       "model_id": "e4812ed1d3524fdfa9ca5620aef269cd",
       "version_major": 2,
       "version_minor": 0
      },
      "text/plain": [
       "  0%|          | 0/1 [00:00<?, ?it/s]"
      ]
     },
     "metadata": {},
     "output_type": "display_data"
    },
    {
     "name": "stdout",
     "output_type": "stream",
     "text": [
      "train auc 0.8443144569995104 val auc 0.7540541619425549\n",
      "leak_test_auc_score 0.83739775427416\n"
     ]
    }
   ],
   "source": [
    "cv = StratifiedKFold(n_splits=cfg.N_SPLITS, random_state=cfg.RANDOM_STATE, shuffle=True)\n",
    "\n",
    "test_pool = cb.Pool(\n",
    "        data=test,\n",
    "        text_features=cfg.TEXT_COLS,\n",
    "        # cat_features=cfg.CAT_COLS\n",
    "        )\n",
    "\n",
    "\n",
    "metrics = defaultdict(list)\n",
    "fold = 0\n",
    "for train_idx, val_idx in tqdm(cv.split(X_train, y_train), total=cfg.N_SPLITS):\n",
    "\n",
    "    train_pool = cb.Pool(\n",
    "        data=X_train.iloc[train_idx], \n",
    "        label=y_train.iloc[train_idx],\n",
    "        text_features=cfg.TEXT_COLS,\n",
    "        # cat_features=cfg.CAT_COLS\n",
    "        )\n",
    "\n",
    "    val_pool = cb.Pool(\n",
    "        data=X_train.iloc[val_idx], \n",
    "        label=y_train.iloc[val_idx],\n",
    "        text_features=cfg.TEXT_COLS,\n",
    "        # cat_features=cfg.CAT_COLS\n",
    "        )\n",
    "        \n",
    "    for random_seed in tqdm(range(N_RANDOM_SEEDS), total=N_RANDOM_SEEDS):\n",
    "\n",
    "        clf = cb.CatBoostClassifier(\n",
    "            iterations=2000,\n",
    "            silent=True,\n",
    "            classes_count=len(CLASSES),\n",
    "            eval_metric='AUC',\n",
    "            # text_processing=text_processing_options,\n",
    "            random_seed=random_seed,\n",
    "            early_stopping_rounds=150,\n",
    "            # task_type=\"GPU\",\n",
    "            # devices='0:1',\n",
    "        )\n",
    "        \n",
    "\n",
    "        # summary = clf.select_features(\n",
    "        #     train_pool,\n",
    "        #     eval_set=val_pool,\n",
    "        #     features_for_select=X_train.columns.tolist(),     # we will select from all features\n",
    "        #     num_features_to_select=500,  # we want to select exactly important features\n",
    "        #     steps=1,                                     # more steps - more accurate selection\n",
    "        #     # algorithm=algorithm,\n",
    "        #     # shap_calc_type=EShapCalcType.Regular,            # can be Approximate, Regular and Exact\n",
    "        #     train_final_model=True,                          # to train model with selected features\n",
    "        #     logging_level='Silent',\n",
    "        #     plot=True\n",
    "        # )\n",
    "        \n",
    "        model_name = f'{EXPERIMENT_NAME}_fold_{fold}_rs_{random_seed}.cbm'\n",
    "        model_path = os.path.join(cfg.MODELS_PATH, EXPERIMENT_FAMILY_NAME, EXPERIMENT_NAME)\n",
    "        check_path(model_path)\n",
    "        if False:\n",
    "            clf.fit(train_pool, eval_set=val_pool, plot=False)\n",
    "            clf.save_model(os.path.join(model_path, model_name))\n",
    "        else:\n",
    "            clf.load_model(os.path.join(model_path, model_name))\n",
    "        \n",
    "        pred_proba_oof_val = clf.predict_proba(val_pool)[:, :len(CLASSES)]\n",
    "        pred_proba_oof_train = clf.predict_proba(train_pool)[:, :len(CLASSES)]\n",
    "\n",
    "        pred_proba_oof.iloc[val_idx, :] += pred_proba_oof_val\n",
    "        pred_proba_test.iloc[:, :] += clf.predict_proba(test_pool)[:, :len(CLASSES)]\n",
    "\n",
    "        y_train_oof = y_train.iloc[train_idx]\n",
    "        y_val_oof = y_train.iloc[val_idx]\n",
    "\n",
    "        train_auc = roc_auc_score(y_train_oof, pred_proba_oof_train , multi_class='ovo', labels=CLASSES)\n",
    "        val_auc = roc_auc_score(y_val_oof, pred_proba_oof_val , multi_class='ovo', labels=CLASSES)\n",
    "        metrics['train_auc'].append(train_auc)\n",
    "        metrics['val_auc'].append(val_auc)\n",
    "        print('train auc', train_auc, 'val auc', val_auc)\n",
    "\n",
    "        leak_test_auc_score = roc_auc_score(leak_test.loc[leak_mask], pred_proba_test.loc[leak_mask] / (fold + 1), multi_class='ovo', labels=CLASSES)\n",
    "        metrics['leak_test_auc_score'].append(leak_test_auc_score)\n",
    "        print('leak_test_auc_score', leak_test_auc_score)\n",
    "\n",
    "        \n",
    "        del clf; gc.collect()\n",
    "    del train_pool,val_pool; gc.collect() \n",
    "        \n",
    "    fold += 1\n",
    "pred_proba_oof /= N_RANDOM_SEEDS\n",
    "pred_proba_test /= (cfg.N_SPLITS * N_RANDOM_SEEDS)"
   ]
  },
  {
   "cell_type": "code",
   "execution_count": 14,
   "metadata": {},
   "outputs": [
    {
     "name": "stdout",
     "output_type": "stream",
     "text": [
      "oof_auc_score 0.7734803598034716\n",
      "scores [0.8417047000047655, 0.9135079909833286, 0.8362607223161956, 0.802778276627054, 0.7540541619425549]\n",
      "mean 0.8296611703747796 std 0.052264710308696796\n"
     ]
    }
   ],
   "source": [
    "oof_auc_score = roc_auc_score(y_train, pred_proba_oof , multi_class='ovo', labels=CLASSES)\n",
    "print('oof_auc_score', oof_auc_score)\n",
    "print('scores', metrics['val_auc'])\n",
    "print('mean', np.mean(metrics['val_auc']), 'std', np.std(metrics['val_auc']))"
   ]
  },
  {
   "cell_type": "code",
   "execution_count": 15,
   "metadata": {},
   "outputs": [],
   "source": [
    "# oof_auc_score 0.8803946552408488\n",
    "# scores [0.9021272334648198, 0.9123958224097881, 0.8907513325956924, 0.8669408784884531, 0.845440027286832] \n",
    "# 0.8835310588491172 0.024319890660136585"
   ]
  },
  {
   "cell_type": "code",
   "execution_count": 16,
   "metadata": {},
   "outputs": [
    {
     "name": "stdout",
     "output_type": "stream",
     "text": [
      "scores [0.8268383029189277, 0.8338649320737411, 0.8274280228413495, 0.8282549465979531, 0.83739775427416]\n",
      "mean 0.8307567917412262 std 0.004158302678993438\n",
      "leak_test_auc_score 0.83739775427416\n"
     ]
    }
   ],
   "source": [
    "print('scores', metrics['leak_test_auc_score'])\n",
    "print('mean', np.mean(metrics['leak_test_auc_score']), 'std', np.std(metrics['leak_test_auc_score']))\n",
    "\n",
    "leak_test_auc_score = roc_auc_score(leak_test.loc[leak_mask], pred_proba_test.loc[leak_mask], multi_class='ovo', labels=CLASSES)\n",
    "print('leak_test_auc_score', leak_test_auc_score)"
   ]
  },
  {
   "cell_type": "code",
   "execution_count": 17,
   "metadata": {},
   "outputs": [],
   "source": [
    "# leak_test_auc_score 0.8253548018923035"
   ]
  },
  {
   "cell_type": "code",
   "execution_count": 18,
   "metadata": {},
   "outputs": [],
   "source": [
    "submission = pd.read_csv(cfg.SAMPLE_SUBMIT_PATH).set_index('id')\n",
    "assert submission.index.equals(pred_proba_test.index)\n",
    "submission[cfg.TARGET] = pred_proba_test.idxmax(1)\n",
    "\n",
    "submission_path = os.path.join(cfg.SUBMISSION_PATH, EXPERIMENT_FAMILY_NAME)\n",
    "check_path(submission_path)\n",
    "submission.to_csv(os.path.join(submission_path, f'{EXPERIMENT_NAME}.csv'))\n",
    "\n",
    "pred_proba_oof_path = os.path.join(cfg.OOF_PRED_PATH, EXPERIMENT_FAMILY_NAME)\n",
    "check_path(pred_proba_oof_path)\n",
    "pred_proba_oof.to_pickle(os.path.join(pred_proba_oof_path, f'{EXPERIMENT_NAME}.pkl'))\n",
    "\n",
    "pred_proba_test_path = os.path.join(cfg.TEST_PRED_PATH, EXPERIMENT_FAMILY_NAME)\n",
    "check_path(pred_proba_test_path)\n",
    "pred_proba_test.to_pickle(os.path.join(pred_proba_test_path, f'{EXPERIMENT_NAME}.pkl'))"
   ]
  }
 ],
 "metadata": {
  "kernelspec": {
   "display_name": "Python 3.9.12 ('tf')",
   "language": "python",
   "name": "python3"
  },
  "language_info": {
   "codemirror_mode": {
    "name": "ipython",
    "version": 3
   },
   "file_extension": ".py",
   "mimetype": "text/x-python",
   "name": "python",
   "nbconvert_exporter": "python",
   "pygments_lexer": "ipython3",
   "version": "3.9.12"
  },
  "orig_nbformat": 4,
  "vscode": {
   "interpreter": {
    "hash": "d5356ef1c2ac2ef25d35a0579f082f1d273c4bada2fe955fa1b70f42402fff98"
   }
  }
 },
 "nbformat": 4,
 "nbformat_minor": 2
}
