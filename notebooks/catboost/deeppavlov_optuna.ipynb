{
 "cells": [
  {
   "cell_type": "code",
   "execution_count": 1,
   "metadata": {},
   "outputs": [],
   "source": [
    "import sys\n",
    "sys.path.insert(0, \"../..\")\n",
    "import config as cfg\n",
    "import gc\n",
    "import os\n",
    "from tqdm.notebook import tqdm\n",
    "from helper import check_path, seed_everything\n",
    "from collections import defaultdict"
   ]
  },
  {
   "cell_type": "code",
   "execution_count": 2,
   "metadata": {},
   "outputs": [],
   "source": [
    "import pandas as pd\n",
    "import numpy as np\n",
    "from sklearn.model_selection import StratifiedKFold\n",
    "from sklearn.metrics import roc_auc_score"
   ]
  },
  {
   "cell_type": "code",
   "execution_count": 3,
   "metadata": {},
   "outputs": [],
   "source": [
    "import catboost as cb\n",
    "import catboost.datasets as cbd\n",
    "import catboost.utils as cbu"
   ]
  },
  {
   "cell_type": "code",
   "execution_count": 4,
   "metadata": {},
   "outputs": [],
   "source": [
    "import optuna\n",
    "from optuna.integration import CatBoostPruningCallback"
   ]
  },
  {
   "cell_type": "code",
   "execution_count": 5,
   "metadata": {},
   "outputs": [],
   "source": [
    "EXPERIMENT_FAMILY_NAME = 'catboost'\n",
    "EXPERIMENT_NAME = 'deeppavlov_optuna'\n",
    "N_RANDOM_SEEDS = 1\n",
    "N_SPLITS = 8"
   ]
  },
  {
   "cell_type": "code",
   "execution_count": 6,
   "metadata": {},
   "outputs": [],
   "source": [
    "RANDOM_STATE = 77\n",
    "seed_everything(RANDOM_STATE)"
   ]
  },
  {
   "cell_type": "code",
   "execution_count": 7,
   "metadata": {},
   "outputs": [],
   "source": [
    "def filter_rare_categories(df: pd.DataFrame) -> pd.DataFrame:\n",
    "    rare_categories = [12]\n",
    "    return df.loc[~df[cfg.TARGET].isin(rare_categories)]"
   ]
  },
  {
   "cell_type": "code",
   "execution_count": 8,
   "metadata": {},
   "outputs": [],
   "source": [
    "train = pd.read_pickle(os.path.join(cfg.PREPROCESSED_DATA_PATH, 'train.pkl'))  #.drop(cfg.TEXT_COL, axis=1)  #  cfg.THEME_COL, cfg.TEXT_COL\n",
    "test = pd.read_pickle(os.path.join(cfg.PREPROCESSED_DATA_PATH, 'test.pkl'))  #.drop(cfg.TEXT_COL, axis=1) # cfg.TEXT_COL\n",
    "\n",
    "CLASSES = np.sort(train[cfg.TARGET].unique()).tolist()\n",
    "\n",
    "# train = filter_rare_categories(train)"
   ]
  },
  {
   "cell_type": "code",
   "execution_count": 9,
   "metadata": {},
   "outputs": [
    {
     "data": {
      "text/plain": [
       "0"
      ]
     },
     "execution_count": 9,
     "metadata": {},
     "output_type": "execute_result"
    }
   ],
   "source": [
    "emb_names = ['deeppavlov', 'rubert_tiny', 'smaller_LaBSE_15lang']\n",
    "for emb_name in emb_names:\n",
    "    train_emb = pd.read_pickle(os.path.join(cfg.DATA_PATH, emb_name, 'train.pkl'))\n",
    "    test_emb = pd.read_pickle(os.path.join(cfg.DATA_PATH, emb_name, 'test.pkl'))\n",
    "\n",
    "    train = train.join(train_emb)\n",
    "    test = test.join(test_emb)\n",
    "\n",
    "del train_emb, test_emb; gc.collect()"
   ]
  },
  {
   "cell_type": "code",
   "execution_count": 10,
   "metadata": {},
   "outputs": [],
   "source": [
    "X_train, y_train = train.drop(cfg.TARGET, axis=1), train[cfg.TARGET]"
   ]
  },
  {
   "cell_type": "code",
   "execution_count": 11,
   "metadata": {},
   "outputs": [],
   "source": [
    "pred_proba_oof = pd.DataFrame(data=np.zeros(shape=(len(train), len(CLASSES))), index=train.index, columns=CLASSES)\n",
    "pred_proba_test = pd.DataFrame(data=np.zeros(shape=(len(test), len(CLASSES))), index=test.index, columns=CLASSES)"
   ]
  },
  {
   "cell_type": "code",
   "execution_count": 12,
   "metadata": {},
   "outputs": [],
   "source": [
    "leak_test = pd.read_pickle(os.path.join(cfg.DATA_PATH, 'test_leak.pkl'))\n",
    "leak_mask = leak_test.notnull()"
   ]
  },
  {
   "cell_type": "code",
   "execution_count": 13,
   "metadata": {},
   "outputs": [],
   "source": [
    "train_pool = cb.Pool(\n",
    "        data=X_train, \n",
    "        label=y_train,\n",
    "        text_features=cfg.TEXT_COLS,\n",
    "        # cat_features=cfg.CAT_COLS\n",
    "        )\n",
    "\n",
    "val_pool = cb.Pool(\n",
    "        data = test.loc[leak_mask],\n",
    "        label=leak_test.loc[leak_mask].astype('int'),\n",
    "        text_features=cfg.TEXT_COLS,\n",
    "        # cat_features=cfg.CAT_COLS\n",
    "        )"
   ]
  },
  {
   "cell_type": "code",
   "execution_count": 14,
   "metadata": {},
   "outputs": [],
   "source": [
    "def objective(trial: optuna.Trial) -> float:\n",
    "\n",
    "    param = {\n",
    "        \"objective\": trial.suggest_categorical(\"objective\", [\"MultiClass\"]),\n",
    "        \"colsample_bylevel\": trial.suggest_float(\"colsample_bylevel\", 0.01, 0.3, log=True),\n",
    "        \"l2_leaf_reg\": trial.suggest_float(\"l2_leaf_reg\", 0.5, 10.0, log=False),\n",
    "        \"depth\": trial.suggest_int(\"depth\", 1, 12),\n",
    "        \"boosting_type\": trial.suggest_categorical(\"boosting_type\", [\"Ordered\", \"Plain\"]),\n",
    "        \"grow_policy\": trial.suggest_categorical(\"grow_policy\", [\"SymmetricTree\", \"Depthwise\", \"Lossguide\"]),\n",
    "        # \"cat_features\": CAT_COLS,\n",
    "        'classes_count': len(CLASSES),\n",
    "        # 'task_type': \"GPU\",\n",
    "        # 'devices': '0:1',\n",
    "        \"bootstrap_type\": trial.suggest_categorical(\n",
    "            \"bootstrap_type\", [\"Bayesian\", \"Bernoulli\", \"MVS\"]\n",
    "        ),\n",
    "        # \"used_ram_limit\": \"3gb\",\n",
    "        # \"eval_metric\": \"AUC\",\n",
    "    }\n",
    "\n",
    "    if param[\"bootstrap_type\"] == \"Bayesian\":\n",
    "        param[\"bagging_temperature\"] = trial.suggest_float(\"bagging_temperature\", 0, 10)\n",
    "    elif param[\"bootstrap_type\"] == \"Bernoulli\":\n",
    "        param[\"subsample\"] = trial.suggest_float(\"subsample\", 0.1, 1, log=True)\n",
    "    if param['boosting_type'] == 'Ordered':\n",
    "        param['grow_policy'] = 'SymmetricTree'\n",
    "\n",
    "    gbm = cb.CatBoostClassifier(**param)\n",
    "\n",
    "    pruning_callback = CatBoostPruningCallback(trial, param['objective'])\n",
    "    gbm.fit(\n",
    "        train_pool,\n",
    "        eval_set=[val_pool],\n",
    "        verbose=0,\n",
    "        early_stopping_rounds=100,\n",
    "        callbacks=[pruning_callback],\n",
    "        plot=True\n",
    "    )\n",
    "\n",
    "    # evoke pruning manually.\n",
    "    pruning_callback.check_pruned()\n",
    "\n",
    "    preds = gbm.predict_proba(val_pool)\n",
    "    try:\n",
    "        score = roc_auc_score(leak_test.loc[leak_mask].astype('int'), preds , multi_class='ovo', labels=CLASSES)\n",
    "    except:\n",
    "        print('error with auc')\n",
    "        score = 0\n",
    "    return score"
   ]
  },
  {
   "cell_type": "code",
   "execution_count": 16,
   "metadata": {},
   "outputs": [
    {
     "name": "stderr",
     "output_type": "stream",
     "text": [
      "\u001b[32m[I 2022-07-24 20:32:22,152]\u001b[0m A new study created in memory with name: no-name-071b9d84-6931-4da5-b86b-5a46a09035be\u001b[0m\n",
      "/tmp/ipykernel_54888/1394528551.py:30: ExperimentalWarning: CatBoostPruningCallback is experimental (supported from v3.0.0). The interface can change in the future.\n",
      "  pruning_callback = CatBoostPruningCallback(trial, param['objective'])\n"
     ]
    },
    {
     "data": {
      "application/vnd.jupyter.widget-view+json": {
       "model_id": "09368f8da25942f083afc5e05e8eded8",
       "version_major": 2,
       "version_minor": 0
      },
      "text/plain": [
       "MetricVisualizer(layout=Layout(align_self='stretch', height='500px'))"
      ]
     },
     "metadata": {},
     "output_type": "display_data"
    },
    {
     "name": "stderr",
     "output_type": "stream",
     "text": [
      "\u001b[32m[I 2022-07-24 21:38:22,680]\u001b[0m Trial 0 finished with value: 0.817915959337402 and parameters: {'objective': 'MultiClass', 'colsample_bylevel': 0.05991742785878972, 'l2_leaf_reg': 6.783502964579694, 'depth': 6, 'boosting_type': 'Ordered', 'grow_policy': 'SymmetricTree', 'bootstrap_type': 'Bayesian', 'bagging_temperature': 2.8805628016563736}. Best is trial 0 with value: 0.817915959337402.\u001b[0m\n",
      "/tmp/ipykernel_54888/1394528551.py:30: ExperimentalWarning: CatBoostPruningCallback is experimental (supported from v3.0.0). The interface can change in the future.\n",
      "  pruning_callback = CatBoostPruningCallback(trial, param['objective'])\n"
     ]
    },
    {
     "data": {
      "application/vnd.jupyter.widget-view+json": {
       "model_id": "7ee7a2353b0243c9b75092ed54ad9712",
       "version_major": 2,
       "version_minor": 0
      },
      "text/plain": [
       "MetricVisualizer(layout=Layout(align_self='stretch', height='500px'))"
      ]
     },
     "metadata": {},
     "output_type": "display_data"
    },
    {
     "name": "stderr",
     "output_type": "stream",
     "text": [
      "\u001b[32m[I 2022-07-24 21:45:22,425]\u001b[0m Trial 1 finished with value: 0.845148407437029 and parameters: {'objective': 'MultiClass', 'colsample_bylevel': 0.0686735660628864, 'l2_leaf_reg': 7.973561826832688, 'depth': 2, 'boosting_type': 'Ordered', 'grow_policy': 'Depthwise', 'bootstrap_type': 'Bayesian', 'bagging_temperature': 8.170150393279146}. Best is trial 1 with value: 0.845148407437029.\u001b[0m\n",
      "/tmp/ipykernel_54888/1394528551.py:30: ExperimentalWarning: CatBoostPruningCallback is experimental (supported from v3.0.0). The interface can change in the future.\n",
      "  pruning_callback = CatBoostPruningCallback(trial, param['objective'])\n"
     ]
    },
    {
     "data": {
      "application/vnd.jupyter.widget-view+json": {
       "model_id": "df54c176c4a643799a4d02ebc80b1e8f",
       "version_major": 2,
       "version_minor": 0
      },
      "text/plain": [
       "MetricVisualizer(layout=Layout(align_self='stretch', height='500px'))"
      ]
     },
     "metadata": {},
     "output_type": "display_data"
    },
    {
     "name": "stderr",
     "output_type": "stream",
     "text": [
      "\u001b[33m[W 2022-07-25 06:25:52,070]\u001b[0m Trial 2 failed because of the following error: KeyboardInterrupt('')\u001b[0m\n",
      "Traceback (most recent call last):\n",
      "  File \"/home/as/miniconda3/lib/python3.9/site-packages/optuna/study/_optimize.py\", line 196, in _run_trial\n",
      "    value_or_values = func(trial)\n",
      "  File \"/tmp/ipykernel_54888/1394528551.py\", line 31, in objective\n",
      "    gbm.fit(\n",
      "  File \"/home/as/miniconda3/lib/python3.9/site-packages/catboost/core.py\", line 5007, in fit\n",
      "    self._fit(X, y, cat_features, text_features, embedding_features, None, sample_weight, None, None, None, None, baseline, use_best_model,\n",
      "  File \"/home/as/miniconda3/lib/python3.9/site-packages/catboost/core.py\", line 2278, in _fit\n",
      "    self._train(\n",
      "  File \"/home/as/miniconda3/lib/python3.9/site-packages/catboost/core.py\", line 1705, in _train\n",
      "    self._object._train(train_pool, test_pool, params, allow_clear_pool, init_model._object if init_model else None)\n",
      "  File \"_catboost.pyx\", line 4585, in _catboost._CatBoost._train\n",
      "  File \"_catboost.pyx\", line 4634, in _catboost._CatBoost._train\n",
      "KeyboardInterrupt\n"
     ]
    },
    {
     "ename": "KeyboardInterrupt",
     "evalue": "",
     "output_type": "error",
     "traceback": [
      "\u001b[0;31m---------------------------------------------------------------------------\u001b[0m",
      "\u001b[0;31mKeyboardInterrupt\u001b[0m                         Traceback (most recent call last)",
      "\u001b[1;32m/home/as/my_repositories/kur_digital_breakthrough_2022/notebooks/catboost/deeppavlov_optuna.ipynb Cell 15\u001b[0m in \u001b[0;36m<cell line: 4>\u001b[0;34m()\u001b[0m\n\u001b[1;32m      <a href='vscode-notebook-cell:/home/as/my_repositories/kur_digital_breakthrough_2022/notebooks/catboost/deeppavlov_optuna.ipynb#ch0000014?line=0'>1</a>\u001b[0m study \u001b[39m=\u001b[39m optuna\u001b[39m.\u001b[39mcreate_study(\n\u001b[1;32m      <a href='vscode-notebook-cell:/home/as/my_repositories/kur_digital_breakthrough_2022/notebooks/catboost/deeppavlov_optuna.ipynb#ch0000014?line=1'>2</a>\u001b[0m         pruner\u001b[39m=\u001b[39moptuna\u001b[39m.\u001b[39mpruners\u001b[39m.\u001b[39mMedianPruner(n_warmup_steps\u001b[39m=\u001b[39m\u001b[39m7\u001b[39m), direction\u001b[39m=\u001b[39m\u001b[39m\"\u001b[39m\u001b[39mmaximize\u001b[39m\u001b[39m\"\u001b[39m\n\u001b[1;32m      <a href='vscode-notebook-cell:/home/as/my_repositories/kur_digital_breakthrough_2022/notebooks/catboost/deeppavlov_optuna.ipynb#ch0000014?line=2'>3</a>\u001b[0m     )\n\u001b[0;32m----> <a href='vscode-notebook-cell:/home/as/my_repositories/kur_digital_breakthrough_2022/notebooks/catboost/deeppavlov_optuna.ipynb#ch0000014?line=3'>4</a>\u001b[0m study\u001b[39m.\u001b[39;49moptimize(objective, n_trials\u001b[39m=\u001b[39;49m\u001b[39m100\u001b[39;49m, timeout\u001b[39m=\u001b[39;49m\u001b[39m28800\u001b[39;49m)\n\u001b[1;32m      <a href='vscode-notebook-cell:/home/as/my_repositories/kur_digital_breakthrough_2022/notebooks/catboost/deeppavlov_optuna.ipynb#ch0000014?line=5'>6</a>\u001b[0m \u001b[39mprint\u001b[39m(\u001b[39m\"\u001b[39m\u001b[39mNumber of finished trials: \u001b[39m\u001b[39m{}\u001b[39;00m\u001b[39m\"\u001b[39m\u001b[39m.\u001b[39mformat(\u001b[39mlen\u001b[39m(study\u001b[39m.\u001b[39mtrials)))\n\u001b[1;32m      <a href='vscode-notebook-cell:/home/as/my_repositories/kur_digital_breakthrough_2022/notebooks/catboost/deeppavlov_optuna.ipynb#ch0000014?line=7'>8</a>\u001b[0m \u001b[39mprint\u001b[39m(\u001b[39m\"\u001b[39m\u001b[39mBest trial:\u001b[39m\u001b[39m\"\u001b[39m)\n",
      "File \u001b[0;32m~/miniconda3/lib/python3.9/site-packages/optuna/study/study.py:409\u001b[0m, in \u001b[0;36mStudy.optimize\u001b[0;34m(self, func, n_trials, timeout, n_jobs, catch, callbacks, gc_after_trial, show_progress_bar)\u001b[0m\n\u001b[1;32m    305\u001b[0m \u001b[39mdef\u001b[39;00m \u001b[39moptimize\u001b[39m(\n\u001b[1;32m    306\u001b[0m     \u001b[39mself\u001b[39m,\n\u001b[1;32m    307\u001b[0m     func: ObjectiveFuncType,\n\u001b[0;32m   (...)\u001b[0m\n\u001b[1;32m    314\u001b[0m     show_progress_bar: \u001b[39mbool\u001b[39m \u001b[39m=\u001b[39m \u001b[39mFalse\u001b[39;00m,\n\u001b[1;32m    315\u001b[0m ) \u001b[39m-\u001b[39m\u001b[39m>\u001b[39m \u001b[39mNone\u001b[39;00m:\n\u001b[1;32m    316\u001b[0m     \u001b[39m\"\"\"Optimize an objective function.\u001b[39;00m\n\u001b[1;32m    317\u001b[0m \n\u001b[1;32m    318\u001b[0m \u001b[39m    Optimization is done by choosing a suitable set of hyperparameter values from a given\u001b[39;00m\n\u001b[0;32m   (...)\u001b[0m\n\u001b[1;32m    406\u001b[0m \u001b[39m            If nested invocation of this method occurs.\u001b[39;00m\n\u001b[1;32m    407\u001b[0m \u001b[39m    \"\"\"\u001b[39;00m\n\u001b[0;32m--> 409\u001b[0m     _optimize(\n\u001b[1;32m    410\u001b[0m         study\u001b[39m=\u001b[39;49m\u001b[39mself\u001b[39;49m,\n\u001b[1;32m    411\u001b[0m         func\u001b[39m=\u001b[39;49mfunc,\n\u001b[1;32m    412\u001b[0m         n_trials\u001b[39m=\u001b[39;49mn_trials,\n\u001b[1;32m    413\u001b[0m         timeout\u001b[39m=\u001b[39;49mtimeout,\n\u001b[1;32m    414\u001b[0m         n_jobs\u001b[39m=\u001b[39;49mn_jobs,\n\u001b[1;32m    415\u001b[0m         catch\u001b[39m=\u001b[39;49mcatch,\n\u001b[1;32m    416\u001b[0m         callbacks\u001b[39m=\u001b[39;49mcallbacks,\n\u001b[1;32m    417\u001b[0m         gc_after_trial\u001b[39m=\u001b[39;49mgc_after_trial,\n\u001b[1;32m    418\u001b[0m         show_progress_bar\u001b[39m=\u001b[39;49mshow_progress_bar,\n\u001b[1;32m    419\u001b[0m     )\n",
      "File \u001b[0;32m~/miniconda3/lib/python3.9/site-packages/optuna/study/_optimize.py:66\u001b[0m, in \u001b[0;36m_optimize\u001b[0;34m(study, func, n_trials, timeout, n_jobs, catch, callbacks, gc_after_trial, show_progress_bar)\u001b[0m\n\u001b[1;32m     64\u001b[0m \u001b[39mtry\u001b[39;00m:\n\u001b[1;32m     65\u001b[0m     \u001b[39mif\u001b[39;00m n_jobs \u001b[39m==\u001b[39m \u001b[39m1\u001b[39m:\n\u001b[0;32m---> 66\u001b[0m         _optimize_sequential(\n\u001b[1;32m     67\u001b[0m             study,\n\u001b[1;32m     68\u001b[0m             func,\n\u001b[1;32m     69\u001b[0m             n_trials,\n\u001b[1;32m     70\u001b[0m             timeout,\n\u001b[1;32m     71\u001b[0m             catch,\n\u001b[1;32m     72\u001b[0m             callbacks,\n\u001b[1;32m     73\u001b[0m             gc_after_trial,\n\u001b[1;32m     74\u001b[0m             reseed_sampler_rng\u001b[39m=\u001b[39;49m\u001b[39mFalse\u001b[39;49;00m,\n\u001b[1;32m     75\u001b[0m             time_start\u001b[39m=\u001b[39;49m\u001b[39mNone\u001b[39;49;00m,\n\u001b[1;32m     76\u001b[0m             progress_bar\u001b[39m=\u001b[39;49mprogress_bar,\n\u001b[1;32m     77\u001b[0m         )\n\u001b[1;32m     78\u001b[0m     \u001b[39melse\u001b[39;00m:\n\u001b[1;32m     79\u001b[0m         \u001b[39mif\u001b[39;00m n_jobs \u001b[39m==\u001b[39m \u001b[39m-\u001b[39m\u001b[39m1\u001b[39m:\n",
      "File \u001b[0;32m~/miniconda3/lib/python3.9/site-packages/optuna/study/_optimize.py:160\u001b[0m, in \u001b[0;36m_optimize_sequential\u001b[0;34m(study, func, n_trials, timeout, catch, callbacks, gc_after_trial, reseed_sampler_rng, time_start, progress_bar)\u001b[0m\n\u001b[1;32m    157\u001b[0m         \u001b[39mbreak\u001b[39;00m\n\u001b[1;32m    159\u001b[0m \u001b[39mtry\u001b[39;00m:\n\u001b[0;32m--> 160\u001b[0m     frozen_trial \u001b[39m=\u001b[39m _run_trial(study, func, catch)\n\u001b[1;32m    161\u001b[0m \u001b[39mfinally\u001b[39;00m:\n\u001b[1;32m    162\u001b[0m     \u001b[39m# The following line mitigates memory problems that can be occurred in some\u001b[39;00m\n\u001b[1;32m    163\u001b[0m     \u001b[39m# environments (e.g., services that use computing containers such as CircleCI).\u001b[39;00m\n\u001b[1;32m    164\u001b[0m     \u001b[39m# Please refer to the following PR for further details:\u001b[39;00m\n\u001b[1;32m    165\u001b[0m     \u001b[39m# https://github.com/optuna/optuna/pull/325.\u001b[39;00m\n\u001b[1;32m    166\u001b[0m     \u001b[39mif\u001b[39;00m gc_after_trial:\n",
      "File \u001b[0;32m~/miniconda3/lib/python3.9/site-packages/optuna/study/_optimize.py:234\u001b[0m, in \u001b[0;36m_run_trial\u001b[0;34m(study, func, catch)\u001b[0m\n\u001b[1;32m    227\u001b[0m         \u001b[39massert\u001b[39;00m \u001b[39mFalse\u001b[39;00m, \u001b[39m\"\u001b[39m\u001b[39mShould not reach.\u001b[39m\u001b[39m\"\u001b[39m\n\u001b[1;32m    229\u001b[0m \u001b[39mif\u001b[39;00m (\n\u001b[1;32m    230\u001b[0m     frozen_trial\u001b[39m.\u001b[39mstate \u001b[39m==\u001b[39m TrialState\u001b[39m.\u001b[39mFAIL\n\u001b[1;32m    231\u001b[0m     \u001b[39mand\u001b[39;00m func_err \u001b[39mis\u001b[39;00m \u001b[39mnot\u001b[39;00m \u001b[39mNone\u001b[39;00m\n\u001b[1;32m    232\u001b[0m     \u001b[39mand\u001b[39;00m \u001b[39mnot\u001b[39;00m \u001b[39misinstance\u001b[39m(func_err, catch)\n\u001b[1;32m    233\u001b[0m ):\n\u001b[0;32m--> 234\u001b[0m     \u001b[39mraise\u001b[39;00m func_err\n\u001b[1;32m    235\u001b[0m \u001b[39mreturn\u001b[39;00m frozen_trial\n",
      "File \u001b[0;32m~/miniconda3/lib/python3.9/site-packages/optuna/study/_optimize.py:196\u001b[0m, in \u001b[0;36m_run_trial\u001b[0;34m(study, func, catch)\u001b[0m\n\u001b[1;32m    194\u001b[0m \u001b[39mwith\u001b[39;00m get_heartbeat_thread(trial\u001b[39m.\u001b[39m_trial_id, study\u001b[39m.\u001b[39m_storage):\n\u001b[1;32m    195\u001b[0m     \u001b[39mtry\u001b[39;00m:\n\u001b[0;32m--> 196\u001b[0m         value_or_values \u001b[39m=\u001b[39m func(trial)\n\u001b[1;32m    197\u001b[0m     \u001b[39mexcept\u001b[39;00m exceptions\u001b[39m.\u001b[39mTrialPruned \u001b[39mas\u001b[39;00m e:\n\u001b[1;32m    198\u001b[0m         \u001b[39m# TODO(mamu): Handle multi-objective cases.\u001b[39;00m\n\u001b[1;32m    199\u001b[0m         state \u001b[39m=\u001b[39m TrialState\u001b[39m.\u001b[39mPRUNED\n",
      "\u001b[1;32m/home/as/my_repositories/kur_digital_breakthrough_2022/notebooks/catboost/deeppavlov_optuna.ipynb Cell 15\u001b[0m in \u001b[0;36mobjective\u001b[0;34m(trial)\u001b[0m\n\u001b[1;32m     <a href='vscode-notebook-cell:/home/as/my_repositories/kur_digital_breakthrough_2022/notebooks/catboost/deeppavlov_optuna.ipynb#ch0000014?line=27'>28</a>\u001b[0m gbm \u001b[39m=\u001b[39m cb\u001b[39m.\u001b[39mCatBoostClassifier(\u001b[39m*\u001b[39m\u001b[39m*\u001b[39mparam)\n\u001b[1;32m     <a href='vscode-notebook-cell:/home/as/my_repositories/kur_digital_breakthrough_2022/notebooks/catboost/deeppavlov_optuna.ipynb#ch0000014?line=29'>30</a>\u001b[0m pruning_callback \u001b[39m=\u001b[39m CatBoostPruningCallback(trial, param[\u001b[39m'\u001b[39m\u001b[39mobjective\u001b[39m\u001b[39m'\u001b[39m])\n\u001b[0;32m---> <a href='vscode-notebook-cell:/home/as/my_repositories/kur_digital_breakthrough_2022/notebooks/catboost/deeppavlov_optuna.ipynb#ch0000014?line=30'>31</a>\u001b[0m gbm\u001b[39m.\u001b[39;49mfit(\n\u001b[1;32m     <a href='vscode-notebook-cell:/home/as/my_repositories/kur_digital_breakthrough_2022/notebooks/catboost/deeppavlov_optuna.ipynb#ch0000014?line=31'>32</a>\u001b[0m     train_pool,\n\u001b[1;32m     <a href='vscode-notebook-cell:/home/as/my_repositories/kur_digital_breakthrough_2022/notebooks/catboost/deeppavlov_optuna.ipynb#ch0000014?line=32'>33</a>\u001b[0m     eval_set\u001b[39m=\u001b[39;49m[val_pool],\n\u001b[1;32m     <a href='vscode-notebook-cell:/home/as/my_repositories/kur_digital_breakthrough_2022/notebooks/catboost/deeppavlov_optuna.ipynb#ch0000014?line=33'>34</a>\u001b[0m     verbose\u001b[39m=\u001b[39;49m\u001b[39m0\u001b[39;49m,\n\u001b[1;32m     <a href='vscode-notebook-cell:/home/as/my_repositories/kur_digital_breakthrough_2022/notebooks/catboost/deeppavlov_optuna.ipynb#ch0000014?line=34'>35</a>\u001b[0m     early_stopping_rounds\u001b[39m=\u001b[39;49m\u001b[39m100\u001b[39;49m,\n\u001b[1;32m     <a href='vscode-notebook-cell:/home/as/my_repositories/kur_digital_breakthrough_2022/notebooks/catboost/deeppavlov_optuna.ipynb#ch0000014?line=35'>36</a>\u001b[0m     callbacks\u001b[39m=\u001b[39;49m[pruning_callback],\n\u001b[1;32m     <a href='vscode-notebook-cell:/home/as/my_repositories/kur_digital_breakthrough_2022/notebooks/catboost/deeppavlov_optuna.ipynb#ch0000014?line=36'>37</a>\u001b[0m     plot\u001b[39m=\u001b[39;49m\u001b[39mTrue\u001b[39;49;00m\n\u001b[1;32m     <a href='vscode-notebook-cell:/home/as/my_repositories/kur_digital_breakthrough_2022/notebooks/catboost/deeppavlov_optuna.ipynb#ch0000014?line=37'>38</a>\u001b[0m )\n\u001b[1;32m     <a href='vscode-notebook-cell:/home/as/my_repositories/kur_digital_breakthrough_2022/notebooks/catboost/deeppavlov_optuna.ipynb#ch0000014?line=39'>40</a>\u001b[0m \u001b[39m# evoke pruning manually.\u001b[39;00m\n\u001b[1;32m     <a href='vscode-notebook-cell:/home/as/my_repositories/kur_digital_breakthrough_2022/notebooks/catboost/deeppavlov_optuna.ipynb#ch0000014?line=40'>41</a>\u001b[0m pruning_callback\u001b[39m.\u001b[39mcheck_pruned()\n",
      "File \u001b[0;32m~/miniconda3/lib/python3.9/site-packages/catboost/core.py:5007\u001b[0m, in \u001b[0;36mCatBoostClassifier.fit\u001b[0;34m(self, X, y, cat_features, text_features, embedding_features, sample_weight, baseline, use_best_model, eval_set, verbose, logging_level, plot, column_description, verbose_eval, metric_period, silent, early_stopping_rounds, save_snapshot, snapshot_file, snapshot_interval, init_model, callbacks, log_cout, log_cerr)\u001b[0m\n\u001b[1;32m   5004\u001b[0m \u001b[39mif\u001b[39;00m \u001b[39m'\u001b[39m\u001b[39mloss_function\u001b[39m\u001b[39m'\u001b[39m \u001b[39min\u001b[39;00m params:\n\u001b[1;32m   5005\u001b[0m     CatBoostClassifier\u001b[39m.\u001b[39m_check_is_compatible_loss(params[\u001b[39m'\u001b[39m\u001b[39mloss_function\u001b[39m\u001b[39m'\u001b[39m])\n\u001b[0;32m-> 5007\u001b[0m \u001b[39mself\u001b[39;49m\u001b[39m.\u001b[39;49m_fit(X, y, cat_features, text_features, embedding_features, \u001b[39mNone\u001b[39;49;00m, sample_weight, \u001b[39mNone\u001b[39;49;00m, \u001b[39mNone\u001b[39;49;00m, \u001b[39mNone\u001b[39;49;00m, \u001b[39mNone\u001b[39;49;00m, baseline, use_best_model,\n\u001b[1;32m   5008\u001b[0m           eval_set, verbose, logging_level, plot, column_description, verbose_eval, metric_period,\n\u001b[1;32m   5009\u001b[0m           silent, early_stopping_rounds, save_snapshot, snapshot_file, snapshot_interval, init_model, callbacks, log_cout, log_cerr)\n\u001b[1;32m   5010\u001b[0m \u001b[39mreturn\u001b[39;00m \u001b[39mself\u001b[39m\n",
      "File \u001b[0;32m~/miniconda3/lib/python3.9/site-packages/catboost/core.py:2278\u001b[0m, in \u001b[0;36mCatBoost._fit\u001b[0;34m(self, X, y, cat_features, text_features, embedding_features, pairs, sample_weight, group_id, group_weight, subgroup_id, pairs_weight, baseline, use_best_model, eval_set, verbose, logging_level, plot, column_description, verbose_eval, metric_period, silent, early_stopping_rounds, save_snapshot, snapshot_file, snapshot_interval, init_model, callbacks, log_cout, log_cerr)\u001b[0m\n\u001b[1;32m   2274\u001b[0m allow_clear_pool \u001b[39m=\u001b[39m train_params[\u001b[39m\"\u001b[39m\u001b[39mallow_clear_pool\u001b[39m\u001b[39m\"\u001b[39m]\n\u001b[1;32m   2276\u001b[0m \u001b[39mwith\u001b[39;00m log_fixup(log_cout, log_cerr), \\\n\u001b[1;32m   2277\u001b[0m     plot_wrapper(plot, [_get_train_dir(\u001b[39mself\u001b[39m\u001b[39m.\u001b[39mget_params())]):\n\u001b[0;32m-> 2278\u001b[0m     \u001b[39mself\u001b[39;49m\u001b[39m.\u001b[39;49m_train(\n\u001b[1;32m   2279\u001b[0m         train_pool,\n\u001b[1;32m   2280\u001b[0m         train_params[\u001b[39m\"\u001b[39;49m\u001b[39meval_sets\u001b[39;49m\u001b[39m\"\u001b[39;49m],\n\u001b[1;32m   2281\u001b[0m         params,\n\u001b[1;32m   2282\u001b[0m         allow_clear_pool,\n\u001b[1;32m   2283\u001b[0m         train_params[\u001b[39m\"\u001b[39;49m\u001b[39minit_model\u001b[39;49m\u001b[39m\"\u001b[39;49m]\n\u001b[1;32m   2284\u001b[0m     )\n\u001b[1;32m   2286\u001b[0m \u001b[39m# Have property feature_importance possibly set\u001b[39;00m\n\u001b[1;32m   2287\u001b[0m loss \u001b[39m=\u001b[39m \u001b[39mself\u001b[39m\u001b[39m.\u001b[39m_object\u001b[39m.\u001b[39m_get_loss_function_name()\n",
      "File \u001b[0;32m~/miniconda3/lib/python3.9/site-packages/catboost/core.py:1705\u001b[0m, in \u001b[0;36m_CatBoostBase._train\u001b[0;34m(self, train_pool, test_pool, params, allow_clear_pool, init_model)\u001b[0m\n\u001b[1;32m   1704\u001b[0m \u001b[39mdef\u001b[39;00m \u001b[39m_train\u001b[39m(\u001b[39mself\u001b[39m, train_pool, test_pool, params, allow_clear_pool, init_model):\n\u001b[0;32m-> 1705\u001b[0m     \u001b[39mself\u001b[39;49m\u001b[39m.\u001b[39;49m_object\u001b[39m.\u001b[39;49m_train(train_pool, test_pool, params, allow_clear_pool, init_model\u001b[39m.\u001b[39;49m_object \u001b[39mif\u001b[39;49;00m init_model \u001b[39melse\u001b[39;49;00m \u001b[39mNone\u001b[39;49;00m)\n\u001b[1;32m   1706\u001b[0m     \u001b[39mself\u001b[39m\u001b[39m.\u001b[39m_set_trained_model_attributes()\n",
      "File \u001b[0;32m_catboost.pyx:4585\u001b[0m, in \u001b[0;36m_catboost._CatBoost._train\u001b[0;34m()\u001b[0m\n",
      "File \u001b[0;32m_catboost.pyx:4634\u001b[0m, in \u001b[0;36m_catboost._CatBoost._train\u001b[0;34m()\u001b[0m\n",
      "\u001b[0;31mKeyboardInterrupt\u001b[0m: "
     ]
    }
   ],
   "source": [
    "study = optuna.create_study(\n",
    "        pruner=optuna.pruners.MedianPruner(n_warmup_steps=7), direction=\"maximize\"\n",
    "    )\n",
    "study.optimize(objective, n_trials=100, timeout=28800)\n",
    "\n",
    "print(\"Number of finished trials: {}\".format(len(study.trials)))\n",
    "\n",
    "print(\"Best trial:\")\n",
    "trial = study.best_trial\n",
    "\n",
    "print(\"  Value: {}\".format(trial.value))\n",
    "\n",
    "print(\"  Params: \")\n",
    "for key, value in trial.params.items():\n",
    "    print(\"    {}: {}\".format(key, value))"
   ]
  },
  {
   "cell_type": "code",
   "execution_count": null,
   "metadata": {},
   "outputs": [],
   "source": [
    "best_params = trial.params\n",
    "if best_params['boosting_type'] == 'Ordered':\n",
    "        best_params['grow_policy'] = 'SymmetricTree'\n",
    "best_params['classes_count'] = len(CLASSES)\n",
    "best_params[\"eval_metric\"] = \"AUC\""
   ]
  },
  {
   "cell_type": "code",
   "execution_count": null,
   "metadata": {},
   "outputs": [
    {
     "data": {
      "application/vnd.jupyter.widget-view+json": {
       "model_id": "cb67c514e6db4454bcc8a9a2df78f281",
       "version_major": 2,
       "version_minor": 0
      },
      "text/plain": [
       "  0%|          | 0/5 [00:00<?, ?it/s]"
      ]
     },
     "metadata": {},
     "output_type": "display_data"
    },
    {
     "name": "stderr",
     "output_type": "stream",
     "text": [
      "/home/as/miniconda3/lib/python3.9/site-packages/sklearn/model_selection/_split.py:680: UserWarning: The least populated class in y has only 1 members, which is less than n_splits=5.\n",
      "  warnings.warn(\n"
     ]
    },
    {
     "data": {
      "application/vnd.jupyter.widget-view+json": {
       "model_id": "faa321f9eea84c30a6666fc193c694e6",
       "version_major": 2,
       "version_minor": 0
      },
      "text/plain": [
       "  0%|          | 0/1 [00:00<?, ?it/s]"
      ]
     },
     "metadata": {},
     "output_type": "display_data"
    },
    {
     "data": {
      "application/vnd.jupyter.widget-view+json": {
       "model_id": "bf126499afb143f3a963bd1f3ff59a93",
       "version_major": 2,
       "version_minor": 0
      },
      "text/plain": [
       "MetricVisualizer(layout=Layout(align_self='stretch', height='500px'))"
      ]
     },
     "metadata": {},
     "output_type": "display_data"
    },
    {
     "name": "stdout",
     "output_type": "stream",
     "text": [
      "train auc 0.9958376579375091 val auc 0.8738261274752328\n",
      "leak_test_auc_score 0.8464202086291618\n"
     ]
    },
    {
     "data": {
      "application/vnd.jupyter.widget-view+json": {
       "model_id": "f04e3dc6142442049b54587b402e62f2",
       "version_major": 2,
       "version_minor": 0
      },
      "text/plain": [
       "  0%|          | 0/1 [00:00<?, ?it/s]"
      ]
     },
     "metadata": {},
     "output_type": "display_data"
    },
    {
     "data": {
      "application/vnd.jupyter.widget-view+json": {
       "model_id": "a468b090b5524b4984c6efeb88c2a5c5",
       "version_major": 2,
       "version_minor": 0
      },
      "text/plain": [
       "MetricVisualizer(layout=Layout(align_self='stretch', height='500px'))"
      ]
     },
     "metadata": {},
     "output_type": "display_data"
    },
    {
     "name": "stdout",
     "output_type": "stream",
     "text": [
      "train auc 0.9957042613277665 val auc 0.8916531200217477\n",
      "leak_test_auc_score 0.8525873339573667\n"
     ]
    },
    {
     "data": {
      "application/vnd.jupyter.widget-view+json": {
       "model_id": "7f65f1bba29148c6ab119204da1c3c81",
       "version_major": 2,
       "version_minor": 0
      },
      "text/plain": [
       "  0%|          | 0/1 [00:00<?, ?it/s]"
      ]
     },
     "metadata": {},
     "output_type": "display_data"
    },
    {
     "data": {
      "application/vnd.jupyter.widget-view+json": {
       "model_id": "fe9f9a68c06c4eb290a7643069ebb40d",
       "version_major": 2,
       "version_minor": 0
      },
      "text/plain": [
       "MetricVisualizer(layout=Layout(align_self='stretch', height='500px'))"
      ]
     },
     "metadata": {},
     "output_type": "display_data"
    },
    {
     "name": "stdout",
     "output_type": "stream",
     "text": [
      "train auc 0.9919486680268385 val auc 0.9073624092079561\n",
      "leak_test_auc_score 0.8499513553511872\n"
     ]
    },
    {
     "data": {
      "application/vnd.jupyter.widget-view+json": {
       "model_id": "4d607ecb02864358a095ffcd3787e885",
       "version_major": 2,
       "version_minor": 0
      },
      "text/plain": [
       "  0%|          | 0/1 [00:00<?, ?it/s]"
      ]
     },
     "metadata": {},
     "output_type": "display_data"
    },
    {
     "data": {
      "application/vnd.jupyter.widget-view+json": {
       "model_id": "9298e345f6a34613984d93b09999961c",
       "version_major": 2,
       "version_minor": 0
      },
      "text/plain": [
       "MetricVisualizer(layout=Layout(align_self='stretch', height='500px'))"
      ]
     },
     "metadata": {},
     "output_type": "display_data"
    },
    {
     "name": "stdout",
     "output_type": "stream",
     "text": [
      "train auc 0.995900365555246 val auc 0.8609748678927788\n",
      "leak_test_auc_score 0.8505576796839819\n"
     ]
    },
    {
     "data": {
      "application/vnd.jupyter.widget-view+json": {
       "model_id": "0d48a5b37a924f958c40097729105745",
       "version_major": 2,
       "version_minor": 0
      },
      "text/plain": [
       "  0%|          | 0/1 [00:00<?, ?it/s]"
      ]
     },
     "metadata": {},
     "output_type": "display_data"
    },
    {
     "data": {
      "application/vnd.jupyter.widget-view+json": {
       "model_id": "a1b2182d4b2e446b9487a9046c9503be",
       "version_major": 2,
       "version_minor": 0
      },
      "text/plain": [
       "MetricVisualizer(layout=Layout(align_self='stretch', height='500px'))"
      ]
     },
     "metadata": {},
     "output_type": "display_data"
    },
    {
     "name": "stderr",
     "output_type": "stream",
     "text": [
      "Found only 16 unique classes in the data, but have defined 17 classes. Probably something is wrong with data.\n",
      "Label(s) 12 are not present in the train set. Perhaps, something is wrong with the data.\n"
     ]
    },
    {
     "name": "stdout",
     "output_type": "stream",
     "text": [
      "train auc 0.9935530221800255 val auc 0.8094515579623661\n",
      "leak_test_auc_score 0.8544459104571387\n"
     ]
    }
   ],
   "source": [
    "cv = StratifiedKFold(n_splits=N_SPLITS, random_state=cfg.RANDOM_STATE, shuffle=True)\n",
    "\n",
    "test_pool = cb.Pool(\n",
    "        data=test,\n",
    "        text_features=cfg.TEXT_COLS,\n",
    "        # cat_features=cfg.CAT_COLS\n",
    "        )\n",
    "\n",
    "\n",
    "metrics = defaultdict(list)\n",
    "fold = 0\n",
    "for train_idx, val_idx in tqdm(cv.split(X_train, y_train), total=N_SPLITS):\n",
    "\n",
    "    train_pool = cb.Pool(\n",
    "        data=X_train.iloc[train_idx], \n",
    "        label=y_train.iloc[train_idx],\n",
    "        text_features=cfg.TEXT_COLS,\n",
    "        # cat_features=cfg.CAT_COLS\n",
    "        )\n",
    "\n",
    "    val_pool = cb.Pool(\n",
    "        data=X_train.iloc[val_idx], \n",
    "        label=y_train.iloc[val_idx],\n",
    "        text_features=cfg.TEXT_COLS,\n",
    "        # cat_features=cfg.CAT_COLS\n",
    "        )\n",
    "        \n",
    "    for random_seed in tqdm(range(N_RANDOM_SEEDS), total=N_RANDOM_SEEDS):\n",
    "\n",
    "        clf = cb.CatBoostClassifier(\n",
    "            **best_params,\n",
    "            silent=True,\n",
    "            # random_seed=random_seed,\n",
    "        )\n",
    "\n",
    "        clf.fit(train_pool, eval_set=val_pool, plot=True)\n",
    "        \n",
    "        model_name = f'{EXPERIMENT_NAME}_fold_{fold}_rs_{random_seed}.cbm'\n",
    "        model_path = os.path.join(cfg.MODELS_PATH, EXPERIMENT_FAMILY_NAME, EXPERIMENT_NAME)\n",
    "        check_path(model_path)\n",
    "        clf.save_model(os.path.join(model_path, model_name))\n",
    "        \n",
    "        pred_proba_oof_val = clf.predict_proba(val_pool)\n",
    "        pred_proba_oof_train = clf.predict_proba(train_pool)\n",
    "\n",
    "        pred_proba_oof.iloc[val_idx, :] += pred_proba_oof_val\n",
    "        pred_proba_test.iloc[:, :] += clf.predict_proba(test_pool)\n",
    "\n",
    "        y_train_oof = y_train.iloc[train_idx]\n",
    "        y_val_oof = y_train.iloc[val_idx]\n",
    "\n",
    "        train_auc = roc_auc_score(y_train_oof, pred_proba_oof_train , multi_class='ovo', labels=CLASSES)\n",
    "        val_auc = roc_auc_score(y_val_oof, pred_proba_oof_val , multi_class='ovo', labels=CLASSES)\n",
    "        metrics['train_auc'].append(train_auc)\n",
    "        metrics['val_auc'].append(val_auc)\n",
    "        print('train auc', train_auc, 'val auc', val_auc)\n",
    "\n",
    "        leak_test_auc_score = roc_auc_score(leak_test.loc[leak_mask].astype('int'), pred_proba_test.loc[leak_mask] / (fold + 1), multi_class='ovo', labels=CLASSES)\n",
    "        metrics['leak_test_auc_score'].append(leak_test_auc_score)\n",
    "        print('leak_test_auc_score', leak_test_auc_score)\n",
    "        \n",
    "        del clf; gc.collect()\n",
    "    del train_pool,val_pool; gc.collect() \n",
    "        \n",
    "    fold += 1\n",
    "pred_proba_oof /= N_RANDOM_SEEDS\n",
    "pred_proba_test /= (N_SPLITS * N_RANDOM_SEEDS)"
   ]
  },
  {
   "cell_type": "code",
   "execution_count": null,
   "metadata": {},
   "outputs": [
    {
     "name": "stdout",
     "output_type": "stream",
     "text": [
      "oof_auc_score 0.8094430699029125\n"
     ]
    }
   ],
   "source": [
    "oof_auc_score = roc_auc_score(y_train, pred_proba_oof , multi_class='ovo', labels=CLASSES)\n",
    "print('oof_auc_score', oof_auc_score)"
   ]
  },
  {
   "cell_type": "code",
   "execution_count": null,
   "metadata": {},
   "outputs": [],
   "source": [
    "# 0.8230850052944366"
   ]
  },
  {
   "cell_type": "code",
   "execution_count": null,
   "metadata": {},
   "outputs": [
    {
     "name": "stdout",
     "output_type": "stream",
     "text": [
      "leak_test_auc_score 0.8544459104571387\n"
     ]
    }
   ],
   "source": [
    "leak_test_auc_score = roc_auc_score(leak_test.loc[leak_mask].astype('int'), pred_proba_test.loc[leak_mask], multi_class='ovo', labels=CLASSES)\n",
    "print('leak_test_auc_score', leak_test_auc_score)\n"
   ]
  },
  {
   "cell_type": "code",
   "execution_count": null,
   "metadata": {},
   "outputs": [],
   "source": [
    "# 0.8285485808217893"
   ]
  },
  {
   "cell_type": "code",
   "execution_count": null,
   "metadata": {},
   "outputs": [],
   "source": [
    "submission = pd.read_csv(cfg.SAMPLE_SUBMIT_PATH).set_index('id')\n",
    "assert submission.index.equals(pred_proba_test.index)\n",
    "submission[cfg.TARGET] = pred_proba_test.idxmax(1)\n",
    "\n",
    "submission_path = os.path.join(cfg.SUBMISSION_PATH, EXPERIMENT_FAMILY_NAME)\n",
    "check_path(submission_path)\n",
    "submission.to_csv(os.path.join(submission_path, f'{EXPERIMENT_NAME}.csv'))\n",
    "\n",
    "pred_proba_oof_path = os.path.join(cfg.OOF_PRED_PATH, EXPERIMENT_FAMILY_NAME)\n",
    "check_path(pred_proba_oof_path)\n",
    "pred_proba_oof.to_pickle(os.path.join(pred_proba_oof_path, f'{EXPERIMENT_NAME}.pkl'))\n",
    "\n",
    "pred_proba_test_path = os.path.join(cfg.TEST_PRED_PATH, EXPERIMENT_FAMILY_NAME)\n",
    "check_path(pred_proba_test_path)\n",
    "pred_proba_test.to_pickle(os.path.join(pred_proba_test_path, f'{EXPERIMENT_NAME}.pkl'))"
   ]
  }
 ],
 "metadata": {
  "kernelspec": {
   "display_name": "Python 3.9.12 ('base')",
   "language": "python",
   "name": "python3"
  },
  "language_info": {
   "codemirror_mode": {
    "name": "ipython",
    "version": 3
   },
   "file_extension": ".py",
   "mimetype": "text/x-python",
   "name": "python",
   "nbconvert_exporter": "python",
   "pygments_lexer": "ipython3",
   "version": "3.9.12"
  },
  "orig_nbformat": 4,
  "vscode": {
   "interpreter": {
    "hash": "04d48c12bfbca8a14a4066630f6d13e81276286aa1e28ae9f6bc2bde884e5eee"
   }
  }
 },
 "nbformat": 4,
 "nbformat_minor": 2
}
